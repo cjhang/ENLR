{
 "cells": [
  {
   "cell_type": "markdown",
   "metadata": {},
   "source": [
    "**ENLR**\n",
    "\n",
    "This section contains the details to get the radius of ENLR."
   ]
  },
  {
   "cell_type": "code",
   "execution_count": 1,
   "metadata": {
    "ExecuteTime": {
     "end_time": "2019-06-30T03:05:19.412834Z",
     "start_time": "2019-06-30T03:05:12.865795Z"
    }
   },
   "outputs": [
    {
     "name": "stdout",
     "output_type": "stream",
     "text": [
      "The autoreload extension is already loaded. To reload it, use:\n",
      "  %reload_ext autoreload\n",
      "Data relese: MPL-8, configure: mangatools/config.py\n",
      "Global SAS directory is /Volumes/Lacie2\n"
     ]
    }
   ],
   "source": [
    "%matplotlib inline\n",
    "# autoload the package, for debuge purpose\n",
    "%load_ext autoreload\n",
    "%autoreload 2\n",
    "\n",
    "# import modules and plot setting\n",
    "import numpy as np\n",
    "from matplotlib import pyplot as plt\n",
    "from astropy.table import Table\n",
    "import datetime\n",
    "from astropy.table import Table\n",
    "from astropy.io import fits\n",
    "from mangatools.manga import MaNGA\n",
    "from mangatools.maps import Maps\n",
    "from mangatools import utils\n",
    "\n",
    "today = datetime.date.today().isoformat()\n",
    "\n",
    "# set the display properties\n",
    "\n",
    "from IPython.display import set_matplotlib_formats\n",
    "set_matplotlib_formats('png')\n",
    "\n",
    "# customize the warning message\n",
    "import warnings\n",
    "warnings.filterwarnings(\"default\") # default or ignore\n",
    "from astropy import log\n",
    "log.setLevel('ERROR')"
   ]
  },
  {
   "cell_type": "markdown",
   "metadata": {
    "heading_collapsed": true
   },
   "source": [
    "# Testing PSF modeling of MaNGA"
   ]
  },
  {
   "cell_type": "code",
   "execution_count": 21,
   "metadata": {
    "ExecuteTime": {
     "end_time": "2019-04-30T06:23:48.615196Z",
     "start_time": "2019-04-30T06:23:43.484338Z"
    },
    "hidden": true
   },
   "outputs": [],
   "source": [
    "from astropy.io import fits\n",
    "from scipy.ndimage import binary_closing, binary_opening\n",
    "from matplotlib import colors\n",
    "from photutils.isophote import Ellipse, EllipseSample\n",
    "from photutils.isophote import EllipseGeometry\n",
    "from astropy.convolution import Gaussian2DKernel, interpolate_replace_nans\n",
    "from photutils import EllipticalAperture\n",
    "\n",
    "# get the PSF profile from the standard star\n",
    "hdu_star = fits.open('/Volumes/Lacie2/mangawork/manga/spectro/redux/v2_5_3/7495/stack/manga-7495-1902-LOGCUBE.fits.gz')\n",
    "flux_star = hdu_star['GPSF'].data * 100\n",
    "\n",
    "x0 = np.arange(0, flux_star.shape[1])\n",
    "y0 = np.arange(0, flux_star.shape[0])\n",
    "\n",
    "sma, eps, pa = 4., 0.1, 0\n",
    "geometry = EllipseGeometry(x0=x0.mean(), y0=y0.mean(), sma=sma, eps=eps, pa=pa)\n",
    "ellipse = Ellipse(flux_star, geometry, threshold=0.01)\n",
    "isolist = ellipse.fit_image(linear=False, step=0.1)#, sclip=2., nclip=3)\n"
   ]
  },
  {
   "cell_type": "code",
   "execution_count": 22,
   "metadata": {
    "ExecuteTime": {
     "end_time": "2019-04-30T06:23:51.836857Z",
     "start_time": "2019-04-30T06:23:51.354325Z"
    },
    "hidden": true
   },
   "outputs": [
    {
     "data": {
      "image/png": "[encoded data removed]",
      "text/plain": [
       "<Figure size 432x288 with 2 Axes>"
      ]
     },
     "metadata": {
      "needs_background": "light"
     },
     "output_type": "display_data"
    }
   ],
   "source": [
    "aper = EllipticalAperture((geometry.x0, geometry.y0), geometry.sma,\n",
    "                           geometry.sma*(1 - geometry.eps),\n",
    "                           geometry.pa)\n",
    "plt.imshow(flux_star, origin='lower')\n",
    "plt.colorbar()\n",
    "aper.plot(color='black')"
   ]
  },
  {
   "cell_type": "code",
   "execution_count": 57,
   "metadata": {
    "ExecuteTime": {
     "end_time": "2019-04-25T13:37:30.533305Z",
     "start_time": "2019-04-25T13:37:30.479314Z"
    },
    "hidden": true
   },
   "outputs": [
    {
     "data": {
      "text/plain": [
       "array([0.        , 0.54052228, 0.59457451, 0.65403196, 0.71943516,\n",
       "       0.79137868, 0.87051654, 0.9575682 , 1.05332502, 1.15865752,\n",
       "       1.27452327, 1.4019756 , 1.54217316, 1.69639047, 1.86602952,\n",
       "       2.05263247, 2.25789572, 2.48368529, 2.73205382, 3.0052592 ,\n",
       "       3.30578512, 3.63636364, 4.        , 4.4       , 4.84      ,\n",
       "       5.324     , 5.8564    , 6.44204   , 7.086244  , 7.7948684 ])"
      ]
     },
     "execution_count": 57,
     "metadata": {},
     "output_type": "execute_result"
    }
   ],
   "source": [
    "isolist.sma"
   ]
  },
  {
   "cell_type": "code",
   "execution_count": 23,
   "metadata": {
    "ExecuteTime": {
     "end_time": "2019-04-30T06:24:01.794430Z",
     "start_time": "2019-04-30T06:24:01.402159Z"
    },
    "hidden": true
   },
   "outputs": [
    {
     "data": {
      "text/plain": [
       "[<matplotlib.lines.Line2D at 0x14edc8ef0>]"
      ]
     },
     "execution_count": 23,
     "metadata": {},
     "output_type": "execute_result"
    },
    {
     "data": {
      "image/png": "[encoded data removed]",
      "text/plain": [
       "<Figure size 432x288 with 1 Axes>"
      ]
     },
     "metadata": {
      "needs_background": "light"
     },
     "output_type": "display_data"
    }
   ],
   "source": [
    "plt.plot(isolist.sma, isolist.intens, 'ko')"
   ]
  },
  {
   "cell_type": "code",
   "execution_count": 62,
   "metadata": {
    "ExecuteTime": {
     "end_time": "2019-04-25T13:43:24.358812Z",
     "start_time": "2019-04-25T13:43:23.640262Z"
    },
    "hidden": true
   },
   "outputs": [
    {
     "name": "stdout",
     "output_type": "stream",
     "text": [
      "     fun: 4.089219051008117e-09\n",
      "     jac: array([0.00191957, 0.00099514, 0.0028515 , 0.00017537])\n",
      " message: 'Optimization terminated successfully.'\n",
      "    nfev: 40\n",
      "     nit: 6\n",
      "    njev: 6\n",
      "  status: 0\n",
      " success: True\n",
      "       x: array([0.69727946, 0.90358209, 0.26899273, 1.85719915])\n"
     ]
    },
    {
     "data": {
      "image/png": "[encoded data removed]",
      "text/plain": [
       "<Figure size 432x288 with 1 Axes>"
      ]
     },
     "metadata": {
      "needs_background": "light"
     },
     "output_type": "display_data"
    }
   ],
   "source": [
    "# Two Gaussian modeled PSF\n",
    "#PSF (r) = A_1 exp( -r^2/(2 sigma_1^2) ) + A_2 exp( -r^2/(2 sigma_2^2) )\n",
    "from scipy import optimize, signal\n",
    "\n",
    "def psfmodel(x, r):\n",
    "    # x: A, sigma1, sigma2\n",
    "    return x[0] * np.exp(-r**2/(2*x[1]**2)) + x[2] * np.exp(-r**2/(2*x[3]**2))\n",
    "\n",
    "if True:\n",
    "    r = isolist.sma * 0.5 \n",
    "    y = isolist.intens / np.max(isolist.intens)\n",
    "    x0 = (0.8, 1, 0.2, 2)\n",
    "    cost_fun = lambda x, r, y: np.sum(psfmodel(x, r) - y)**2\n",
    "   \n",
    "    res_lsq = optimize.minimize(np.sum(cost_fun), x0, args=(r, y), \n",
    "                                method='SLSQP', options={'disp':False})\n",
    "print(res_lsq)\n",
    "if 1:\n",
    "    plt.figure()\n",
    "    plt.semilogy(r, y, 'ko')\n",
    "    plt.plot(r, psfmodel(res_lsq.x, r), label='Model')\n",
    "    plt.legend()"
   ]
  },
  {
   "cell_type": "code",
   "execution_count": 64,
   "metadata": {
    "ExecuteTime": {
     "end_time": "2019-04-25T13:43:42.730958Z",
     "start_time": "2019-04-25T13:43:41.904574Z"
    },
    "hidden": true
   },
   "outputs": [
    {
     "data": {
      "image/png": "[encoded data removed]",
      "text/plain": [
       "<Figure size 432x288 with 1 Axes>"
      ]
     },
     "metadata": {
      "needs_background": "light"
     },
     "output_type": "display_data"
    }
   ],
   "source": [
    "from astropy.modeling import models, fitting\n",
    "\n",
    "\n",
    "#plt.semilogy(tab_star['SMA'] * 0.1 * 3.4 * 0.145779 / 0.6, tab_star['INTENS']/max(tab_star['INTENS']), ':')\n",
    "if True:\n",
    "    x = isolist.sma * 0.5 #+ 1e-4*np.random.randn(len(isolist.sma))\n",
    "    y = isolist.intens / np.max(isolist.intens)\n",
    "    g_init1 = models.Gaussian1D(amplitude=1, mean=0, stddev=1)\n",
    "    g_init2 = models.Gaussian1D(amplitude=0.8, mean=0, stddev=1) + models.Gaussian1D(amplitude=0.2, mean=0, stddev=2.)\n",
    "    fit_g1 = fitting.LevMarLSQFitter()\n",
    "    fit_g2 = fitting.LevMarLSQFitter()\n",
    "    g1 = fit_g1(g_init1, x, y)\n",
    "    g2 = fit_g1(g_init2, x, y)\n",
    "    #print(g1.parameters)\n",
    "    #print(g.stddev.value * 2.355 )\n",
    "    #liu2013_psf_FWHM.append(g.stddev_1.value * 2.35482)\n",
    "if 1:\n",
    "    plt.figure()\n",
    "    plt.semilogy(x, y, 'ko')\n",
    "    #plt.plot(x, psf_new(x, g.parameters), 'r', lw=4)\n",
    "    plt.plot(x, g1(x), label='One Gaussian')\n",
    "    plt.plot(x, g2(x), label='Two Gaussian')\n",
    "    #plt.ylim(0.01, 1.1)\n",
    "    plt.legend()"
   ]
  },
  {
   "cell_type": "markdown",
   "metadata": {},
   "source": [
    "# Elliptical Isophot Fitting"
   ]
  },
  {
   "cell_type": "code",
   "execution_count": 5,
   "metadata": {
    "ExecuteTime": {
     "end_time": "2019-06-27T03:07:17.256847Z",
     "start_time": "2019-06-27T03:07:17.200663Z"
    },
    "code_folding": []
   },
   "outputs": [],
   "source": [
    "# functions for do Monte-Carlo simulation for map\n",
    "from numpy import ma\n",
    "import numpy as np\n",
    "\n",
    "\n",
    "def mock_map(sigma, repeats=1000):\n",
    "    # generate mock error map for give sigma map\n",
    "    try:\n",
    "        a, b = sigma.shape\n",
    "    except:\n",
    "        return 0\n",
    "    noise_map = np.zeros((repeats, a, b))\n",
    "        \n",
    "    for i in range(a):\n",
    "        for j in range(b):\n",
    "            noise_map[:,i,j] = np.random.randn(repeats) * sigma[i,j]\n",
    "    if ma.is_masked(sigma):\n",
    "        mask = np.repeat(sigma.mask[np.newaxis, :,:], repeats, axis=0)\n",
    "        return ma.masked_array(noise_map, mask=mask)\n",
    "    return noise_map"
   ]
  },
  {
   "cell_type": "code",
   "execution_count": 10,
   "metadata": {
    "ExecuteTime": {
     "end_time": "2019-06-27T03:10:33.863276Z",
     "start_time": "2019-06-27T03:10:33.751510Z"
    },
    "code_folding": []
   },
   "outputs": [],
   "source": [
    "### Define functions for ellispe fitting\n",
    "# History:\n",
    "#   2018-10-05: add history\n",
    "#   2019-06025: make the program kill itself after a give time\n",
    "\n",
    "from astropy.io import fits\n",
    "from scipy.ndimage import binary_closing, binary_opening\n",
    "from matplotlib import colors\n",
    "from photutils.isophote import Ellipse, EllipseSample\n",
    "from photutils.isophote import EllipseGeometry\n",
    "from astropy.convolution import Gaussian2DKernel, interpolate_replace_nans\n",
    "from photutils import EllipticalAperture\n",
    "import signal \n",
    "\n",
    "def handler(signum, frame):\n",
    "    print('Out of time!')\n",
    "    raise Exception('Out of time!')\n",
    "\n",
    "def fitEllipse(fmap, init='auto', step=0.2, plot=False, ax=None, n=5,\n",
    "               fs=8, mini=False, showColorbar=True, showContour=True,\n",
    "               lw=1, maxiter=1000, quiet=False, runtime=10):\n",
    "    \"\"\"for manga data, 0.5 arcsec for each pixels\n",
    "    fmap: flux map\n",
    "    init: [sma, eps, pa]\n",
    "    ellipse: 'auto': using the Ellipse fitting algrithm in photoutil\n",
    "             'annuli': fitting using the different Re annuli\n",
    "    \"\"\"\n",
    "    if runtime:\n",
    "        signal.signal(signal.SIGALRM, handler)\n",
    "        signal.alarm(runtime)\n",
    "        \n",
    "    if not quiet:\n",
    "        print('init:', init)\n",
    "    # get the length and width of the flux map\n",
    "    x0 = np.arange(0, fmap.shape[0])\n",
    "    y0 = np.arange(0, fmap.shape[1])\n",
    "    # get the approximate radius of non-zero flux map\n",
    "    rx, ry = np.where(fmap > 0) # index equal to the pixel size\n",
    "    r_max = np.max([np.abs(rx - x0.mean()), np.abs(rx - y0.mean())])\n",
    "    fitted = False\n",
    "    \n",
    "    if not isinstance(init, str):\n",
    "        try:\n",
    "            sma, eps, pa = init\n",
    "            geometry = EllipseGeometry(x0=x0.mean(), y0=y0.mean(), sma=sma, eps=eps, pa=pa)\n",
    "            ellipse = Ellipse(fmap, geometry, threshold=0.01)\n",
    "            isolist = ellipse.fit_image(linear=True, step=step)#, sclip=2., nclip=3)\n",
    "        except:\n",
    "            if not quiet:\n",
    "                print('Initial value fit failed, change to auto fit')\n",
    "            init = 'auto'\n",
    "            isolist = None\n",
    "\n",
    "        if isolist and len(isolist.intens) > 5:\n",
    "            fitted = True\n",
    "            \n",
    "    if init == 'auto' and not fitted:\n",
    "        # roughly go throgh different initial value\n",
    "        if not quiet:\n",
    "            print('guess initial value by given range')\n",
    "        for sma in np.arange(3, r_max, 0.2):\n",
    "            for eps in np.arange(0.2, 1., 0.2):\n",
    "                for pa in np.arange(0, np.pi, 0.5):\n",
    "                    #print(\"Parameter:\", sma, eps, pa)\n",
    "                    geometry = EllipseGeometry(x0=x0.mean(), y0=y0.mean(), sma=sma, eps=eps, pa=pa)\n",
    "                    ellipse = Ellipse(fmap, geometry, threshold=0.01)\n",
    "                    try: # some may failed to fit\n",
    "                        isolist = ellipse.fit_image(linear=True, step=step)#, sclip=2., nclip=3)\n",
    "                    except:\n",
    "                        continue\n",
    "                    #print(\"len(intens):\", len(isolist.intens))\n",
    "                    if len(isolist.intens) > 5:\n",
    "                        fitted = True\n",
    "                        init = [sma, eps, pa]\n",
    "                        break\n",
    "                if fitted:\n",
    "                    break\n",
    "            if fitted:\n",
    "                break\n",
    "        if not fitted:\n",
    "            if not quiet:\n",
    "                print(\"auto fit failed\")\n",
    "            init = 'random'\n",
    "        \n",
    "        \n",
    "    if init == 'random' and not fitted:\n",
    "        if not quiet:\n",
    "            print('guess initial value by random number')\n",
    "        itern = 1\n",
    "        intens = []\n",
    "        try:\n",
    "            while len(intens) < 5:\n",
    "                if itern > maxiter:\n",
    "                    if not quiet:\n",
    "                        print('maximum iteration exceed {}!'.format(maxiter))\n",
    "                    break\n",
    "                sma = np.random.rand() * r_max\n",
    "                eps = np.random.rand()\n",
    "                pa = np.random.rand() * np.pi\n",
    "                geometry = EllipseGeometry(x0=x0.mean(), y0=y0.mean(), sma=sma, eps=eps, pa=pa)\n",
    "                ellipse = Ellipse(fmap, geometry, threshold=0.01)\n",
    "                try: # some may failed to fit\n",
    "                    isolist = ellipse.fit_image(linear=True, step=step)#, sclip=2., nclip=3)\n",
    "                    intens = isolist.intens\n",
    "                except:\n",
    "                    intens = []\n",
    "                itern += 1\n",
    "        except KeyboardInterrupt:\n",
    "            pass\n",
    "        if itern >= maxiter:\n",
    "            if not quiet:\n",
    "                print(\"Faild all tries!\")\n",
    "            return 'auto', []\n",
    "        fitted = True\n",
    "    \n",
    "    if fitted == True:\n",
    "        init = [sma, eps, pa]\n",
    "        if not quiet:\n",
    "            print(\"Success:\", [sma, eps, pa])\n",
    "\n",
    "    if plot:\n",
    "        if ax == None:\n",
    "            fig = plt.figure()\n",
    "            ax = fig.add_subplot(111)\n",
    "        ccx = (x0 - x0.mean())*0.5\n",
    "        ccy = (y0 - y0.mean())*0.5\n",
    "        #im = ax.pcolormesh(ccx, ccy, fmap) #, cmap='viridis')\n",
    "        #sb = 4 * O3_corr / 10\n",
    "        im = ax.pcolormesh(ccx, ccy, fmap, norm=colors.LogNorm(vmin=0.1, vmax=fmap.max()), cmap='Oranges')\n",
    "        x = isolist.sma * 0.5\n",
    "        valid = (isolist.valid == 1) & (isolist.intens > 0.001) & (isolist.stop_code < 3)\n",
    "        print('x[valid].max()', x[valid].max())\n",
    "        #smas = np.linspace(0.5, x[valid].max(), n)\n",
    "        # plot the fitted ellipse\n",
    "        for sma in x[valid][1::2]:\n",
    "            iso = isolist.get_closest(sma)\n",
    "            fx, fy, = iso.sampled_coordinates()\n",
    "            #print(fx)\n",
    "            fx = (fx - x0.mean())*0.5\n",
    "            fy = (fy - y0.mean())*0.5\n",
    "            ax.plot(fx, fy, color='blue', alpha=1, lw=0.5)\n",
    "        if mini:\n",
    "            ax.tick_params(axis='both', which='major', labelsize=fs)\n",
    "            # plot.tick_params(axis='both', which='minor', labelsize=8)\n",
    "            # ax.set_xticklabels([])\n",
    "            # ax.set_yticklabels([])\n",
    "        else:\n",
    "            ax.set_title('Ellipse Fitting', fontsize=fs)\n",
    "            ax.set_ylabel('arcsec', fontsize=fs)\n",
    "            ax.set_xlabel('arcsec', fontsize=fs)\n",
    "        if showContour:\n",
    "            cs = ax.contour(ccx, ccy, fmap, levels=[1], colors='r', extent=extent, linewidths=0.5)\n",
    "            #plt.clabel(cs, inline=1, fontsize=5, fmt='%1.1f')\n",
    "            cbar = plt.colorbar(im, ax=ax[i, 3], fraction=0.056, pad=0.04, ticks=[0.1, 1, 10], orientation='vertical')\n",
    "            cbar.ax.tick_params(labelsize=4)\n",
    "            cbar.ax.set_title(r'$\\quad\\quad\\times 10^{-16}$', fontsize=4, pad=0.2)\n",
    "            cbar.ax.tick_params(axis='both', which='major', labelsize=2)\n",
    "            cbar.ax.tick_params(axis='both', which='minor', labelsize=0.5)\n",
    "            cbar.ax.set_yticklabels(['0.1', '1', '10'])  # horizontal colorbar\n",
    "            #extent = [ccx.min(), ccx.max(), ccy.min(), ccy.max()]\n",
    "            #cs = ax.contour(ccx, ccy, fmap, levels=[1, 3,10,100], colors='r', extent=extent, alpha=0.5)\n",
    "            #plt.clabel(cs, inline=1, fontsize=5, fmt='%1.1f')\n",
    "        if showColorbar:\n",
    "            cbar = plt.colorbar(im, ax=ax, fraction=0.046, pad=0.04)\n",
    "            cbar.ax.tick_params(labelsize=fs)\n",
    "\n",
    "    return init, isolist\n",
    "    \n",
    "def fit_rings(r, fmap, Re, step=0.2, plot=True):\n",
    "    #x0 = np.arange(0, fmap.shape[0])\n",
    "    #y0 = np.arange(0, fmap.shape[1])\n",
    "    sma = []\n",
    "    intens = []\n",
    "    intens_err = []\n",
    "    for r_ring in np.arange(0, Re, step):\n",
    "        r_select = (r_ring < r) & (r < r_ring + step)\n",
    "        sma.append(r_ring + step/2)\n",
    "        intens.append(np.mean(fmap[r_select]))\n",
    "        intens_err.append(np.std(fmap[r_select]))\n",
    "    return np.array(sma), np.array(intens), np.array(intens_err)"
   ]
  },
  {
   "cell_type": "markdown",
   "metadata": {},
   "source": [
    "## Single Case Demonstration"
   ]
  },
  {
   "cell_type": "code",
   "execution_count": 4,
   "metadata": {
    "ExecuteTime": {
     "end_time": "2019-06-26T00:33:34.467517Z",
     "start_time": "2019-06-26T00:33:31.700591Z"
    },
    "code_folding": [
     60
    ]
   },
   "outputs": [
    {
     "name": "stdout",
     "output_type": "stream",
     "text": [
      "init: auto\n",
      "guess initial value by given range\n",
      "Success: [3.0, 0.2, 0.0]\n"
     ]
    },
    {
     "name": "stderr",
     "output_type": "stream",
     "text": [
      "/Users/hang/.local/miniconda3/envs/astro/lib/python3.7/site-packages/ipykernel_launcher.py:48: RuntimeWarning: invalid value encountered in true_divide\n",
      "/Users/hang/.local/miniconda3/envs/astro/lib/python3.7/site-packages/ipykernel_launcher.py:49: RuntimeWarning: invalid value encountered in true_divide\n",
      "/Users/hang/.local/miniconda3/envs/astro/lib/python3.7/site-packages/numpy/lib/function_base.py:3405: RuntimeWarning: Invalid value encountered in median\n",
      "  r = func(a, **kwargs)\n",
      "/Users/hang/.local/miniconda3/envs/astro/lib/python3.7/site-packages/ipykernel_launcher.py:72: RuntimeWarning: invalid value encountered in true_divide\n",
      "/Users/hang/.local/miniconda3/envs/astro/lib/python3.7/site-packages/ipykernel_launcher.py:73: RuntimeWarning: invalid value encountered in true_divide\n"
     ]
    },
    {
     "data": {
      "image/png": "[encoded data removed]",
      "text/plain": [
       "<Figure size 864x216 with 3 Axes>"
      ]
     },
     "metadata": {
      "needs_background": "light"
     },
     "output_type": "display_data"
    }
   ],
   "source": [
    "# demo the ellipse fitting\n",
    "# History:\n",
    "#   2018-10-22: first release\n",
    "#   2019-01-03: using new fitting map data\n",
    "#   \n",
    "\n",
    "from mangatools.fitmaps import FitMaps\n",
    "#fm_dir = '/Volumes/Lacie2/ENLR/fitmaps/'\n",
    "#fm_binned_dir = '/Volumes/Lacie2/ENLR/fitmaps_binned/'\n",
    "fm_dir = '/Volumes/Lacie2/fitmaps/fitmap/' #set to your local folder\n",
    "fm_binned_dir = '/Volumes/Lacie2/fitmaps/fitmap2/' #set to your local folder\n",
    "\n",
    "set_matplotlib_formats('png')\n",
    "quiet = True\n",
    "useHaEW = True\n",
    "\n",
    "plateifu = '9893-6102'\n",
    "m = Maps(plateifu)\n",
    "agn, cp, sf, *others = m.bptregion()\n",
    "if useHaEW:\n",
    "    HaEW_region = m.line_ew('Ha-6564') > 3\n",
    "    agn = agn & HaEW_region\n",
    "\n",
    "\n",
    "fm = FitMaps(plateifu, fitmaps_dir=fm_dir, fitmaps_binned_dir=fm_binned_dir)\n",
    "O3_corr, O3_corr_err = fm.O3map()\n",
    "O3_agn = np.zeros(agn.shape)\n",
    "O3_agn[agn] = O3_corr[agn]\n",
    "\n",
    "sample_time = 0\n",
    "intens_list = []\n",
    "agn = binary_opening(binary_closing(agn, iterations=2), iterations=2)\n",
    "\n",
    "O3_agn = np.zeros(agn.shape)\n",
    "O3_agn[agn] = O3_corr[agn]\n",
    "init0, isolist = fitEllipse(O3_agn, init='auto')\n",
    "valid = (isolist.stop_code == 0) #& (isolist.valid == 1)\n",
    "#valid = np.ones_like(isolist.sma)\n",
    "sma_base = isolist.sma[valid]\n",
    "intens_list.append(isolist.intens[valid].tolist())\n",
    "\n",
    "\n",
    "if True: # get the S2 ratio profile\n",
    "    x0 = np.arange(0, O3_agn.shape[0])\n",
    "    y0 = np.arange(0, O3_agn.shape[1])\n",
    "    S2_1 = fm.line('[SII]6716')\n",
    "    S2_2 = fm.line('[SII]6731')\n",
    "    S2_ratio = S2_1[0] / S2_2[0]\n",
    "    S2_ratio_noise = np.sqrt((S2_1[1]/S2_2[0])**2 + (S2_2[1]*S2_1[0]/S2_2[0]**2)**2)\n",
    "    S2_sma_list = []\n",
    "    S2_ratio_list = []\n",
    "    S2_ratio_err_list = []\n",
    "    S2_ratio_noise_list = []\n",
    "    sma_fixed = sma_base\n",
    "    sma_fixed[0] = 0.001 # fixed the first zero sma\n",
    "    for sma, eps, pa in zip(sma_fixed, isolist.eps[valid], isolist.pa[valid]):\n",
    "        #print(sma, eps, pa)\n",
    "        densmap = EllipseSample(S2_ratio, sma, eps=eps, position_angle=pa, x0=x0.mean(), y0=y0.mean())\n",
    "        densmap_err = EllipseSample(S2_ratio_noise, sma, eps=eps, position_angle=pa, x0=x0.mean(), y0=y0.mean())\n",
    "        ellipse_sample = densmap.extract()\n",
    "        ellipse_noise_sample = densmap_err.extract()\n",
    "        S2_sma_list.append(sma)\n",
    "        S2_ratio_list.append(np.mean(ellipse_sample[2]))\n",
    "        S2_ratio_err_list.append(np.std(ellipse_sample[2]))\n",
    "        S2_ratio_noise_list.append(np.median(ellipse_noise_sample[2]))\n",
    "\n",
    "if True: # get the ionization ratio profile\n",
    "    x0 = np.arange(0, O3_agn.shape[0])\n",
    "    y0 = np.arange(0, O3_agn.shape[1])\n",
    "    OIII = fm.line('[OIII]5008')\n",
    "    Hb = fm.line('Hbeta')\n",
    "    ioni_ratio = OIII[0] / Hb[0]\n",
    "    ioni_ratio_noise = np.sqrt((OIII[1]/Hb[0])**2 + (Hb[1]*OIII[0]/Hb[0]**2)**2)\n",
    "    ioni_sma_list = []\n",
    "    ioni_ratio_list = []\n",
    "    ioni_ratio_err_list = []\n",
    "    ioni_ratio_noise_list = []\n",
    "    sma_fixed = sma_base\n",
    "    sma_fixed[0] = 0.001 # fixed the first zero sma\n",
    "    for sma, eps, pa in zip(sma_fixed, isolist.eps[valid], isolist.pa[valid]):\n",
    "        #print(sma, eps, pa)\n",
    "        densmap = EllipseSample(ioni_ratio, sma, eps=eps, position_angle=pa, x0=x0.mean(), y0=y0.mean())\n",
    "        densmap_noise = EllipseSample(ioni_ratio_noise, sma, eps=eps, position_angle=pa, x0=x0.mean(), y0=y0.mean())\n",
    "        ellipse_sample = densmap.extract()\n",
    "        ellipse_noise_sample = densmap_noise.extract()\n",
    "        ioni_sma_list.append(sma)\n",
    "        ioni_ratio_list.append(np.mean(ellipse_sample[2]))\n",
    "        ioni_ratio_err_list.append(np.std(ellipse_sample[2]))\n",
    "        ioni_ratio_noise_list.append(np.median(ellipse_noise_sample[2]))\n",
    "        \n",
    "for i in range(sample_time):\n",
    "    #print(i)\n",
    "    # add random gaussian error into the O3 map\n",
    "    O3 = O3_corr + np.random.randn(*O3_corr_err.shape) * np.abs(O3_corr_err)\n",
    "    O3_agn = np.zeros(agn.shape)\n",
    "    O3_agn[agn] = O3[agn]\n",
    "    init, isolist = fitEllipse(O3, init=init0, quiet=quiet)\n",
    "    if len(isolist.sma) < 5:\n",
    "        print(\"Failed fitting!\")\n",
    "        continue\n",
    "    intens = np.interp(sma_base, isolist.sma, isolist.intens)\n",
    "    intens_list.append(intens.tolist())\n",
    "\n",
    "x = sma_base * 0.5 # scale to real size\n",
    "y = np.mean(intens_list, axis=0)\n",
    "y_err = np.std(intens_list, axis=0)\n",
    "\n",
    "if True:\n",
    "    fig = plt.figure(figsize=(12, 3))\n",
    "    plt.subplots_adjust(left=0.1, right=0.9, top=0.8, bottom=0.1, wspace=0.4, hspace=0.14)\n",
    "    ax = fig.subplots(1, 3)\n",
    "    #ax[0].plot(x, y, 'o')\n",
    "    ax[0].errorbar(x, y, yerr=y_err, marker='o', linestyle='--')\n",
    "    ax[0].set_xlabel('arcsec', fontsize=14)\n",
    "    ax[0].set_ylabel('surface brightness', fontsize=14)\n",
    "    ax[1].errorbar(0.5*np.array(S2_sma_list), np.array(S2_ratio_list), yerr=S2_ratio_err_list, marker='o', linestyle='--', alpha=0.5)\n",
    "    ax[1].errorbar(0.5*np.array(S2_sma_list), np.array(S2_ratio_list), yerr=S2_ratio_noise_list, marker=None, linestyle='None', alpha=0.5)\n",
    "    ax[1].set_xlabel('arcsec', fontsize=14)\n",
    "    ax[1].set_ylabel('SII ratio', fontsize=14)\n",
    "    ax[2].errorbar(0.5*np.array(ioni_sma_list), np.array(ioni_ratio_list), yerr=ioni_ratio_err_list, marker='o', linestyle='--', alpha=0.5)\n",
    "    ax[2].errorbar(0.5*np.array(ioni_sma_list), np.array(ioni_ratio_list), yerr=ioni_ratio_noise_list, marker=None, ls='None', alpha=0.5)\n",
    "    ax[2].set_xlabel('arcsec', fontsize=14)\n",
    "    ax[2].set_ylabel('[O III]/Hb', fontsize=14)\n",
    "    plt.show()\n",
    "    set_matplotlib_formats('png')"
   ]
  },
  {
   "cell_type": "markdown",
   "metadata": {
    "ExecuteTime": {
     "end_time": "2019-03-01T13:32:20.306269Z",
     "start_time": "2019-03-01T13:32:20.302356Z"
    }
   },
   "source": [
    "## Statistics"
   ]
  },
  {
   "cell_type": "code",
   "execution_count": 5,
   "metadata": {
    "ExecuteTime": {
     "end_time": "2019-06-27T02:39:02.645059Z",
     "start_time": "2019-06-26T00:33:40.112700Z"
    },
    "code_folding": [
     64,
     95,
     161
    ],
    "scrolled": true
   },
   "outputs": [
    {
     "name": "stdout",
     "output_type": "stream",
     "text": [
      "[##############--------------------------] 34% Out of time!\n",
      "[############################------------] 71% Out of time!\n",
      "[#################################-------] 84% Out of time!\n",
      "[#####################################---] 91% Out of time!\n",
      "[#####################################---] 92% Out of time!\n",
      "[########################################] 100% \n",
      "Done! Write into file data/Ellipse_Fitting-2019-06-26.fits\n"
     ]
    }
   ],
   "source": [
    "# Statistics, no density and ionization\n",
    "# \n",
    "# History:\n",
    "#   2019-01-30: not save ratio but the line flux instead\n",
    "#   2019-05-16: run for submission\n",
    "#\n",
    "from mangatools.fitmaps import FitMaps\n",
    "fm_dir = '/Volumes/Lacie2/fitmaps/fitmap/'\n",
    "fm_binned_dir = '/Volumes/Lacie2/fitmaps/fitmap2/'\n",
    "#fm_dir = '/Volumes/DATA/fitmap/' #set to your local folder\n",
    "#fm_binned_dir = '/Volumes/DATA/fitmap2/' #set to your local folder\n",
    "\n",
    "warnings.filterwarnings(\"ignore\")\n",
    "log.setLevel('ERROR')\n",
    "\n",
    "targets = Table.read('data/AGNs-2019-04-26.dat', format='ascii')\n",
    "quiet = 1\n",
    "useHaEW = True\n",
    "s2_ratio = False\n",
    "ion_ratio = False\n",
    "sample_time = 100\n",
    "targets = targets\n",
    "total_num = len(targets)\n",
    "\n",
    "hdr = fits.Header()\n",
    "hdr['AUTHOR'] = 'Jianhang Chen'\n",
    "hdr['DATE'] = '{}'.format(today)\n",
    "hdr['COMMENT'] = \"Ellipse fittting of the [OIII] surface brightness isophote\"\n",
    "primary_hdu = fits.PrimaryHDU(header=hdr)\n",
    "\n",
    "hdu_list = [primary_hdu]\n",
    "\n",
    "for idx, plateifu in enumerate(targets['plateifu']):\n",
    "    idx = idx\n",
    "    #print(idx+base, plateifu)\n",
    "    m = Maps(plateifu)\n",
    "    agn, cp, sf, *others = m.bptregion()\n",
    "    if useHaEW:\n",
    "        HaEW_region = m.line_ew('Ha-6564') > 3\n",
    "        agn = agn & HaEW_region\n",
    "    mask = agn | cp | sf\n",
    "    #mask = np.ones_like(agn)\n",
    "    #mask[23, 23] = 0\n",
    "    \n",
    "    \n",
    "    intens_list = []\n",
    "    #init = 'auto' #auto guess the initial value\n",
    "    agn = binary_opening(binary_closing(agn, iterations=2), iterations=2)\n",
    "\n",
    "    try:\n",
    "        fm = FitMaps(plateifu, fitmaps_dir=fm_dir, fitmaps_binned_dir=fm_binned_dir)\n",
    "        O3_corr, O3_corr_err = fm.O3map()\n",
    "    except:\n",
    "        continue\n",
    "    O3_agn = np.zeros(agn.shape)\n",
    "    O3_agn[agn] = O3_corr[agn]\n",
    "    try:\n",
    "        init0, isolist = fitEllipse(O3_agn, init='auto', quiet=quiet)\n",
    "    except:\n",
    "        continue\n",
    "    valid = (isolist.stop_code == 0) & (isolist.valid == 1)\n",
    "    sma_base = isolist.sma[valid]\n",
    "    intens_list.append(isolist.intens[valid].tolist())\n",
    "\n",
    "    if s2_ratio: # get the S2 ratio profile\n",
    "        x0 = np.arange(0, O3_agn.shape[0])\n",
    "        y0 = np.arange(0, O3_agn.shape[1])\n",
    "        S2_1 = fm.line('[SII]6716')\n",
    "        S2_2 = fm.line('[SII]6731')\n",
    "        S2_ratio = S2_1[0] / S2_2[0]\n",
    "        S2_1_list = []\n",
    "        S2_1_err_list = []\n",
    "        S2_2_list = []\n",
    "        S2_2_err_list = []\n",
    "        sma_fixed = sma_base\n",
    "        sma_fixed[0] = 0.001 # fixed the first zero sma\n",
    "        for sma, eps, pa in zip(sma_fixed, isolist.eps[valid], isolist.pa[valid]):\n",
    "            #print(sma, eps, pa)\n",
    "            S2_1_map = EllipseSample(S2_1[0], sma, eps=eps, position_angle=pa, x0=x0.mean(), y0=y0.mean())\n",
    "            S2_1_err_map = EllipseSample(S2_1[1], sma, eps=eps, position_angle=pa, x0=x0.mean(), y0=y0.mean())\n",
    "            S2_2_map = EllipseSample(S2_2[0], sma, eps=eps, position_angle=pa, x0=x0.mean(), y0=y0.mean())\n",
    "            S2_2_err_map = EllipseSample(S2_2[1], sma, eps=eps, position_angle=pa, x0=x0.mean(), y0=y0.mean())\n",
    "            S2_1_sample = S2_1_map.extract()\n",
    "            S2_1_err_sample = S2_1_err_map.extract()\n",
    "            S2_2_sample = S2_2_map.extract()\n",
    "            S2_2_err_sample = S2_2_err_map.extract()\n",
    "            S2_1_tmp = np.sum(S2_1_sample[2]) / len(S2_1_sample[2])\n",
    "            S2_1_tmp_err = np.sqrt(np.sum(S2_1_err_sample[2]**2))\n",
    "            S2_2_tmp = np.sum(S2_2_sample[2]) / len(S2_2_sample[2])\n",
    "            S2_2_tmp_err = np.sqrt(np.sum(S2_2_err_sample[2]**2))\n",
    "            S2_1_list.append(S2_1_tmp)\n",
    "            S2_1_err_list.append(S2_1_tmp_err)\n",
    "            S2_2_list.append(S2_2_tmp)\n",
    "            S2_2_err_list.append(S2_2_tmp_err)\n",
    "\n",
    "    if ion_ratio: # get the ionization ratio profile\n",
    "        x0 = np.arange(0, O3_agn.shape[0])\n",
    "        y0 = np.arange(0, O3_agn.shape[1])\n",
    "        OIII = fm.line('[OIII]5008')\n",
    "        Hb = fm.line('Hbeta')\n",
    "        OIII_list = []\n",
    "        OIII_err_list = []\n",
    "        Hb_list = []\n",
    "        Hb_err_list = []\n",
    "        sma_fixed = sma_base\n",
    "        sma_fixed[0] = 0.001 # fixed the first zero sma\n",
    "        for sma, eps, pa in zip(sma_fixed, isolist.eps[valid], isolist.pa[valid]):\n",
    "            #print(sma, eps, pa)\n",
    "            OIII_map = EllipseSample(OIII[0], sma, eps=eps, position_angle=pa, x0=x0.mean(), y0=y0.mean())\n",
    "            OIII_err_map = EllipseSample(OIII[1], sma, eps=eps, position_angle=pa, x0=x0.mean(), y0=y0.mean())\n",
    "            OIII_sample = OIII_map.extract()\n",
    "            OIII_err_sample = OIII_err_map.extract()\n",
    "            Hb_map = EllipseSample(Hb[0], sma, eps=eps, position_angle=pa, x0=x0.mean(), y0=y0.mean())\n",
    "            Hb_err_map = EllipseSample(Hb[1], sma, eps=eps, position_angle=pa, x0=x0.mean(), y0=y0.mean())\n",
    "            Hb_sample = Hb_map.extract()\n",
    "            Hb_err_sample = Hb_err_map.extract()\n",
    "            OIII_tmp = np.sum(OIII_sample[2]) / len(OIII_sample[2])\n",
    "            OIII_tmp_err = np.sqrt(np.sum(OIII_err_sample[2]**2))\n",
    "            Hb_tmp = np.sum(Hb_sample[2]) / len(Hb_sample[2])\n",
    "            Hb_tmp_err = np.sqrt(np.sum(Hb_err_sample[2]**2))\n",
    "            OIII_list.append(OIII_tmp)\n",
    "            OIII_err_list.append(OIII_tmp_err)\n",
    "            Hb_list.append(Hb_tmp)\n",
    "            Hb_err_list.append(Hb_tmp_err)\n",
    "            \n",
    "    for i in range(sample_time):\n",
    "        #print(i)\n",
    "        # add random gaussian error into the O3 map\n",
    "        O3 = O3_corr + np.random.randn(*O3_corr_err.shape) * np.abs(O3_corr_err)\n",
    "        O3_agn = np.zeros(agn.shape)\n",
    "        O3_agn[agn] = O3[agn]\n",
    "        init, isolist = fitEllipse(O3_agn, init=init0, quiet=quiet)\n",
    "        if len(isolist) < 5:\n",
    "            if not quiet:\n",
    "                print(\"Skipped isolist:\", isolist.sma)\n",
    "                print(\"Skip failed fitting\")\n",
    "            continue\n",
    "        intens = np.interp(sma_base, isolist.sma, isolist.intens)\n",
    "        intens_list.append(intens.tolist())\n",
    "\n",
    "    sma = sma_base * 0.5 # scale to real size\n",
    "    intens = np.mean(intens_list, axis=0)\n",
    "    intens_err = np.std(intens_list, axis=0)\n",
    "    \n",
    "    hdr_bin = fits.Header()\n",
    "    hdr_bin['is_limit'] = targets['is_limit'][idx]\n",
    "    hdr_bin['Re'] = m.elpetro_r\n",
    "\n",
    "    c1 = fits.Column(name='sma', array=sma, format='D') # double float\n",
    "    c2 = fits.Column(name='intens', array=intens, format='D') # doubel float\n",
    "    c3 = fits.Column(name='intens_err', array=intens_err, format='D') # double float\n",
    "    column_list = [c1, c2, c3]\n",
    "    if s2_ratio:\n",
    "        c4 = fits.Column(name='S2_1', array=np.array(S2_1_list), format='D')\n",
    "        c5 = fits.Column(name='S2_2', array=np.array(S2_2_list), format='D')\n",
    "        c6 = fits.Column(name='S2_1_err', array=np.array(S2_1_err_list), format='D')\n",
    "        c7 = fits.Column(name='S2_2_err', array=np.array(S2_2_err_list), format='D')\n",
    "        column_list.append(c4)\n",
    "        column_list.append(c5)\n",
    "        column_list.append(c6)\n",
    "        column_list.append(c7)\n",
    "    if ion_ratio:\n",
    "        c8 = fits.Column(name='OIII', array=np.array(OIII_list), format='D')\n",
    "        c9 = fits.Column(name='OIII_err', array=np.array(OIII_err_list), format='D')\n",
    "        c10 = fits.Column(name='Hb', array=np.array(Hb_list), format='D')\n",
    "        c11 = fits.Column(name='Hb_err', array=np.array(Hb_err_list), format='D')\n",
    "        column_list.append(c8)\n",
    "        column_list.append(c9)\n",
    "        column_list.append(c10)\n",
    "        column_list.append(c11)\n",
    "    bintable_hdu = fits.BinTableHDU.from_columns(column_list, \n",
    "                                                 name=plateifu, header=hdr_bin)\n",
    "    hdu_list.append(bintable_hdu)\n",
    "    utils.processBar(total_num, idx+1)\n",
    "hdus = fits.HDUList(hdu_list)\n",
    "hdus.writeto('data/Ellipse_Fitting-{}.fits'.format(today), overwrite=True)\n",
    "print('Done! Write into file data/Ellipse_Fitting-{}.fits'.format(today))\n",
    "#warnings.filterwarnings(\"default\")"
   ]
  },
  {
   "cell_type": "markdown",
   "metadata": {},
   "source": [
    "# Surface Brightness Profile Fitting\n",
    "\n",
    "1. Just fitting use one or two Sersic profile\n",
    "2. Add the convolution into the fitting"
   ]
  },
  {
   "cell_type": "markdown",
   "metadata": {
    "heading_collapsed": true
   },
   "source": [
    "## Single Testing with De-convolution"
   ]
  },
  {
   "cell_type": "code",
   "execution_count": 69,
   "metadata": {
    "ExecuteTime": {
     "end_time": "2019-05-03T02:17:14.757699Z",
     "start_time": "2019-05-03T02:17:11.121380Z"
    },
    "hidden": true
   },
   "outputs": [
    {
     "name": "stdout",
     "output_type": "stream",
     "text": [
      "x1: [1.17555508 0.30637745 0.57688639] x2: [2.30659984 1.77404898 1.6088943 ]\n",
      "undetected!\n",
      "logR_fsb1: -3.0583177923724567 error: 434294.4819032518\n",
      "deconvlution undetected!\n"
     ]
    },
    {
     "name": "stderr",
     "output_type": "stream",
     "text": [
      "/Users/hang/.local/miniconda3/envs/astro/lib/python3.7/site-packages/ipykernel_launcher.py:76: RuntimeWarning: divide by zero encountered in true_divide\n"
     ]
    },
    {
     "name": "stdout",
     "output_type": "stream",
     "text": [
      "deconvlution undetected!\n",
      "deconvlution undetected!\n",
      "deconvlution undetected!\n",
      "deconvlution undetected!\n",
      "deconvlution undetected!\n",
      "deconvlution undetected!\n",
      "deconvlution undetected!\n",
      "deconvlution undetected!\n",
      "deconvlution undetected!\n",
      "R: -1.0583177923724567 error: 0.0\n"
     ]
    },
    {
     "data": {
      "image/png": "[encoded data removed]",
      "text/plain": [
       "<Figure size 720x288 with 2 Axes>"
      ]
     },
     "metadata": {
      "needs_background": "light"
     },
     "output_type": "display_data"
    }
   ],
   "source": [
    "### New version, test\n",
    "# single test, update for put the interpolate into the model\n",
    "# global value\n",
    "import numpy as np\n",
    "from scipy import optimize, signal\n",
    "from matplotlib import pyplot as plt\n",
    "from ppxf import capfit\n",
    "\n",
    "def psf_func(r, amplitude=0, mean=0, stddev=0):\n",
    "    return amplitude * np.exp(-(r-mean)**2/(2*stddev**2))\n",
    "\n",
    "def psf_kernel(fwhm, interv=1, data_points=50):\n",
    "    edge = data_points/(2*interv)\n",
    "    r = np.arange(-edge, edge+interv, interv)\n",
    "    sigma = fwhm/2.35482\n",
    "    return np.exp(-r**2/(2*sigma**2))\n",
    "\n",
    "def fmodel_conv(x, r, basemodel, psf_fwhm=None, points=50, scale_factor=1.5):\n",
    "    # used for convolution\n",
    "    r_interp = np.linspace(r.min(), 1.5*r.max(), points)\n",
    "    flux = basemodel(x, r_interp)\n",
    "    psf = psf_kernel(psf_fwhm, r_interp[1]-r_interp[0])\n",
    "    flux_sym = np.array([flux[::-1], flux]).flatten()\n",
    "    flux_conv = signal.fftconvolve(flux_sym, psf, mode='same')/np.sum(psf)\n",
    "    return np.interp(r, r_interp, flux_conv[len(flux_sym)//2:])\n",
    "\n",
    "if True: # same like following, but show the two component seperately    \n",
    "    eps = 1e-8 # error value, or value used for handling zero\n",
    "    plot = True\n",
    "    SB = 10\n",
    "    plateifu = '9893-6102'\n",
    "    m = Maps(plateifu)\n",
    "    z = m.z\n",
    "    sb_corr = (1+z)**4\n",
    "    agn, cp, sf, *others = m.bptregion()\n",
    "    psf = m.psf\n",
    "    agn_fraction = np.sum(agn) / np.sum(agn | cp | sf)\n",
    "    agn_pixels = np.sum(agn)\n",
    "    with fits.open('data/Ellipse_Fitting-2019-05-16.fits') as f:\n",
    "        data = f[plateifu].data\n",
    "        header = f[plateifu].header\n",
    "        # ignore the first point\n",
    "        r = data['sma'] + np.random.randn(len(data['sma']))*1e-4\n",
    "        I = data['intens'] * 4 * sb_corr + np.random.randn(len(data['sma']))*1e-4\n",
    "        I_err = data['intens_err'] * 4 * sb_corr\n",
    "        logI = np.log(I)\n",
    "        logI_err = I_err/I + 1e-6\n",
    "    \n",
    "    # define the model\n",
    "    baseModel = lambda x, r: np.exp(x[0] - x[1] * r**(1/x[2]))\n",
    "    # Fitting, logrithm the flux\n",
    "    #fitModel = lambda x, r: np.log10(baseModel(x, r))\n",
    "    \n",
    "    # initial value and bounds\n",
    "    x0 = (logI[1], 1, 1)\n",
    "    bounds=((0, np.inf), (0.01, 10), (0.5, 10))\n",
    "    \n",
    "    #********* fit without de-convlolution *************#\n",
    "    # used the logscale of y, to optimize the fitting\n",
    "    cost_fun1 = lambda x, r, logy, logy_err: \\\n",
    "                np.sum((np.log(baseModel(x, r)) - logy)**2/(logy_err)**2)\n",
    "   \n",
    "    res_lsq1 = optimize.minimize(cost_fun1, x0,\n",
    "                                 args=(r, logI, logI_err), \n",
    "                                 method='L-BFGS-B', options={'disp':False},\n",
    "                                 jac='2-point', bounds=bounds)\n",
    "    #res_lsq1 = capfit.capfit(cost_fun1, x0, args=(r, logI, logI_err),\n",
    "    #                         bounds=np.transpose(bounds))\n",
    "    #res_lsq = optimize.least_squares(cost_fun, x0, \n",
    "    #                                 args=(r, logy, logy_err), \n",
    "    #                                 jac='2-point')\n",
    "    #perror = capfit.cov_err(res_lsq.jac)[1]\n",
    "    \n",
    "    #*********** fit with de-convolution ****************#\n",
    "    cost_fun2 = lambda x, r, logy, logy_err, basemodel, psf_fwhm: \\\n",
    "                np.sum((np.log(fmodel_conv(x, r, basemodel, psf_fwhm)) - logy)**2/logy_err**2)\n",
    "    res_lsq2 = optimize.minimize(cost_fun2, x0,\n",
    "                                 args=(r, logI, logI_err, baseModel, psf), \n",
    "                                 method='L-BFGS-B', options={'disp':False},\n",
    "                                 jac='2-point', bounds=bounds)\n",
    "    #cost_fun2 = lambda x, r, logy, logy_err, basemodel, psf_fwhm: \\\n",
    "    #            (np.log(fmodel_conv(x, r, basemodel, psf_fwhm)) - logy)**2/logy_err**2\n",
    "    #res_lsq2 = capfit.capfit(cost_fun2, x0, args=(r, logI, logI_err, baseModel, psf),\n",
    "    #                         bounds=np.transpose(bounds))\n",
    "    \n",
    "    if True: # resample to get the fitting error\n",
    "        sample_times = 10\n",
    "        R_list = []\n",
    "        r_extend = np.linspace(r.min(), r.max(), 50)\n",
    "        gg_fit1 = baseModel(res_lsq1.x, r_extend)\n",
    "        print('x1:', res_lsq1.x, 'x2:', res_lsq2.x)\n",
    "        try:\n",
    "            R_fsb1 = np.max(r_extend[gg_fit1 > SB])\n",
    "        except:\n",
    "            R_fsb1 = 1e-6\n",
    "            print('undetected!')\n",
    "        logR_fsb1 = np.log10(R_fsb1 * m.arcsec2kpc.value*1000)\n",
    "        logR_fsb1_err = 1./R_fsb1/np.log(10)\n",
    "        print('logR_fsb1:', logR_fsb1, 'error:', logR_fsb1_err)\n",
    "        \n",
    "        for i in range(sample_times):\n",
    "            logI = np.log(I + I_err*np.random.randn(len(I)))\n",
    "            logI_err = I_err/I\n",
    "            #cost_fun2 = lambda x, r, logy, logy_err, basemodel, psf_fwhm: \\\n",
    "            #            np.sum((np.log(fmodel_conv(x, r, basemodel, psf_fwhm)) - logy)**2/logy_err**2)\n",
    "            try:\n",
    "                res_lsq2 = optimize.minimize(cost_fun2, x0,\n",
    "                                             args=(r, logI, logI_err, baseModel, psf), \n",
    "                                             method='L-BFGS-B', options={'disp':False},\n",
    "                                             jac='2-point', bounds=bounds)\n",
    "            except:\n",
    "                print(\"Failed fitting\")\n",
    "                continue\n",
    "\n",
    "            #print(\"gg_fit2\", gg_fit2)\n",
    "            gg_fit2 = fmodel_conv(res_lsq2.x, r_extend, baseModel, psf)\n",
    "            try:\n",
    "                R_fsb2 = np.max(r_extend[gg_fit2 > SB])\n",
    "            except:\n",
    "                R_fsb2 = 1e-4\n",
    "                print('deconvlution undetected!')\n",
    "            logR_fsb2 = np.log10(R_fsb2 * m.arcsec2kpc.value*1000)\n",
    "            R_list.append(logR_fsb2)\n",
    "        print(\"R:\", np.mean(R_list), 'error:', np.std(R_list))\n",
    "        #print(R_list)\n",
    "\n",
    "    if plot:\n",
    "        # generate data for plot \n",
    "        r_extend = np.linspace(r.min(), r.max(), 50) # for smooth plot\n",
    "        gauss_psf = psf_func(r_extend, amplitude=I.max(), mean=0, stddev=psf/2.35482)\n",
    "\n",
    "        fig, ax_list = plt.subplots(nrows=1, ncols=2, figsize=(10, 4))\n",
    "\n",
    "        # show the results of without de-convolution\n",
    "        gg_fit1 = baseModel(res_lsq1.x, r_extend)\n",
    "        ax = ax_list[0]\n",
    "        ax.set_title('without de-convolution')\n",
    "        ax.semilogy(r, I, 'ko')\n",
    "        ax.errorbar(r, I, yerr=I_err, marker='None', linestyle='None', color='k')\n",
    "        ax.plot(r_extend, gauss_psf, 'k--', label='PSF')\n",
    "        ax.plot(r_extend, gg_fit1, label='single')\n",
    "        ax.legend()\n",
    "        ax.set_ylim(I.min(), 1.2*I.max())\n",
    "\n",
    "        # show the results after convolution\n",
    "        #xx = np.array(res_lsq2.x) + np.array(res_lsq2.x_err) * np.random.randn(3)\n",
    "        gg_fit2 = fmodel_conv(res_lsq2.x, r_extend, baseModel, psf)\n",
    "        gg_fit2_orig = baseModel(res_lsq2.x, r_extend)\n",
    "        ax = ax_list[1]\n",
    "        ax.set_title('with de-convolution')\n",
    "        ax.semilogy(r, I, 'ko')\n",
    "        ax.plot(r_extend, gauss_psf, 'k--', label='PSF')\n",
    "        ax.errorbar(r, I, yerr=I_err, marker='None', linestyle='None', color='k')\n",
    "        ax.plot(r_extend, gg_fit2, label='after')\n",
    "        ax.plot(r_extend, gg_fit2_orig, label='before')\n",
    "        ax.set_ylim(I.min(), 2*I.max())\n",
    "        ax.legend()"
   ]
  },
  {
   "cell_type": "code",
   "execution_count": 51,
   "metadata": {
    "ExecuteTime": {
     "end_time": "2019-05-03T01:42:00.438613Z",
     "start_time": "2019-05-03T01:42:00.388497Z"
    },
    "hidden": true
   },
   "outputs": [
    {
     "name": "stdout",
     "output_type": "stream",
     "text": [
      "[0. 0. 0. 0. 0. 0. 0. 0. 0. 0. 0.]\n"
     ]
    }
   ],
   "source": [
    "print(I_err)"
   ]
  },
  {
   "cell_type": "markdown",
   "metadata": {
    "ExecuteTime": {
     "end_time": "2019-03-01T13:34:46.796956Z",
     "start_time": "2019-03-01T13:34:46.792625Z"
    }
   },
   "source": [
    "## Generate all the Radius of ENLR"
   ]
  },
  {
   "cell_type": "code",
   "execution_count": 2,
   "metadata": {
    "ExecuteTime": {
     "end_time": "2019-06-30T03:32:12.450002Z",
     "start_time": "2019-06-30T03:05:52.824860Z"
    },
    "scrolled": true
   },
   "outputs": [
    {
     "name": "stderr",
     "output_type": "stream",
     "text": [
      "/Users/hang/.local/miniconda3/envs/astro/lib/python3.7/importlib/_bootstrap.py:219: RuntimeWarning: numpy.ufunc size changed, may indicate binary incompatibility. Expected 192 from C header, got 216 from PyObject\n",
      "  return f(*args, **kwds)\n"
     ]
    },
    {
     "name": "stdout",
     "output_type": "stream",
     "text": [
      "No valid measurment\n"
     ]
    },
    {
     "name": "stderr",
     "output_type": "stream",
     "text": [
      "/Users/hang/.local/miniconda3/envs/astro/lib/python3.7/site-packages/ipykernel_launcher.py:140: RuntimeWarning: divide by zero encountered in log10\n",
      "/Users/hang/.local/miniconda3/envs/astro/lib/python3.7/site-packages/ipykernel_launcher.py:141: RuntimeWarning: divide by zero encountered in double_scalars\n"
     ]
    },
    {
     "name": "stdout",
     "output_type": "stream",
     "text": [
      "No valid measurment\n"
     ]
    },
    {
     "name": "stderr",
     "output_type": "stream",
     "text": [
      "/Users/hang/.local/miniconda3/envs/astro/lib/python3.7/site-packages/ipykernel_launcher.py:160: RuntimeWarning: invalid value encountered in log\n"
     ]
    },
    {
     "name": "stdout",
     "output_type": "stream",
     "text": [
      "No valid measurment\n",
      "No valid measurment\n",
      "No valid measurment\n",
      "Resmaple fitting failed 1th times!\n",
      "Resmaple fitting failed 2th times!\n",
      "Resmaple fitting failed 3th times!\n",
      "Resmaple fitting failed 4th times!\n",
      "No valid measurment\n",
      "No valid measurment\n",
      "No valid measurment\n"
     ]
    },
    {
     "name": "stderr",
     "output_type": "stream",
     "text": [
      "/Users/hang/.local/miniconda3/envs/astro/lib/python3.7/site-packages/ipykernel_launcher.py:115: RuntimeWarning: invalid value encountered in log\n"
     ]
    },
    {
     "name": "stdout",
     "output_type": "stream",
     "text": [
      "No valid measurment\n",
      "No valid measurment\n",
      "No valid measurment\n",
      "No valid measurment\n",
      "No valid measurment\n",
      "No valid measurment\n",
      "No valid measurment\n",
      "No valid measurment\n",
      "No valid measurment\n",
      "No valid measurment\n",
      "No valid measurment\n",
      "No valid measurment\n"
     ]
    },
    {
     "name": "stderr",
     "output_type": "stream",
     "text": [
      "/Users/hang/.local/miniconda3/envs/astro/lib/python3.7/site-packages/ipykernel_launcher.py:173: RuntimeWarning: divide by zero encountered in log10\n",
      "/Users/hang/.local/miniconda3/envs/astro/lib/python3.7/site-packages/numpy/core/_methods.py:117: RuntimeWarning: invalid value encountered in subtract\n",
      "  x = asanyarray(arr - arrmean)\n"
     ]
    },
    {
     "name": "stdout",
     "output_type": "stream",
     "text": [
      "No valid measurment\n",
      "No valid measurment\n"
     ]
    },
    {
     "name": "stderr",
     "output_type": "stream",
     "text": [
      "/Users/hang/.local/miniconda3/envs/astro/lib/python3.7/site-packages/ipykernel_launcher.py:82: RuntimeWarning: invalid value encountered in log\n",
      "/Users/hang/.local/miniconda3/envs/astro/lib/python3.7/site-packages/ipykernel_launcher.py:212: UserWarning: Attempted to set non-positive bottom ylim on a log-scaled axis.\n",
      "Invalid limit will be ignored.\n",
      "/Users/hang/.local/miniconda3/envs/astro/lib/python3.7/site-packages/ipykernel_launcher.py:225: UserWarning: Attempted to set non-positive bottom ylim on a log-scaled axis.\n",
      "Invalid limit will be ignored.\n"
     ]
    },
    {
     "name": "stdout",
     "output_type": "stream",
     "text": [
      "No valid measurment\n",
      "No valid measurment\n",
      "No valid measurment\n",
      "Resmaple fitting failed 1th times!\n",
      "Resmaple fitting failed 2th times!\n",
      "Resmaple fitting failed 3th times!\n",
      "Resmaple fitting failed 4th times!\n",
      "Resmaple fitting failed 5th times!\n",
      "Resmaple fitting failed 6th times!\n",
      "Resmaple fitting failed 7th times!\n",
      "Resmaple fitting failed 8th times!\n",
      "Resmaple fitting failed 9th times!\n",
      "Resmaple fitting failed 10th times!\n",
      "Resmaple fitting failed 11th times!\n",
      "Resmaple fitting failed 12th times!\n",
      "Resmaple fitting failed 13th times!\n",
      "Resmaple fitting failed 14th times!\n",
      "Resmaple fitting failed 15th times!\n",
      "Resmaple fitting failed 16th times!\n",
      "Resmaple fitting failed 17th times!\n",
      "Resmaple fitting failed 18th times!\n",
      "Resmaple fitting failed 19th times!\n",
      "Resmaple fitting failed 20th times!\n",
      "Resmaple fitting failed 21th times!\n",
      "Resmaple fitting failed 22th times!\n",
      "Resmaple fitting failed 23th times!\n",
      "Resmaple fitting failed 24th times!\n",
      "No valid measurment\n",
      "No valid measurment\n",
      "No valid measurment\n",
      "No valid measurment\n",
      "No valid measurment\n",
      "No valid measurment\n",
      "No valid measurment\n",
      "No valid measurment\n",
      "No valid measurment\n"
     ]
    },
    {
     "name": "stderr",
     "output_type": "stream",
     "text": [
      "/Users/hang/.local/miniconda3/envs/astro/lib/python3.7/site-packages/ipykernel_launcher.py:128: RuntimeWarning: invalid value encountered in greater\n"
     ]
    },
    {
     "name": "stdout",
     "output_type": "stream",
     "text": [
      "No valid measurment\n",
      "No valid measurment\n",
      "No valid measurment\n",
      "No valid measurment\n",
      "No valid measurment\n",
      "No valid measurment\n",
      "excess: 11 undetect: 39\n",
      "save into file data/R_fsb-(100)-2019-06-30.dat\n"
     ]
    }
   ],
   "source": [
    "# Statistics\n",
    "# History:\n",
    "#    2019-01-07: released, just copy single test file, change if True -> for loop\n",
    "#                and save the fitted data into files\n",
    "#    2019-02-01: update the initial value and boundary for n (0.5, 10)\n",
    "#    2019-02-15: change the upper-limit error to 0.1, just for plot purpose\n",
    "\n",
    "# global value\n",
    "import numpy as np\n",
    "from scipy import optimize, signal\n",
    "from matplotlib import pyplot as plt\n",
    "from ppxf import capfit\n",
    "import matplotlib.backends.backend_pdf as mpdf\n",
    "\n",
    "def psf_func(r, amplitude=0, mean=0, stddev=0):\n",
    "    return amplitude * np.exp(-(r-mean)**2/(2*stddev**2))\n",
    "\n",
    "def psf_kernel(fwhm, interv=1, data_points=50):\n",
    "    edge = data_points/(2*interv)\n",
    "    r = np.arange(-edge, edge+interv, interv)\n",
    "    sigma = fwhm/2.35482\n",
    "    return np.exp(-r**2/(2*sigma**2))\n",
    "\n",
    "def fmodel_conv(x, r, basemodel, psf_fwhm=None, points=50, scale_factor=1.5):\n",
    "    # used for convolution\n",
    "    r_interp = np.linspace(r.min(), 1.5*r.max(), points)\n",
    "    flux = basemodel(x, r_interp)\n",
    "    psf = psf_kernel(psf_fwhm, r_interp[1]-r_interp[0])\n",
    "    flux_sym = np.array([flux[::-1], flux]).flatten()\n",
    "    flux_conv = signal.fftconvolve(flux_sym, psf, mode='same')/np.sum(psf)\n",
    "    return np.interp(r, r_interp, flux_conv[len(flux_sym)//2:])\n",
    "\n",
    "\n",
    "plot = True\n",
    "save = True\n",
    "SB = 100\n",
    "sample_times = 100\n",
    "quiet = True\n",
    "\n",
    "excess_num = 0\n",
    "undetect_num = 0\n",
    "\n",
    "targets = Table.read('data/AGNs-2019-04-26.dat', format='ascii')\n",
    "\n",
    "# last_run: 54\n",
    "# plateifu: 8946-3701\n",
    "#base = 10\n",
    "targets = targets[:]\n",
    "\n",
    "if plot: #plot into file\n",
    "    pdf = mpdf.PdfPages('results/checkfit-({})-{}.pdf'.format(SB, today))\n",
    "\n",
    "if save: #save fitting results into file\n",
    "    fsb_file = open('data/R_fsb-({})-{}.dat'.format(SB, today), 'w')\n",
    "    fsb_file.write(\"{} {} {} {} {} {} {} {} {} {} {}\\n\".format(\n",
    "        'plateifu', 'logR_fsb1', 'logR_fsb1_err', 'logR_fsb2', 'logR_fsb2_err', \\\n",
    "        'logR_fsb2_orig', 'logR_fsb2_orig_err', 'is_limit', 'agn_fraction', 'agn_pixels', \\\n",
    "        'excess'))\n",
    "    \n",
    "for idx, plateifu in enumerate(targets['plateifu']):\n",
    "    eps = 1e-8 # error value, or value used for handling zero\n",
    "    if not quiet:\n",
    "        print(plateifu)\n",
    "    m = Maps(plateifu)\n",
    "    psf = m.psf\n",
    "    z = m.z\n",
    "    sb_corr = (1+z)**4\n",
    "    agn, cp, sf, *others = m.bptregion()\n",
    "    agn_fraction = np.sum(agn) / np.sum(agn | cp | sf)\n",
    "    agn_pixels = np.sum(agn)\n",
    "    with fits.open('data/Ellipse_Fitting-2019-05-16.fits') as f:\n",
    "        try:\n",
    "            data = f[plateifu].data\n",
    "            header = f[plateifu].header\n",
    "        except:\n",
    "            fsb_file.write(\"{} {} {} {} {} {} {} {} {} {} {}\\n\".format(plateifu, 0, 0, 0, 0, 0, 0, 0, 0, 0, 0))\n",
    "            continue\n",
    "        \n",
    "        r = data['sma']\n",
    "        I = data['intens'] * sb_corr * 4\n",
    "        I_err = data['intens_err'] * sb_corr * 4\n",
    "        logI = np.log(I)\n",
    "        logI_err = I_err/I + eps\n",
    "        \n",
    "        # check excess or undetect by given SB\n",
    "        if I[-1] > SB:\n",
    "            excess = 1\n",
    "            excess_num += 1\n",
    "        else:\n",
    "            excess = 0\n",
    "        undetect = False\n",
    "        if I[0] < SB:\n",
    "            undetect = True\n",
    "            undetect_num += 1\n",
    "            \n",
    "    # define the model\n",
    "    baseModel = lambda x, r: np.exp(x[0] - x[1] * r**(1/x[2]))\n",
    "    \n",
    "    # initial value and bounds\n",
    "    x0 = (logI[1], 1, 0.5)\n",
    "    bounds=((0, np.inf), (0.01, 10), (0.5, 10))\n",
    "    \n",
    "    #********* fit without de-convlolution *************#\n",
    "    # used the logscale of y, to optimize the fitting\n",
    "    cost_fun1 = lambda x, r, logy, logy_err: \\\n",
    "                np.sum((np.log(baseModel(x, r)) - logy)**2/(logy_err)**2)\n",
    "   \n",
    "    res_lsq1 = optimize.minimize(cost_fun1, x0,\n",
    "                                 args=(r, logI, logI_err), \n",
    "                                 method='L-BFGS-B', options={'disp':False},\n",
    "                                 jac='2-point', bounds=bounds)\n",
    "    \n",
    "    #*********** fit with de-convolution ****************#\n",
    "    cost_fun2 = lambda x, r, logy, logy_err, basemodel, psf_fwhm: \\\n",
    "                np.sum((np.log(fmodel_conv(x, r, basemodel, psf_fwhm)) - logy)**2/logy_err**2)\n",
    "    res_lsq2 = optimize.minimize(cost_fun2, x0,\n",
    "                                 args=(r, logI, logI_err, baseModel, psf), \n",
    "                                 method='L-BFGS-B', options={'disp':False},\n",
    "                                 jac='2-point', bounds=bounds)\n",
    "    \n",
    "    if save: # save fitted results into file\n",
    "        r_extend = np.linspace(r.min(), 5*r.max(), 1000) # for smooth plot\n",
    "        gg_fit1 = baseModel(res_lsq1.x, r_extend)\n",
    "        gg_fit2 = fmodel_conv(res_lsq2.x, r_extend, baseModel, psf)\n",
    "        gg_fit2_orig = baseModel(res_lsq2.x, r_extend)\n",
    "        \n",
    "        try:\n",
    "            R_fsb1 = np.max(r_extend[gg_fit1 > SB])\n",
    "            R_fsb2 = np.max(r_extend[gg_fit2 > SB])\n",
    "            R_fsb2_orig = np.max(r_extend[gg_fit2_orig > SB])\n",
    "            has_size = True\n",
    "        except:\n",
    "            print('No valid measurment')\n",
    "            R_fsb1, R_fsb2, R_fsb2_orig = 1e-6, 1e-6, 1e-6\n",
    "            has_size = False\n",
    "        logR_fsb1 = np.log10(R_fsb1 * m.arcsec2kpc.value*1000)\n",
    "        logR_fsb1_err = .5/R_fsb1/np.log(10)\n",
    "        logR_fsb2 = np.log10(R_fsb2 * m.arcsec2kpc.value*1000)\n",
    "        logR_fsb2_err = .5/R_fsb2/np.log(10)\n",
    "        logR_fsb2_orig = np.log10(R_fsb2_orig * m.arcsec2kpc.value*1000)\n",
    "        logR_fsb2_orig_err = .5/R_fsb2_orig/np.log(10)\n",
    "        \n",
    "        if ((np.abs(res_lsq2.x[1] - 10) < 1e-8) or (np.abs(res_lsq2.x[2] - 10) < 1e-8)\n",
    "            or (np.abs(res_lsq2.x[2] - 0.5) < 1e-8)):\n",
    "            is_limit = 1\n",
    "            if not quiet:\n",
    "                print('is upper limit!')\n",
    "            logR_fsb2_err = .1\n",
    "            logR_fsb2_orig_err = .1\n",
    "        else:\n",
    "            is_limit = 0\n",
    "        \n",
    "            \n",
    "        if not is_limit and has_size: # resample to get the fitting error\n",
    "            R_list = []\n",
    "            R_orig_list = []\n",
    "            r_extend = np.linspace(r.min(), 5 * r.max(), 1000)\n",
    "            failed_times = 0\n",
    "            for i in range(sample_times):\n",
    "                logI = np.log(I + I_err*np.random.randn(len(I)))\n",
    "                logI_err = I_err/I + eps\n",
    "                try:\n",
    "                    res_lsq2 = optimize.minimize(cost_fun2, x0,\n",
    "                                                 args=(r, logI, logI_err, baseModel, psf), \n",
    "                                                 method='L-BFGS-B', options={'disp':False},\n",
    "                                                 jac='2-point', bounds=bounds)\n",
    "                    gg_fit2 = fmodel_conv(res_lsq2.x, r_extend, baseModel, psf)\n",
    "                    gg_fit2_orig = baseModel(res_lsq2.x, r_extend)\n",
    "                    #print(\"gg_fit2\", gg_fit2)\n",
    "                    R_fsb2 = np.max(r_extend[gg_fit2 > SB])\n",
    "                    logR_fsb2 = np.log10(R_fsb2 * m.arcsec2kpc.value*1000)\n",
    "                    R_fsb2_orig = np.max(r_extend[gg_fit2_orig > SB])\n",
    "                    logR_fsb2_orig = np.log10(R_fsb2_orig * m.arcsec2kpc.value*1000)\n",
    "                    \n",
    "                except:\n",
    "                    print(\"Resmaple fitting failed {}th times!\".format(failed_times+1))\n",
    "                    failed_times += 1\n",
    "                    continue\n",
    "                R_list.append(logR_fsb2)\n",
    "                R_orig_list.append(logR_fsb2_orig)\n",
    "\n",
    "                \n",
    "            logR_fsb2 = np.mean(R_list)\n",
    "            logR_fsb2_err += np.std(R_list)\n",
    "            logR_fsb2_orig = np.mean(R_orig_list)\n",
    "            logR_fsb2_orig_err += np.std(R_orig_list)\n",
    "        if not quiet:    \n",
    "            print('{} {:.2f} {:.2f} {:.2f} {:.2f} {} {}'.format(idx+1, logR_fsb2, logR_fsb2_err, \n",
    "                   logR_fsb2_orig, logR_fsb2_orig_err, is_limit, excess))\n",
    "        fsb_file.write(\"{} {} {} {} {} {} {} {} {} {} {}\\n\".format(\n",
    "            plateifu, logR_fsb1, logR_fsb1_err, logR_fsb2, logR_fsb2_err, \\\n",
    "            logR_fsb2_orig, logR_fsb2_orig_err, is_limit, agn_fraction, agn_pixels, excess))\n",
    "    \n",
    "    if plot:\n",
    "        # generate data for plot \n",
    "        r_extend = np.linspace(r.min(), 2 * r.max(), 100) # for smooth plot\n",
    "        gauss_psf = psf_func(r_extend, amplitude=I.max(), mean=0, stddev=psf/2.35482)\n",
    "\n",
    "        fig, ax_list = plt.subplots(nrows=1, ncols=2, figsize=(10, 4))\n",
    "\n",
    "        # show the results of without de-convolution\n",
    "        gg_fit1 = baseModel(res_lsq1.x, r_extend)\n",
    "        ax = ax_list[0]\n",
    "        ax.set_title('without de-convolution')\n",
    "        ax.semilogy(r, I, 'ko')\n",
    "        ax.errorbar(r, I, yerr=I_err, marker='None', linestyle='None', color='k')\n",
    "        ax.plot(r_extend, gauss_psf, 'k--', label='PSF')\n",
    "        ax.plot(r_extend, gg_fit1, label='single')\n",
    "        ax.axhline(y=SB, linestyle='-.', color='r')\n",
    "        ax.legend()\n",
    "        ax.set_xlim(0, 1.2*r.max())\n",
    "        ax.set_ylim(0.8*I.min(), 2*I.max())\n",
    "\n",
    "        # show the results after convolution\n",
    "        gg_fit2 = fmodel_conv(res_lsq2.x, r_extend, baseModel, psf)\n",
    "        gg_fit2_orig = baseModel(res_lsq2.x, r_extend)\n",
    "        ax = ax_list[1]\n",
    "        ax.set_title('with de-convolution')\n",
    "        ax.semilogy(r, I, 'ko')\n",
    "        ax.plot(r_extend, gauss_psf, 'k--', label='PSF')\n",
    "        ax.errorbar(r, I, yerr=I_err, marker='None', linestyle='None', color='k')\n",
    "        ax.plot(r_extend, gg_fit2, label='after')\n",
    "        ax.plot(r_extend, gg_fit2_orig, label='before')\n",
    "        ax.set_xlim(0, 1.2*r.max())\n",
    "        ax.set_ylim(0.8*I.min(), 2*I.max())\n",
    "        ax.axhline(y=SB, linestyle='-.', color='r')\n",
    "        ax.legend()\n",
    "        plt.suptitle(\"{}: {}, agn_fraction: {:.2f}, agn_pixels:{}\".format(idx, plateifu, \n",
    "                                                                          agn_fraction, agn_pixels))\n",
    "\n",
    "        pdf.savefig(fig)\n",
    "        plt.close(fig)\n",
    "\n",
    "print(\"excess:\", excess_num, \"undetect:\", undetect_num)\n",
    "if plot:        \n",
    "    pdf.close()\n",
    "    %matplotlib inline\n",
    "if save:\n",
    "    print(\"save into file {}\".format(fsb_file.name))\n",
    "    fsb_file.close()"
   ]
  },
  {
   "cell_type": "markdown",
   "metadata": {},
   "source": [
    "## Demo Different PSF Effects"
   ]
  },
  {
   "cell_type": "code",
   "execution_count": 11,
   "metadata": {
    "ExecuteTime": {
     "end_time": "2019-06-27T03:12:51.628885Z",
     "start_time": "2019-06-27T03:12:22.422656Z"
    }
   },
   "outputs": [
    {
     "name": "stdout",
     "output_type": "stream",
     "text": [
      "====================================================\n",
      "plateifu: 7991-6104\n",
      "The difference between origin and observe: 0.46341463414634143\n",
      "x[valid].max() 4.4789759999999985\n",
      "====================================================\n",
      "plateifu: 9499-6104\n",
      "The difference between origin and observe: 0.19512195121951217\n",
      "x[valid].max() 11.145125560319995\n",
      "====================================================\n",
      "plateifu: 8720-1901\n",
      "The difference between origin and observe: 0.06521739130434796\n",
      "x[valid].max() 6.449725439999997\n"
     ]
    },
    {
     "data": {
      "image/png": "[encoded data removed]",
      "text/plain": [
       "<Figure size 576x288 with 23 Axes>"
      ]
     },
     "metadata": {},
     "output_type": "display_data"
    },
    {
     "name": "stdout",
     "output_type": "stream",
     "text": [
      "Out of time!\n"
     ]
    }
   ],
   "source": [
    "# demo, show the fitting results, used in writing paper\n",
    "# History:\n",
    "#    2018-08-03: first edit\n",
    "#    2018-10-22: update for ppt and paper\n",
    "#    2019-01-14: update for new data\n",
    "import warnings\n",
    "warnings.filterwarnings(\"ignore\") # default or ignore\n",
    "import matplotlib.backends.backend_pdf as mpdf\n",
    "from astropy.modeling.models import Gaussian1D\n",
    "from astropy.io import fits\n",
    "from scipy import optimize\n",
    "import scipy as sp\n",
    "from matplotlib import pyplot as plt\n",
    "from ppxf import capfit\n",
    "import matplotlib.backends.backend_pdf as mpdf\n",
    "from mangatools.fitmaps import FitMaps\n",
    "\n",
    "\n",
    "def psf_func(r, amplitude=0, mean=0, stddev=0):\n",
    "    return amplitude * np.exp(-(r-mean)**2/(2*stddev**2))\n",
    "\n",
    "def psf_kernel(fwhm, interv=1, data_points=50):\n",
    "    edge = data_points/(2*interv)\n",
    "    r = np.arange(-edge, edge+interv, interv)\n",
    "    sigma = fwhm/2.35482\n",
    "    return np.exp(-r**2/(2*sigma**2))\n",
    "\n",
    "def fmodel_conv(x, r, basemodel, psf_fwhm=None, points=50, scale_factor=1.5):\n",
    "    # used for convolution\n",
    "    r_interp = np.linspace(r.min(), 1.5*r.max(), points)\n",
    "    flux = basemodel(x, r_interp)\n",
    "    psf = psf_kernel(psf_fwhm, r_interp[1]-r_interp[0])\n",
    "    flux_sym = np.array([flux[::-1], flux]).flatten()\n",
    "    flux_conv = sp.signal.fftconvolve(flux_sym, psf, mode='same')/np.sum(psf)\n",
    "    return np.interp(r, r_interp, flux_conv[len(flux_sym)//2:])\n",
    "\n",
    "fm_dir = '/Volumes/Lacie2/fitmaps/fitmap/'\n",
    "fm_binned_dir = '/Volumes/Lacie2/fitmaps/fitmap2/'\n",
    "\n",
    "#targets = ['8241-9102', '8464-6101', '8720-1901'] 9499-12703\n",
    "targets = ['7991-6104', '9499-6104', '8720-1901']\n",
    "\n",
    "pdf = mpdf.PdfPages('results/checkfitting_example-{}.pdf'.format(today))\n",
    "SB = 10\n",
    "err_list = []\n",
    "fs = 4\n",
    "\n",
    "fig = plt.figure(figsize=(8, 4))\n",
    "ax0 = fig.subplots(1, 5)\n",
    "\n",
    "for i in range(5):\n",
    "    ax0[i].spines['top'].set_color('none')\n",
    "    ax0[i].spines['bottom'].set_color('none')\n",
    "    ax0[i].spines['left'].set_color('none')\n",
    "    ax0[i].spines['right'].set_color('none')\n",
    "    ax0[i].tick_params(axis='both', labelcolor='w', top='off', bottom='off', left='off', right='off', labelsize=2)\n",
    "\n",
    "ax = fig.subplots(3, 5)\n",
    "plt.subplots_adjust(left=0.05, right=0.95, top=0.9, bottom=0.1, hspace=0.12, wspace=0.45)\n",
    "\n",
    "if True:\n",
    "    for i in range(len(targets)):\n",
    "        plateifu = targets[i]\n",
    "        print(\"====================================================\")\n",
    "        print(\"plateifu: {}\".format(plateifu))\n",
    "        m = Maps(plateifu)\n",
    "        psf = m.psf\n",
    "        fm = FitMaps(plateifu, fitmaps_dir=fm_dir, fitmaps_binned_dir=fm_binned_dir)\n",
    "        sb_corr = (1+m.z)**4\n",
    "        \n",
    "        with fits.open('data/Ellipse_Fitting-2019-05-16.fits') as f:\n",
    "            data = f[plateifu].data\n",
    "            header = f[plateifu].header\n",
    "            # ignore the first point\n",
    "            r = data['sma']\n",
    "            I = data['intens'] * 4 * sb_corr\n",
    "            I_err = data['intens_err'] * 4 * sb_corr\n",
    "            logI = np.log(I)\n",
    "            logI_err = I_err/I\n",
    "\n",
    "        # define the model\n",
    "        baseModel = lambda x, r: np.exp(x[0] - x[1] * r**(1/x[2]))\n",
    "\n",
    "        # initial value and bounds\n",
    "        x0 = (logI[1], 1, 0.5)\n",
    "        bounds=((0, np.inf), (0.01, 10), (0.5, 10))\n",
    "\n",
    "        #*********** fit with de-convolution ****************#\n",
    "        cost_fun2 = lambda x, r, logy, logy_err, basemodel, psf_fwhm: \\\n",
    "                    np.sum((np.log(fmodel_conv(x, r, basemodel, psf_fwhm)) - logy)**2/logy_err**2)\n",
    "        res_lsq2 = optimize.minimize(cost_fun2, x0,\n",
    "                                     args=(r, logI, logI_err, baseModel, psf), \n",
    "                                     method='L-BFGS-B', options={'disp':False},\n",
    "                                     jac='2-point', bounds=bounds)\n",
    "        #print('sol:', res_lsq2.x)\n",
    "        if True: # save fitted results into file\n",
    "            r_extend = np.linspace(r.min(), 2*r.max(), 100)\n",
    "            #gg_fit1 = baseModel(res_lsq1.x, r_extend)\n",
    "            gg_fit2 = fmodel_conv(res_lsq2.x, r_extend, baseModel, psf)\n",
    "            gg_fit2_orig = baseModel(res_lsq2.x, r_extend)\n",
    "            #R_fsb1 = np.max(r_extend[gg_fit1 > SB])\n",
    "            R_fsb2 = np.max(r_extend[gg_fit2 > SB])\n",
    "            R_fsb2_orig = np.max(r_extend[gg_fit2_orig > SB])\n",
    "            print('The difference between origin and observe: {}'.format((R_fsb2-R_fsb2_orig)/R_fsb2))\n",
    "\n",
    "        if True: # plot to files\n",
    "            #m.image(showImage=False, mini=True, ax=ax[i, 0], fs=fs)\n",
    "            m.image_quary(ax=ax[i, 0], scale=0.06, width=640, height=640, show_bundle=True, lw=0.5, opt='', fs=fs+2)\n",
    "            m.bpt2d(showImage=False, mini=True, ax=ax[i, 1], fs=fs, show_psf=True, show_bundle=True)\n",
    "            O3_corr, O3_corr_err = fm.O3map()\n",
    "            isolist = fitEllipse(O3_corr, ax=ax[i, 2], n=3, mini=True, showContour=False, fs=fs, \n",
    "                                 quiet=1, plot=True)\n",
    "            m.bundle_edge(ax[i, 2])\n",
    "            r_extend = np.linspace(r.min(), 1.2*r.max(), 50) # for smooth plot\n",
    "            gauss_psf = psf_func(r_extend, amplitude=I.max(), mean=0, stddev=psf/2.35482)\n",
    "            gg_fit2 = fmodel_conv(res_lsq2.x, r_extend, baseModel, psf)\n",
    "            gg_fit2_orig = baseModel(res_lsq2.x, r_extend)\n",
    "            if 1:\n",
    "                # the components that fit with convolution\n",
    "                ax[i,3].tick_params(axis='both', which='major', labelsize=fs)\n",
    "                ax[i,3].tick_params(axis='both', which='minor', labelsize=fs-1)\n",
    "                ax[i,3].semilogy(r, I, 'ko', label='data', ms=3)\n",
    "                ax[i,3].errorbar(r, I, yerr=I_err, marker='None', linestyle='None',\n",
    "                                 color='k')\n",
    "                ax[i,3].plot(r_extend, gauss_psf, 'k--', label='PSF', lw=1)\n",
    "                ax[i,3].plot(r_extend, gg_fit2, label='fitting', lw=1)\n",
    "                ax[i, 3].axhline(y=SB, linestyle='-.', color='r')\n",
    "                ax[i,3].legend(loc='upper right', fontsize=fs+2)\n",
    "                #ax[i,3].set_ylabel(r'flux/(10$^{-17}$erg/s)', fontsize=fs+2)\n",
    "                ax[i,3].set_ylim(0.8 * I.min(), 2*I.max())\n",
    "            if 1:\n",
    "                # check the origin and the after convolution\n",
    "                #ax[i,5].set_title('with convolution', fontsize=fs)\n",
    "                ax[i,4].tick_params(axis='both', which='major', labelsize=fs)\n",
    "                ax[i,4].tick_params(axis='both', which='minor', labelsize=fs-1)\n",
    "                ax[i,4].semilogy(r, I, 'ko', ms=3)\n",
    "                ax[i,4].errorbar(r, I, yerr=I_err, marker='None', linestyle='None', color='k')\n",
    "                ax[i,4].plot(r_extend, gauss_psf, 'k--', label=None, lw=1)\n",
    "                ax[i,4].plot(r_extend, gg_fit2, label='observed', lw=1)\n",
    "                ax[i,4].plot(r_extend, gg_fit2_orig, label='intrinsic', lw=1)\n",
    "                #ax[i,5].set_ylim(y.min(), y_fit.max())\n",
    "                ax[i,4].axhline(y=SB, linestyle='-.', color='r')\n",
    "                ax[i,4].legend(loc='upper right', fontsize=fs+2)\n",
    "                #plt.suptitle(\"{}: {}\".format(i, plateifu))\n",
    "                #ax[i,3].set_ylim(0.8 * I.min(), 2*I.max())\n",
    "    fs = fs+4\n",
    "    ax[0, 0].set_title('SDSS image', fontsize=fs)\n",
    "    ax[0, 1].set_title('BPT', fontsize=fs)\n",
    "    ax[0, 2].set_title('[OIII] map', fontsize=fs)\n",
    "    ax[0, 3].set_title('1th fitting', fontsize=fs)\n",
    "    ax[0, 4].set_title('2th fitting', fontsize=fs)\n",
    "    ax[2, 1].set_xlabel('arcsec', fontsize=fs)\n",
    "    ax[2, 2].set_xlabel('arcsec', fontsize=fs)\n",
    "    ax[2, 3].set_xlabel('arcsec', fontsize=fs)\n",
    "    ax[2, 4].set_xlabel('arcsec', fontsize=fs)\n",
    "    ax[0, 3].set_ylim(2, 5*I.max())\n",
    "    ax[1, 3].set_ylim(2, 5*I.max())\n",
    "    ax[2, 3].set_ylim(2, 5*I.max())\n",
    "    ax[0, 4].set_ylim(2, 5*I.max())\n",
    "    ax[1, 4].set_ylim(2, 5*I.max())\n",
    "    ax[2, 4].set_ylim(2, 5*I.max())\n",
    "    \n",
    "    ax0[1].set_ylabel('arcsec', fontsize=fs)\n",
    "    ax0[2].set_ylabel('arcsec', fontsize=fs)\n",
    "    ax0[3].set_ylabel(r'surface brightness/${\\rm (10^{-17}erg\\,s^{-1}cm^{-2}arcsec^{-2})}$', fontsize=fs)\n",
    "    ax0[4].set_ylabel(r'surface brightness/${\\rm (10^{-17}erg\\,s^{-1}cm^{-2}arcsec^{-2})}$', fontsize=fs)\n",
    "    plt.show(fig)\n",
    "    #fig.savefig('./results/psf_demo.pdf', bbox_inches='tight')\n",
    "set_matplotlib_formats('png')"
   ]
  },
  {
   "cell_type": "markdown",
   "metadata": {},
   "source": [
    "## Testing possible effects drived by the Sersic profile"
   ]
  },
  {
   "cell_type": "code",
   "execution_count": 18,
   "metadata": {
    "ExecuteTime": {
     "end_time": "2019-04-30T00:46:32.094332Z",
     "start_time": "2019-04-30T00:46:31.664558Z"
    }
   },
   "outputs": [
    {
     "data": {
      "text/plain": [
       "[<matplotlib.lines.Line2D at 0x1642ace48>]"
      ]
     },
     "execution_count": 18,
     "metadata": {},
     "output_type": "execute_result"
    },
    {
     "data": {
      "image/png": "[encoded data removed]",
      "text/plain": [
       "<Figure size 432x288 with 1 Axes>"
      ]
     },
     "metadata": {
      "needs_background": "light"
     },
     "output_type": "display_data"
    }
   ],
   "source": [
    "r = np.linspace(0, 5000, 100000)\n",
    "I_peak = np.linspace(2.6, 6, 10)\n",
    "\n",
    "k = 0.5\n",
    "n = 1\n",
    "\n",
    "r_list = []\n",
    "L_I = []\n",
    "SB = 10\n",
    "\n",
    "for lnI0 in I_peak:\n",
    "    I_profile = np.exp(lnI0 - k * r**(1/n))\n",
    "    select = I_profile > SB\n",
    "    r_list.append(np.max(r[select]))\n",
    "    L_I.append(np.sum(I_profile[select] * (r[1]-r[0])))\n",
    "    \n",
    "plt.plot(np.log10(L_I), np.log10(r_list), 'ko')"
   ]
  },
  {
   "cell_type": "code",
   "execution_count": 33,
   "metadata": {
    "ExecuteTime": {
     "end_time": "2019-04-28T13:40:28.150869Z",
     "start_time": "2019-04-28T13:40:27.769708Z"
    }
   },
   "outputs": [
    {
     "data": {
      "text/plain": [
       "[<matplotlib.lines.Line2D at 0x154d2ad30>]"
      ]
     },
     "execution_count": 33,
     "metadata": {},
     "output_type": "execute_result"
    },
    {
     "data": {
      "image/png": "[encoded data removed]",
      "text/plain": [
       "<Figure size 432x288 with 1 Axes>"
      ]
     },
     "metadata": {
      "needs_background": "light"
     },
     "output_type": "display_data"
    }
   ],
   "source": [
    "plt.plot(r, np.exp(6 - 1 * r**(1/0.5)))"
   ]
  },
  {
   "cell_type": "code",
   "execution_count": 41,
   "metadata": {
    "ExecuteTime": {
     "end_time": "2019-04-28T13:42:22.462624Z",
     "start_time": "2019-04-28T13:42:22.414908Z"
    }
   },
   "outputs": [
    {
     "data": {
      "text/plain": [
       "array([0.        , 0.1010101 , 0.2020202 , 0.3030303 , 0.4040404 ,\n",
       "       0.50505051, 0.60606061, 0.70707071, 0.80808081, 0.90909091,\n",
       "       1.01010101, 1.11111111, 1.21212121, 1.31313131, 1.41414141,\n",
       "       1.51515152, 1.61616162, 1.71717172, 1.81818182, 1.91919192])"
      ]
     },
     "execution_count": 41,
     "metadata": {},
     "output_type": "execute_result"
    }
   ],
   "source": [
    "r[I_profile > 10]"
   ]
  },
  {
   "cell_type": "code",
   "execution_count": 19,
   "metadata": {
    "ExecuteTime": {
     "end_time": "2019-04-30T00:46:36.523784Z",
     "start_time": "2019-04-30T00:46:36.149496Z"
    }
   },
   "outputs": [
    {
     "name": "stdout",
     "output_type": "stream",
     "text": [
      "[ 0.5275042  -0.57291281]\n"
     ]
    },
    {
     "data": {
      "text/plain": [
       "[<matplotlib.lines.Line2D at 0x1642ef860>]"
      ]
     },
     "execution_count": 19,
     "metadata": {},
     "output_type": "execute_result"
    },
    {
     "data": {
      "image/png": "[encoded data removed]",
      "text/plain": [
       "<Figure size 432x288 with 1 Axes>"
      ]
     },
     "metadata": {
      "needs_background": "light"
     },
     "output_type": "display_data"
    }
   ],
   "source": [
    "from scipy.optimize import curve_fit\n",
    "\n",
    "def func(x, a, b):\n",
    "    return a * x + b\n",
    "\n",
    "popt, pcov = curve_fit(func, np.log10(L_I), np.log10(r_list))\n",
    "print(popt)\n",
    "plt.plot(np.log10(L_I), np.log10(r_list), 'ko')\n",
    "plt.plot(np.log10(L_I), func(np.log10(L_I), *popt))"
   ]
  },
  {
   "cell_type": "code",
   "execution_count": 20,
   "metadata": {
    "ExecuteTime": {
     "end_time": "2019-04-30T00:47:42.833263Z",
     "start_time": "2019-04-30T00:47:41.910418Z"
    }
   },
   "outputs": [
    {
     "data": {
      "image/png": "[encoded data removed]",
      "text/plain": [
       "<Figure size 432x288 with 1 Axes>"
      ]
     },
     "metadata": {
      "needs_background": "light"
     },
     "output_type": "display_data"
    }
   ],
   "source": [
    "def func(x, a, b):\n",
    "    return a * x + b\n",
    "\n",
    "r = np.linspace(0, 5000, 100000)\n",
    "I_peak = np.linspace(2.6, 6, 10)\n",
    "\n",
    "k = 0.5\n",
    "n = 4\n",
    "\n",
    "SB = 10\n",
    "slope_list = []\n",
    "n_list = np.arange(0.5, 5, 0.5)\n",
    "k_list = [0.2, 0.4, 0.6]\n",
    "#for k in k_list:\n",
    "if True:\n",
    "    for n in n_list:\n",
    "        r_list = []\n",
    "        L_I = []\n",
    "        for lnI0 in I_peak:\n",
    "            I_profile = np.exp(lnI0 - k * r**(1/n))\n",
    "            select = I_profile > SB\n",
    "            r_list.append(np.max(r[select]))\n",
    "            L_I.append(np.sum(I_profile[select] * (r[1]-r[0])))\n",
    "        popt, pcov = curve_fit(func, np.log10(L_I), np.log10(r_list))\n",
    "        slope_list.append(popt[0])\n",
    "        #print(popt)\n",
    "    plt.plot(n_list, slope_list, 'ko', linestyle=':')\n",
    "    plt.xlabel('Sersic n')\n",
    "    plt.ylabel('slope')"
   ]
  },
  {
   "cell_type": "markdown",
   "metadata": {},
   "source": [
    " ## Compare IFU and longslit"
   ]
  },
  {
   "cell_type": "markdown",
   "metadata": {},
   "source": [
    "Finding the different between IFU and longslit; two direction are chosed for longslit: the major and minor axis of the galaxy"
   ]
  },
  {
   "cell_type": "code",
   "execution_count": 31,
   "metadata": {
    "ExecuteTime": {
     "end_time": "2019-06-19T08:05:28.282448Z",
     "start_time": "2019-06-19T08:05:28.232611Z"
    }
   },
   "outputs": [],
   "source": [
    "def psf_func(r, amplitude=0, mean=0, stddev=0):\n",
    "    return amplitude * np.exp(-(r-mean)**2/(2*stddev**2))"
   ]
  },
  {
   "cell_type": "code",
   "execution_count": 51,
   "metadata": {
    "ExecuteTime": {
     "end_time": "2019-06-19T08:29:19.760814Z",
     "start_time": "2019-06-19T08:29:16.493753Z"
    }
   },
   "outputs": [
    {
     "name": "stderr",
     "output_type": "stream",
     "text": [
      "/Users/hang/.local/miniconda3/envs/astro/lib/python3.7/site-packages/ipykernel_launcher.py:20: ResourceWarning: unclosed file <_io.FileIO name='/Volumes/Lacie2/fitmaps/fitmap/9893-6102.fits' mode='rb' closefd=True>\n",
      "/Users/hang/.local/miniconda3/envs/astro/lib/python3.7/site-packages/ipykernel_launcher.py:20: ResourceWarning: unclosed file <_io.FileIO name='/Volumes/Lacie2/fitmaps/fitmap2/9893-6102_binned-maps.fits' mode='rb' closefd=True>\n"
     ]
    },
    {
     "name": "stdout",
     "output_type": "stream",
     "text": [
      "init: auto\n",
      "guess initial value by given range\n",
      "Success: [3.0, 0.2, 0.0]\n",
      "[0.11781818 0.35345455 0.58909091 0.82472727 1.06036364 1.296\n",
      " 1.53163636 1.76727273 2.00290909 2.23854545 2.47418182]\n",
      "[0.66684019        nan 0.64400948        nan 0.50069231 0.60838773\n",
      " 0.46902725 0.3017371  0.34704553 0.23005576 0.08203327]\n",
      "[0.                nan 0.0187213         nan 0.0202041  0.03123198\n",
      " 0.10484326 0.00521713 0.1357069  0.14397747 0.08203327]\n",
      "3.2872390060516663 0.09799355589549298\n"
     ]
    },
    {
     "name": "stderr",
     "output_type": "stream",
     "text": [
      "/Users/hang/.local/miniconda3/envs/astro/lib/python3.7/site-packages/numpy/core/fromnumeric.py:3118: RuntimeWarning: Mean of empty slice.\n",
      "  out=out, **kwargs)\n",
      "/Users/hang/.local/miniconda3/envs/astro/lib/python3.7/site-packages/numpy/core/_methods.py:85: RuntimeWarning: invalid value encountered in double_scalars\n",
      "  ret = ret.dtype.type(ret / rcount)\n",
      "/Users/hang/.local/miniconda3/envs/astro/lib/python3.7/site-packages/numpy/core/_methods.py:140: RuntimeWarning: Degrees of freedom <= 0 for slice\n",
      "  keepdims=keepdims)\n",
      "/Users/hang/.local/miniconda3/envs/astro/lib/python3.7/site-packages/numpy/core/_methods.py:110: RuntimeWarning: invalid value encountered in true_divide\n",
      "  arrmean, rcount, out=arrmean, casting='unsafe', subok=False)\n",
      "/Users/hang/.local/miniconda3/envs/astro/lib/python3.7/site-packages/numpy/core/_methods.py:132: RuntimeWarning: invalid value encountered in double_scalars\n",
      "  ret = ret.dtype.type(ret / rcount)\n",
      "/Users/hang/.local/miniconda3/envs/astro/lib/python3.7/site-packages/pyparsing.py:1552: ResourceWarning: unclosed file <_io.FileIO name='/Volumes/Lacie2/fitmaps/fitmap2/9893-6102_binned-maps.fits' mode='rb' closefd=True>\n",
      "  loc,tokens = self.parseImpl( instring, preloc, doActions )\n",
      "/Users/hang/.local/miniconda3/envs/astro/lib/python3.7/site-packages/pyparsing.py:1552: ResourceWarning: unclosed file <_io.FileIO name='/Volumes/Lacie2/fitmaps/fitmap/9893-6102.fits' mode='rb' closefd=True>\n",
      "  loc,tokens = self.parseImpl( instring, preloc, doActions )\n"
     ]
    },
    {
     "data": {
      "image/png": "[encoded data removed]",
      "text/plain": [
       "<Figure size 432x288 with 1 Axes>"
      ]
     },
     "metadata": {
      "needs_background": "light"
     },
     "output_type": "display_data"
    }
   ],
   "source": [
    "from mangatools.fitmaps import FitMaps\n",
    "from scipy import optimize, signal\n",
    "\n",
    "fm_dir = '/Volumes/Lacie2/fitmaps/fitmap/' #set to your local folder\n",
    "fm_binned_dir = '/Volumes/Lacie2/fitmaps/fitmap2/' #set to your local folder\n",
    "\n",
    "set_matplotlib_formats('png')\n",
    "quiet = True\n",
    "SB = 1\n",
    "\n",
    "if True:\n",
    "    plateifu = '9893-6102'\n",
    "    m = Maps(plateifu)\n",
    "    agn, cp, sf, *others = m.bptregion()\n",
    "    r, rr, phi = m.maps['SPX_ELLCOO'].data\n",
    "    z = m.z\n",
    "    sb_corr = (1+z)**4\n",
    "    psf = m.psf\n",
    "\n",
    "    fm = FitMaps(plateifu, fitmaps_dir=fm_dir, fitmaps_binned_dir=fm_binned_dir)\n",
    "    O3_corr, O3_corr_err = fm.O3map()\n",
    "    O3_agn = np.zeros(agn.shape)\n",
    "    O3_agn[agn] = O3_corr[agn]\n",
    "\n",
    "    sample_time = 0\n",
    "    intens_list = []\n",
    "    agn = binary_opening(binary_closing(agn, iterations=2), iterations=2)\n",
    "\n",
    "    O3_agn = np.zeros(agn.shape)\n",
    "    O3_agn[agn] = O3_corr[agn]\n",
    "    init0, isolist = fitEllipse(O3_agn, init='auto')\n",
    "    valid = (isolist.stop_code == 0) #& (isolist.valid == 1)\n",
    "\n",
    "    sma_base = isolist.sma[valid] * 0.5\n",
    "    intens = isolist.intens[valid].tolist()\n",
    "\n",
    "\n",
    "    # for major axis\n",
    "    major_sma, major_intens, major_intens_err = fit_rings(r, O3_agn, np.max(sma_base), \n",
    "                                                          step=np.max(sma_base)/len(sma_base))\n",
    "    # for minor axis\n",
    "    minor_sma = major_sma * m.elpetro_ba\n",
    "    \n",
    "    print(major_sma)\n",
    "    print(major_intens)\n",
    "    print(major_intens_err)\n",
    "\n",
    "    if True: # fitting SB of the major axis\n",
    "        major_valid = ~(np.isnan(major_intens) & np.isnan(major_intens))\n",
    "        r = major_sma[major_valid]\n",
    "        I = major_intens[major_valid] * sb_corr * 4\n",
    "        I_err = major_intens_err[major_valid] * sb_corr * 4\n",
    "        logI = np.log(I)\n",
    "        logI_err = I_err/I + eps\n",
    "        # define the model\n",
    "        baseModel = lambda x, r: np.exp(x[0] - x[1] * r**(1/x[2]))\n",
    "\n",
    "        # initial value and bounds\n",
    "        x0 = (logI[1], 1, 0.5)\n",
    "        bounds=((0, np.inf), (0.01, 10), (0.5, 10))\n",
    "\n",
    "        #********* fit without de-convlolution *************#\n",
    "        # used the logscale of y, to optimize the fitting\n",
    "        cost_fun = lambda x, r, logy, logy_err: \\\n",
    "                    np.sum((np.log(baseModel(x, r)) - logy)**2/(logy_err)**2)\n",
    "\n",
    "        res_lsq = optimize.minimize(cost_fun, x0,\n",
    "                                     args=(r, logI, logI_err), \n",
    "                                     method='L-BFGS-B', options={'disp':False},\n",
    "                                     jac='2-point', bounds=bounds)\n",
    "    if True: # calculate the size\n",
    "        r_extend = np.linspace(r.min(), 2*r.max(), 100) # for smooth plot\n",
    "        gg_fit = baseModel(res_lsq.x, r_extend)\n",
    "        \n",
    "        try:\n",
    "            R_fsb = np.max(r_extend[gg_fit > SB])\n",
    "            has_size = True\n",
    "        except:\n",
    "            print('No valid measurment')\n",
    "            R_fsb = 1e-6\n",
    "            has_size = False\n",
    "        logR_fsb = np.log10(R_fsb * m.arcsec2kpc.value*1000)\n",
    "        logR_fsb_err = .5/R_fsb/np.log(10)\n",
    "        print(logR_fsb, logR_fsb_err)\n",
    "    if True: #plot the results\n",
    "        r_extend = np.linspace(r.min(), 2 * r.max(), 100) # for smooth plot\n",
    "        gauss_psf = psf_func(r_extend, amplitude=I.max(), mean=0, stddev=psf/2.35482)\n",
    "\n",
    "        fig, ax = plt.subplots(nrows=1, ncols=1, figsize=(6, 4))\n",
    "        \n",
    "        ax.plot(sma_base, 4*sb_corr*np.array(intens), 'b^', label='ellipse fitting')\n",
    "        ax.semilogy(r, I, 'ko')\n",
    "        ax.errorbar(r, I, yerr=I_err, marker='None', linestyle='None', color='k')\n",
    "        ax.plot(r*m.elpetro_ba, I, 'r*', label='minor axis')\n",
    "\n",
    "        # show the results of without de-convolution\n",
    "        gg_fit = baseModel(res_lsq.x, r_extend)\n",
    "        ax.set_title('without de-convolution')\n",
    "        ax.plot(r_extend, gauss_psf, 'k--', label='PSF')\n",
    "        ax.plot(r_extend, gg_fit, label='fitting')\n",
    "        #ax.axhline(y=SB, linestyle='-.', color='r')\n",
    "        ax.legend()\n",
    "        #ax.set_xlim(0, 1.2*r.max())\n",
    "        #ax.set_ylim(0.8*I.min(), 2*I.max())\n",
    "\n"
   ]
  },
  {
   "cell_type": "code",
   "execution_count": 47,
   "metadata": {
    "ExecuteTime": {
     "end_time": "2019-06-19T08:18:47.405410Z",
     "start_time": "2019-06-19T08:18:47.352810Z"
    }
   },
   "outputs": [
    {
     "data": {
      "text/plain": [
       "array([False,  True, False,  True, False, False, False, False, False,\n",
       "       False, False])"
      ]
     },
     "execution_count": 47,
     "metadata": {},
     "output_type": "execute_result"
    }
   ],
   "source": [
    "major_valid"
   ]
  },
  {
   "cell_type": "code",
   "execution_count": 73,
   "metadata": {
    "ExecuteTime": {
     "end_time": "2019-06-19T09:04:12.280491Z",
     "start_time": "2019-06-19T08:58:04.389855Z"
    },
    "scrolled": true
   },
   "outputs": [
    {
     "name": "stdout",
     "output_type": "stream",
     "text": [
      "0 7495-1902\n",
      "init: auto\n",
      "guess initial value by given range\n",
      "Success: [3.0, 0.2, 0.0]\n",
      "2.8823319080401926 0.18668383356528997\n",
      "1 7815-6104\n"
     ]
    },
    {
     "name": "stderr",
     "output_type": "stream",
     "text": [
      "/Users/hang/.local/miniconda3/envs/astro/lib/python3.7/site-packages/numpy/core/fromnumeric.py:3118: RuntimeWarning: Mean of empty slice.\n",
      "  out=out, **kwargs)\n",
      "/Users/hang/.local/miniconda3/envs/astro/lib/python3.7/site-packages/numpy/core/_methods.py:85: RuntimeWarning: invalid value encountered in double_scalars\n",
      "  ret = ret.dtype.type(ret / rcount)\n",
      "/Users/hang/.local/miniconda3/envs/astro/lib/python3.7/site-packages/numpy/core/_methods.py:140: RuntimeWarning: Degrees of freedom <= 0 for slice\n",
      "  keepdims=keepdims)\n",
      "/Users/hang/.local/miniconda3/envs/astro/lib/python3.7/site-packages/numpy/core/_methods.py:110: RuntimeWarning: invalid value encountered in true_divide\n",
      "  arrmean, rcount, out=arrmean, casting='unsafe', subok=False)\n",
      "/Users/hang/.local/miniconda3/envs/astro/lib/python3.7/site-packages/numpy/core/_methods.py:132: RuntimeWarning: invalid value encountered in double_scalars\n",
      "  ret = ret.dtype.type(ret / rcount)\n",
      "/Users/hang/.local/miniconda3/envs/astro/lib/python3.7/site-packages/astropy/io/fits/header.py:1171: ResourceWarning: unclosed file <_io.FileIO name='/Volumes/Lacie2/fitmaps/fitmap2/8651-1902_binned-maps.fits' mode='rb' closefd=True>\n",
      "  self._keyword_indices[keyword].append(idx)\n",
      "/Users/hang/.local/miniconda3/envs/astro/lib/python3.7/site-packages/astropy/io/fits/header.py:1171: ResourceWarning: unclosed file <_io.FileIO name='/Volumes/Lacie2/fitmaps/fitmap/8651-1902.fits' mode='rb' closefd=True>\n",
      "  self._keyword_indices[keyword].append(idx)\n",
      "/Users/hang/.local/miniconda3/envs/astro/lib/python3.7/site-packages/ipykernel_launcher.py:32: ResourceWarning: unclosed file <_io.FileIO name='/Volumes/Lacie2/fitmaps/fitmap/7495-1902.fits' mode='rb' closefd=True>\n",
      "/Users/hang/.local/miniconda3/envs/astro/lib/python3.7/site-packages/ipykernel_launcher.py:32: ResourceWarning: unclosed file <_io.FileIO name='/Volumes/Lacie2/fitmaps/fitmap2/7495-1902_binned-maps.fits' mode='rb' closefd=True>\n"
     ]
    },
    {
     "name": "stdout",
     "output_type": "stream",
     "text": [
      "init: auto\n",
      "guess initial value by given range\n",
      "Success: [3.0, 0.2, 0.0]\n",
      "3.565131928222052 0.09720547602581786\n",
      "2 7991-6104\n"
     ]
    },
    {
     "name": "stderr",
     "output_type": "stream",
     "text": [
      "/Users/hang/.local/miniconda3/envs/astro/lib/python3.7/site-packages/ipykernel_launcher.py:32: ResourceWarning: unclosed file <_io.FileIO name='/Volumes/Lacie2/fitmaps/fitmap/7815-6104.fits' mode='rb' closefd=True>\n",
      "/Users/hang/.local/miniconda3/envs/astro/lib/python3.7/site-packages/ipykernel_launcher.py:32: ResourceWarning: unclosed file <_io.FileIO name='/Volumes/Lacie2/fitmaps/fitmap2/7815-6104_binned-maps.fits' mode='rb' closefd=True>\n"
     ]
    },
    {
     "name": "stdout",
     "output_type": "stream",
     "text": [
      "init: auto\n",
      "guess initial value by given range\n",
      "Success: [3.0, 0.2, 1.0]\n",
      "3.0638574934379834 0.10906736768662142\n",
      "3 7991-3702\n"
     ]
    },
    {
     "name": "stderr",
     "output_type": "stream",
     "text": [
      "/Users/hang/.local/miniconda3/envs/astro/lib/python3.7/site-packages/numpy/core/fromnumeric.py:3118: RuntimeWarning: Mean of empty slice.\n",
      "  out=out, **kwargs)\n",
      "/Users/hang/.local/miniconda3/envs/astro/lib/python3.7/site-packages/numpy/core/_methods.py:85: RuntimeWarning: invalid value encountered in double_scalars\n",
      "  ret = ret.dtype.type(ret / rcount)\n",
      "/Users/hang/.local/miniconda3/envs/astro/lib/python3.7/site-packages/numpy/core/_methods.py:140: RuntimeWarning: Degrees of freedom <= 0 for slice\n",
      "  keepdims=keepdims)\n",
      "/Users/hang/.local/miniconda3/envs/astro/lib/python3.7/site-packages/numpy/core/_methods.py:110: RuntimeWarning: invalid value encountered in true_divide\n",
      "  arrmean, rcount, out=arrmean, casting='unsafe', subok=False)\n",
      "/Users/hang/.local/miniconda3/envs/astro/lib/python3.7/site-packages/numpy/core/_methods.py:132: RuntimeWarning: invalid value encountered in double_scalars\n",
      "  ret = ret.dtype.type(ret / rcount)\n",
      "/Users/hang/.local/miniconda3/envs/astro/lib/python3.7/site-packages/ipykernel_launcher.py:32: ResourceWarning: unclosed file <_io.FileIO name='/Volumes/Lacie2/fitmaps/fitmap/7991-6104.fits' mode='rb' closefd=True>\n",
      "/Users/hang/.local/miniconda3/envs/astro/lib/python3.7/site-packages/ipykernel_launcher.py:32: ResourceWarning: unclosed file <_io.FileIO name='/Volumes/Lacie2/fitmaps/fitmap2/7991-6104_binned-maps.fits' mode='rb' closefd=True>\n"
     ]
    },
    {
     "name": "stdout",
     "output_type": "stream",
     "text": [
      "init: auto\n",
      "guess initial value by given range\n",
      "Success: [3.0, 0.2, 0.0]\n",
      "2.993096716445885 0.12125465249694838\n",
      "4 8132-6101\n"
     ]
    },
    {
     "name": "stderr",
     "output_type": "stream",
     "text": [
      "/Users/hang/.local/miniconda3/envs/astro/lib/python3.7/site-packages/ipykernel_launcher.py:32: ResourceWarning: unclosed file <_io.FileIO name='/Volumes/Lacie2/fitmaps/fitmap/7991-3702.fits' mode='rb' closefd=True>\n",
      "/Users/hang/.local/miniconda3/envs/astro/lib/python3.7/site-packages/ipykernel_launcher.py:32: ResourceWarning: unclosed file <_io.FileIO name='/Volumes/Lacie2/fitmaps/fitmap2/7991-3702_binned-maps.fits' mode='rb' closefd=True>\n"
     ]
    },
    {
     "name": "stdout",
     "output_type": "stream",
     "text": [
      "init: auto\n",
      "guess initial value by given range\n",
      "Success: [3.0, 0.2, 0.0]\n",
      "3.679905776502557 0.11828999106670515\n",
      "5 8247-6101\n"
     ]
    },
    {
     "name": "stderr",
     "output_type": "stream",
     "text": [
      "/Users/hang/.local/miniconda3/envs/astro/lib/python3.7/site-packages/numpy/core/fromnumeric.py:3118: RuntimeWarning: Mean of empty slice.\n",
      "  out=out, **kwargs)\n",
      "/Users/hang/.local/miniconda3/envs/astro/lib/python3.7/site-packages/numpy/core/_methods.py:85: RuntimeWarning: invalid value encountered in double_scalars\n",
      "  ret = ret.dtype.type(ret / rcount)\n",
      "/Users/hang/.local/miniconda3/envs/astro/lib/python3.7/site-packages/numpy/core/_methods.py:140: RuntimeWarning: Degrees of freedom <= 0 for slice\n",
      "  keepdims=keepdims)\n",
      "/Users/hang/.local/miniconda3/envs/astro/lib/python3.7/site-packages/numpy/core/_methods.py:110: RuntimeWarning: invalid value encountered in true_divide\n",
      "  arrmean, rcount, out=arrmean, casting='unsafe', subok=False)\n",
      "/Users/hang/.local/miniconda3/envs/astro/lib/python3.7/site-packages/numpy/core/_methods.py:132: RuntimeWarning: invalid value encountered in double_scalars\n",
      "  ret = ret.dtype.type(ret / rcount)\n",
      "/Users/hang/.local/miniconda3/envs/astro/lib/python3.7/site-packages/ipykernel_launcher.py:32: ResourceWarning: unclosed file <_io.FileIO name='/Volumes/Lacie2/fitmaps/fitmap/8132-6101.fits' mode='rb' closefd=True>\n",
      "/Users/hang/.local/miniconda3/envs/astro/lib/python3.7/site-packages/ipykernel_launcher.py:32: ResourceWarning: unclosed file <_io.FileIO name='/Volumes/Lacie2/fitmaps/fitmap2/8132-6101_binned-maps.fits' mode='rb' closefd=True>\n"
     ]
    },
    {
     "name": "stdout",
     "output_type": "stream",
     "text": [
      "init: auto\n",
      "guess initial value by given range\n",
      "Success: [3.0, 0.2, 0.5]\n",
      "2.7985151361446627 0.17446543203929854\n",
      "6 8137-3702\n"
     ]
    },
    {
     "name": "stderr",
     "output_type": "stream",
     "text": [
      "/Users/hang/.local/miniconda3/envs/astro/lib/python3.7/site-packages/numpy/core/fromnumeric.py:3118: RuntimeWarning: Mean of empty slice.\n",
      "  out=out, **kwargs)\n",
      "/Users/hang/.local/miniconda3/envs/astro/lib/python3.7/site-packages/numpy/core/_methods.py:85: RuntimeWarning: invalid value encountered in double_scalars\n",
      "  ret = ret.dtype.type(ret / rcount)\n",
      "/Users/hang/.local/miniconda3/envs/astro/lib/python3.7/site-packages/numpy/core/_methods.py:140: RuntimeWarning: Degrees of freedom <= 0 for slice\n",
      "  keepdims=keepdims)\n",
      "/Users/hang/.local/miniconda3/envs/astro/lib/python3.7/site-packages/numpy/core/_methods.py:110: RuntimeWarning: invalid value encountered in true_divide\n",
      "  arrmean, rcount, out=arrmean, casting='unsafe', subok=False)\n",
      "/Users/hang/.local/miniconda3/envs/astro/lib/python3.7/site-packages/numpy/core/_methods.py:132: RuntimeWarning: invalid value encountered in double_scalars\n",
      "  ret = ret.dtype.type(ret / rcount)\n",
      "/Users/hang/.local/miniconda3/envs/astro/lib/python3.7/site-packages/ipykernel_launcher.py:32: ResourceWarning: unclosed file <_io.FileIO name='/Volumes/Lacie2/fitmaps/fitmap/8247-6101.fits' mode='rb' closefd=True>\n",
      "/Users/hang/.local/miniconda3/envs/astro/lib/python3.7/site-packages/ipykernel_launcher.py:32: ResourceWarning: unclosed file <_io.FileIO name='/Volumes/Lacie2/fitmaps/fitmap2/8247-6101_binned-maps.fits' mode='rb' closefd=True>\n"
     ]
    },
    {
     "name": "stdout",
     "output_type": "stream",
     "text": [
      "init: auto\n",
      "guess initial value by given range\n",
      "Success: [3.0, 0.2, 0.0]\n",
      "3.661598321669966 0.1257773408806134\n",
      "7 8141-1901\n"
     ]
    },
    {
     "name": "stderr",
     "output_type": "stream",
     "text": [
      "/Users/hang/.local/miniconda3/envs/astro/lib/python3.7/site-packages/ipykernel_launcher.py:32: ResourceWarning: unclosed file <_io.FileIO name='/Volumes/Lacie2/fitmaps/fitmap/8137-3702.fits' mode='rb' closefd=True>\n",
      "/Users/hang/.local/miniconda3/envs/astro/lib/python3.7/site-packages/ipykernel_launcher.py:32: ResourceWarning: unclosed file <_io.FileIO name='/Volumes/Lacie2/fitmaps/fitmap2/8137-3702_binned-maps.fits' mode='rb' closefd=True>\n"
     ]
    },
    {
     "name": "stdout",
     "output_type": "stream",
     "text": [
      "init: auto\n",
      "guess initial value by given range\n",
      "Success: [3.0, 0.2, 0.0]\n",
      "3.0941417571164616 0.11266815323953538\n",
      "8 8143-6101\n"
     ]
    },
    {
     "name": "stderr",
     "output_type": "stream",
     "text": [
      "/Users/hang/.local/miniconda3/envs/astro/lib/python3.7/site-packages/ipykernel_launcher.py:32: ResourceWarning: unclosed file <_io.FileIO name='/Volumes/Lacie2/fitmaps/fitmap/8141-1901.fits' mode='rb' closefd=True>\n",
      "/Users/hang/.local/miniconda3/envs/astro/lib/python3.7/site-packages/ipykernel_launcher.py:32: ResourceWarning: unclosed file <_io.FileIO name='/Volumes/Lacie2/fitmaps/fitmap2/8141-1901_binned-maps.fits' mode='rb' closefd=True>\n"
     ]
    },
    {
     "name": "stdout",
     "output_type": "stream",
     "text": [
      "init: auto\n",
      "guess initial value by given range\n"
     ]
    },
    {
     "name": "stderr",
     "output_type": "stream",
     "text": [
      "/Users/hang/.local/miniconda3/envs/astro/lib/python3.7/site-packages/numpy/core/fromnumeric.py:3118: RuntimeWarning: Mean of empty slice.\n",
      "  out=out, **kwargs)\n",
      "/Users/hang/.local/miniconda3/envs/astro/lib/python3.7/site-packages/numpy/core/_methods.py:85: RuntimeWarning: invalid value encountered in double_scalars\n",
      "  ret = ret.dtype.type(ret / rcount)\n",
      "/Users/hang/.local/miniconda3/envs/astro/lib/python3.7/site-packages/numpy/core/_methods.py:140: RuntimeWarning: Degrees of freedom <= 0 for slice\n",
      "  keepdims=keepdims)\n",
      "/Users/hang/.local/miniconda3/envs/astro/lib/python3.7/site-packages/numpy/core/_methods.py:110: RuntimeWarning: invalid value encountered in true_divide\n",
      "  arrmean, rcount, out=arrmean, casting='unsafe', subok=False)\n",
      "/Users/hang/.local/miniconda3/envs/astro/lib/python3.7/site-packages/numpy/core/_methods.py:132: RuntimeWarning: invalid value encountered in double_scalars\n",
      "  ret = ret.dtype.type(ret / rcount)\n"
     ]
    },
    {
     "name": "stdout",
     "output_type": "stream",
     "text": [
      "Success: [3.0, 0.4, 1.0]\n",
      "3.6628431395087824 0.12004807641253462\n",
      "9 8256-12704\n"
     ]
    },
    {
     "name": "stderr",
     "output_type": "stream",
     "text": [
      "/Users/hang/.local/miniconda3/envs/astro/lib/python3.7/site-packages/ipykernel_launcher.py:32: ResourceWarning: unclosed file <_io.FileIO name='/Volumes/Lacie2/fitmaps/fitmap/8143-6101.fits' mode='rb' closefd=True>\n",
      "/Users/hang/.local/miniconda3/envs/astro/lib/python3.7/site-packages/ipykernel_launcher.py:32: ResourceWarning: unclosed file <_io.FileIO name='/Volumes/Lacie2/fitmaps/fitmap2/8143-6101_binned-maps.fits' mode='rb' closefd=True>\n",
      "/Users/hang/Desktop/research/projects/ENLR/code_new/mangatools/fitmaps.py:54: RuntimeWarning: invalid value encountered in true_divide\n",
      "  snr_cut = ((Ha / Ha_err) < 3) | ((Hb / Hb_err) < 3)\n",
      "/Users/hang/Desktop/research/projects/ENLR/code_new/mangatools/fitmaps.py:54: RuntimeWarning: invalid value encountered in less\n",
      "  snr_cut = ((Ha / Ha_err) < 3) | ((Hb / Hb_err) < 3)\n",
      "/Users/hang/Desktop/research/projects/ENLR/code_new/mangatools/fitmaps.py:58: RuntimeWarning: divide by zero encountered in log10\n",
      "  E_BV = 1.97 * np.log10(ratio_obs / ratio_theory)\n"
     ]
    },
    {
     "name": "stdout",
     "output_type": "stream",
     "text": [
      "init: auto\n",
      "guess initial value by given range\n",
      "Success: [3.0, 0.2, 0.0]\n",
      "3.671492140138776 0.11762851044561728\n",
      "10 8249-3704\n"
     ]
    },
    {
     "name": "stderr",
     "output_type": "stream",
     "text": [
      "/Users/hang/.local/miniconda3/envs/astro/lib/python3.7/site-packages/numpy/core/fromnumeric.py:3118: RuntimeWarning: Mean of empty slice.\n",
      "  out=out, **kwargs)\n",
      "/Users/hang/.local/miniconda3/envs/astro/lib/python3.7/site-packages/numpy/core/_methods.py:85: RuntimeWarning: invalid value encountered in double_scalars\n",
      "  ret = ret.dtype.type(ret / rcount)\n",
      "/Users/hang/.local/miniconda3/envs/astro/lib/python3.7/site-packages/numpy/core/_methods.py:140: RuntimeWarning: Degrees of freedom <= 0 for slice\n",
      "  keepdims=keepdims)\n",
      "/Users/hang/.local/miniconda3/envs/astro/lib/python3.7/site-packages/numpy/core/_methods.py:110: RuntimeWarning: invalid value encountered in true_divide\n",
      "  arrmean, rcount, out=arrmean, casting='unsafe', subok=False)\n",
      "/Users/hang/.local/miniconda3/envs/astro/lib/python3.7/site-packages/numpy/core/_methods.py:132: RuntimeWarning: invalid value encountered in double_scalars\n",
      "  ret = ret.dtype.type(ret / rcount)\n",
      "/Users/hang/.local/miniconda3/envs/astro/lib/python3.7/site-packages/ipykernel_launcher.py:32: ResourceWarning: unclosed file <_io.FileIO name='/Volumes/Lacie2/fitmaps/fitmap/8256-12704.fits' mode='rb' closefd=True>\n",
      "/Users/hang/.local/miniconda3/envs/astro/lib/python3.7/site-packages/ipykernel_launcher.py:32: ResourceWarning: unclosed file <_io.FileIO name='/Volumes/Lacie2/fitmaps/fitmap2/8256-12704_binned-maps.fits' mode='rb' closefd=True>\n"
     ]
    },
    {
     "name": "stdout",
     "output_type": "stream",
     "text": [
      "init: auto\n",
      "guess initial value by given range\n",
      "Success: [3.0, 0.2, 0.0]\n",
      "3.029516345160051 0.11231455315503736\n",
      "11 8319-12705\n"
     ]
    },
    {
     "name": "stderr",
     "output_type": "stream",
     "text": [
      "/Users/hang/.local/miniconda3/envs/astro/lib/python3.7/site-packages/ipykernel_launcher.py:32: ResourceWarning: unclosed file <_io.FileIO name='/Volumes/Lacie2/fitmaps/fitmap/8249-3704.fits' mode='rb' closefd=True>\n",
      "/Users/hang/.local/miniconda3/envs/astro/lib/python3.7/site-packages/ipykernel_launcher.py:32: ResourceWarning: unclosed file <_io.FileIO name='/Volumes/Lacie2/fitmaps/fitmap2/8249-3704_binned-maps.fits' mode='rb' closefd=True>\n"
     ]
    },
    {
     "name": "stdout",
     "output_type": "stream",
     "text": [
      "init: auto\n",
      "guess initial value by given range\n",
      "Success: [3.0, 0.2, 1.0]\n",
      "3.2407073327495226 0.15520595519609393\n",
      "12 8341-12704\n"
     ]
    },
    {
     "name": "stderr",
     "output_type": "stream",
     "text": [
      "/Users/hang/.local/miniconda3/envs/astro/lib/python3.7/site-packages/numpy/core/fromnumeric.py:3118: RuntimeWarning: Mean of empty slice.\n",
      "  out=out, **kwargs)\n",
      "/Users/hang/.local/miniconda3/envs/astro/lib/python3.7/site-packages/numpy/core/_methods.py:85: RuntimeWarning: invalid value encountered in double_scalars\n",
      "  ret = ret.dtype.type(ret / rcount)\n",
      "/Users/hang/.local/miniconda3/envs/astro/lib/python3.7/site-packages/numpy/core/_methods.py:140: RuntimeWarning: Degrees of freedom <= 0 for slice\n",
      "  keepdims=keepdims)\n",
      "/Users/hang/.local/miniconda3/envs/astro/lib/python3.7/site-packages/numpy/core/_methods.py:110: RuntimeWarning: invalid value encountered in true_divide\n",
      "  arrmean, rcount, out=arrmean, casting='unsafe', subok=False)\n",
      "/Users/hang/.local/miniconda3/envs/astro/lib/python3.7/site-packages/numpy/core/_methods.py:132: RuntimeWarning: invalid value encountered in double_scalars\n",
      "  ret = ret.dtype.type(ret / rcount)\n",
      "/Users/hang/.local/miniconda3/envs/astro/lib/python3.7/site-packages/ipykernel_launcher.py:32: ResourceWarning: unclosed file <_io.FileIO name='/Volumes/Lacie2/fitmaps/fitmap/8319-12705.fits' mode='rb' closefd=True>\n",
      "/Users/hang/.local/miniconda3/envs/astro/lib/python3.7/site-packages/ipykernel_launcher.py:32: ResourceWarning: unclosed file <_io.FileIO name='/Volumes/Lacie2/fitmaps/fitmap2/8319-12705_binned-maps.fits' mode='rb' closefd=True>\n"
     ]
    },
    {
     "name": "stdout",
     "output_type": "stream",
     "text": [
      "init: auto\n",
      "guess initial value by given range\n",
      "Success: [3.0, 0.2, 0.0]\n",
      "3.100477844615887 0.1078119361477045\n",
      "13 8439-6104\n"
     ]
    },
    {
     "name": "stderr",
     "output_type": "stream",
     "text": [
      "/Users/hang/.local/miniconda3/envs/astro/lib/python3.7/site-packages/numpy/core/fromnumeric.py:3118: RuntimeWarning: Mean of empty slice.\n",
      "  out=out, **kwargs)\n",
      "/Users/hang/.local/miniconda3/envs/astro/lib/python3.7/site-packages/numpy/core/_methods.py:85: RuntimeWarning: invalid value encountered in double_scalars\n",
      "  ret = ret.dtype.type(ret / rcount)\n",
      "/Users/hang/.local/miniconda3/envs/astro/lib/python3.7/site-packages/numpy/core/_methods.py:140: RuntimeWarning: Degrees of freedom <= 0 for slice\n",
      "  keepdims=keepdims)\n",
      "/Users/hang/.local/miniconda3/envs/astro/lib/python3.7/site-packages/numpy/core/_methods.py:110: RuntimeWarning: invalid value encountered in true_divide\n",
      "  arrmean, rcount, out=arrmean, casting='unsafe', subok=False)\n",
      "/Users/hang/.local/miniconda3/envs/astro/lib/python3.7/site-packages/numpy/core/_methods.py:132: RuntimeWarning: invalid value encountered in double_scalars\n",
      "  ret = ret.dtype.type(ret / rcount)\n",
      "/Users/hang/.local/miniconda3/envs/astro/lib/python3.7/site-packages/ipykernel_launcher.py:32: ResourceWarning: unclosed file <_io.FileIO name='/Volumes/Lacie2/fitmaps/fitmap/8341-12704.fits' mode='rb' closefd=True>\n",
      "/Users/hang/.local/miniconda3/envs/astro/lib/python3.7/site-packages/ipykernel_launcher.py:32: ResourceWarning: unclosed file <_io.FileIO name='/Volumes/Lacie2/fitmaps/fitmap2/8341-12704_binned-maps.fits' mode='rb' closefd=True>\n"
     ]
    },
    {
     "name": "stdout",
     "output_type": "stream",
     "text": [
      "init: auto\n",
      "guess initial value by given range\n",
      "Success: [3.0, 0.2, 1.5]\n",
      "3.1405409340181194 0.12232770251904528\n",
      "14 8452-1901\n"
     ]
    },
    {
     "name": "stderr",
     "output_type": "stream",
     "text": [
      "/Users/hang/.local/miniconda3/envs/astro/lib/python3.7/site-packages/numpy/core/fromnumeric.py:3118: RuntimeWarning: Mean of empty slice.\n",
      "  out=out, **kwargs)\n",
      "/Users/hang/.local/miniconda3/envs/astro/lib/python3.7/site-packages/numpy/core/_methods.py:85: RuntimeWarning: invalid value encountered in double_scalars\n",
      "  ret = ret.dtype.type(ret / rcount)\n",
      "/Users/hang/.local/miniconda3/envs/astro/lib/python3.7/site-packages/numpy/core/_methods.py:140: RuntimeWarning: Degrees of freedom <= 0 for slice\n",
      "  keepdims=keepdims)\n",
      "/Users/hang/.local/miniconda3/envs/astro/lib/python3.7/site-packages/numpy/core/_methods.py:110: RuntimeWarning: invalid value encountered in true_divide\n",
      "  arrmean, rcount, out=arrmean, casting='unsafe', subok=False)\n",
      "/Users/hang/.local/miniconda3/envs/astro/lib/python3.7/site-packages/numpy/core/_methods.py:132: RuntimeWarning: invalid value encountered in double_scalars\n",
      "  ret = ret.dtype.type(ret / rcount)\n",
      "/Users/hang/.local/miniconda3/envs/astro/lib/python3.7/site-packages/ipykernel_launcher.py:32: ResourceWarning: unclosed file <_io.FileIO name='/Volumes/Lacie2/fitmaps/fitmap/8439-6104.fits' mode='rb' closefd=True>\n",
      "/Users/hang/.local/miniconda3/envs/astro/lib/python3.7/site-packages/ipykernel_launcher.py:32: ResourceWarning: unclosed file <_io.FileIO name='/Volumes/Lacie2/fitmaps/fitmap2/8439-6104_binned-maps.fits' mode='rb' closefd=True>\n"
     ]
    },
    {
     "name": "stdout",
     "output_type": "stream",
     "text": [
      "init: auto\n",
      "guess initial value by given range\n",
      "Success: [3.0, 0.2, 0.0]\n",
      "2.880626225735897 0.15206854108528184\n",
      "15 8483-12703\n"
     ]
    },
    {
     "name": "stderr",
     "output_type": "stream",
     "text": [
      "/Users/hang/.local/miniconda3/envs/astro/lib/python3.7/site-packages/ipykernel_launcher.py:32: ResourceWarning: unclosed file <_io.FileIO name='/Volumes/Lacie2/fitmaps/fitmap/8452-1901.fits' mode='rb' closefd=True>\n",
      "/Users/hang/.local/miniconda3/envs/astro/lib/python3.7/site-packages/ipykernel_launcher.py:32: ResourceWarning: unclosed file <_io.FileIO name='/Volumes/Lacie2/fitmaps/fitmap2/8452-1901_binned-maps.fits' mode='rb' closefd=True>\n"
     ]
    },
    {
     "name": "stdout",
     "output_type": "stream",
     "text": [
      "init: auto\n",
      "guess initial value by given range\n",
      "Success: [3.0, 0.2, 0.0]\n",
      "3.1229221492905794 0.1951486642539122\n",
      "16 8482-12704\n"
     ]
    },
    {
     "name": "stderr",
     "output_type": "stream",
     "text": [
      "/Users/hang/.local/miniconda3/envs/astro/lib/python3.7/site-packages/numpy/core/fromnumeric.py:3118: RuntimeWarning: Mean of empty slice.\n",
      "  out=out, **kwargs)\n",
      "/Users/hang/.local/miniconda3/envs/astro/lib/python3.7/site-packages/numpy/core/_methods.py:85: RuntimeWarning: invalid value encountered in double_scalars\n",
      "  ret = ret.dtype.type(ret / rcount)\n",
      "/Users/hang/.local/miniconda3/envs/astro/lib/python3.7/site-packages/numpy/core/_methods.py:140: RuntimeWarning: Degrees of freedom <= 0 for slice\n",
      "  keepdims=keepdims)\n",
      "/Users/hang/.local/miniconda3/envs/astro/lib/python3.7/site-packages/numpy/core/_methods.py:110: RuntimeWarning: invalid value encountered in true_divide\n",
      "  arrmean, rcount, out=arrmean, casting='unsafe', subok=False)\n",
      "/Users/hang/.local/miniconda3/envs/astro/lib/python3.7/site-packages/numpy/core/_methods.py:132: RuntimeWarning: invalid value encountered in double_scalars\n",
      "  ret = ret.dtype.type(ret / rcount)\n",
      "/Users/hang/.local/miniconda3/envs/astro/lib/python3.7/site-packages/ipykernel_launcher.py:32: ResourceWarning: unclosed file <_io.FileIO name='/Volumes/Lacie2/fitmaps/fitmap/8483-12703.fits' mode='rb' closefd=True>\n",
      "/Users/hang/.local/miniconda3/envs/astro/lib/python3.7/site-packages/ipykernel_launcher.py:32: ResourceWarning: unclosed file <_io.FileIO name='/Volumes/Lacie2/fitmaps/fitmap2/8483-12703_binned-maps.fits' mode='rb' closefd=True>\n"
     ]
    },
    {
     "name": "stdout",
     "output_type": "stream",
     "text": [
      "init: auto\n",
      "guess initial value by given range\n",
      "Success: [3.0, 0.2, 0.5]\n",
      "3.3024056089414158 0.13355584912707358\n",
      "17 8549-12701\n"
     ]
    },
    {
     "name": "stderr",
     "output_type": "stream",
     "text": [
      "/Users/hang/.local/miniconda3/envs/astro/lib/python3.7/site-packages/numpy/core/fromnumeric.py:3118: RuntimeWarning: Mean of empty slice.\n",
      "  out=out, **kwargs)\n",
      "/Users/hang/.local/miniconda3/envs/astro/lib/python3.7/site-packages/numpy/core/_methods.py:85: RuntimeWarning: invalid value encountered in double_scalars\n",
      "  ret = ret.dtype.type(ret / rcount)\n",
      "/Users/hang/.local/miniconda3/envs/astro/lib/python3.7/site-packages/numpy/core/_methods.py:140: RuntimeWarning: Degrees of freedom <= 0 for slice\n",
      "  keepdims=keepdims)\n",
      "/Users/hang/.local/miniconda3/envs/astro/lib/python3.7/site-packages/numpy/core/_methods.py:110: RuntimeWarning: invalid value encountered in true_divide\n",
      "  arrmean, rcount, out=arrmean, casting='unsafe', subok=False)\n",
      "/Users/hang/.local/miniconda3/envs/astro/lib/python3.7/site-packages/numpy/core/_methods.py:132: RuntimeWarning: invalid value encountered in double_scalars\n",
      "  ret = ret.dtype.type(ret / rcount)\n",
      "/Users/hang/.local/miniconda3/envs/astro/lib/python3.7/site-packages/ipykernel_launcher.py:32: ResourceWarning: unclosed file <_io.FileIO name='/Volumes/Lacie2/fitmaps/fitmap/8482-12704.fits' mode='rb' closefd=True>\n",
      "/Users/hang/.local/miniconda3/envs/astro/lib/python3.7/site-packages/ipykernel_launcher.py:32: ResourceWarning: unclosed file <_io.FileIO name='/Volumes/Lacie2/fitmaps/fitmap2/8482-12704_binned-maps.fits' mode='rb' closefd=True>\n"
     ]
    },
    {
     "name": "stdout",
     "output_type": "stream",
     "text": [
      "init: auto\n",
      "guess initial value by given range\n",
      "Success: [3.0, 0.2, 1.0]\n",
      "3.2149692729314716 0.1144593798411178\n",
      "18 8465-12704\n"
     ]
    },
    {
     "name": "stderr",
     "output_type": "stream",
     "text": [
      "/Users/hang/.local/miniconda3/envs/astro/lib/python3.7/site-packages/ipykernel_launcher.py:32: ResourceWarning: unclosed file <_io.FileIO name='/Volumes/Lacie2/fitmaps/fitmap/8549-12701.fits' mode='rb' closefd=True>\n",
      "/Users/hang/.local/miniconda3/envs/astro/lib/python3.7/site-packages/ipykernel_launcher.py:32: ResourceWarning: unclosed file <_io.FileIO name='/Volumes/Lacie2/fitmaps/fitmap2/8549-12701_binned-maps.fits' mode='rb' closefd=True>\n",
      "/Users/hang/Desktop/research/projects/ENLR/code_new/mangatools/fitmaps.py:54: RuntimeWarning: invalid value encountered in true_divide\n",
      "  snr_cut = ((Ha / Ha_err) < 3) | ((Hb / Hb_err) < 3)\n",
      "/Users/hang/Desktop/research/projects/ENLR/code_new/mangatools/fitmaps.py:54: RuntimeWarning: invalid value encountered in less\n",
      "  snr_cut = ((Ha / Ha_err) < 3) | ((Hb / Hb_err) < 3)\n",
      "/Users/hang/Desktop/research/projects/ENLR/code_new/mangatools/fitmaps.py:58: RuntimeWarning: divide by zero encountered in log10\n",
      "  E_BV = 1.97 * np.log10(ratio_obs / ratio_theory)\n"
     ]
    },
    {
     "name": "stdout",
     "output_type": "stream",
     "text": [
      "init: auto\n",
      "guess initial value by given range\n"
     ]
    },
    {
     "name": "stderr",
     "output_type": "stream",
     "text": [
      "/Users/hang/.local/miniconda3/envs/astro/lib/python3.7/site-packages/numpy/core/fromnumeric.py:3118: RuntimeWarning: Mean of empty slice.\n",
      "  out=out, **kwargs)\n",
      "/Users/hang/.local/miniconda3/envs/astro/lib/python3.7/site-packages/numpy/core/_methods.py:85: RuntimeWarning: invalid value encountered in double_scalars\n",
      "  ret = ret.dtype.type(ret / rcount)\n",
      "/Users/hang/.local/miniconda3/envs/astro/lib/python3.7/site-packages/numpy/core/_methods.py:140: RuntimeWarning: Degrees of freedom <= 0 for slice\n",
      "  keepdims=keepdims)\n",
      "/Users/hang/.local/miniconda3/envs/astro/lib/python3.7/site-packages/numpy/core/_methods.py:110: RuntimeWarning: invalid value encountered in true_divide\n",
      "  arrmean, rcount, out=arrmean, casting='unsafe', subok=False)\n",
      "/Users/hang/.local/miniconda3/envs/astro/lib/python3.7/site-packages/numpy/core/_methods.py:132: RuntimeWarning: invalid value encountered in double_scalars\n",
      "  ret = ret.dtype.type(ret / rcount)\n"
     ]
    },
    {
     "name": "stdout",
     "output_type": "stream",
     "text": [
      "Success: [3.0, 0.2, 0.0]\n",
      "3.2495337667737414 0.13985033007005265\n",
      "19 8552-12701\n"
     ]
    },
    {
     "name": "stderr",
     "output_type": "stream",
     "text": [
      "/Users/hang/.local/miniconda3/envs/astro/lib/python3.7/site-packages/ipykernel_launcher.py:32: ResourceWarning: unclosed file <_io.FileIO name='/Volumes/Lacie2/fitmaps/fitmap/8465-12704.fits' mode='rb' closefd=True>\n",
      "/Users/hang/.local/miniconda3/envs/astro/lib/python3.7/site-packages/ipykernel_launcher.py:32: ResourceWarning: unclosed file <_io.FileIO name='/Volumes/Lacie2/fitmaps/fitmap2/8465-12704_binned-maps.fits' mode='rb' closefd=True>\n"
     ]
    },
    {
     "name": "stdout",
     "output_type": "stream",
     "text": [
      "init: auto\n",
      "guess initial value by given range\n",
      "Success: [3.0, 0.2, 0.0]\n",
      "2.993239294113961 0.12894982408297379\n",
      "20 8552-9102\n"
     ]
    },
    {
     "name": "stderr",
     "output_type": "stream",
     "text": [
      "/Users/hang/.local/miniconda3/envs/astro/lib/python3.7/site-packages/numpy/core/fromnumeric.py:3118: RuntimeWarning: Mean of empty slice.\n",
      "  out=out, **kwargs)\n",
      "/Users/hang/.local/miniconda3/envs/astro/lib/python3.7/site-packages/numpy/core/_methods.py:85: RuntimeWarning: invalid value encountered in double_scalars\n",
      "  ret = ret.dtype.type(ret / rcount)\n",
      "/Users/hang/.local/miniconda3/envs/astro/lib/python3.7/site-packages/numpy/core/_methods.py:140: RuntimeWarning: Degrees of freedom <= 0 for slice\n",
      "  keepdims=keepdims)\n",
      "/Users/hang/.local/miniconda3/envs/astro/lib/python3.7/site-packages/numpy/core/_methods.py:110: RuntimeWarning: invalid value encountered in true_divide\n",
      "  arrmean, rcount, out=arrmean, casting='unsafe', subok=False)\n",
      "/Users/hang/.local/miniconda3/envs/astro/lib/python3.7/site-packages/numpy/core/_methods.py:132: RuntimeWarning: invalid value encountered in double_scalars\n",
      "  ret = ret.dtype.type(ret / rcount)\n",
      "/Users/hang/.local/miniconda3/envs/astro/lib/python3.7/site-packages/ipykernel_launcher.py:32: ResourceWarning: unclosed file <_io.FileIO name='/Volumes/Lacie2/fitmaps/fitmap/8552-12701.fits' mode='rb' closefd=True>\n",
      "/Users/hang/.local/miniconda3/envs/astro/lib/python3.7/site-packages/ipykernel_launcher.py:32: ResourceWarning: unclosed file <_io.FileIO name='/Volumes/Lacie2/fitmaps/fitmap2/8552-12701_binned-maps.fits' mode='rb' closefd=True>\n",
      "/Users/hang/Desktop/research/projects/ENLR/code_new/mangatools/fitmaps.py:54: RuntimeWarning: invalid value encountered in true_divide\n",
      "  snr_cut = ((Ha / Ha_err) < 3) | ((Hb / Hb_err) < 3)\n",
      "/Users/hang/Desktop/research/projects/ENLR/code_new/mangatools/fitmaps.py:54: RuntimeWarning: invalid value encountered in less\n",
      "  snr_cut = ((Ha / Ha_err) < 3) | ((Hb / Hb_err) < 3)\n",
      "/Users/hang/Desktop/research/projects/ENLR/code_new/mangatools/fitmaps.py:58: RuntimeWarning: divide by zero encountered in log10\n",
      "  E_BV = 1.97 * np.log10(ratio_obs / ratio_theory)\n"
     ]
    },
    {
     "name": "stdout",
     "output_type": "stream",
     "text": [
      "init: auto\n",
      "guess initial value by given range\n",
      "Success: [3.0, 0.2, 0.0]\n",
      "3.2135237140638853 0.3276570165250872\n",
      "21 8318-3704\n"
     ]
    },
    {
     "name": "stderr",
     "output_type": "stream",
     "text": [
      "/Users/hang/.local/miniconda3/envs/astro/lib/python3.7/site-packages/numpy/core/fromnumeric.py:3118: RuntimeWarning: Mean of empty slice.\n",
      "  out=out, **kwargs)\n",
      "/Users/hang/.local/miniconda3/envs/astro/lib/python3.7/site-packages/numpy/core/_methods.py:85: RuntimeWarning: invalid value encountered in double_scalars\n",
      "  ret = ret.dtype.type(ret / rcount)\n",
      "/Users/hang/.local/miniconda3/envs/astro/lib/python3.7/site-packages/numpy/core/_methods.py:140: RuntimeWarning: Degrees of freedom <= 0 for slice\n",
      "  keepdims=keepdims)\n",
      "/Users/hang/.local/miniconda3/envs/astro/lib/python3.7/site-packages/numpy/core/_methods.py:110: RuntimeWarning: invalid value encountered in true_divide\n",
      "  arrmean, rcount, out=arrmean, casting='unsafe', subok=False)\n",
      "/Users/hang/.local/miniconda3/envs/astro/lib/python3.7/site-packages/numpy/core/_methods.py:132: RuntimeWarning: invalid value encountered in double_scalars\n",
      "  ret = ret.dtype.type(ret / rcount)\n",
      "/Users/hang/.local/miniconda3/envs/astro/lib/python3.7/site-packages/ipykernel_launcher.py:32: ResourceWarning: unclosed file <_io.FileIO name='/Volumes/Lacie2/fitmaps/fitmap/8552-9102.fits' mode='rb' closefd=True>\n",
      "/Users/hang/.local/miniconda3/envs/astro/lib/python3.7/site-packages/ipykernel_launcher.py:32: ResourceWarning: unclosed file <_io.FileIO name='/Volumes/Lacie2/fitmaps/fitmap2/8552-9102_binned-maps.fits' mode='rb' closefd=True>\n"
     ]
    },
    {
     "name": "stdout",
     "output_type": "stream",
     "text": [
      "init: auto\n",
      "guess initial value by given range\n",
      "Success: [3.0, 0.2, 0.0]\n",
      "2.921371969583369 0.13305997344962156\n",
      "22 8318-6102\n"
     ]
    },
    {
     "name": "stderr",
     "output_type": "stream",
     "text": [
      "/Users/hang/.local/miniconda3/envs/astro/lib/python3.7/site-packages/numpy/core/fromnumeric.py:3118: RuntimeWarning: Mean of empty slice.\n",
      "  out=out, **kwargs)\n",
      "/Users/hang/.local/miniconda3/envs/astro/lib/python3.7/site-packages/numpy/core/_methods.py:85: RuntimeWarning: invalid value encountered in double_scalars\n",
      "  ret = ret.dtype.type(ret / rcount)\n",
      "/Users/hang/.local/miniconda3/envs/astro/lib/python3.7/site-packages/numpy/core/_methods.py:140: RuntimeWarning: Degrees of freedom <= 0 for slice\n",
      "  keepdims=keepdims)\n",
      "/Users/hang/.local/miniconda3/envs/astro/lib/python3.7/site-packages/numpy/core/_methods.py:110: RuntimeWarning: invalid value encountered in true_divide\n",
      "  arrmean, rcount, out=arrmean, casting='unsafe', subok=False)\n",
      "/Users/hang/.local/miniconda3/envs/astro/lib/python3.7/site-packages/numpy/core/_methods.py:132: RuntimeWarning: invalid value encountered in double_scalars\n",
      "  ret = ret.dtype.type(ret / rcount)\n",
      "/Users/hang/.local/miniconda3/envs/astro/lib/python3.7/site-packages/ipykernel_launcher.py:32: ResourceWarning: unclosed file <_io.FileIO name='/Volumes/Lacie2/fitmaps/fitmap/8318-3704.fits' mode='rb' closefd=True>\n",
      "/Users/hang/.local/miniconda3/envs/astro/lib/python3.7/site-packages/ipykernel_launcher.py:32: ResourceWarning: unclosed file <_io.FileIO name='/Volumes/Lacie2/fitmaps/fitmap2/8318-3704_binned-maps.fits' mode='rb' closefd=True>\n"
     ]
    },
    {
     "name": "stdout",
     "output_type": "stream",
     "text": [
      "init: auto\n",
      "guess initial value by given range\n"
     ]
    },
    {
     "name": "stderr",
     "output_type": "stream",
     "text": [
      "/Users/hang/.local/miniconda3/envs/astro/lib/python3.7/site-packages/numpy/core/fromnumeric.py:3118: RuntimeWarning: Mean of empty slice.\n",
      "  out=out, **kwargs)\n",
      "/Users/hang/.local/miniconda3/envs/astro/lib/python3.7/site-packages/numpy/core/_methods.py:85: RuntimeWarning: invalid value encountered in double_scalars\n",
      "  ret = ret.dtype.type(ret / rcount)\n",
      "/Users/hang/.local/miniconda3/envs/astro/lib/python3.7/site-packages/numpy/core/_methods.py:140: RuntimeWarning: Degrees of freedom <= 0 for slice\n",
      "  keepdims=keepdims)\n",
      "/Users/hang/.local/miniconda3/envs/astro/lib/python3.7/site-packages/numpy/core/_methods.py:110: RuntimeWarning: invalid value encountered in true_divide\n",
      "  arrmean, rcount, out=arrmean, casting='unsafe', subok=False)\n",
      "/Users/hang/.local/miniconda3/envs/astro/lib/python3.7/site-packages/numpy/core/_methods.py:132: RuntimeWarning: invalid value encountered in double_scalars\n",
      "  ret = ret.dtype.type(ret / rcount)\n"
     ]
    },
    {
     "name": "stdout",
     "output_type": "stream",
     "text": [
      "Success: [3.0, 0.2, 0.0]\n",
      "3.658302517889286 0.12402230821716298\n",
      "23 8464-6101\n"
     ]
    },
    {
     "name": "stderr",
     "output_type": "stream",
     "text": [
      "/Users/hang/.local/miniconda3/envs/astro/lib/python3.7/site-packages/ipykernel_launcher.py:32: ResourceWarning: unclosed file <_io.FileIO name='/Volumes/Lacie2/fitmaps/fitmap/8318-6102.fits' mode='rb' closefd=True>\n",
      "/Users/hang/.local/miniconda3/envs/astro/lib/python3.7/site-packages/ipykernel_launcher.py:32: ResourceWarning: unclosed file <_io.FileIO name='/Volumes/Lacie2/fitmaps/fitmap2/8318-6102_binned-maps.fits' mode='rb' closefd=True>\n",
      "/Users/hang/Desktop/research/projects/ENLR/code_new/mangatools/fitmaps.py:54: RuntimeWarning: invalid value encountered in true_divide\n",
      "  snr_cut = ((Ha / Ha_err) < 3) | ((Hb / Hb_err) < 3)\n",
      "/Users/hang/Desktop/research/projects/ENLR/code_new/mangatools/fitmaps.py:54: RuntimeWarning: invalid value encountered in less\n",
      "  snr_cut = ((Ha / Ha_err) < 3) | ((Hb / Hb_err) < 3)\n",
      "/Users/hang/Desktop/research/projects/ENLR/code_new/mangatools/fitmaps.py:58: RuntimeWarning: divide by zero encountered in log10\n",
      "  E_BV = 1.97 * np.log10(ratio_obs / ratio_theory)\n"
     ]
    },
    {
     "name": "stdout",
     "output_type": "stream",
     "text": [
      "init: auto\n",
      "guess initial value by given range\n",
      "Success: [3.0, 0.2, 0.0]\n",
      "3.744431260704682 0.0990391122748872\n",
      "24 8320-3704\n"
     ]
    },
    {
     "name": "stderr",
     "output_type": "stream",
     "text": [
      "/Users/hang/.local/miniconda3/envs/astro/lib/python3.7/site-packages/numpy/core/fromnumeric.py:3118: RuntimeWarning: Mean of empty slice.\n",
      "  out=out, **kwargs)\n",
      "/Users/hang/.local/miniconda3/envs/astro/lib/python3.7/site-packages/numpy/core/_methods.py:85: RuntimeWarning: invalid value encountered in double_scalars\n",
      "  ret = ret.dtype.type(ret / rcount)\n",
      "/Users/hang/.local/miniconda3/envs/astro/lib/python3.7/site-packages/numpy/core/_methods.py:140: RuntimeWarning: Degrees of freedom <= 0 for slice\n",
      "  keepdims=keepdims)\n",
      "/Users/hang/.local/miniconda3/envs/astro/lib/python3.7/site-packages/numpy/core/_methods.py:110: RuntimeWarning: invalid value encountered in true_divide\n",
      "  arrmean, rcount, out=arrmean, casting='unsafe', subok=False)\n",
      "/Users/hang/.local/miniconda3/envs/astro/lib/python3.7/site-packages/numpy/core/_methods.py:132: RuntimeWarning: invalid value encountered in double_scalars\n",
      "  ret = ret.dtype.type(ret / rcount)\n",
      "/Users/hang/.local/miniconda3/envs/astro/lib/python3.7/site-packages/ipykernel_launcher.py:32: ResourceWarning: unclosed file <_io.FileIO name='/Volumes/Lacie2/fitmaps/fitmap/8464-6101.fits' mode='rb' closefd=True>\n",
      "/Users/hang/.local/miniconda3/envs/astro/lib/python3.7/site-packages/ipykernel_launcher.py:32: ResourceWarning: unclosed file <_io.FileIO name='/Volumes/Lacie2/fitmaps/fitmap2/8464-6101_binned-maps.fits' mode='rb' closefd=True>\n"
     ]
    },
    {
     "name": "stdout",
     "output_type": "stream",
     "text": [
      "init: auto\n",
      "guess initial value by given range\n",
      "Success: [3.0, 0.2, 0.0]\n",
      "3.2910730497867444 0.06319099604412394\n",
      "25 8550-3704\n"
     ]
    },
    {
     "name": "stderr",
     "output_type": "stream",
     "text": [
      "/Users/hang/.local/miniconda3/envs/astro/lib/python3.7/site-packages/numpy/core/fromnumeric.py:3118: RuntimeWarning: Mean of empty slice.\n",
      "  out=out, **kwargs)\n",
      "/Users/hang/.local/miniconda3/envs/astro/lib/python3.7/site-packages/numpy/core/_methods.py:85: RuntimeWarning: invalid value encountered in double_scalars\n",
      "  ret = ret.dtype.type(ret / rcount)\n",
      "/Users/hang/.local/miniconda3/envs/astro/lib/python3.7/site-packages/numpy/core/_methods.py:140: RuntimeWarning: Degrees of freedom <= 0 for slice\n",
      "  keepdims=keepdims)\n",
      "/Users/hang/.local/miniconda3/envs/astro/lib/python3.7/site-packages/numpy/core/_methods.py:110: RuntimeWarning: invalid value encountered in true_divide\n",
      "  arrmean, rcount, out=arrmean, casting='unsafe', subok=False)\n",
      "/Users/hang/.local/miniconda3/envs/astro/lib/python3.7/site-packages/numpy/core/_methods.py:132: RuntimeWarning: invalid value encountered in double_scalars\n",
      "  ret = ret.dtype.type(ret / rcount)\n",
      "/Users/hang/.local/miniconda3/envs/astro/lib/python3.7/site-packages/ipykernel_launcher.py:32: ResourceWarning: unclosed file <_io.FileIO name='/Volumes/Lacie2/fitmaps/fitmap/8320-3704.fits' mode='rb' closefd=True>\n",
      "/Users/hang/.local/miniconda3/envs/astro/lib/python3.7/site-packages/ipykernel_launcher.py:32: ResourceWarning: unclosed file <_io.FileIO name='/Volumes/Lacie2/fitmaps/fitmap2/8320-3704_binned-maps.fits' mode='rb' closefd=True>\n"
     ]
    },
    {
     "name": "stdout",
     "output_type": "stream",
     "text": [
      "init: auto\n",
      "guess initial value by given range\n",
      "Success: [3.0, 0.2, 0.0]\n",
      "3.014134640372087 0.12935769286177143\n",
      "26 8606-12701\n"
     ]
    },
    {
     "name": "stderr",
     "output_type": "stream",
     "text": [
      "/Users/hang/.local/miniconda3/envs/astro/lib/python3.7/site-packages/numpy/core/fromnumeric.py:3118: RuntimeWarning: Mean of empty slice.\n",
      "  out=out, **kwargs)\n",
      "/Users/hang/.local/miniconda3/envs/astro/lib/python3.7/site-packages/numpy/core/_methods.py:85: RuntimeWarning: invalid value encountered in double_scalars\n",
      "  ret = ret.dtype.type(ret / rcount)\n",
      "/Users/hang/.local/miniconda3/envs/astro/lib/python3.7/site-packages/numpy/core/_methods.py:140: RuntimeWarning: Degrees of freedom <= 0 for slice\n",
      "  keepdims=keepdims)\n",
      "/Users/hang/.local/miniconda3/envs/astro/lib/python3.7/site-packages/numpy/core/_methods.py:110: RuntimeWarning: invalid value encountered in true_divide\n",
      "  arrmean, rcount, out=arrmean, casting='unsafe', subok=False)\n",
      "/Users/hang/.local/miniconda3/envs/astro/lib/python3.7/site-packages/numpy/core/_methods.py:132: RuntimeWarning: invalid value encountered in double_scalars\n",
      "  ret = ret.dtype.type(ret / rcount)\n",
      "/Users/hang/.local/miniconda3/envs/astro/lib/python3.7/site-packages/ipykernel_launcher.py:32: ResourceWarning: unclosed file <_io.FileIO name='/Volumes/Lacie2/fitmaps/fitmap/8550-3704.fits' mode='rb' closefd=True>\n",
      "/Users/hang/.local/miniconda3/envs/astro/lib/python3.7/site-packages/ipykernel_launcher.py:32: ResourceWarning: unclosed file <_io.FileIO name='/Volumes/Lacie2/fitmaps/fitmap2/8550-3704_binned-maps.fits' mode='rb' closefd=True>\n"
     ]
    },
    {
     "name": "stdout",
     "output_type": "stream",
     "text": [
      "init: auto\n",
      "guess initial value by given range\n",
      "Success: [3.0, 0.2, 0.0]\n",
      "3.3224542047792003 0.133944092874536\n",
      "27 8314-3704\n"
     ]
    },
    {
     "name": "stderr",
     "output_type": "stream",
     "text": [
      "/Users/hang/.local/miniconda3/envs/astro/lib/python3.7/site-packages/ipykernel_launcher.py:32: ResourceWarning: unclosed file <_io.FileIO name='/Volumes/Lacie2/fitmaps/fitmap/8606-12701.fits' mode='rb' closefd=True>\n",
      "/Users/hang/.local/miniconda3/envs/astro/lib/python3.7/site-packages/ipykernel_launcher.py:32: ResourceWarning: unclosed file <_io.FileIO name='/Volumes/Lacie2/fitmaps/fitmap2/8606-12701_binned-maps.fits' mode='rb' closefd=True>\n"
     ]
    },
    {
     "name": "stdout",
     "output_type": "stream",
     "text": [
      "init: auto\n",
      "guess initial value by given range\n",
      "Success: [3.0, 0.2, 0.0]\n",
      "2.92267773427905 0.17218523149790882\n",
      "28 8611-3704\n"
     ]
    },
    {
     "name": "stderr",
     "output_type": "stream",
     "text": [
      "/Users/hang/.local/miniconda3/envs/astro/lib/python3.7/site-packages/ipykernel_launcher.py:32: ResourceWarning: unclosed file <_io.FileIO name='/Volumes/Lacie2/fitmaps/fitmap/8314-3704.fits' mode='rb' closefd=True>\n",
      "/Users/hang/.local/miniconda3/envs/astro/lib/python3.7/site-packages/ipykernel_launcher.py:32: ResourceWarning: unclosed file <_io.FileIO name='/Volumes/Lacie2/fitmaps/fitmap2/8314-3704_binned-maps.fits' mode='rb' closefd=True>\n"
     ]
    },
    {
     "name": "stdout",
     "output_type": "stream",
     "text": [
      "init: auto\n",
      "guess initial value by given range\n",
      "Success: [3.0, 0.2, 2.5]\n",
      "2.960973430696997 0.14268934590608637\n",
      "29 7992-9102\n"
     ]
    },
    {
     "name": "stderr",
     "output_type": "stream",
     "text": [
      "/Users/hang/.local/miniconda3/envs/astro/lib/python3.7/site-packages/numpy/core/fromnumeric.py:3118: RuntimeWarning: Mean of empty slice.\n",
      "  out=out, **kwargs)\n",
      "/Users/hang/.local/miniconda3/envs/astro/lib/python3.7/site-packages/numpy/core/_methods.py:85: RuntimeWarning: invalid value encountered in double_scalars\n",
      "  ret = ret.dtype.type(ret / rcount)\n",
      "/Users/hang/.local/miniconda3/envs/astro/lib/python3.7/site-packages/numpy/core/_methods.py:140: RuntimeWarning: Degrees of freedom <= 0 for slice\n",
      "  keepdims=keepdims)\n",
      "/Users/hang/.local/miniconda3/envs/astro/lib/python3.7/site-packages/numpy/core/_methods.py:110: RuntimeWarning: invalid value encountered in true_divide\n",
      "  arrmean, rcount, out=arrmean, casting='unsafe', subok=False)\n",
      "/Users/hang/.local/miniconda3/envs/astro/lib/python3.7/site-packages/numpy/core/_methods.py:132: RuntimeWarning: invalid value encountered in double_scalars\n",
      "  ret = ret.dtype.type(ret / rcount)\n",
      "/Users/hang/.local/miniconda3/envs/astro/lib/python3.7/site-packages/ipykernel_launcher.py:32: ResourceWarning: unclosed file <_io.FileIO name='/Volumes/Lacie2/fitmaps/fitmap/8611-3704.fits' mode='rb' closefd=True>\n",
      "/Users/hang/.local/miniconda3/envs/astro/lib/python3.7/site-packages/ipykernel_launcher.py:32: ResourceWarning: unclosed file <_io.FileIO name='/Volumes/Lacie2/fitmaps/fitmap2/8611-3704_binned-maps.fits' mode='rb' closefd=True>\n"
     ]
    },
    {
     "name": "stdout",
     "output_type": "stream",
     "text": [
      "init: auto\n",
      "guess initial value by given range\n",
      "Success: [3.0, 0.2, 0.0]\n",
      "3.6197483339025958 0.1256639125877465\n",
      "30 8603-6101\n"
     ]
    },
    {
     "name": "stderr",
     "output_type": "stream",
     "text": [
      "/Users/hang/.local/miniconda3/envs/astro/lib/python3.7/site-packages/numpy/core/fromnumeric.py:3118: RuntimeWarning: Mean of empty slice.\n",
      "  out=out, **kwargs)\n",
      "/Users/hang/.local/miniconda3/envs/astro/lib/python3.7/site-packages/numpy/core/_methods.py:85: RuntimeWarning: invalid value encountered in double_scalars\n",
      "  ret = ret.dtype.type(ret / rcount)\n",
      "/Users/hang/.local/miniconda3/envs/astro/lib/python3.7/site-packages/numpy/core/_methods.py:140: RuntimeWarning: Degrees of freedom <= 0 for slice\n",
      "  keepdims=keepdims)\n",
      "/Users/hang/.local/miniconda3/envs/astro/lib/python3.7/site-packages/numpy/core/_methods.py:110: RuntimeWarning: invalid value encountered in true_divide\n",
      "  arrmean, rcount, out=arrmean, casting='unsafe', subok=False)\n",
      "/Users/hang/.local/miniconda3/envs/astro/lib/python3.7/site-packages/numpy/core/_methods.py:132: RuntimeWarning: invalid value encountered in double_scalars\n",
      "  ret = ret.dtype.type(ret / rcount)\n",
      "/Users/hang/.local/miniconda3/envs/astro/lib/python3.7/site-packages/ipykernel_launcher.py:32: ResourceWarning: unclosed file <_io.FileIO name='/Volumes/Lacie2/fitmaps/fitmap/7992-9102.fits' mode='rb' closefd=True>\n",
      "/Users/hang/.local/miniconda3/envs/astro/lib/python3.7/site-packages/ipykernel_launcher.py:32: ResourceWarning: unclosed file <_io.FileIO name='/Volumes/Lacie2/fitmaps/fitmap2/7992-9102_binned-maps.fits' mode='rb' closefd=True>\n"
     ]
    },
    {
     "name": "stdout",
     "output_type": "stream",
     "text": [
      "init: auto\n",
      "guess initial value by given range\n"
     ]
    },
    {
     "name": "stderr",
     "output_type": "stream",
     "text": [
      "/Users/hang/.local/miniconda3/envs/astro/lib/python3.7/site-packages/numpy/core/fromnumeric.py:3118: RuntimeWarning: Mean of empty slice.\n",
      "  out=out, **kwargs)\n",
      "/Users/hang/.local/miniconda3/envs/astro/lib/python3.7/site-packages/numpy/core/_methods.py:85: RuntimeWarning: invalid value encountered in double_scalars\n",
      "  ret = ret.dtype.type(ret / rcount)\n",
      "/Users/hang/.local/miniconda3/envs/astro/lib/python3.7/site-packages/numpy/core/_methods.py:140: RuntimeWarning: Degrees of freedom <= 0 for slice\n",
      "  keepdims=keepdims)\n",
      "/Users/hang/.local/miniconda3/envs/astro/lib/python3.7/site-packages/numpy/core/_methods.py:110: RuntimeWarning: invalid value encountered in true_divide\n",
      "  arrmean, rcount, out=arrmean, casting='unsafe', subok=False)\n",
      "/Users/hang/.local/miniconda3/envs/astro/lib/python3.7/site-packages/numpy/core/_methods.py:132: RuntimeWarning: invalid value encountered in double_scalars\n",
      "  ret = ret.dtype.type(ret / rcount)\n"
     ]
    },
    {
     "name": "stdout",
     "output_type": "stream",
     "text": [
      "Success: [3.0, 0.2, 0.0]\n",
      "2.8418496838098557 0.20088277008089356\n",
      "31 8612-12704\n"
     ]
    },
    {
     "name": "stderr",
     "output_type": "stream",
     "text": [
      "/Users/hang/.local/miniconda3/envs/astro/lib/python3.7/site-packages/ipykernel_launcher.py:32: ResourceWarning: unclosed file <_io.FileIO name='/Volumes/Lacie2/fitmaps/fitmap/8603-6101.fits' mode='rb' closefd=True>\n",
      "/Users/hang/.local/miniconda3/envs/astro/lib/python3.7/site-packages/ipykernel_launcher.py:32: ResourceWarning: unclosed file <_io.FileIO name='/Volumes/Lacie2/fitmaps/fitmap2/8603-6101_binned-maps.fits' mode='rb' closefd=True>\n",
      "/Users/hang/Desktop/research/projects/ENLR/code_new/mangatools/fitmaps.py:54: RuntimeWarning: invalid value encountered in true_divide\n",
      "  snr_cut = ((Ha / Ha_err) < 3) | ((Hb / Hb_err) < 3)\n",
      "/Users/hang/Desktop/research/projects/ENLR/code_new/mangatools/fitmaps.py:54: RuntimeWarning: invalid value encountered in less\n",
      "  snr_cut = ((Ha / Ha_err) < 3) | ((Hb / Hb_err) < 3)\n",
      "/Users/hang/Desktop/research/projects/ENLR/code_new/mangatools/fitmaps.py:58: RuntimeWarning: divide by zero encountered in log10\n",
      "  E_BV = 1.97 * np.log10(ratio_obs / ratio_theory)\n"
     ]
    },
    {
     "name": "stdout",
     "output_type": "stream",
     "text": [
      "init: auto\n",
      "guess initial value by given range\n",
      "Success: [3.0, 0.2, 0.0]\n",
      "3.885325669289315 0.0199883631580806\n",
      "32 8588-12704\n"
     ]
    },
    {
     "name": "stderr",
     "output_type": "stream",
     "text": [
      "/Users/hang/.local/miniconda3/envs/astro/lib/python3.7/site-packages/ipykernel_launcher.py:32: ResourceWarning: unclosed file <_io.FileIO name='/Volumes/Lacie2/fitmaps/fitmap/8612-12704.fits' mode='rb' closefd=True>\n",
      "/Users/hang/.local/miniconda3/envs/astro/lib/python3.7/site-packages/ipykernel_launcher.py:32: ResourceWarning: unclosed file <_io.FileIO name='/Volumes/Lacie2/fitmaps/fitmap2/8612-12704_binned-maps.fits' mode='rb' closefd=True>\n"
     ]
    },
    {
     "name": "stdout",
     "output_type": "stream",
     "text": [
      "init: auto\n",
      "guess initial value by given range\n",
      "Success: [3.0, 0.2, 0.0]\n",
      "3.060697407657382 0.11822328618452467\n",
      "33 8602-12701\n"
     ]
    },
    {
     "name": "stderr",
     "output_type": "stream",
     "text": [
      "/Users/hang/.local/miniconda3/envs/astro/lib/python3.7/site-packages/numpy/core/fromnumeric.py:3118: RuntimeWarning: Mean of empty slice.\n",
      "  out=out, **kwargs)\n",
      "/Users/hang/.local/miniconda3/envs/astro/lib/python3.7/site-packages/numpy/core/_methods.py:85: RuntimeWarning: invalid value encountered in double_scalars\n",
      "  ret = ret.dtype.type(ret / rcount)\n",
      "/Users/hang/.local/miniconda3/envs/astro/lib/python3.7/site-packages/numpy/core/_methods.py:140: RuntimeWarning: Degrees of freedom <= 0 for slice\n",
      "  keepdims=keepdims)\n",
      "/Users/hang/.local/miniconda3/envs/astro/lib/python3.7/site-packages/numpy/core/_methods.py:110: RuntimeWarning: invalid value encountered in true_divide\n",
      "  arrmean, rcount, out=arrmean, casting='unsafe', subok=False)\n",
      "/Users/hang/.local/miniconda3/envs/astro/lib/python3.7/site-packages/numpy/core/_methods.py:132: RuntimeWarning: invalid value encountered in double_scalars\n",
      "  ret = ret.dtype.type(ret / rcount)\n",
      "/Users/hang/.local/miniconda3/envs/astro/lib/python3.7/site-packages/ipykernel_launcher.py:32: ResourceWarning: unclosed file <_io.FileIO name='/Volumes/Lacie2/fitmaps/fitmap/8588-12704.fits' mode='rb' closefd=True>\n",
      "/Users/hang/.local/miniconda3/envs/astro/lib/python3.7/site-packages/ipykernel_launcher.py:32: ResourceWarning: unclosed file <_io.FileIO name='/Volumes/Lacie2/fitmaps/fitmap2/8588-12704_binned-maps.fits' mode='rb' closefd=True>\n",
      "/Users/hang/Desktop/research/projects/ENLR/code_new/mangatools/fitmaps.py:54: RuntimeWarning: invalid value encountered in true_divide\n",
      "  snr_cut = ((Ha / Ha_err) < 3) | ((Hb / Hb_err) < 3)\n",
      "/Users/hang/Desktop/research/projects/ENLR/code_new/mangatools/fitmaps.py:54: RuntimeWarning: invalid value encountered in less\n",
      "  snr_cut = ((Ha / Ha_err) < 3) | ((Hb / Hb_err) < 3)\n",
      "/Users/hang/Desktop/research/projects/ENLR/code_new/mangatools/fitmaps.py:58: RuntimeWarning: divide by zero encountered in log10\n",
      "  E_BV = 1.97 * np.log10(ratio_obs / ratio_theory)\n"
     ]
    },
    {
     "name": "stdout",
     "output_type": "stream",
     "text": [
      "init: auto\n",
      "guess initial value by given range\n",
      "Success: [3.0, 0.2, 0.0]\n",
      "2.951268405117226 0.13430327605468226\n",
      "34 8077-6103\n"
     ]
    },
    {
     "name": "stderr",
     "output_type": "stream",
     "text": [
      "/Users/hang/.local/miniconda3/envs/astro/lib/python3.7/site-packages/ipykernel_launcher.py:32: ResourceWarning: unclosed file <_io.FileIO name='/Volumes/Lacie2/fitmaps/fitmap/8602-12701.fits' mode='rb' closefd=True>\n",
      "/Users/hang/.local/miniconda3/envs/astro/lib/python3.7/site-packages/ipykernel_launcher.py:32: ResourceWarning: unclosed file <_io.FileIO name='/Volumes/Lacie2/fitmaps/fitmap2/8602-12701_binned-maps.fits' mode='rb' closefd=True>\n"
     ]
    },
    {
     "name": "stdout",
     "output_type": "stream",
     "text": [
      "init: auto\n",
      "guess initial value by given range\n",
      "Success: [3.0, 0.2, 0.5]\n",
      "3.1697051964728544 0.1427358548193543\n",
      "35 8147-6102\n"
     ]
    },
    {
     "name": "stderr",
     "output_type": "stream",
     "text": [
      "/Users/hang/.local/miniconda3/envs/astro/lib/python3.7/site-packages/numpy/core/fromnumeric.py:3118: RuntimeWarning: Mean of empty slice.\n",
      "  out=out, **kwargs)\n",
      "/Users/hang/.local/miniconda3/envs/astro/lib/python3.7/site-packages/numpy/core/_methods.py:85: RuntimeWarning: invalid value encountered in double_scalars\n",
      "  ret = ret.dtype.type(ret / rcount)\n",
      "/Users/hang/.local/miniconda3/envs/astro/lib/python3.7/site-packages/numpy/core/_methods.py:140: RuntimeWarning: Degrees of freedom <= 0 for slice\n",
      "  keepdims=keepdims)\n",
      "/Users/hang/.local/miniconda3/envs/astro/lib/python3.7/site-packages/numpy/core/_methods.py:110: RuntimeWarning: invalid value encountered in true_divide\n",
      "  arrmean, rcount, out=arrmean, casting='unsafe', subok=False)\n",
      "/Users/hang/.local/miniconda3/envs/astro/lib/python3.7/site-packages/numpy/core/_methods.py:132: RuntimeWarning: invalid value encountered in double_scalars\n",
      "  ret = ret.dtype.type(ret / rcount)\n",
      "/Users/hang/.local/miniconda3/envs/astro/lib/python3.7/site-packages/ipykernel_launcher.py:32: ResourceWarning: unclosed file <_io.FileIO name='/Volumes/Lacie2/fitmaps/fitmap/8077-6103.fits' mode='rb' closefd=True>\n",
      "/Users/hang/.local/miniconda3/envs/astro/lib/python3.7/site-packages/ipykernel_launcher.py:32: ResourceWarning: unclosed file <_io.FileIO name='/Volumes/Lacie2/fitmaps/fitmap2/8077-6103_binned-maps.fits' mode='rb' closefd=True>\n"
     ]
    },
    {
     "name": "stdout",
     "output_type": "stream",
     "text": [
      "init: auto\n",
      "guess initial value by given range\n",
      "Success: [3.0, 0.2, 0.0]\n",
      "3.2170490865146992 0.17024153210571552\n",
      "36 8146-12705\n"
     ]
    },
    {
     "name": "stderr",
     "output_type": "stream",
     "text": [
      "/Users/hang/.local/miniconda3/envs/astro/lib/python3.7/site-packages/numpy/core/fromnumeric.py:3118: RuntimeWarning: Mean of empty slice.\n",
      "  out=out, **kwargs)\n",
      "/Users/hang/.local/miniconda3/envs/astro/lib/python3.7/site-packages/numpy/core/_methods.py:85: RuntimeWarning: invalid value encountered in double_scalars\n",
      "  ret = ret.dtype.type(ret / rcount)\n",
      "/Users/hang/.local/miniconda3/envs/astro/lib/python3.7/site-packages/numpy/core/_methods.py:140: RuntimeWarning: Degrees of freedom <= 0 for slice\n",
      "  keepdims=keepdims)\n",
      "/Users/hang/.local/miniconda3/envs/astro/lib/python3.7/site-packages/numpy/core/_methods.py:110: RuntimeWarning: invalid value encountered in true_divide\n",
      "  arrmean, rcount, out=arrmean, casting='unsafe', subok=False)\n",
      "/Users/hang/.local/miniconda3/envs/astro/lib/python3.7/site-packages/numpy/core/_methods.py:132: RuntimeWarning: invalid value encountered in double_scalars\n",
      "  ret = ret.dtype.type(ret / rcount)\n",
      "/Users/hang/.local/miniconda3/envs/astro/lib/python3.7/site-packages/ipykernel_launcher.py:32: ResourceWarning: unclosed file <_io.FileIO name='/Volumes/Lacie2/fitmaps/fitmap/8147-6102.fits' mode='rb' closefd=True>\n",
      "/Users/hang/.local/miniconda3/envs/astro/lib/python3.7/site-packages/ipykernel_launcher.py:32: ResourceWarning: unclosed file <_io.FileIO name='/Volumes/Lacie2/fitmaps/fitmap2/8147-6102_binned-maps.fits' mode='rb' closefd=True>\n"
     ]
    },
    {
     "name": "stdout",
     "output_type": "stream",
     "text": [
      "init: auto\n",
      "guess initial value by given range\n",
      "Success: [3.0, 0.2, 0.0]\n",
      "2.8584586800757252 0.3918092512656495\n",
      "37 8084-6103\n"
     ]
    },
    {
     "name": "stderr",
     "output_type": "stream",
     "text": [
      "/Users/hang/.local/miniconda3/envs/astro/lib/python3.7/site-packages/ipykernel_launcher.py:64: RuntimeWarning: overflow encountered in exp\n",
      "/Users/hang/.local/miniconda3/envs/astro/lib/python3.7/site-packages/scipy/optimize/optimize.py:670: RuntimeWarning: invalid value encountered in double_scalars\n",
      "  grad[k] = (f(*((xk + d,) + args)) - f0) / d[k]\n",
      "/Users/hang/.local/miniconda3/envs/astro/lib/python3.7/site-packages/ipykernel_launcher.py:32: ResourceWarning: unclosed file <_io.FileIO name='/Volumes/Lacie2/fitmaps/fitmap/8146-12705.fits' mode='rb' closefd=True>\n",
      "/Users/hang/.local/miniconda3/envs/astro/lib/python3.7/site-packages/ipykernel_launcher.py:32: ResourceWarning: unclosed file <_io.FileIO name='/Volumes/Lacie2/fitmaps/fitmap2/8146-12705_binned-maps.fits' mode='rb' closefd=True>\n"
     ]
    },
    {
     "name": "stdout",
     "output_type": "stream",
     "text": [
      "init: auto\n",
      "guess initial value by given range\n",
      "Success: [3.0, 0.2, 0.0]\n",
      "2.961928233918374 0.17446543203929854\n",
      "38 8718-12702\n"
     ]
    },
    {
     "name": "stderr",
     "output_type": "stream",
     "text": [
      "/Users/hang/.local/miniconda3/envs/astro/lib/python3.7/site-packages/numpy/core/fromnumeric.py:3118: RuntimeWarning: Mean of empty slice.\n",
      "  out=out, **kwargs)\n",
      "/Users/hang/.local/miniconda3/envs/astro/lib/python3.7/site-packages/numpy/core/_methods.py:85: RuntimeWarning: invalid value encountered in double_scalars\n",
      "  ret = ret.dtype.type(ret / rcount)\n",
      "/Users/hang/.local/miniconda3/envs/astro/lib/python3.7/site-packages/numpy/core/_methods.py:140: RuntimeWarning: Degrees of freedom <= 0 for slice\n",
      "  keepdims=keepdims)\n",
      "/Users/hang/.local/miniconda3/envs/astro/lib/python3.7/site-packages/numpy/core/_methods.py:110: RuntimeWarning: invalid value encountered in true_divide\n",
      "  arrmean, rcount, out=arrmean, casting='unsafe', subok=False)\n",
      "/Users/hang/.local/miniconda3/envs/astro/lib/python3.7/site-packages/numpy/core/_methods.py:132: RuntimeWarning: invalid value encountered in double_scalars\n",
      "  ret = ret.dtype.type(ret / rcount)\n",
      "/Users/hang/.local/miniconda3/envs/astro/lib/python3.7/site-packages/ipykernel_launcher.py:32: ResourceWarning: unclosed file <_io.FileIO name='/Volumes/Lacie2/fitmaps/fitmap/8084-6103.fits' mode='rb' closefd=True>\n",
      "/Users/hang/.local/miniconda3/envs/astro/lib/python3.7/site-packages/ipykernel_launcher.py:32: ResourceWarning: unclosed file <_io.FileIO name='/Volumes/Lacie2/fitmaps/fitmap2/8084-6103_binned-maps.fits' mode='rb' closefd=True>\n"
     ]
    },
    {
     "name": "stdout",
     "output_type": "stream",
     "text": [
      "init: auto\n",
      "guess initial value by given range\n",
      "Success: [3.0, 0.2, 0.0]\n",
      "3.502771535717393 0.054662672581608125\n",
      "39 8718-12701\n"
     ]
    },
    {
     "name": "stderr",
     "output_type": "stream",
     "text": [
      "/Users/hang/.local/miniconda3/envs/astro/lib/python3.7/site-packages/numpy/core/fromnumeric.py:3118: RuntimeWarning: Mean of empty slice.\n",
      "  out=out, **kwargs)\n",
      "/Users/hang/.local/miniconda3/envs/astro/lib/python3.7/site-packages/numpy/core/_methods.py:85: RuntimeWarning: invalid value encountered in double_scalars\n",
      "  ret = ret.dtype.type(ret / rcount)\n",
      "/Users/hang/.local/miniconda3/envs/astro/lib/python3.7/site-packages/numpy/core/_methods.py:140: RuntimeWarning: Degrees of freedom <= 0 for slice\n",
      "  keepdims=keepdims)\n",
      "/Users/hang/.local/miniconda3/envs/astro/lib/python3.7/site-packages/numpy/core/_methods.py:110: RuntimeWarning: invalid value encountered in true_divide\n",
      "  arrmean, rcount, out=arrmean, casting='unsafe', subok=False)\n",
      "/Users/hang/.local/miniconda3/envs/astro/lib/python3.7/site-packages/numpy/core/_methods.py:132: RuntimeWarning: invalid value encountered in double_scalars\n",
      "  ret = ret.dtype.type(ret / rcount)\n",
      "/Users/hang/.local/miniconda3/envs/astro/lib/python3.7/site-packages/ipykernel_launcher.py:32: ResourceWarning: unclosed file <_io.FileIO name='/Volumes/Lacie2/fitmaps/fitmap/8718-12702.fits' mode='rb' closefd=True>\n",
      "/Users/hang/.local/miniconda3/envs/astro/lib/python3.7/site-packages/ipykernel_launcher.py:32: ResourceWarning: unclosed file <_io.FileIO name='/Volumes/Lacie2/fitmaps/fitmap2/8718-12702_binned-maps.fits' mode='rb' closefd=True>\n"
     ]
    },
    {
     "name": "stdout",
     "output_type": "stream",
     "text": [
      "init: auto\n",
      "guess initial value by given range\n",
      "Success: [3.0, 0.2, 0.0]\n",
      "3.24816002031646 0.1256639125877465\n",
      "40 8725-9102\n"
     ]
    },
    {
     "name": "stderr",
     "output_type": "stream",
     "text": [
      "/Users/hang/.local/miniconda3/envs/astro/lib/python3.7/site-packages/numpy/core/fromnumeric.py:3118: RuntimeWarning: Mean of empty slice.\n",
      "  out=out, **kwargs)\n",
      "/Users/hang/.local/miniconda3/envs/astro/lib/python3.7/site-packages/numpy/core/_methods.py:85: RuntimeWarning: invalid value encountered in double_scalars\n",
      "  ret = ret.dtype.type(ret / rcount)\n",
      "/Users/hang/.local/miniconda3/envs/astro/lib/python3.7/site-packages/numpy/core/_methods.py:140: RuntimeWarning: Degrees of freedom <= 0 for slice\n",
      "  keepdims=keepdims)\n",
      "/Users/hang/.local/miniconda3/envs/astro/lib/python3.7/site-packages/numpy/core/_methods.py:110: RuntimeWarning: invalid value encountered in true_divide\n",
      "  arrmean, rcount, out=arrmean, casting='unsafe', subok=False)\n",
      "/Users/hang/.local/miniconda3/envs/astro/lib/python3.7/site-packages/numpy/core/_methods.py:132: RuntimeWarning: invalid value encountered in double_scalars\n",
      "  ret = ret.dtype.type(ret / rcount)\n",
      "/Users/hang/.local/miniconda3/envs/astro/lib/python3.7/site-packages/ipykernel_launcher.py:32: ResourceWarning: unclosed file <_io.FileIO name='/Volumes/Lacie2/fitmaps/fitmap/8718-12701.fits' mode='rb' closefd=True>\n",
      "/Users/hang/.local/miniconda3/envs/astro/lib/python3.7/site-packages/ipykernel_launcher.py:32: ResourceWarning: unclosed file <_io.FileIO name='/Volumes/Lacie2/fitmaps/fitmap2/8718-12701_binned-maps.fits' mode='rb' closefd=True>\n"
     ]
    },
    {
     "name": "stdout",
     "output_type": "stream",
     "text": [
      "init: auto\n",
      "guess initial value by given range\n",
      "Success: [3.0, 0.2, 0.0]\n",
      "3.2764837831036497 0.11570847556659465\n",
      "41 10001-6102\n"
     ]
    },
    {
     "name": "stderr",
     "output_type": "stream",
     "text": [
      "/Users/hang/.local/miniconda3/envs/astro/lib/python3.7/site-packages/numpy/core/fromnumeric.py:3118: RuntimeWarning: Mean of empty slice.\n",
      "  out=out, **kwargs)\n",
      "/Users/hang/.local/miniconda3/envs/astro/lib/python3.7/site-packages/numpy/core/_methods.py:85: RuntimeWarning: invalid value encountered in double_scalars\n",
      "  ret = ret.dtype.type(ret / rcount)\n",
      "/Users/hang/.local/miniconda3/envs/astro/lib/python3.7/site-packages/numpy/core/_methods.py:140: RuntimeWarning: Degrees of freedom <= 0 for slice\n",
      "  keepdims=keepdims)\n",
      "/Users/hang/.local/miniconda3/envs/astro/lib/python3.7/site-packages/numpy/core/_methods.py:110: RuntimeWarning: invalid value encountered in true_divide\n",
      "  arrmean, rcount, out=arrmean, casting='unsafe', subok=False)\n",
      "/Users/hang/.local/miniconda3/envs/astro/lib/python3.7/site-packages/numpy/core/_methods.py:132: RuntimeWarning: invalid value encountered in double_scalars\n",
      "  ret = ret.dtype.type(ret / rcount)\n",
      "/Users/hang/.local/miniconda3/envs/astro/lib/python3.7/site-packages/ipykernel_launcher.py:32: ResourceWarning: unclosed file <_io.FileIO name='/Volumes/Lacie2/fitmaps/fitmap/8725-9102.fits' mode='rb' closefd=True>\n",
      "/Users/hang/.local/miniconda3/envs/astro/lib/python3.7/site-packages/ipykernel_launcher.py:32: ResourceWarning: unclosed file <_io.FileIO name='/Volumes/Lacie2/fitmaps/fitmap2/8725-9102_binned-maps.fits' mode='rb' closefd=True>\n"
     ]
    },
    {
     "name": "stdout",
     "output_type": "stream",
     "text": [
      "init: auto\n",
      "guess initial value by given range\n",
      "Success: [3.0, 0.2, 0.0]\n",
      "3.0481671254857448 0.10471992715645542\n",
      "42 8715-3702\n"
     ]
    },
    {
     "name": "stderr",
     "output_type": "stream",
     "text": [
      "/Users/hang/.local/miniconda3/envs/astro/lib/python3.7/site-packages/numpy/core/fromnumeric.py:3118: RuntimeWarning: Mean of empty slice.\n",
      "  out=out, **kwargs)\n",
      "/Users/hang/.local/miniconda3/envs/astro/lib/python3.7/site-packages/numpy/core/_methods.py:85: RuntimeWarning: invalid value encountered in double_scalars\n",
      "  ret = ret.dtype.type(ret / rcount)\n",
      "/Users/hang/.local/miniconda3/envs/astro/lib/python3.7/site-packages/numpy/core/_methods.py:140: RuntimeWarning: Degrees of freedom <= 0 for slice\n",
      "  keepdims=keepdims)\n",
      "/Users/hang/.local/miniconda3/envs/astro/lib/python3.7/site-packages/numpy/core/_methods.py:110: RuntimeWarning: invalid value encountered in true_divide\n",
      "  arrmean, rcount, out=arrmean, casting='unsafe', subok=False)\n",
      "/Users/hang/.local/miniconda3/envs/astro/lib/python3.7/site-packages/numpy/core/_methods.py:132: RuntimeWarning: invalid value encountered in double_scalars\n",
      "  ret = ret.dtype.type(ret / rcount)\n",
      "/Users/hang/.local/miniconda3/envs/astro/lib/python3.7/site-packages/ipykernel_launcher.py:32: ResourceWarning: unclosed file <_io.FileIO name='/Volumes/Lacie2/fitmaps/fitmap/10001-6102.fits' mode='rb' closefd=True>\n",
      "/Users/hang/.local/miniconda3/envs/astro/lib/python3.7/site-packages/ipykernel_launcher.py:32: ResourceWarning: unclosed file <_io.FileIO name='/Volumes/Lacie2/fitmaps/fitmap2/10001-6102_binned-maps.fits' mode='rb' closefd=True>\n"
     ]
    },
    {
     "name": "stdout",
     "output_type": "stream",
     "text": [
      "init: auto\n",
      "guess initial value by given range\n",
      "Success: [3.0, 0.2, 0.0]\n",
      "3.443111651338662 0.08726660596371286\n",
      "43 8255-6101\n"
     ]
    },
    {
     "name": "stderr",
     "output_type": "stream",
     "text": [
      "/Users/hang/.local/miniconda3/envs/astro/lib/python3.7/site-packages/numpy/core/fromnumeric.py:3118: RuntimeWarning: Mean of empty slice.\n",
      "  out=out, **kwargs)\n",
      "/Users/hang/.local/miniconda3/envs/astro/lib/python3.7/site-packages/numpy/core/_methods.py:85: RuntimeWarning: invalid value encountered in double_scalars\n",
      "  ret = ret.dtype.type(ret / rcount)\n",
      "/Users/hang/.local/miniconda3/envs/astro/lib/python3.7/site-packages/numpy/core/_methods.py:140: RuntimeWarning: Degrees of freedom <= 0 for slice\n",
      "  keepdims=keepdims)\n",
      "/Users/hang/.local/miniconda3/envs/astro/lib/python3.7/site-packages/numpy/core/_methods.py:110: RuntimeWarning: invalid value encountered in true_divide\n",
      "  arrmean, rcount, out=arrmean, casting='unsafe', subok=False)\n",
      "/Users/hang/.local/miniconda3/envs/astro/lib/python3.7/site-packages/numpy/core/_methods.py:132: RuntimeWarning: invalid value encountered in double_scalars\n",
      "  ret = ret.dtype.type(ret / rcount)\n",
      "/Users/hang/.local/miniconda3/envs/astro/lib/python3.7/site-packages/ipykernel_launcher.py:32: ResourceWarning: unclosed file <_io.FileIO name='/Volumes/Lacie2/fitmaps/fitmap/8715-3702.fits' mode='rb' closefd=True>\n",
      "/Users/hang/.local/miniconda3/envs/astro/lib/python3.7/site-packages/ipykernel_launcher.py:32: ResourceWarning: unclosed file <_io.FileIO name='/Volumes/Lacie2/fitmaps/fitmap2/8715-3702_binned-maps.fits' mode='rb' closefd=True>\n"
     ]
    },
    {
     "name": "stdout",
     "output_type": "stream",
     "text": [
      "init: auto\n",
      "guess initial value by given range\n",
      "Success: [3.0, 0.2, 0.0]\n",
      "3.265147456882781 0.14115421253474078\n",
      "44 8241-9102\n"
     ]
    },
    {
     "name": "stderr",
     "output_type": "stream",
     "text": [
      "/Users/hang/.local/miniconda3/envs/astro/lib/python3.7/site-packages/numpy/core/fromnumeric.py:3118: RuntimeWarning: Mean of empty slice.\n",
      "  out=out, **kwargs)\n",
      "/Users/hang/.local/miniconda3/envs/astro/lib/python3.7/site-packages/numpy/core/_methods.py:85: RuntimeWarning: invalid value encountered in double_scalars\n",
      "  ret = ret.dtype.type(ret / rcount)\n",
      "/Users/hang/.local/miniconda3/envs/astro/lib/python3.7/site-packages/numpy/core/_methods.py:140: RuntimeWarning: Degrees of freedom <= 0 for slice\n",
      "  keepdims=keepdims)\n",
      "/Users/hang/.local/miniconda3/envs/astro/lib/python3.7/site-packages/numpy/core/_methods.py:110: RuntimeWarning: invalid value encountered in true_divide\n",
      "  arrmean, rcount, out=arrmean, casting='unsafe', subok=False)\n",
      "/Users/hang/.local/miniconda3/envs/astro/lib/python3.7/site-packages/numpy/core/_methods.py:132: RuntimeWarning: invalid value encountered in double_scalars\n",
      "  ret = ret.dtype.type(ret / rcount)\n",
      "/Users/hang/.local/miniconda3/envs/astro/lib/python3.7/site-packages/ipykernel_launcher.py:32: ResourceWarning: unclosed file <_io.FileIO name='/Volumes/Lacie2/fitmaps/fitmap/8255-6101.fits' mode='rb' closefd=True>\n",
      "/Users/hang/.local/miniconda3/envs/astro/lib/python3.7/site-packages/ipykernel_launcher.py:32: ResourceWarning: unclosed file <_io.FileIO name='/Volumes/Lacie2/fitmaps/fitmap2/8255-6101_binned-maps.fits' mode='rb' closefd=True>\n"
     ]
    },
    {
     "name": "stdout",
     "output_type": "stream",
     "text": [
      "init: auto\n",
      "guess initial value by given range\n",
      "Success: [3.0, 0.2, 0.0]\n",
      "3.364192202583678 0.1277072282395798\n",
      "45 8241-6102\n"
     ]
    },
    {
     "name": "stderr",
     "output_type": "stream",
     "text": [
      "/Users/hang/.local/miniconda3/envs/astro/lib/python3.7/site-packages/numpy/core/fromnumeric.py:3118: RuntimeWarning: Mean of empty slice.\n",
      "  out=out, **kwargs)\n",
      "/Users/hang/.local/miniconda3/envs/astro/lib/python3.7/site-packages/numpy/core/_methods.py:85: RuntimeWarning: invalid value encountered in double_scalars\n",
      "  ret = ret.dtype.type(ret / rcount)\n",
      "/Users/hang/.local/miniconda3/envs/astro/lib/python3.7/site-packages/numpy/core/_methods.py:140: RuntimeWarning: Degrees of freedom <= 0 for slice\n",
      "  keepdims=keepdims)\n",
      "/Users/hang/.local/miniconda3/envs/astro/lib/python3.7/site-packages/numpy/core/_methods.py:110: RuntimeWarning: invalid value encountered in true_divide\n",
      "  arrmean, rcount, out=arrmean, casting='unsafe', subok=False)\n",
      "/Users/hang/.local/miniconda3/envs/astro/lib/python3.7/site-packages/numpy/core/_methods.py:132: RuntimeWarning: invalid value encountered in double_scalars\n",
      "  ret = ret.dtype.type(ret / rcount)\n",
      "/Users/hang/.local/miniconda3/envs/astro/lib/python3.7/site-packages/ipykernel_launcher.py:32: ResourceWarning: unclosed file <_io.FileIO name='/Volumes/Lacie2/fitmaps/fitmap/8241-9102.fits' mode='rb' closefd=True>\n",
      "/Users/hang/.local/miniconda3/envs/astro/lib/python3.7/site-packages/ipykernel_launcher.py:32: ResourceWarning: unclosed file <_io.FileIO name='/Volumes/Lacie2/fitmaps/fitmap2/8241-9102_binned-maps.fits' mode='rb' closefd=True>\n",
      "/Users/hang/Desktop/research/projects/ENLR/code_new/mangatools/fitmaps.py:54: RuntimeWarning: invalid value encountered in true_divide\n",
      "  snr_cut = ((Ha / Ha_err) < 3) | ((Hb / Hb_err) < 3)\n",
      "/Users/hang/Desktop/research/projects/ENLR/code_new/mangatools/fitmaps.py:54: RuntimeWarning: invalid value encountered in less\n",
      "  snr_cut = ((Ha / Ha_err) < 3) | ((Hb / Hb_err) < 3)\n",
      "/Users/hang/Desktop/research/projects/ENLR/code_new/mangatools/fitmaps.py:58: RuntimeWarning: divide by zero encountered in log10\n",
      "  E_BV = 1.97 * np.log10(ratio_obs / ratio_theory)\n"
     ]
    },
    {
     "name": "stdout",
     "output_type": "stream",
     "text": [
      "init: auto\n",
      "guess initial value by given range\n",
      "Success: [3.0, 0.2, 0.0]\n",
      "3.2257974866167247 0.09901884229693494\n",
      "46 8720-1901\n"
     ]
    },
    {
     "name": "stderr",
     "output_type": "stream",
     "text": [
      "/Users/hang/.local/miniconda3/envs/astro/lib/python3.7/site-packages/numpy/core/fromnumeric.py:3118: RuntimeWarning: Mean of empty slice.\n",
      "  out=out, **kwargs)\n",
      "/Users/hang/.local/miniconda3/envs/astro/lib/python3.7/site-packages/numpy/core/_methods.py:85: RuntimeWarning: invalid value encountered in double_scalars\n",
      "  ret = ret.dtype.type(ret / rcount)\n",
      "/Users/hang/.local/miniconda3/envs/astro/lib/python3.7/site-packages/numpy/core/_methods.py:140: RuntimeWarning: Degrees of freedom <= 0 for slice\n",
      "  keepdims=keepdims)\n",
      "/Users/hang/.local/miniconda3/envs/astro/lib/python3.7/site-packages/numpy/core/_methods.py:110: RuntimeWarning: invalid value encountered in true_divide\n",
      "  arrmean, rcount, out=arrmean, casting='unsafe', subok=False)\n",
      "/Users/hang/.local/miniconda3/envs/astro/lib/python3.7/site-packages/numpy/core/_methods.py:132: RuntimeWarning: invalid value encountered in double_scalars\n",
      "  ret = ret.dtype.type(ret / rcount)\n",
      "/Users/hang/.local/miniconda3/envs/astro/lib/python3.7/site-packages/ipykernel_launcher.py:32: ResourceWarning: unclosed file <_io.FileIO name='/Volumes/Lacie2/fitmaps/fitmap/8241-6102.fits' mode='rb' closefd=True>\n"
     ]
    },
    {
     "name": "stdout",
     "output_type": "stream",
     "text": [
      "init: auto\n",
      "guess initial value by given range\n",
      "Success: [3.0, 0.2, 0.0]\n",
      "2.907108743103891 0.1262238876529706\n",
      "47 8547-12701\n"
     ]
    },
    {
     "name": "stderr",
     "output_type": "stream",
     "text": [
      "/Users/hang/.local/miniconda3/envs/astro/lib/python3.7/site-packages/ipykernel_launcher.py:32: ResourceWarning: unclosed file <_io.FileIO name='/Volumes/Lacie2/fitmaps/fitmap/8720-1901.fits' mode='rb' closefd=True>\n",
      "/Users/hang/.local/miniconda3/envs/astro/lib/python3.7/site-packages/ipykernel_launcher.py:32: ResourceWarning: unclosed file <_io.FileIO name='/Volumes/Lacie2/fitmaps/fitmap2/8720-1901_binned-maps.fits' mode='rb' closefd=True>\n"
     ]
    },
    {
     "name": "stdout",
     "output_type": "stream",
     "text": [
      "init: auto\n",
      "guess initial value by given range\n",
      "Success: [3.0, 0.2, 0.0]\n",
      "3.9313614783621165 0.02345876504400883\n",
      "48 8978-12705\n"
     ]
    },
    {
     "name": "stderr",
     "output_type": "stream",
     "text": [
      "/Users/hang/.local/miniconda3/envs/astro/lib/python3.7/site-packages/ipykernel_launcher.py:32: ResourceWarning: unclosed file <_io.FileIO name='/Volumes/Lacie2/fitmaps/fitmap/8547-12701.fits' mode='rb' closefd=True>\n",
      "/Users/hang/.local/miniconda3/envs/astro/lib/python3.7/site-packages/ipykernel_launcher.py:32: ResourceWarning: unclosed file <_io.FileIO name='/Volumes/Lacie2/fitmaps/fitmap2/8547-12701_binned-maps.fits' mode='rb' closefd=True>\n"
     ]
    },
    {
     "name": "stdout",
     "output_type": "stream",
     "text": [
      "init: auto\n",
      "guess initial value by given range\n",
      "Success: [3.0, 0.2, 0.0]\n",
      "2.9153284749481316 0.15571184162111373\n",
      "49 8978-6102\n"
     ]
    },
    {
     "name": "stderr",
     "output_type": "stream",
     "text": [
      "/Users/hang/.local/miniconda3/envs/astro/lib/python3.7/site-packages/numpy/core/fromnumeric.py:3118: RuntimeWarning: Mean of empty slice.\n",
      "  out=out, **kwargs)\n",
      "/Users/hang/.local/miniconda3/envs/astro/lib/python3.7/site-packages/numpy/core/_methods.py:85: RuntimeWarning: invalid value encountered in double_scalars\n",
      "  ret = ret.dtype.type(ret / rcount)\n",
      "/Users/hang/.local/miniconda3/envs/astro/lib/python3.7/site-packages/numpy/core/_methods.py:140: RuntimeWarning: Degrees of freedom <= 0 for slice\n",
      "  keepdims=keepdims)\n",
      "/Users/hang/.local/miniconda3/envs/astro/lib/python3.7/site-packages/numpy/core/_methods.py:110: RuntimeWarning: invalid value encountered in true_divide\n",
      "  arrmean, rcount, out=arrmean, casting='unsafe', subok=False)\n",
      "/Users/hang/.local/miniconda3/envs/astro/lib/python3.7/site-packages/numpy/core/_methods.py:132: RuntimeWarning: invalid value encountered in double_scalars\n",
      "  ret = ret.dtype.type(ret / rcount)\n",
      "/Users/hang/.local/miniconda3/envs/astro/lib/python3.7/site-packages/ipykernel_launcher.py:32: ResourceWarning: unclosed file <_io.FileIO name='/Volumes/Lacie2/fitmaps/fitmap/8978-12705.fits' mode='rb' closefd=True>\n",
      "/Users/hang/.local/miniconda3/envs/astro/lib/python3.7/site-packages/ipykernel_launcher.py:32: ResourceWarning: unclosed file <_io.FileIO name='/Volumes/Lacie2/fitmaps/fitmap2/8978-12705_binned-maps.fits' mode='rb' closefd=True>\n"
     ]
    },
    {
     "name": "stdout",
     "output_type": "stream",
     "text": [
      "init: auto\n",
      "guess initial value by given range\n",
      "Success: [3.0, 0.2, 0.0]\n",
      "No valid measurment\n",
      "-3.26395057353054 217147.2409516259\n",
      "50 8978-9101\n"
     ]
    },
    {
     "name": "stderr",
     "output_type": "stream",
     "text": [
      "/Users/hang/.local/miniconda3/envs/astro/lib/python3.7/site-packages/numpy/core/fromnumeric.py:3118: RuntimeWarning: Mean of empty slice.\n",
      "  out=out, **kwargs)\n",
      "/Users/hang/.local/miniconda3/envs/astro/lib/python3.7/site-packages/numpy/core/_methods.py:85: RuntimeWarning: invalid value encountered in double_scalars\n",
      "  ret = ret.dtype.type(ret / rcount)\n",
      "/Users/hang/.local/miniconda3/envs/astro/lib/python3.7/site-packages/numpy/core/_methods.py:140: RuntimeWarning: Degrees of freedom <= 0 for slice\n",
      "  keepdims=keepdims)\n",
      "/Users/hang/.local/miniconda3/envs/astro/lib/python3.7/site-packages/numpy/core/_methods.py:110: RuntimeWarning: invalid value encountered in true_divide\n",
      "  arrmean, rcount, out=arrmean, casting='unsafe', subok=False)\n",
      "/Users/hang/.local/miniconda3/envs/astro/lib/python3.7/site-packages/numpy/core/_methods.py:132: RuntimeWarning: invalid value encountered in double_scalars\n",
      "  ret = ret.dtype.type(ret / rcount)\n",
      "/Users/hang/.local/miniconda3/envs/astro/lib/python3.7/site-packages/ipykernel_launcher.py:32: ResourceWarning: unclosed file <_io.FileIO name='/Volumes/Lacie2/fitmaps/fitmap/8978-6102.fits' mode='rb' closefd=True>\n",
      "/Users/hang/.local/miniconda3/envs/astro/lib/python3.7/site-packages/ipykernel_launcher.py:32: ResourceWarning: unclosed file <_io.FileIO name='/Volumes/Lacie2/fitmaps/fitmap2/8978-6102_binned-maps.fits' mode='rb' closefd=True>\n"
     ]
    },
    {
     "name": "stdout",
     "output_type": "stream",
     "text": [
      "init: auto\n",
      "guess initial value by given range\n",
      "Success: [3.0, 0.2, 0.0]\n",
      "2.9073828044527934 0.16811793711063377\n",
      "51 8979-6102\n"
     ]
    },
    {
     "name": "stderr",
     "output_type": "stream",
     "text": [
      "/Users/hang/.local/miniconda3/envs/astro/lib/python3.7/site-packages/ipykernel_launcher.py:32: ResourceWarning: unclosed file <_io.FileIO name='/Volumes/Lacie2/fitmaps/fitmap/8978-9101.fits' mode='rb' closefd=True>\n",
      "/Users/hang/.local/miniconda3/envs/astro/lib/python3.7/site-packages/ipykernel_launcher.py:32: ResourceWarning: unclosed file <_io.FileIO name='/Volumes/Lacie2/fitmaps/fitmap2/8978-9101_binned-maps.fits' mode='rb' closefd=True>\n"
     ]
    },
    {
     "name": "stdout",
     "output_type": "stream",
     "text": [
      "init: auto\n",
      "guess initial value by given range\n",
      "Success: [3.0, 0.2, 0.0]\n",
      "2.9936650179902706 0.15722878162637474\n",
      "52 8948-12704\n"
     ]
    },
    {
     "name": "stderr",
     "output_type": "stream",
     "text": [
      "/Users/hang/.local/miniconda3/envs/astro/lib/python3.7/site-packages/numpy/core/fromnumeric.py:3118: RuntimeWarning: Mean of empty slice.\n",
      "  out=out, **kwargs)\n",
      "/Users/hang/.local/miniconda3/envs/astro/lib/python3.7/site-packages/numpy/core/_methods.py:85: RuntimeWarning: invalid value encountered in double_scalars\n",
      "  ret = ret.dtype.type(ret / rcount)\n",
      "/Users/hang/.local/miniconda3/envs/astro/lib/python3.7/site-packages/numpy/core/_methods.py:140: RuntimeWarning: Degrees of freedom <= 0 for slice\n",
      "  keepdims=keepdims)\n",
      "/Users/hang/.local/miniconda3/envs/astro/lib/python3.7/site-packages/numpy/core/_methods.py:110: RuntimeWarning: invalid value encountered in true_divide\n",
      "  arrmean, rcount, out=arrmean, casting='unsafe', subok=False)\n",
      "/Users/hang/.local/miniconda3/envs/astro/lib/python3.7/site-packages/numpy/core/_methods.py:132: RuntimeWarning: invalid value encountered in double_scalars\n",
      "  ret = ret.dtype.type(ret / rcount)\n",
      "/Users/hang/.local/miniconda3/envs/astro/lib/python3.7/site-packages/ipykernel_launcher.py:32: ResourceWarning: unclosed file <_io.FileIO name='/Volumes/Lacie2/fitmaps/fitmap/8979-6102.fits' mode='rb' closefd=True>\n",
      "/Users/hang/.local/miniconda3/envs/astro/lib/python3.7/site-packages/ipykernel_launcher.py:32: ResourceWarning: unclosed file <_io.FileIO name='/Volumes/Lacie2/fitmaps/fitmap2/8979-6102_binned-maps.fits' mode='rb' closefd=True>\n"
     ]
    },
    {
     "name": "stdout",
     "output_type": "stream",
     "text": [
      "init: auto\n",
      "guess initial value by given range\n",
      "Success: [3.0, 0.2, 0.0]\n",
      "3.407092004482572 0.1257830253010998\n",
      "53 8946-3701\n"
     ]
    },
    {
     "name": "stderr",
     "output_type": "stream",
     "text": [
      "/Users/hang/.local/miniconda3/envs/astro/lib/python3.7/site-packages/numpy/core/fromnumeric.py:3118: RuntimeWarning: Mean of empty slice.\n",
      "  out=out, **kwargs)\n",
      "/Users/hang/.local/miniconda3/envs/astro/lib/python3.7/site-packages/numpy/core/_methods.py:85: RuntimeWarning: invalid value encountered in double_scalars\n",
      "  ret = ret.dtype.type(ret / rcount)\n",
      "/Users/hang/.local/miniconda3/envs/astro/lib/python3.7/site-packages/numpy/core/_methods.py:140: RuntimeWarning: Degrees of freedom <= 0 for slice\n",
      "  keepdims=keepdims)\n",
      "/Users/hang/.local/miniconda3/envs/astro/lib/python3.7/site-packages/numpy/core/_methods.py:110: RuntimeWarning: invalid value encountered in true_divide\n",
      "  arrmean, rcount, out=arrmean, casting='unsafe', subok=False)\n",
      "/Users/hang/.local/miniconda3/envs/astro/lib/python3.7/site-packages/numpy/core/_methods.py:132: RuntimeWarning: invalid value encountered in double_scalars\n",
      "  ret = ret.dtype.type(ret / rcount)\n",
      "/Users/hang/.local/miniconda3/envs/astro/lib/python3.7/site-packages/ipykernel_launcher.py:32: ResourceWarning: unclosed file <_io.FileIO name='/Volumes/Lacie2/fitmaps/fitmap/8948-12704.fits' mode='rb' closefd=True>\n",
      "/Users/hang/.local/miniconda3/envs/astro/lib/python3.7/site-packages/ipykernel_launcher.py:32: ResourceWarning: unclosed file <_io.FileIO name='/Volumes/Lacie2/fitmaps/fitmap2/8948-12704_binned-maps.fits' mode='rb' closefd=True>\n"
     ]
    },
    {
     "name": "stdout",
     "output_type": "stream",
     "text": [
      "init: auto\n",
      "guess initial value by given range\n",
      "Success: [3.0, 0.2, 0.0]\n",
      "3.2883493799660726 0.12217522606264758\n",
      "54 8947-3701\n"
     ]
    },
    {
     "name": "stderr",
     "output_type": "stream",
     "text": [
      "/Users/hang/.local/miniconda3/envs/astro/lib/python3.7/site-packages/numpy/core/fromnumeric.py:3118: RuntimeWarning: Mean of empty slice.\n",
      "  out=out, **kwargs)\n",
      "/Users/hang/.local/miniconda3/envs/astro/lib/python3.7/site-packages/numpy/core/_methods.py:85: RuntimeWarning: invalid value encountered in double_scalars\n",
      "  ret = ret.dtype.type(ret / rcount)\n",
      "/Users/hang/.local/miniconda3/envs/astro/lib/python3.7/site-packages/numpy/core/_methods.py:140: RuntimeWarning: Degrees of freedom <= 0 for slice\n",
      "  keepdims=keepdims)\n",
      "/Users/hang/.local/miniconda3/envs/astro/lib/python3.7/site-packages/numpy/core/_methods.py:110: RuntimeWarning: invalid value encountered in true_divide\n",
      "  arrmean, rcount, out=arrmean, casting='unsafe', subok=False)\n",
      "/Users/hang/.local/miniconda3/envs/astro/lib/python3.7/site-packages/numpy/core/_methods.py:132: RuntimeWarning: invalid value encountered in double_scalars\n",
      "  ret = ret.dtype.type(ret / rcount)\n",
      "/Users/hang/.local/miniconda3/envs/astro/lib/python3.7/site-packages/ipykernel_launcher.py:32: ResourceWarning: unclosed file <_io.FileIO name='/Volumes/Lacie2/fitmaps/fitmap/8946-3701.fits' mode='rb' closefd=True>\n",
      "/Users/hang/.local/miniconda3/envs/astro/lib/python3.7/site-packages/ipykernel_launcher.py:32: ResourceWarning: unclosed file <_io.FileIO name='/Volumes/Lacie2/fitmaps/fitmap2/8946-3701_binned-maps.fits' mode='rb' closefd=True>\n"
     ]
    },
    {
     "name": "stdout",
     "output_type": "stream",
     "text": [
      "init: auto\n",
      "guess initial value by given range\n",
      "Success: [3.0, 0.2, 0.0]\n",
      "3.2515797428474107 0.11822328618452467\n",
      "55 8945-3703\n"
     ]
    },
    {
     "name": "stderr",
     "output_type": "stream",
     "text": [
      "/Users/hang/.local/miniconda3/envs/astro/lib/python3.7/site-packages/numpy/core/fromnumeric.py:3118: RuntimeWarning: Mean of empty slice.\n",
      "  out=out, **kwargs)\n",
      "/Users/hang/.local/miniconda3/envs/astro/lib/python3.7/site-packages/numpy/core/_methods.py:85: RuntimeWarning: invalid value encountered in double_scalars\n",
      "  ret = ret.dtype.type(ret / rcount)\n",
      "/Users/hang/.local/miniconda3/envs/astro/lib/python3.7/site-packages/numpy/core/_methods.py:140: RuntimeWarning: Degrees of freedom <= 0 for slice\n",
      "  keepdims=keepdims)\n",
      "/Users/hang/.local/miniconda3/envs/astro/lib/python3.7/site-packages/numpy/core/_methods.py:110: RuntimeWarning: invalid value encountered in true_divide\n",
      "  arrmean, rcount, out=arrmean, casting='unsafe', subok=False)\n",
      "/Users/hang/.local/miniconda3/envs/astro/lib/python3.7/site-packages/numpy/core/_methods.py:132: RuntimeWarning: invalid value encountered in double_scalars\n",
      "  ret = ret.dtype.type(ret / rcount)\n",
      "/Users/hang/.local/miniconda3/envs/astro/lib/python3.7/site-packages/ipykernel_launcher.py:32: ResourceWarning: unclosed file <_io.FileIO name='/Volumes/Lacie2/fitmaps/fitmap/8947-3701.fits' mode='rb' closefd=True>\n",
      "/Users/hang/.local/miniconda3/envs/astro/lib/python3.7/site-packages/ipykernel_launcher.py:32: ResourceWarning: unclosed file <_io.FileIO name='/Volumes/Lacie2/fitmaps/fitmap2/8947-3701_binned-maps.fits' mode='rb' closefd=True>\n"
     ]
    },
    {
     "name": "stdout",
     "output_type": "stream",
     "text": [
      "init: auto\n",
      "guess initial value by given range\n",
      "Success: [3.0, 0.2, 0.0]\n",
      "3.0657025744045194 0.17453321192742569\n",
      "56 8597-3703\n"
     ]
    },
    {
     "name": "stderr",
     "output_type": "stream",
     "text": [
      "/Users/hang/.local/miniconda3/envs/astro/lib/python3.7/site-packages/ipykernel_launcher.py:32: ResourceWarning: unclosed file <_io.FileIO name='/Volumes/Lacie2/fitmaps/fitmap/8945-3703.fits' mode='rb' closefd=True>\n",
      "/Users/hang/.local/miniconda3/envs/astro/lib/python3.7/site-packages/ipykernel_launcher.py:32: ResourceWarning: unclosed file <_io.FileIO name='/Volumes/Lacie2/fitmaps/fitmap2/8945-3703_binned-maps.fits' mode='rb' closefd=True>\n"
     ]
    },
    {
     "name": "stdout",
     "output_type": "stream",
     "text": [
      "init: auto\n",
      "guess initial value by given range\n"
     ]
    },
    {
     "name": "stderr",
     "output_type": "stream",
     "text": [
      "/Users/hang/.local/miniconda3/envs/astro/lib/python3.7/site-packages/numpy/core/fromnumeric.py:3118: RuntimeWarning: Mean of empty slice.\n",
      "  out=out, **kwargs)\n",
      "/Users/hang/.local/miniconda3/envs/astro/lib/python3.7/site-packages/numpy/core/_methods.py:85: RuntimeWarning: invalid value encountered in double_scalars\n",
      "  ret = ret.dtype.type(ret / rcount)\n",
      "/Users/hang/.local/miniconda3/envs/astro/lib/python3.7/site-packages/numpy/core/_methods.py:140: RuntimeWarning: Degrees of freedom <= 0 for slice\n",
      "  keepdims=keepdims)\n",
      "/Users/hang/.local/miniconda3/envs/astro/lib/python3.7/site-packages/numpy/core/_methods.py:110: RuntimeWarning: invalid value encountered in true_divide\n",
      "  arrmean, rcount, out=arrmean, casting='unsafe', subok=False)\n",
      "/Users/hang/.local/miniconda3/envs/astro/lib/python3.7/site-packages/numpy/core/_methods.py:132: RuntimeWarning: invalid value encountered in double_scalars\n",
      "  ret = ret.dtype.type(ret / rcount)\n"
     ]
    },
    {
     "name": "stdout",
     "output_type": "stream",
     "text": [
      "Success: [3.0, 0.2, 2.0]\n",
      "3.0090293613804 0.15707989073468315\n",
      "57 9026-9101\n"
     ]
    },
    {
     "name": "stderr",
     "output_type": "stream",
     "text": [
      "/Users/hang/.local/miniconda3/envs/astro/lib/python3.7/site-packages/ipykernel_launcher.py:32: ResourceWarning: unclosed file <_io.FileIO name='/Volumes/Lacie2/fitmaps/fitmap/8597-3703.fits' mode='rb' closefd=True>\n",
      "/Users/hang/.local/miniconda3/envs/astro/lib/python3.7/site-packages/ipykernel_launcher.py:32: ResourceWarning: unclosed file <_io.FileIO name='/Volumes/Lacie2/fitmaps/fitmap2/8597-3703_binned-maps.fits' mode='rb' closefd=True>\n"
     ]
    },
    {
     "name": "stdout",
     "output_type": "stream",
     "text": [
      "init: auto\n",
      "guess initial value by given range\n",
      "Success: [3.0, 0.2, 0.0]\n",
      "3.102718577705835 0.11102835650322984\n",
      "58 9049-1901\n"
     ]
    },
    {
     "name": "stderr",
     "output_type": "stream",
     "text": [
      "/Users/hang/.local/miniconda3/envs/astro/lib/python3.7/site-packages/ipykernel_launcher.py:32: ResourceWarning: unclosed file <_io.FileIO name='/Volumes/Lacie2/fitmaps/fitmap/9026-9101.fits' mode='rb' closefd=True>\n",
      "/Users/hang/.local/miniconda3/envs/astro/lib/python3.7/site-packages/ipykernel_launcher.py:32: ResourceWarning: unclosed file <_io.FileIO name='/Volumes/Lacie2/fitmaps/fitmap2/9026-9101_binned-maps.fits' mode='rb' closefd=True>\n"
     ]
    },
    {
     "name": "stdout",
     "output_type": "stream",
     "text": [
      "init: auto\n",
      "guess initial value by given range\n"
     ]
    },
    {
     "name": "stderr",
     "output_type": "stream",
     "text": [
      "/Users/hang/.local/miniconda3/envs/astro/lib/python3.7/site-packages/numpy/core/fromnumeric.py:3118: RuntimeWarning: Mean of empty slice.\n",
      "  out=out, **kwargs)\n",
      "/Users/hang/.local/miniconda3/envs/astro/lib/python3.7/site-packages/numpy/core/_methods.py:85: RuntimeWarning: invalid value encountered in double_scalars\n",
      "  ret = ret.dtype.type(ret / rcount)\n",
      "/Users/hang/.local/miniconda3/envs/astro/lib/python3.7/site-packages/numpy/core/_methods.py:140: RuntimeWarning: Degrees of freedom <= 0 for slice\n",
      "  keepdims=keepdims)\n",
      "/Users/hang/.local/miniconda3/envs/astro/lib/python3.7/site-packages/numpy/core/_methods.py:110: RuntimeWarning: invalid value encountered in true_divide\n",
      "  arrmean, rcount, out=arrmean, casting='unsafe', subok=False)\n",
      "/Users/hang/.local/miniconda3/envs/astro/lib/python3.7/site-packages/numpy/core/_methods.py:132: RuntimeWarning: invalid value encountered in double_scalars\n",
      "  ret = ret.dtype.type(ret / rcount)\n"
     ]
    },
    {
     "name": "stdout",
     "output_type": "stream",
     "text": [
      "Success: [3.0, 0.2, 0.0]\n",
      "3.7139090977499785 0.11106266687297743\n",
      "59 9002-12702\n"
     ]
    },
    {
     "name": "stderr",
     "output_type": "stream",
     "text": [
      "/Users/hang/.local/miniconda3/envs/astro/lib/python3.7/site-packages/ipykernel_launcher.py:32: ResourceWarning: unclosed file <_io.FileIO name='/Volumes/Lacie2/fitmaps/fitmap/9049-1901.fits' mode='rb' closefd=True>\n",
      "/Users/hang/.local/miniconda3/envs/astro/lib/python3.7/site-packages/ipykernel_launcher.py:32: ResourceWarning: unclosed file <_io.FileIO name='/Volumes/Lacie2/fitmaps/fitmap2/9049-1901_binned-maps.fits' mode='rb' closefd=True>\n"
     ]
    },
    {
     "name": "stdout",
     "output_type": "stream",
     "text": [
      "init: auto\n",
      "guess initial value by given range\n",
      "Success: [3.0, 0.4, 2.0]\n",
      "3.1003069907121246 0.19339671751874246\n",
      "60 9031-1902\n"
     ]
    },
    {
     "name": "stderr",
     "output_type": "stream",
     "text": [
      "/Users/hang/.local/miniconda3/envs/astro/lib/python3.7/site-packages/numpy/core/fromnumeric.py:3118: RuntimeWarning: Mean of empty slice.\n",
      "  out=out, **kwargs)\n",
      "/Users/hang/.local/miniconda3/envs/astro/lib/python3.7/site-packages/numpy/core/_methods.py:85: RuntimeWarning: invalid value encountered in double_scalars\n",
      "  ret = ret.dtype.type(ret / rcount)\n",
      "/Users/hang/.local/miniconda3/envs/astro/lib/python3.7/site-packages/numpy/core/_methods.py:140: RuntimeWarning: Degrees of freedom <= 0 for slice\n",
      "  keepdims=keepdims)\n",
      "/Users/hang/.local/miniconda3/envs/astro/lib/python3.7/site-packages/numpy/core/_methods.py:110: RuntimeWarning: invalid value encountered in true_divide\n",
      "  arrmean, rcount, out=arrmean, casting='unsafe', subok=False)\n",
      "/Users/hang/.local/miniconda3/envs/astro/lib/python3.7/site-packages/numpy/core/_methods.py:132: RuntimeWarning: invalid value encountered in double_scalars\n",
      "  ret = ret.dtype.type(ret / rcount)\n",
      "/Users/hang/.local/miniconda3/envs/astro/lib/python3.7/site-packages/ipykernel_launcher.py:32: ResourceWarning: unclosed file <_io.FileIO name='/Volumes/Lacie2/fitmaps/fitmap/9002-12702.fits' mode='rb' closefd=True>\n",
      "/Users/hang/.local/miniconda3/envs/astro/lib/python3.7/site-packages/ipykernel_launcher.py:32: ResourceWarning: unclosed file <_io.FileIO name='/Volumes/Lacie2/fitmaps/fitmap2/9002-12702_binned-maps.fits' mode='rb' closefd=True>\n"
     ]
    },
    {
     "name": "stdout",
     "output_type": "stream",
     "text": [
      "init: auto\n",
      "guess initial value by given range\n",
      "Success: [3.0, 0.2, 0.5]\n",
      "3.1384243823054483 0.1394575301115024\n",
      "61 9027-12704\n"
     ]
    },
    {
     "name": "stderr",
     "output_type": "stream",
     "text": [
      "/Users/hang/.local/miniconda3/envs/astro/lib/python3.7/site-packages/numpy/core/fromnumeric.py:3118: RuntimeWarning: Mean of empty slice.\n",
      "  out=out, **kwargs)\n",
      "/Users/hang/.local/miniconda3/envs/astro/lib/python3.7/site-packages/numpy/core/_methods.py:85: RuntimeWarning: invalid value encountered in double_scalars\n",
      "  ret = ret.dtype.type(ret / rcount)\n",
      "/Users/hang/.local/miniconda3/envs/astro/lib/python3.7/site-packages/numpy/core/_methods.py:140: RuntimeWarning: Degrees of freedom <= 0 for slice\n",
      "  keepdims=keepdims)\n",
      "/Users/hang/.local/miniconda3/envs/astro/lib/python3.7/site-packages/numpy/core/_methods.py:110: RuntimeWarning: invalid value encountered in true_divide\n",
      "  arrmean, rcount, out=arrmean, casting='unsafe', subok=False)\n",
      "/Users/hang/.local/miniconda3/envs/astro/lib/python3.7/site-packages/numpy/core/_methods.py:132: RuntimeWarning: invalid value encountered in double_scalars\n",
      "  ret = ret.dtype.type(ret / rcount)\n",
      "/Users/hang/.local/miniconda3/envs/astro/lib/python3.7/site-packages/ipykernel_launcher.py:32: ResourceWarning: unclosed file <_io.FileIO name='/Volumes/Lacie2/fitmaps/fitmap/9031-1902.fits' mode='rb' closefd=True>\n",
      "/Users/hang/.local/miniconda3/envs/astro/lib/python3.7/site-packages/ipykernel_launcher.py:32: ResourceWarning: unclosed file <_io.FileIO name='/Volumes/Lacie2/fitmaps/fitmap2/9031-1902_binned-maps.fits' mode='rb' closefd=True>\n"
     ]
    },
    {
     "name": "stdout",
     "output_type": "stream",
     "text": [
      "init: auto\n",
      "guess initial value by given range\n",
      "Success: [3.0, 0.2, 0.0]\n",
      "3.16244500308437 0.10665918506676017\n",
      "62 8982-3703\n"
     ]
    },
    {
     "name": "stderr",
     "output_type": "stream",
     "text": [
      "/Users/hang/.local/miniconda3/envs/astro/lib/python3.7/site-packages/ipykernel_launcher.py:32: ResourceWarning: unclosed file <_io.FileIO name='/Volumes/Lacie2/fitmaps/fitmap/9027-12704.fits' mode='rb' closefd=True>\n",
      "/Users/hang/.local/miniconda3/envs/astro/lib/python3.7/site-packages/ipykernel_launcher.py:32: ResourceWarning: unclosed file <_io.FileIO name='/Volumes/Lacie2/fitmaps/fitmap2/9027-12704_binned-maps.fits' mode='rb' closefd=True>\n"
     ]
    },
    {
     "name": "stdout",
     "output_type": "stream",
     "text": [
      "init: auto\n",
      "guess initial value by given range\n",
      "Success: [3.0, 0.2, 1.0]\n",
      "3.3244653555755774 0.09932784418633983\n",
      "63 7972-6103\n"
     ]
    },
    {
     "name": "stderr",
     "output_type": "stream",
     "text": [
      "/Users/hang/.local/miniconda3/envs/astro/lib/python3.7/site-packages/ipykernel_launcher.py:32: ResourceWarning: unclosed file <_io.FileIO name='/Volumes/Lacie2/fitmaps/fitmap/8982-3703.fits' mode='rb' closefd=True>\n",
      "/Users/hang/.local/miniconda3/envs/astro/lib/python3.7/site-packages/ipykernel_launcher.py:32: ResourceWarning: unclosed file <_io.FileIO name='/Volumes/Lacie2/fitmaps/fitmap2/8982-3703_binned-maps.fits' mode='rb' closefd=True>\n"
     ]
    },
    {
     "name": "stdout",
     "output_type": "stream",
     "text": [
      "init: auto\n",
      "guess initial value by given range\n"
     ]
    },
    {
     "name": "stderr",
     "output_type": "stream",
     "text": [
      "/Users/hang/.local/miniconda3/envs/astro/lib/python3.7/site-packages/numpy/core/fromnumeric.py:3118: RuntimeWarning: Mean of empty slice.\n",
      "  out=out, **kwargs)\n",
      "/Users/hang/.local/miniconda3/envs/astro/lib/python3.7/site-packages/numpy/core/_methods.py:85: RuntimeWarning: invalid value encountered in double_scalars\n",
      "  ret = ret.dtype.type(ret / rcount)\n",
      "/Users/hang/.local/miniconda3/envs/astro/lib/python3.7/site-packages/numpy/core/_methods.py:140: RuntimeWarning: Degrees of freedom <= 0 for slice\n",
      "  keepdims=keepdims)\n",
      "/Users/hang/.local/miniconda3/envs/astro/lib/python3.7/site-packages/numpy/core/_methods.py:110: RuntimeWarning: invalid value encountered in true_divide\n",
      "  arrmean, rcount, out=arrmean, casting='unsafe', subok=False)\n",
      "/Users/hang/.local/miniconda3/envs/astro/lib/python3.7/site-packages/numpy/core/_methods.py:132: RuntimeWarning: invalid value encountered in double_scalars\n",
      "  ret = ret.dtype.type(ret / rcount)\n"
     ]
    },
    {
     "name": "stdout",
     "output_type": "stream",
     "text": [
      "Success: [3.0, 0.2, 0.0]\n",
      "3.1567050721015955 0.13430327605468226\n",
      "64 9025-12704\n"
     ]
    },
    {
     "name": "stderr",
     "output_type": "stream",
     "text": [
      "/Users/hang/.local/miniconda3/envs/astro/lib/python3.7/site-packages/ipykernel_launcher.py:32: ResourceWarning: unclosed file <_io.FileIO name='/Volumes/Lacie2/fitmaps/fitmap/7972-6103.fits' mode='rb' closefd=True>\n",
      "/Users/hang/.local/miniconda3/envs/astro/lib/python3.7/site-packages/ipykernel_launcher.py:32: ResourceWarning: unclosed file <_io.FileIO name='/Volumes/Lacie2/fitmaps/fitmap2/7972-6103_binned-maps.fits' mode='rb' closefd=True>\n"
     ]
    },
    {
     "name": "stdout",
     "output_type": "stream",
     "text": [
      "init: auto\n",
      "guess initial value by given range\n",
      "Success: [3.0, 0.2, 0.0]\n",
      "3.516311252120299 0.06552441403418713\n",
      "65 7958-9101\n"
     ]
    },
    {
     "name": "stderr",
     "output_type": "stream",
     "text": [
      "/Users/hang/.local/miniconda3/envs/astro/lib/python3.7/site-packages/ipykernel_launcher.py:32: ResourceWarning: unclosed file <_io.FileIO name='/Volumes/Lacie2/fitmaps/fitmap/9025-12704.fits' mode='rb' closefd=True>\n",
      "/Users/hang/.local/miniconda3/envs/astro/lib/python3.7/site-packages/ipykernel_launcher.py:32: ResourceWarning: unclosed file <_io.FileIO name='/Volumes/Lacie2/fitmaps/fitmap2/9025-12704_binned-maps.fits' mode='rb' closefd=True>\n"
     ]
    },
    {
     "name": "stdout",
     "output_type": "stream",
     "text": [
      "init: auto\n",
      "guess initial value by given range\n",
      "Success: [3.0, 0.2, 0.0]\n",
      "3.0946390186339414 0.13895402271482754\n",
      "66 9195-3703\n"
     ]
    },
    {
     "name": "stderr",
     "output_type": "stream",
     "text": [
      "/Users/hang/.local/miniconda3/envs/astro/lib/python3.7/site-packages/numpy/core/fromnumeric.py:3118: RuntimeWarning: Mean of empty slice.\n",
      "  out=out, **kwargs)\n",
      "/Users/hang/.local/miniconda3/envs/astro/lib/python3.7/site-packages/numpy/core/_methods.py:85: RuntimeWarning: invalid value encountered in double_scalars\n",
      "  ret = ret.dtype.type(ret / rcount)\n",
      "/Users/hang/.local/miniconda3/envs/astro/lib/python3.7/site-packages/numpy/core/_methods.py:140: RuntimeWarning: Degrees of freedom <= 0 for slice\n",
      "  keepdims=keepdims)\n",
      "/Users/hang/.local/miniconda3/envs/astro/lib/python3.7/site-packages/numpy/core/_methods.py:110: RuntimeWarning: invalid value encountered in true_divide\n",
      "  arrmean, rcount, out=arrmean, casting='unsafe', subok=False)\n",
      "/Users/hang/.local/miniconda3/envs/astro/lib/python3.7/site-packages/numpy/core/_methods.py:132: RuntimeWarning: invalid value encountered in double_scalars\n",
      "  ret = ret.dtype.type(ret / rcount)\n",
      "/Users/hang/.local/miniconda3/envs/astro/lib/python3.7/site-packages/ipykernel_launcher.py:32: ResourceWarning: unclosed file <_io.FileIO name='/Volumes/Lacie2/fitmaps/fitmap/7958-9101.fits' mode='rb' closefd=True>\n",
      "/Users/hang/.local/miniconda3/envs/astro/lib/python3.7/site-packages/ipykernel_launcher.py:32: ResourceWarning: unclosed file <_io.FileIO name='/Volumes/Lacie2/fitmaps/fitmap2/7958-9101_binned-maps.fits' mode='rb' closefd=True>\n"
     ]
    },
    {
     "name": "stdout",
     "output_type": "stream",
     "text": [
      "init: auto\n",
      "guess initial value by given range\n",
      "Success: [3.0, 0.2, 0.5]\n",
      "3.071856967473404 0.10221254861890648\n",
      "67 8080-12703\n"
     ]
    },
    {
     "name": "stderr",
     "output_type": "stream",
     "text": [
      "/Users/hang/.local/miniconda3/envs/astro/lib/python3.7/site-packages/numpy/core/fromnumeric.py:3118: RuntimeWarning: Mean of empty slice.\n",
      "  out=out, **kwargs)\n",
      "/Users/hang/.local/miniconda3/envs/astro/lib/python3.7/site-packages/numpy/core/_methods.py:85: RuntimeWarning: invalid value encountered in double_scalars\n",
      "  ret = ret.dtype.type(ret / rcount)\n",
      "/Users/hang/.local/miniconda3/envs/astro/lib/python3.7/site-packages/numpy/core/_methods.py:140: RuntimeWarning: Degrees of freedom <= 0 for slice\n",
      "  keepdims=keepdims)\n",
      "/Users/hang/.local/miniconda3/envs/astro/lib/python3.7/site-packages/numpy/core/_methods.py:110: RuntimeWarning: invalid value encountered in true_divide\n",
      "  arrmean, rcount, out=arrmean, casting='unsafe', subok=False)\n",
      "/Users/hang/.local/miniconda3/envs/astro/lib/python3.7/site-packages/numpy/core/_methods.py:132: RuntimeWarning: invalid value encountered in double_scalars\n",
      "  ret = ret.dtype.type(ret / rcount)\n",
      "/Users/hang/.local/miniconda3/envs/astro/lib/python3.7/site-packages/ipykernel_launcher.py:32: ResourceWarning: unclosed file <_io.FileIO name='/Volumes/Lacie2/fitmaps/fitmap/9195-3703.fits' mode='rb' closefd=True>\n",
      "/Users/hang/.local/miniconda3/envs/astro/lib/python3.7/site-packages/ipykernel_launcher.py:32: ResourceWarning: unclosed file <_io.FileIO name='/Volumes/Lacie2/fitmaps/fitmap2/9195-3703_binned-maps.fits' mode='rb' closefd=True>\n"
     ]
    },
    {
     "name": "stdout",
     "output_type": "stream",
     "text": [
      "init: auto\n",
      "guess initial value by given range\n",
      "Success: [3.0, 0.2, 1.5]\n",
      "2.8135591353917127 0.15707989073468312\n",
      "68 9182-6102\n"
     ]
    },
    {
     "name": "stderr",
     "output_type": "stream",
     "text": [
      "/Users/hang/.local/miniconda3/envs/astro/lib/python3.7/site-packages/ipykernel_launcher.py:32: ResourceWarning: unclosed file <_io.FileIO name='/Volumes/Lacie2/fitmaps/fitmap/8080-12703.fits' mode='rb' closefd=True>\n",
      "/Users/hang/.local/miniconda3/envs/astro/lib/python3.7/site-packages/ipykernel_launcher.py:32: ResourceWarning: unclosed file <_io.FileIO name='/Volumes/Lacie2/fitmaps/fitmap2/8080-12703_binned-maps.fits' mode='rb' closefd=True>\n",
      "/Users/hang/Desktop/research/projects/ENLR/code_new/mangatools/fitmaps.py:54: RuntimeWarning: invalid value encountered in true_divide\n",
      "  snr_cut = ((Ha / Ha_err) < 3) | ((Hb / Hb_err) < 3)\n",
      "/Users/hang/Desktop/research/projects/ENLR/code_new/mangatools/fitmaps.py:54: RuntimeWarning: invalid value encountered in less\n",
      "  snr_cut = ((Ha / Ha_err) < 3) | ((Hb / Hb_err) < 3)\n",
      "/Users/hang/Desktop/research/projects/ENLR/code_new/mangatools/fitmaps.py:58: RuntimeWarning: divide by zero encountered in log10\n",
      "  E_BV = 1.97 * np.log10(ratio_obs / ratio_theory)\n"
     ]
    },
    {
     "name": "stdout",
     "output_type": "stream",
     "text": [
      "init: auto\n",
      "guess initial value by given range\n",
      "Success: [3.0, 0.2, 0.0]\n",
      "3.4329542310587695 0.10779807738480952\n",
      "69 9193-12701\n"
     ]
    },
    {
     "name": "stderr",
     "output_type": "stream",
     "text": [
      "/Users/hang/.local/miniconda3/envs/astro/lib/python3.7/site-packages/numpy/core/fromnumeric.py:3118: RuntimeWarning: Mean of empty slice.\n",
      "  out=out, **kwargs)\n",
      "/Users/hang/.local/miniconda3/envs/astro/lib/python3.7/site-packages/numpy/core/_methods.py:85: RuntimeWarning: invalid value encountered in double_scalars\n",
      "  ret = ret.dtype.type(ret / rcount)\n",
      "/Users/hang/.local/miniconda3/envs/astro/lib/python3.7/site-packages/numpy/core/_methods.py:140: RuntimeWarning: Degrees of freedom <= 0 for slice\n",
      "  keepdims=keepdims)\n",
      "/Users/hang/.local/miniconda3/envs/astro/lib/python3.7/site-packages/numpy/core/_methods.py:110: RuntimeWarning: invalid value encountered in true_divide\n",
      "  arrmean, rcount, out=arrmean, casting='unsafe', subok=False)\n",
      "/Users/hang/.local/miniconda3/envs/astro/lib/python3.7/site-packages/numpy/core/_methods.py:132: RuntimeWarning: invalid value encountered in double_scalars\n",
      "  ret = ret.dtype.type(ret / rcount)\n",
      "/Users/hang/.local/miniconda3/envs/astro/lib/python3.7/site-packages/ipykernel_launcher.py:32: ResourceWarning: unclosed file <_io.FileIO name='/Volumes/Lacie2/fitmaps/fitmap/9182-6102.fits' mode='rb' closefd=True>\n",
      "/Users/hang/.local/miniconda3/envs/astro/lib/python3.7/site-packages/ipykernel_launcher.py:32: ResourceWarning: unclosed file <_io.FileIO name='/Volumes/Lacie2/fitmaps/fitmap2/9182-6102_binned-maps.fits' mode='rb' closefd=True>\n"
     ]
    },
    {
     "name": "stdout",
     "output_type": "stream",
     "text": [
      "init: auto\n",
      "guess initial value by given range\n",
      "Success: [3.0, 0.2, 0.0]\n",
      "2.787205316408459 0.09996667897930363\n",
      "70 8940-12702\n"
     ]
    },
    {
     "name": "stderr",
     "output_type": "stream",
     "text": [
      "/Users/hang/.local/miniconda3/envs/astro/lib/python3.7/site-packages/ipykernel_launcher.py:32: ResourceWarning: unclosed file <_io.FileIO name='/Volumes/Lacie2/fitmaps/fitmap/9193-12701.fits' mode='rb' closefd=True>\n",
      "/Users/hang/.local/miniconda3/envs/astro/lib/python3.7/site-packages/ipykernel_launcher.py:32: ResourceWarning: unclosed file <_io.FileIO name='/Volumes/Lacie2/fitmaps/fitmap2/9193-12701_binned-maps.fits' mode='rb' closefd=True>\n"
     ]
    },
    {
     "name": "stdout",
     "output_type": "stream",
     "text": [
      "init: auto\n",
      "guess initial value by given range\n",
      "Success: [3.0, 0.2, 0.0]\n",
      "3.1119421370880493 0.09259800632805544\n",
      "71 9183-3703\n"
     ]
    },
    {
     "name": "stderr",
     "output_type": "stream",
     "text": [
      "/Users/hang/.local/miniconda3/envs/astro/lib/python3.7/site-packages/numpy/core/fromnumeric.py:3118: RuntimeWarning: Mean of empty slice.\n",
      "  out=out, **kwargs)\n",
      "/Users/hang/.local/miniconda3/envs/astro/lib/python3.7/site-packages/numpy/core/_methods.py:85: RuntimeWarning: invalid value encountered in double_scalars\n",
      "  ret = ret.dtype.type(ret / rcount)\n",
      "/Users/hang/.local/miniconda3/envs/astro/lib/python3.7/site-packages/numpy/core/_methods.py:140: RuntimeWarning: Degrees of freedom <= 0 for slice\n",
      "  keepdims=keepdims)\n",
      "/Users/hang/.local/miniconda3/envs/astro/lib/python3.7/site-packages/numpy/core/_methods.py:110: RuntimeWarning: invalid value encountered in true_divide\n",
      "  arrmean, rcount, out=arrmean, casting='unsafe', subok=False)\n",
      "/Users/hang/.local/miniconda3/envs/astro/lib/python3.7/site-packages/numpy/core/_methods.py:132: RuntimeWarning: invalid value encountered in double_scalars\n",
      "  ret = ret.dtype.type(ret / rcount)\n",
      "/Users/hang/.local/miniconda3/envs/astro/lib/python3.7/site-packages/ipykernel_launcher.py:32: ResourceWarning: unclosed file <_io.FileIO name='/Volumes/Lacie2/fitmaps/fitmap/8940-12702.fits' mode='rb' closefd=True>\n",
      "/Users/hang/.local/miniconda3/envs/astro/lib/python3.7/site-packages/ipykernel_launcher.py:32: ResourceWarning: unclosed file <_io.FileIO name='/Volumes/Lacie2/fitmaps/fitmap2/8940-12702_binned-maps.fits' mode='rb' closefd=True>\n"
     ]
    },
    {
     "name": "stdout",
     "output_type": "stream",
     "text": [
      "init: auto\n",
      "guess initial value by given range\n",
      "Success: [3.0, 0.2, 0.0]\n",
      "3.420052287354361 0.03980159797569735\n",
      "72 8993-12705\n"
     ]
    },
    {
     "name": "stderr",
     "output_type": "stream",
     "text": [
      "/Users/hang/.local/miniconda3/envs/astro/lib/python3.7/site-packages/ipykernel_launcher.py:32: ResourceWarning: unclosed file <_io.FileIO name='/Volumes/Lacie2/fitmaps/fitmap/9183-3703.fits' mode='rb' closefd=True>\n",
      "/Users/hang/.local/miniconda3/envs/astro/lib/python3.7/site-packages/ipykernel_launcher.py:32: ResourceWarning: unclosed file <_io.FileIO name='/Volumes/Lacie2/fitmaps/fitmap2/9183-3703_binned-maps.fits' mode='rb' closefd=True>\n"
     ]
    },
    {
     "name": "stdout",
     "output_type": "stream",
     "text": [
      "init: auto\n",
      "guess initial value by given range\n",
      "Success: [3.0, 0.2, 0.0]\n",
      "3.1790555572705017 0.08721154816815213\n",
      "73 8992-3702\n"
     ]
    },
    {
     "name": "stderr",
     "output_type": "stream",
     "text": [
      "/Users/hang/.local/miniconda3/envs/astro/lib/python3.7/site-packages/numpy/core/fromnumeric.py:3118: RuntimeWarning: Mean of empty slice.\n",
      "  out=out, **kwargs)\n",
      "/Users/hang/.local/miniconda3/envs/astro/lib/python3.7/site-packages/numpy/core/_methods.py:85: RuntimeWarning: invalid value encountered in double_scalars\n",
      "  ret = ret.dtype.type(ret / rcount)\n",
      "/Users/hang/.local/miniconda3/envs/astro/lib/python3.7/site-packages/numpy/core/_methods.py:140: RuntimeWarning: Degrees of freedom <= 0 for slice\n",
      "  keepdims=keepdims)\n",
      "/Users/hang/.local/miniconda3/envs/astro/lib/python3.7/site-packages/numpy/core/_methods.py:110: RuntimeWarning: invalid value encountered in true_divide\n",
      "  arrmean, rcount, out=arrmean, casting='unsafe', subok=False)\n",
      "/Users/hang/.local/miniconda3/envs/astro/lib/python3.7/site-packages/numpy/core/_methods.py:132: RuntimeWarning: invalid value encountered in double_scalars\n",
      "  ret = ret.dtype.type(ret / rcount)\n",
      "/Users/hang/.local/miniconda3/envs/astro/lib/python3.7/site-packages/ipykernel_launcher.py:32: ResourceWarning: unclosed file <_io.FileIO name='/Volumes/Lacie2/fitmaps/fitmap/8993-12705.fits' mode='rb' closefd=True>\n",
      "/Users/hang/.local/miniconda3/envs/astro/lib/python3.7/site-packages/ipykernel_launcher.py:32: ResourceWarning: unclosed file <_io.FileIO name='/Volumes/Lacie2/fitmaps/fitmap2/8993-12705_binned-maps.fits' mode='rb' closefd=True>\n"
     ]
    },
    {
     "name": "stdout",
     "output_type": "stream",
     "text": [
      "init: auto\n",
      "guess initial value by given range\n",
      "Success: [3.0, 0.2, 0.0]\n",
      "2.930968334571883 0.1387854456290373\n",
      "74 9485-12705\n"
     ]
    },
    {
     "name": "stderr",
     "output_type": "stream",
     "text": [
      "/Users/hang/.local/miniconda3/envs/astro/lib/python3.7/site-packages/ipykernel_launcher.py:32: ResourceWarning: unclosed file <_io.FileIO name='/Volumes/Lacie2/fitmaps/fitmap/8992-3702.fits' mode='rb' closefd=True>\n",
      "/Users/hang/.local/miniconda3/envs/astro/lib/python3.7/site-packages/ipykernel_launcher.py:32: ResourceWarning: unclosed file <_io.FileIO name='/Volumes/Lacie2/fitmaps/fitmap2/8992-3702_binned-maps.fits' mode='rb' closefd=True>\n",
      "/Users/hang/Desktop/research/projects/ENLR/code_new/mangatools/fitmaps.py:54: RuntimeWarning: invalid value encountered in true_divide\n",
      "  snr_cut = ((Ha / Ha_err) < 3) | ((Hb / Hb_err) < 3)\n",
      "/Users/hang/Desktop/research/projects/ENLR/code_new/mangatools/fitmaps.py:54: RuntimeWarning: invalid value encountered in less\n",
      "  snr_cut = ((Ha / Ha_err) < 3) | ((Hb / Hb_err) < 3)\n",
      "/Users/hang/Desktop/research/projects/ENLR/code_new/mangatools/fitmaps.py:58: RuntimeWarning: divide by zero encountered in log10\n",
      "  E_BV = 1.97 * np.log10(ratio_obs / ratio_theory)\n"
     ]
    },
    {
     "name": "stdout",
     "output_type": "stream",
     "text": [
      "init: auto\n",
      "guess initial value by given range\n",
      "Success: [3.0, 0.2, 0.5]\n",
      "3.1542736207164825 0.10138453524906132\n",
      "75 9487-3702\n"
     ]
    },
    {
     "name": "stderr",
     "output_type": "stream",
     "text": [
      "/Users/hang/.local/miniconda3/envs/astro/lib/python3.7/site-packages/numpy/core/fromnumeric.py:3118: RuntimeWarning: Mean of empty slice.\n",
      "  out=out, **kwargs)\n",
      "/Users/hang/.local/miniconda3/envs/astro/lib/python3.7/site-packages/numpy/core/_methods.py:85: RuntimeWarning: invalid value encountered in double_scalars\n",
      "  ret = ret.dtype.type(ret / rcount)\n",
      "/Users/hang/.local/miniconda3/envs/astro/lib/python3.7/site-packages/numpy/core/_methods.py:140: RuntimeWarning: Degrees of freedom <= 0 for slice\n",
      "  keepdims=keepdims)\n",
      "/Users/hang/.local/miniconda3/envs/astro/lib/python3.7/site-packages/numpy/core/_methods.py:110: RuntimeWarning: invalid value encountered in true_divide\n",
      "  arrmean, rcount, out=arrmean, casting='unsafe', subok=False)\n",
      "/Users/hang/.local/miniconda3/envs/astro/lib/python3.7/site-packages/numpy/core/_methods.py:132: RuntimeWarning: invalid value encountered in double_scalars\n",
      "  ret = ret.dtype.type(ret / rcount)\n",
      "/Users/hang/.local/miniconda3/envs/astro/lib/python3.7/site-packages/ipykernel_launcher.py:32: ResourceWarning: unclosed file <_io.FileIO name='/Volumes/Lacie2/fitmaps/fitmap/9485-12705.fits' mode='rb' closefd=True>\n",
      "/Users/hang/.local/miniconda3/envs/astro/lib/python3.7/site-packages/ipykernel_launcher.py:32: ResourceWarning: unclosed file <_io.FileIO name='/Volumes/Lacie2/fitmaps/fitmap2/9485-12705_binned-maps.fits' mode='rb' closefd=True>\n"
     ]
    },
    {
     "name": "stdout",
     "output_type": "stream",
     "text": [
      "init: auto\n",
      "guess initial value by given range\n",
      "Success: [3.0, 0.2, 0.0]\n",
      "3.50774663014615 0.0744546111823367\n",
      "76 8989-3703\n"
     ]
    },
    {
     "name": "stderr",
     "output_type": "stream",
     "text": [
      "/Users/hang/.local/miniconda3/envs/astro/lib/python3.7/site-packages/ipykernel_launcher.py:32: ResourceWarning: unclosed file <_io.FileIO name='/Volumes/Lacie2/fitmaps/fitmap/9487-3702.fits' mode='rb' closefd=True>\n",
      "/Users/hang/.local/miniconda3/envs/astro/lib/python3.7/site-packages/ipykernel_launcher.py:32: ResourceWarning: unclosed file <_io.FileIO name='/Volumes/Lacie2/fitmaps/fitmap2/9487-3702_binned-maps.fits' mode='rb' closefd=True>\n"
     ]
    },
    {
     "name": "stdout",
     "output_type": "stream",
     "text": [
      "init: auto\n",
      "guess initial value by given range\n",
      "Success: [3.0, 0.2, 0.0]\n",
      "3.0460434158195184 0.10658516758926762\n",
      "77 8984-9102\n"
     ]
    },
    {
     "name": "stderr",
     "output_type": "stream",
     "text": [
      "/Users/hang/.local/miniconda3/envs/astro/lib/python3.7/site-packages/numpy/core/fromnumeric.py:3118: RuntimeWarning: Mean of empty slice.\n",
      "  out=out, **kwargs)\n",
      "/Users/hang/.local/miniconda3/envs/astro/lib/python3.7/site-packages/numpy/core/_methods.py:85: RuntimeWarning: invalid value encountered in double_scalars\n",
      "  ret = ret.dtype.type(ret / rcount)\n",
      "/Users/hang/.local/miniconda3/envs/astro/lib/python3.7/site-packages/numpy/core/_methods.py:140: RuntimeWarning: Degrees of freedom <= 0 for slice\n",
      "  keepdims=keepdims)\n",
      "/Users/hang/.local/miniconda3/envs/astro/lib/python3.7/site-packages/numpy/core/_methods.py:110: RuntimeWarning: invalid value encountered in true_divide\n",
      "  arrmean, rcount, out=arrmean, casting='unsafe', subok=False)\n",
      "/Users/hang/.local/miniconda3/envs/astro/lib/python3.7/site-packages/numpy/core/_methods.py:132: RuntimeWarning: invalid value encountered in double_scalars\n",
      "  ret = ret.dtype.type(ret / rcount)\n",
      "/Users/hang/.local/miniconda3/envs/astro/lib/python3.7/site-packages/ipykernel_launcher.py:32: ResourceWarning: unclosed file <_io.FileIO name='/Volumes/Lacie2/fitmaps/fitmap/8989-3703.fits' mode='rb' closefd=True>\n",
      "/Users/hang/.local/miniconda3/envs/astro/lib/python3.7/site-packages/ipykernel_launcher.py:32: ResourceWarning: unclosed file <_io.FileIO name='/Volumes/Lacie2/fitmaps/fitmap2/8989-3703_binned-maps.fits' mode='rb' closefd=True>\n"
     ]
    },
    {
     "name": "stdout",
     "output_type": "stream",
     "text": [
      "init: auto\n",
      "guess initial value by given range\n",
      "Success: [3.0, 0.2, 0.5]\n",
      "2.886914525045465 0.15599658114340942\n",
      "78 8983-12701\n"
     ]
    },
    {
     "name": "stderr",
     "output_type": "stream",
     "text": [
      "/Users/hang/.local/miniconda3/envs/astro/lib/python3.7/site-packages/numpy/core/fromnumeric.py:3118: RuntimeWarning: Mean of empty slice.\n",
      "  out=out, **kwargs)\n",
      "/Users/hang/.local/miniconda3/envs/astro/lib/python3.7/site-packages/numpy/core/_methods.py:85: RuntimeWarning: invalid value encountered in double_scalars\n",
      "  ret = ret.dtype.type(ret / rcount)\n",
      "/Users/hang/.local/miniconda3/envs/astro/lib/python3.7/site-packages/numpy/core/_methods.py:140: RuntimeWarning: Degrees of freedom <= 0 for slice\n",
      "  keepdims=keepdims)\n",
      "/Users/hang/.local/miniconda3/envs/astro/lib/python3.7/site-packages/numpy/core/_methods.py:110: RuntimeWarning: invalid value encountered in true_divide\n",
      "  arrmean, rcount, out=arrmean, casting='unsafe', subok=False)\n",
      "/Users/hang/.local/miniconda3/envs/astro/lib/python3.7/site-packages/numpy/core/_methods.py:132: RuntimeWarning: invalid value encountered in double_scalars\n",
      "  ret = ret.dtype.type(ret / rcount)\n",
      "/Users/hang/.local/miniconda3/envs/astro/lib/python3.7/site-packages/ipykernel_launcher.py:32: ResourceWarning: unclosed file <_io.FileIO name='/Volumes/Lacie2/fitmaps/fitmap/8984-9102.fits' mode='rb' closefd=True>\n",
      "/Users/hang/.local/miniconda3/envs/astro/lib/python3.7/site-packages/ipykernel_launcher.py:32: ResourceWarning: unclosed file <_io.FileIO name='/Volumes/Lacie2/fitmaps/fitmap2/8984-9102_binned-maps.fits' mode='rb' closefd=True>\n"
     ]
    },
    {
     "name": "stdout",
     "output_type": "stream",
     "text": [
      "init: auto\n",
      "guess initial value by given range\n",
      "Success: [3.0, 0.2, 0.0]\n",
      "2.9668990198799268 0.12275480493391251\n",
      "79 8311-6104\n"
     ]
    },
    {
     "name": "stderr",
     "output_type": "stream",
     "text": [
      "/Users/hang/.local/miniconda3/envs/astro/lib/python3.7/site-packages/numpy/core/fromnumeric.py:3118: RuntimeWarning: Mean of empty slice.\n",
      "  out=out, **kwargs)\n",
      "/Users/hang/.local/miniconda3/envs/astro/lib/python3.7/site-packages/numpy/core/_methods.py:85: RuntimeWarning: invalid value encountered in double_scalars\n",
      "  ret = ret.dtype.type(ret / rcount)\n",
      "/Users/hang/.local/miniconda3/envs/astro/lib/python3.7/site-packages/numpy/core/_methods.py:140: RuntimeWarning: Degrees of freedom <= 0 for slice\n",
      "  keepdims=keepdims)\n",
      "/Users/hang/.local/miniconda3/envs/astro/lib/python3.7/site-packages/numpy/core/_methods.py:110: RuntimeWarning: invalid value encountered in true_divide\n",
      "  arrmean, rcount, out=arrmean, casting='unsafe', subok=False)\n",
      "/Users/hang/.local/miniconda3/envs/astro/lib/python3.7/site-packages/numpy/core/_methods.py:132: RuntimeWarning: invalid value encountered in double_scalars\n",
      "  ret = ret.dtype.type(ret / rcount)\n",
      "/Users/hang/.local/miniconda3/envs/astro/lib/python3.7/site-packages/ipykernel_launcher.py:32: ResourceWarning: unclosed file <_io.FileIO name='/Volumes/Lacie2/fitmaps/fitmap/8983-12701.fits' mode='rb' closefd=True>\n",
      "/Users/hang/.local/miniconda3/envs/astro/lib/python3.7/site-packages/ipykernel_launcher.py:32: ResourceWarning: unclosed file <_io.FileIO name='/Volumes/Lacie2/fitmaps/fitmap2/8983-12701_binned-maps.fits' mode='rb' closefd=True>\n",
      "/Users/hang/Desktop/research/projects/ENLR/code_new/mangatools/fitmaps.py:54: RuntimeWarning: invalid value encountered in true_divide\n",
      "  snr_cut = ((Ha / Ha_err) < 3) | ((Hb / Hb_err) < 3)\n",
      "/Users/hang/Desktop/research/projects/ENLR/code_new/mangatools/fitmaps.py:54: RuntimeWarning: invalid value encountered in less\n",
      "  snr_cut = ((Ha / Ha_err) < 3) | ((Hb / Hb_err) < 3)\n",
      "/Users/hang/Desktop/research/projects/ENLR/code_new/mangatools/fitmaps.py:58: RuntimeWarning: divide by zero encountered in log10\n",
      "  E_BV = 1.97 * np.log10(ratio_obs / ratio_theory)\n"
     ]
    },
    {
     "name": "stdout",
     "output_type": "stream",
     "text": [
      "init: auto\n",
      "guess initial value by given range\n",
      "Success: [3.0, 0.2, 0.0]\n",
      "3.1106861643499206 0.09153603092714052\n",
      "80 8309-12701\n"
     ]
    },
    {
     "name": "stderr",
     "output_type": "stream",
     "text": [
      "/Users/hang/.local/miniconda3/envs/astro/lib/python3.7/site-packages/numpy/core/fromnumeric.py:3118: RuntimeWarning: Mean of empty slice.\n",
      "  out=out, **kwargs)\n",
      "/Users/hang/.local/miniconda3/envs/astro/lib/python3.7/site-packages/numpy/core/_methods.py:85: RuntimeWarning: invalid value encountered in double_scalars\n",
      "  ret = ret.dtype.type(ret / rcount)\n",
      "/Users/hang/.local/miniconda3/envs/astro/lib/python3.7/site-packages/numpy/core/_methods.py:140: RuntimeWarning: Degrees of freedom <= 0 for slice\n",
      "  keepdims=keepdims)\n",
      "/Users/hang/.local/miniconda3/envs/astro/lib/python3.7/site-packages/numpy/core/_methods.py:110: RuntimeWarning: invalid value encountered in true_divide\n",
      "  arrmean, rcount, out=arrmean, casting='unsafe', subok=False)\n",
      "/Users/hang/.local/miniconda3/envs/astro/lib/python3.7/site-packages/numpy/core/_methods.py:132: RuntimeWarning: invalid value encountered in double_scalars\n",
      "  ret = ret.dtype.type(ret / rcount)\n",
      "/Users/hang/.local/miniconda3/envs/astro/lib/python3.7/site-packages/ipykernel_launcher.py:32: ResourceWarning: unclosed file <_io.FileIO name='/Volumes/Lacie2/fitmaps/fitmap/8311-6104.fits' mode='rb' closefd=True>\n",
      "/Users/hang/.local/miniconda3/envs/astro/lib/python3.7/site-packages/ipykernel_launcher.py:32: ResourceWarning: unclosed file <_io.FileIO name='/Volumes/Lacie2/fitmaps/fitmap2/8311-6104_binned-maps.fits' mode='rb' closefd=True>\n",
      "/Users/hang/Desktop/research/projects/ENLR/code_new/mangatools/fitmaps.py:54: RuntimeWarning: invalid value encountered in true_divide\n",
      "  snr_cut = ((Ha / Ha_err) < 3) | ((Hb / Hb_err) < 3)\n",
      "/Users/hang/Desktop/research/projects/ENLR/code_new/mangatools/fitmaps.py:54: RuntimeWarning: invalid value encountered in less\n",
      "  snr_cut = ((Ha / Ha_err) < 3) | ((Hb / Hb_err) < 3)\n",
      "/Users/hang/Desktop/research/projects/ENLR/code_new/mangatools/fitmaps.py:58: RuntimeWarning: divide by zero encountered in log10\n",
      "  E_BV = 1.97 * np.log10(ratio_obs / ratio_theory)\n"
     ]
    },
    {
     "name": "stdout",
     "output_type": "stream",
     "text": [
      "init: auto\n",
      "guess initial value by given range\n",
      "Success: [3.0, 0.2, 0.0]\n",
      "3.839191068305784 0.04343937719082595\n",
      "81 9507-12704\n"
     ]
    },
    {
     "name": "stderr",
     "output_type": "stream",
     "text": [
      "/Users/hang/.local/miniconda3/envs/astro/lib/python3.7/site-packages/numpy/core/fromnumeric.py:3118: RuntimeWarning: Mean of empty slice.\n",
      "  out=out, **kwargs)\n",
      "/Users/hang/.local/miniconda3/envs/astro/lib/python3.7/site-packages/numpy/core/_methods.py:85: RuntimeWarning: invalid value encountered in double_scalars\n",
      "  ret = ret.dtype.type(ret / rcount)\n",
      "/Users/hang/.local/miniconda3/envs/astro/lib/python3.7/site-packages/numpy/core/_methods.py:140: RuntimeWarning: Degrees of freedom <= 0 for slice\n",
      "  keepdims=keepdims)\n",
      "/Users/hang/.local/miniconda3/envs/astro/lib/python3.7/site-packages/numpy/core/_methods.py:110: RuntimeWarning: invalid value encountered in true_divide\n",
      "  arrmean, rcount, out=arrmean, casting='unsafe', subok=False)\n",
      "/Users/hang/.local/miniconda3/envs/astro/lib/python3.7/site-packages/numpy/core/_methods.py:132: RuntimeWarning: invalid value encountered in double_scalars\n",
      "  ret = ret.dtype.type(ret / rcount)\n",
      "/Users/hang/.local/miniconda3/envs/astro/lib/python3.7/site-packages/ipykernel_launcher.py:32: ResourceWarning: unclosed file <_io.FileIO name='/Volumes/Lacie2/fitmaps/fitmap/8309-12701.fits' mode='rb' closefd=True>\n",
      "/Users/hang/.local/miniconda3/envs/astro/lib/python3.7/site-packages/ipykernel_launcher.py:32: ResourceWarning: unclosed file <_io.FileIO name='/Volumes/Lacie2/fitmaps/fitmap2/8309-12701_binned-maps.fits' mode='rb' closefd=True>\n"
     ]
    },
    {
     "name": "stdout",
     "output_type": "stream",
     "text": [
      "init: auto\n",
      "guess initial value by given range\n"
     ]
    },
    {
     "name": "stderr",
     "output_type": "stream",
     "text": [
      "/Users/hang/.local/miniconda3/envs/astro/lib/python3.7/site-packages/numpy/core/fromnumeric.py:3118: RuntimeWarning: Mean of empty slice.\n",
      "  out=out, **kwargs)\n",
      "/Users/hang/.local/miniconda3/envs/astro/lib/python3.7/site-packages/numpy/core/_methods.py:85: RuntimeWarning: invalid value encountered in double_scalars\n",
      "  ret = ret.dtype.type(ret / rcount)\n",
      "/Users/hang/.local/miniconda3/envs/astro/lib/python3.7/site-packages/numpy/core/_methods.py:140: RuntimeWarning: Degrees of freedom <= 0 for slice\n",
      "  keepdims=keepdims)\n",
      "/Users/hang/.local/miniconda3/envs/astro/lib/python3.7/site-packages/numpy/core/_methods.py:110: RuntimeWarning: invalid value encountered in true_divide\n",
      "  arrmean, rcount, out=arrmean, casting='unsafe', subok=False)\n",
      "/Users/hang/.local/miniconda3/envs/astro/lib/python3.7/site-packages/numpy/core/_methods.py:132: RuntimeWarning: invalid value encountered in double_scalars\n",
      "  ret = ret.dtype.type(ret / rcount)\n"
     ]
    },
    {
     "name": "stdout",
     "output_type": "stream",
     "text": [
      "Success: [3.4000000000000004, 0.2, 1.5]\n",
      "2.856536640506432 0.11359399859556078\n",
      "82 9507-12705\n"
     ]
    },
    {
     "name": "stderr",
     "output_type": "stream",
     "text": [
      "/Users/hang/.local/miniconda3/envs/astro/lib/python3.7/site-packages/ipykernel_launcher.py:32: ResourceWarning: unclosed file <_io.FileIO name='/Volumes/Lacie2/fitmaps/fitmap/9507-12704.fits' mode='rb' closefd=True>\n",
      "/Users/hang/.local/miniconda3/envs/astro/lib/python3.7/site-packages/ipykernel_launcher.py:32: ResourceWarning: unclosed file <_io.FileIO name='/Volumes/Lacie2/fitmaps/fitmap2/9507-12704_binned-maps.fits' mode='rb' closefd=True>\n"
     ]
    },
    {
     "name": "stdout",
     "output_type": "stream",
     "text": [
      "init: auto\n",
      "guess initial value by given range\n",
      "Success: [3.0, 0.2, 0.5]\n",
      "3.029572853682183 0.117918791935612\n",
      "83 9508-12704\n"
     ]
    },
    {
     "name": "stderr",
     "output_type": "stream",
     "text": [
      "/Users/hang/.local/miniconda3/envs/astro/lib/python3.7/site-packages/numpy/core/fromnumeric.py:3118: RuntimeWarning: Mean of empty slice.\n",
      "  out=out, **kwargs)\n",
      "/Users/hang/.local/miniconda3/envs/astro/lib/python3.7/site-packages/numpy/core/_methods.py:85: RuntimeWarning: invalid value encountered in double_scalars\n",
      "  ret = ret.dtype.type(ret / rcount)\n",
      "/Users/hang/.local/miniconda3/envs/astro/lib/python3.7/site-packages/numpy/core/_methods.py:140: RuntimeWarning: Degrees of freedom <= 0 for slice\n",
      "  keepdims=keepdims)\n",
      "/Users/hang/.local/miniconda3/envs/astro/lib/python3.7/site-packages/numpy/core/_methods.py:110: RuntimeWarning: invalid value encountered in true_divide\n",
      "  arrmean, rcount, out=arrmean, casting='unsafe', subok=False)\n",
      "/Users/hang/.local/miniconda3/envs/astro/lib/python3.7/site-packages/numpy/core/_methods.py:132: RuntimeWarning: invalid value encountered in double_scalars\n",
      "  ret = ret.dtype.type(ret / rcount)\n",
      "/Users/hang/.local/miniconda3/envs/astro/lib/python3.7/site-packages/ipykernel_launcher.py:32: ResourceWarning: unclosed file <_io.FileIO name='/Volumes/Lacie2/fitmaps/fitmap/9507-12705.fits' mode='rb' closefd=True>\n",
      "/Users/hang/.local/miniconda3/envs/astro/lib/python3.7/site-packages/ipykernel_launcher.py:32: ResourceWarning: unclosed file <_io.FileIO name='/Volumes/Lacie2/fitmaps/fitmap2/9507-12705_binned-maps.fits' mode='rb' closefd=True>\n"
     ]
    },
    {
     "name": "stdout",
     "output_type": "stream",
     "text": [
      "init: auto\n",
      "guess initial value by given range\n",
      "Success: [3.0, 0.2, 0.0]\n",
      "3.423631823938868 0.13495026273829858\n",
      "84 9508-3704\n"
     ]
    },
    {
     "name": "stderr",
     "output_type": "stream",
     "text": [
      "/Users/hang/.local/miniconda3/envs/astro/lib/python3.7/site-packages/numpy/core/fromnumeric.py:3118: RuntimeWarning: Mean of empty slice.\n",
      "  out=out, **kwargs)\n",
      "/Users/hang/.local/miniconda3/envs/astro/lib/python3.7/site-packages/numpy/core/_methods.py:85: RuntimeWarning: invalid value encountered in double_scalars\n",
      "  ret = ret.dtype.type(ret / rcount)\n",
      "/Users/hang/.local/miniconda3/envs/astro/lib/python3.7/site-packages/numpy/core/_methods.py:140: RuntimeWarning: Degrees of freedom <= 0 for slice\n",
      "  keepdims=keepdims)\n",
      "/Users/hang/.local/miniconda3/envs/astro/lib/python3.7/site-packages/numpy/core/_methods.py:110: RuntimeWarning: invalid value encountered in true_divide\n",
      "  arrmean, rcount, out=arrmean, casting='unsafe', subok=False)\n",
      "/Users/hang/.local/miniconda3/envs/astro/lib/python3.7/site-packages/numpy/core/_methods.py:132: RuntimeWarning: invalid value encountered in double_scalars\n",
      "  ret = ret.dtype.type(ret / rcount)\n",
      "/Users/hang/.local/miniconda3/envs/astro/lib/python3.7/site-packages/ipykernel_launcher.py:32: ResourceWarning: unclosed file <_io.FileIO name='/Volumes/Lacie2/fitmaps/fitmap/9508-12704.fits' mode='rb' closefd=True>\n",
      "/Users/hang/.local/miniconda3/envs/astro/lib/python3.7/site-packages/ipykernel_launcher.py:32: ResourceWarning: unclosed file <_io.FileIO name='/Volumes/Lacie2/fitmaps/fitmap2/9508-12704_binned-maps.fits' mode='rb' closefd=True>\n"
     ]
    },
    {
     "name": "stdout",
     "output_type": "stream",
     "text": [
      "init: auto\n",
      "guess initial value by given range\n",
      "Success: [3.0, 0.2, 0.0]\n",
      "3.050729404410475 0.11453116316155353\n",
      "85 9024-12705\n"
     ]
    },
    {
     "name": "stderr",
     "output_type": "stream",
     "text": [
      "/Users/hang/.local/miniconda3/envs/astro/lib/python3.7/site-packages/numpy/core/fromnumeric.py:3118: RuntimeWarning: Mean of empty slice.\n",
      "  out=out, **kwargs)\n",
      "/Users/hang/.local/miniconda3/envs/astro/lib/python3.7/site-packages/numpy/core/_methods.py:85: RuntimeWarning: invalid value encountered in double_scalars\n",
      "  ret = ret.dtype.type(ret / rcount)\n",
      "/Users/hang/.local/miniconda3/envs/astro/lib/python3.7/site-packages/numpy/core/_methods.py:140: RuntimeWarning: Degrees of freedom <= 0 for slice\n",
      "  keepdims=keepdims)\n",
      "/Users/hang/.local/miniconda3/envs/astro/lib/python3.7/site-packages/numpy/core/_methods.py:110: RuntimeWarning: invalid value encountered in true_divide\n",
      "  arrmean, rcount, out=arrmean, casting='unsafe', subok=False)\n",
      "/Users/hang/.local/miniconda3/envs/astro/lib/python3.7/site-packages/numpy/core/_methods.py:132: RuntimeWarning: invalid value encountered in double_scalars\n",
      "  ret = ret.dtype.type(ret / rcount)\n",
      "/Users/hang/.local/miniconda3/envs/astro/lib/python3.7/site-packages/ipykernel_launcher.py:32: ResourceWarning: unclosed file <_io.FileIO name='/Volumes/Lacie2/fitmaps/fitmap/9508-3704.fits' mode='rb' closefd=True>\n",
      "/Users/hang/.local/miniconda3/envs/astro/lib/python3.7/site-packages/ipykernel_launcher.py:32: ResourceWarning: unclosed file <_io.FileIO name='/Volumes/Lacie2/fitmaps/fitmap2/9508-3704_binned-maps.fits' mode='rb' closefd=True>\n",
      "/Users/hang/Desktop/research/projects/ENLR/code_new/mangatools/fitmaps.py:54: RuntimeWarning: invalid value encountered in true_divide\n",
      "  snr_cut = ((Ha / Ha_err) < 3) | ((Hb / Hb_err) < 3)\n",
      "/Users/hang/Desktop/research/projects/ENLR/code_new/mangatools/fitmaps.py:54: RuntimeWarning: invalid value encountered in less\n",
      "  snr_cut = ((Ha / Ha_err) < 3) | ((Hb / Hb_err) < 3)\n",
      "/Users/hang/Desktop/research/projects/ENLR/code_new/mangatools/fitmaps.py:58: RuntimeWarning: divide by zero encountered in log10\n",
      "  E_BV = 1.97 * np.log10(ratio_obs / ratio_theory)\n"
     ]
    },
    {
     "name": "stdout",
     "output_type": "stream",
     "text": [
      "init: auto\n",
      "guess initial value by given range\n",
      "Success: [3.0, 0.2, 0.0]\n",
      "3.5458810739671494 0.07611917305506326\n",
      "86 9488-3702\n"
     ]
    },
    {
     "name": "stderr",
     "output_type": "stream",
     "text": [
      "/Users/hang/.local/miniconda3/envs/astro/lib/python3.7/site-packages/numpy/core/fromnumeric.py:3118: RuntimeWarning: Mean of empty slice.\n",
      "  out=out, **kwargs)\n",
      "/Users/hang/.local/miniconda3/envs/astro/lib/python3.7/site-packages/numpy/core/_methods.py:85: RuntimeWarning: invalid value encountered in double_scalars\n",
      "  ret = ret.dtype.type(ret / rcount)\n",
      "/Users/hang/.local/miniconda3/envs/astro/lib/python3.7/site-packages/numpy/core/_methods.py:140: RuntimeWarning: Degrees of freedom <= 0 for slice\n",
      "  keepdims=keepdims)\n",
      "/Users/hang/.local/miniconda3/envs/astro/lib/python3.7/site-packages/numpy/core/_methods.py:110: RuntimeWarning: invalid value encountered in true_divide\n",
      "  arrmean, rcount, out=arrmean, casting='unsafe', subok=False)\n",
      "/Users/hang/.local/miniconda3/envs/astro/lib/python3.7/site-packages/numpy/core/_methods.py:132: RuntimeWarning: invalid value encountered in double_scalars\n",
      "  ret = ret.dtype.type(ret / rcount)\n",
      "/Users/hang/.local/miniconda3/envs/astro/lib/python3.7/site-packages/ipykernel_launcher.py:32: ResourceWarning: unclosed file <_io.FileIO name='/Volumes/Lacie2/fitmaps/fitmap/9024-12705.fits' mode='rb' closefd=True>\n",
      "/Users/hang/.local/miniconda3/envs/astro/lib/python3.7/site-packages/ipykernel_launcher.py:32: ResourceWarning: unclosed file <_io.FileIO name='/Volumes/Lacie2/fitmaps/fitmap2/9024-12705_binned-maps.fits' mode='rb' closefd=True>\n"
     ]
    },
    {
     "name": "stdout",
     "output_type": "stream",
     "text": [
      "init: auto\n",
      "guess initial value by given range\n",
      "Success: [3.0, 0.2, 0.0]\n",
      "2.8073019127354097 0.15998877760014024\n",
      "87 9502-9101\n"
     ]
    },
    {
     "name": "stderr",
     "output_type": "stream",
     "text": [
      "/Users/hang/.local/miniconda3/envs/astro/lib/python3.7/site-packages/numpy/core/fromnumeric.py:3118: RuntimeWarning: Mean of empty slice.\n",
      "  out=out, **kwargs)\n",
      "/Users/hang/.local/miniconda3/envs/astro/lib/python3.7/site-packages/numpy/core/_methods.py:85: RuntimeWarning: invalid value encountered in double_scalars\n",
      "  ret = ret.dtype.type(ret / rcount)\n",
      "/Users/hang/.local/miniconda3/envs/astro/lib/python3.7/site-packages/numpy/core/_methods.py:140: RuntimeWarning: Degrees of freedom <= 0 for slice\n",
      "  keepdims=keepdims)\n",
      "/Users/hang/.local/miniconda3/envs/astro/lib/python3.7/site-packages/numpy/core/_methods.py:110: RuntimeWarning: invalid value encountered in true_divide\n",
      "  arrmean, rcount, out=arrmean, casting='unsafe', subok=False)\n",
      "/Users/hang/.local/miniconda3/envs/astro/lib/python3.7/site-packages/numpy/core/_methods.py:132: RuntimeWarning: invalid value encountered in double_scalars\n",
      "  ret = ret.dtype.type(ret / rcount)\n",
      "/Users/hang/.local/miniconda3/envs/astro/lib/python3.7/site-packages/ipykernel_launcher.py:32: ResourceWarning: unclosed file <_io.FileIO name='/Volumes/Lacie2/fitmaps/fitmap/9488-3702.fits' mode='rb' closefd=True>\n",
      "/Users/hang/.local/miniconda3/envs/astro/lib/python3.7/site-packages/ipykernel_launcher.py:32: ResourceWarning: unclosed file <_io.FileIO name='/Volumes/Lacie2/fitmaps/fitmap2/9488-3702_binned-maps.fits' mode='rb' closefd=True>\n"
     ]
    },
    {
     "name": "stdout",
     "output_type": "stream",
     "text": [
      "init: auto\n",
      "guess initial value by given range\n",
      "Success: [3.0, 0.2, 0.0]\n",
      "3.195209701222065 0.24415678668543137\n",
      "88 9502-12703\n"
     ]
    },
    {
     "name": "stderr",
     "output_type": "stream",
     "text": [
      "/Users/hang/.local/miniconda3/envs/astro/lib/python3.7/site-packages/numpy/core/fromnumeric.py:3118: RuntimeWarning: Mean of empty slice.\n",
      "  out=out, **kwargs)\n",
      "/Users/hang/.local/miniconda3/envs/astro/lib/python3.7/site-packages/numpy/core/_methods.py:85: RuntimeWarning: invalid value encountered in double_scalars\n",
      "  ret = ret.dtype.type(ret / rcount)\n",
      "/Users/hang/.local/miniconda3/envs/astro/lib/python3.7/site-packages/numpy/core/_methods.py:140: RuntimeWarning: Degrees of freedom <= 0 for slice\n",
      "  keepdims=keepdims)\n",
      "/Users/hang/.local/miniconda3/envs/astro/lib/python3.7/site-packages/numpy/core/_methods.py:110: RuntimeWarning: invalid value encountered in true_divide\n",
      "  arrmean, rcount, out=arrmean, casting='unsafe', subok=False)\n",
      "/Users/hang/.local/miniconda3/envs/astro/lib/python3.7/site-packages/numpy/core/_methods.py:132: RuntimeWarning: invalid value encountered in double_scalars\n",
      "  ret = ret.dtype.type(ret / rcount)\n",
      "/Users/hang/.local/miniconda3/envs/astro/lib/python3.7/site-packages/ipykernel_launcher.py:32: ResourceWarning: unclosed file <_io.FileIO name='/Volumes/Lacie2/fitmaps/fitmap/9502-9101.fits' mode='rb' closefd=True>\n",
      "/Users/hang/.local/miniconda3/envs/astro/lib/python3.7/site-packages/ipykernel_launcher.py:32: ResourceWarning: unclosed file <_io.FileIO name='/Volumes/Lacie2/fitmaps/fitmap2/9502-9101_binned-maps.fits' mode='rb' closefd=True>\n"
     ]
    },
    {
     "name": "stdout",
     "output_type": "stream",
     "text": [
      "init: auto\n",
      "guess initial value by given range\n",
      "Success: [3.0, 0.2, 0.5]\n",
      "3.1681396971795257 0.08715655980234625\n",
      "89 9511-12704\n"
     ]
    },
    {
     "name": "stderr",
     "output_type": "stream",
     "text": [
      "/Users/hang/.local/miniconda3/envs/astro/lib/python3.7/site-packages/numpy/core/fromnumeric.py:3118: RuntimeWarning: Mean of empty slice.\n",
      "  out=out, **kwargs)\n",
      "/Users/hang/.local/miniconda3/envs/astro/lib/python3.7/site-packages/numpy/core/_methods.py:85: RuntimeWarning: invalid value encountered in double_scalars\n",
      "  ret = ret.dtype.type(ret / rcount)\n",
      "/Users/hang/.local/miniconda3/envs/astro/lib/python3.7/site-packages/numpy/core/_methods.py:140: RuntimeWarning: Degrees of freedom <= 0 for slice\n",
      "  keepdims=keepdims)\n",
      "/Users/hang/.local/miniconda3/envs/astro/lib/python3.7/site-packages/numpy/core/_methods.py:110: RuntimeWarning: invalid value encountered in true_divide\n",
      "  arrmean, rcount, out=arrmean, casting='unsafe', subok=False)\n",
      "/Users/hang/.local/miniconda3/envs/astro/lib/python3.7/site-packages/numpy/core/_methods.py:132: RuntimeWarning: invalid value encountered in double_scalars\n",
      "  ret = ret.dtype.type(ret / rcount)\n",
      "/Users/hang/.local/miniconda3/envs/astro/lib/python3.7/site-packages/ipykernel_launcher.py:32: ResourceWarning: unclosed file <_io.FileIO name='/Volumes/Lacie2/fitmaps/fitmap/9502-12703.fits' mode='rb' closefd=True>\n",
      "/Users/hang/.local/miniconda3/envs/astro/lib/python3.7/site-packages/ipykernel_launcher.py:32: ResourceWarning: unclosed file <_io.FileIO name='/Volumes/Lacie2/fitmaps/fitmap2/9502-12703_binned-maps.fits' mode='rb' closefd=True>\n"
     ]
    },
    {
     "name": "stdout",
     "output_type": "stream",
     "text": [
      "init: auto\n",
      "guess initial value by given range\n",
      "Success: [3.0, 0.2, 0.5]\n",
      "3.2480632884527227 0.1183478628822955\n",
      "90 9511-6104\n"
     ]
    },
    {
     "name": "stderr",
     "output_type": "stream",
     "text": [
      "/Users/hang/.local/miniconda3/envs/astro/lib/python3.7/site-packages/numpy/core/fromnumeric.py:3118: RuntimeWarning: Mean of empty slice.\n",
      "  out=out, **kwargs)\n",
      "/Users/hang/.local/miniconda3/envs/astro/lib/python3.7/site-packages/numpy/core/_methods.py:85: RuntimeWarning: invalid value encountered in double_scalars\n",
      "  ret = ret.dtype.type(ret / rcount)\n",
      "/Users/hang/.local/miniconda3/envs/astro/lib/python3.7/site-packages/numpy/core/_methods.py:140: RuntimeWarning: Degrees of freedom <= 0 for slice\n",
      "  keepdims=keepdims)\n",
      "/Users/hang/.local/miniconda3/envs/astro/lib/python3.7/site-packages/numpy/core/_methods.py:110: RuntimeWarning: invalid value encountered in true_divide\n",
      "  arrmean, rcount, out=arrmean, casting='unsafe', subok=False)\n",
      "/Users/hang/.local/miniconda3/envs/astro/lib/python3.7/site-packages/numpy/core/_methods.py:132: RuntimeWarning: invalid value encountered in double_scalars\n",
      "  ret = ret.dtype.type(ret / rcount)\n",
      "/Users/hang/.local/miniconda3/envs/astro/lib/python3.7/site-packages/ipykernel_launcher.py:32: ResourceWarning: unclosed file <_io.FileIO name='/Volumes/Lacie2/fitmaps/fitmap/9511-12704.fits' mode='rb' closefd=True>\n",
      "/Users/hang/.local/miniconda3/envs/astro/lib/python3.7/site-packages/ipykernel_launcher.py:32: ResourceWarning: unclosed file <_io.FileIO name='/Volumes/Lacie2/fitmaps/fitmap2/9511-12704_binned-maps.fits' mode='rb' closefd=True>\n"
     ]
    },
    {
     "name": "stdout",
     "output_type": "stream",
     "text": [
      "init: auto\n",
      "guess initial value by given range\n",
      "Success: [3.0, 0.2, 0.0]\n",
      "3.031225610591139 0.1951486642539122\n",
      "91 8990-12705\n"
     ]
    },
    {
     "name": "stderr",
     "output_type": "stream",
     "text": [
      "/Users/hang/.local/miniconda3/envs/astro/lib/python3.7/site-packages/numpy/core/fromnumeric.py:3118: RuntimeWarning: Mean of empty slice.\n",
      "  out=out, **kwargs)\n",
      "/Users/hang/.local/miniconda3/envs/astro/lib/python3.7/site-packages/numpy/core/_methods.py:85: RuntimeWarning: invalid value encountered in double_scalars\n",
      "  ret = ret.dtype.type(ret / rcount)\n",
      "/Users/hang/.local/miniconda3/envs/astro/lib/python3.7/site-packages/numpy/core/_methods.py:140: RuntimeWarning: Degrees of freedom <= 0 for slice\n",
      "  keepdims=keepdims)\n",
      "/Users/hang/.local/miniconda3/envs/astro/lib/python3.7/site-packages/numpy/core/_methods.py:110: RuntimeWarning: invalid value encountered in true_divide\n",
      "  arrmean, rcount, out=arrmean, casting='unsafe', subok=False)\n",
      "/Users/hang/.local/miniconda3/envs/astro/lib/python3.7/site-packages/numpy/core/_methods.py:132: RuntimeWarning: invalid value encountered in double_scalars\n",
      "  ret = ret.dtype.type(ret / rcount)\n",
      "/Users/hang/.local/miniconda3/envs/astro/lib/python3.7/site-packages/ipykernel_launcher.py:32: ResourceWarning: unclosed file <_io.FileIO name='/Volumes/Lacie2/fitmaps/fitmap/9511-6104.fits' mode='rb' closefd=True>\n",
      "/Users/hang/.local/miniconda3/envs/astro/lib/python3.7/site-packages/ipykernel_launcher.py:32: ResourceWarning: unclosed file <_io.FileIO name='/Volumes/Lacie2/fitmaps/fitmap2/9511-6104_binned-maps.fits' mode='rb' closefd=True>\n"
     ]
    },
    {
     "name": "stdout",
     "output_type": "stream",
     "text": [
      "init: auto\n",
      "guess initial value by given range\n",
      "Success: [3.0, 0.2, 0.0]\n",
      "3.166758106325667 0.11337787388986316\n",
      "92 8990-9101\n"
     ]
    },
    {
     "name": "stderr",
     "output_type": "stream",
     "text": [
      "/Users/hang/.local/miniconda3/envs/astro/lib/python3.7/site-packages/numpy/core/fromnumeric.py:3118: RuntimeWarning: Mean of empty slice.\n",
      "  out=out, **kwargs)\n",
      "/Users/hang/.local/miniconda3/envs/astro/lib/python3.7/site-packages/numpy/core/_methods.py:85: RuntimeWarning: invalid value encountered in double_scalars\n",
      "  ret = ret.dtype.type(ret / rcount)\n",
      "/Users/hang/.local/miniconda3/envs/astro/lib/python3.7/site-packages/numpy/core/_methods.py:140: RuntimeWarning: Degrees of freedom <= 0 for slice\n",
      "  keepdims=keepdims)\n",
      "/Users/hang/.local/miniconda3/envs/astro/lib/python3.7/site-packages/numpy/core/_methods.py:110: RuntimeWarning: invalid value encountered in true_divide\n",
      "  arrmean, rcount, out=arrmean, casting='unsafe', subok=False)\n",
      "/Users/hang/.local/miniconda3/envs/astro/lib/python3.7/site-packages/numpy/core/_methods.py:132: RuntimeWarning: invalid value encountered in double_scalars\n",
      "  ret = ret.dtype.type(ret / rcount)\n",
      "/Users/hang/.local/miniconda3/envs/astro/lib/python3.7/site-packages/ipykernel_launcher.py:32: ResourceWarning: unclosed file <_io.FileIO name='/Volumes/Lacie2/fitmaps/fitmap/8990-12705.fits' mode='rb' closefd=True>\n",
      "/Users/hang/.local/miniconda3/envs/astro/lib/python3.7/site-packages/ipykernel_launcher.py:32: ResourceWarning: unclosed file <_io.FileIO name='/Volumes/Lacie2/fitmaps/fitmap2/8990-12705_binned-maps.fits' mode='rb' closefd=True>\n"
     ]
    },
    {
     "name": "stdout",
     "output_type": "stream",
     "text": [
      "init: auto\n",
      "guess initial value by given range\n",
      "Success: [3.0, 0.2, 0.0]\n",
      "2.8149882367904606 0.20308871627662373\n",
      "93 8442-9102\n"
     ]
    },
    {
     "name": "stderr",
     "output_type": "stream",
     "text": [
      "/Users/hang/.local/miniconda3/envs/astro/lib/python3.7/site-packages/numpy/core/fromnumeric.py:3118: RuntimeWarning: Mean of empty slice.\n",
      "  out=out, **kwargs)\n",
      "/Users/hang/.local/miniconda3/envs/astro/lib/python3.7/site-packages/numpy/core/_methods.py:85: RuntimeWarning: invalid value encountered in double_scalars\n",
      "  ret = ret.dtype.type(ret / rcount)\n",
      "/Users/hang/.local/miniconda3/envs/astro/lib/python3.7/site-packages/numpy/core/_methods.py:140: RuntimeWarning: Degrees of freedom <= 0 for slice\n",
      "  keepdims=keepdims)\n",
      "/Users/hang/.local/miniconda3/envs/astro/lib/python3.7/site-packages/numpy/core/_methods.py:110: RuntimeWarning: invalid value encountered in true_divide\n",
      "  arrmean, rcount, out=arrmean, casting='unsafe', subok=False)\n",
      "/Users/hang/.local/miniconda3/envs/astro/lib/python3.7/site-packages/numpy/core/_methods.py:132: RuntimeWarning: invalid value encountered in double_scalars\n",
      "  ret = ret.dtype.type(ret / rcount)\n",
      "/Users/hang/.local/miniconda3/envs/astro/lib/python3.7/site-packages/ipykernel_launcher.py:32: ResourceWarning: unclosed file <_io.FileIO name='/Volumes/Lacie2/fitmaps/fitmap/8990-9101.fits' mode='rb' closefd=True>\n",
      "/Users/hang/.local/miniconda3/envs/astro/lib/python3.7/site-packages/ipykernel_launcher.py:32: ResourceWarning: unclosed file <_io.FileIO name='/Volumes/Lacie2/fitmaps/fitmap2/8990-9101_binned-maps.fits' mode='rb' closefd=True>\n"
     ]
    },
    {
     "name": "stdout",
     "output_type": "stream",
     "text": [
      "init: auto\n",
      "guess initial value by given range\n",
      "Success: [3.0, 0.2, 0.0]\n",
      "3.339094990601343 0.047310064502100256\n",
      "94 9048-1902\n"
     ]
    },
    {
     "name": "stderr",
     "output_type": "stream",
     "text": [
      "/Users/hang/.local/miniconda3/envs/astro/lib/python3.7/site-packages/numpy/core/fromnumeric.py:3118: RuntimeWarning: Mean of empty slice.\n",
      "  out=out, **kwargs)\n",
      "/Users/hang/.local/miniconda3/envs/astro/lib/python3.7/site-packages/numpy/core/_methods.py:85: RuntimeWarning: invalid value encountered in double_scalars\n",
      "  ret = ret.dtype.type(ret / rcount)\n",
      "/Users/hang/.local/miniconda3/envs/astro/lib/python3.7/site-packages/numpy/core/_methods.py:140: RuntimeWarning: Degrees of freedom <= 0 for slice\n",
      "  keepdims=keepdims)\n",
      "/Users/hang/.local/miniconda3/envs/astro/lib/python3.7/site-packages/numpy/core/_methods.py:110: RuntimeWarning: invalid value encountered in true_divide\n",
      "  arrmean, rcount, out=arrmean, casting='unsafe', subok=False)\n",
      "/Users/hang/.local/miniconda3/envs/astro/lib/python3.7/site-packages/numpy/core/_methods.py:132: RuntimeWarning: invalid value encountered in double_scalars\n",
      "  ret = ret.dtype.type(ret / rcount)\n",
      "/Users/hang/.local/miniconda3/envs/astro/lib/python3.7/site-packages/ipykernel_launcher.py:32: ResourceWarning: unclosed file <_io.FileIO name='/Volumes/Lacie2/fitmaps/fitmap/8442-9102.fits' mode='rb' closefd=True>\n",
      "/Users/hang/.local/miniconda3/envs/astro/lib/python3.7/site-packages/ipykernel_launcher.py:32: ResourceWarning: unclosed file <_io.FileIO name='/Volumes/Lacie2/fitmaps/fitmap2/8442-9102_binned-maps.fits' mode='rb' closefd=True>\n"
     ]
    },
    {
     "name": "stdout",
     "output_type": "stream",
     "text": [
      "init: auto\n",
      "guess initial value by given range\n",
      "Success: [3.0, 0.2, 0.0]\n",
      "3.3464779701360383 0.10096379168940886\n",
      "95 9095-12701\n"
     ]
    },
    {
     "name": "stderr",
     "output_type": "stream",
     "text": [
      "/Users/hang/.local/miniconda3/envs/astro/lib/python3.7/site-packages/ipykernel_launcher.py:32: ResourceWarning: unclosed file <_io.FileIO name='/Volumes/Lacie2/fitmaps/fitmap/9048-1902.fits' mode='rb' closefd=True>\n",
      "/Users/hang/.local/miniconda3/envs/astro/lib/python3.7/site-packages/ipykernel_launcher.py:32: ResourceWarning: unclosed file <_io.FileIO name='/Volumes/Lacie2/fitmaps/fitmap2/9048-1902_binned-maps.fits' mode='rb' closefd=True>\n",
      "/Users/hang/Desktop/research/projects/ENLR/code_new/mangatools/fitmaps.py:54: RuntimeWarning: invalid value encountered in true_divide\n",
      "  snr_cut = ((Ha / Ha_err) < 3) | ((Hb / Hb_err) < 3)\n",
      "/Users/hang/Desktop/research/projects/ENLR/code_new/mangatools/fitmaps.py:54: RuntimeWarning: invalid value encountered in less\n",
      "  snr_cut = ((Ha / Ha_err) < 3) | ((Hb / Hb_err) < 3)\n",
      "/Users/hang/Desktop/research/projects/ENLR/code_new/mangatools/fitmaps.py:58: RuntimeWarning: divide by zero encountered in log10\n",
      "  E_BV = 1.97 * np.log10(ratio_obs / ratio_theory)\n"
     ]
    },
    {
     "name": "stdout",
     "output_type": "stream",
     "text": [
      "init: auto\n",
      "guess initial value by given range\n",
      "Success: [3.0, 0.2, 0.0]\n",
      "3.39645337602315 0.15510517210830418\n",
      "96 9196-12703\n"
     ]
    },
    {
     "name": "stderr",
     "output_type": "stream",
     "text": [
      "/Users/hang/.local/miniconda3/envs/astro/lib/python3.7/site-packages/numpy/core/fromnumeric.py:3118: RuntimeWarning: Mean of empty slice.\n",
      "  out=out, **kwargs)\n",
      "/Users/hang/.local/miniconda3/envs/astro/lib/python3.7/site-packages/numpy/core/_methods.py:85: RuntimeWarning: invalid value encountered in double_scalars\n",
      "  ret = ret.dtype.type(ret / rcount)\n",
      "/Users/hang/.local/miniconda3/envs/astro/lib/python3.7/site-packages/numpy/core/_methods.py:140: RuntimeWarning: Degrees of freedom <= 0 for slice\n",
      "  keepdims=keepdims)\n",
      "/Users/hang/.local/miniconda3/envs/astro/lib/python3.7/site-packages/numpy/core/_methods.py:110: RuntimeWarning: invalid value encountered in true_divide\n",
      "  arrmean, rcount, out=arrmean, casting='unsafe', subok=False)\n",
      "/Users/hang/.local/miniconda3/envs/astro/lib/python3.7/site-packages/numpy/core/_methods.py:132: RuntimeWarning: invalid value encountered in double_scalars\n",
      "  ret = ret.dtype.type(ret / rcount)\n",
      "/Users/hang/.local/miniconda3/envs/astro/lib/python3.7/site-packages/ipykernel_launcher.py:32: ResourceWarning: unclosed file <_io.FileIO name='/Volumes/Lacie2/fitmaps/fitmap/9095-12701.fits' mode='rb' closefd=True>\n",
      "/Users/hang/.local/miniconda3/envs/astro/lib/python3.7/site-packages/ipykernel_launcher.py:32: ResourceWarning: unclosed file <_io.FileIO name='/Volumes/Lacie2/fitmaps/fitmap2/9095-12701_binned-maps.fits' mode='rb' closefd=True>\n",
      "/Users/hang/Desktop/research/projects/ENLR/code_new/mangatools/fitmaps.py:54: RuntimeWarning: invalid value encountered in true_divide\n",
      "  snr_cut = ((Ha / Ha_err) < 3) | ((Hb / Hb_err) < 3)\n",
      "/Users/hang/Desktop/research/projects/ENLR/code_new/mangatools/fitmaps.py:54: RuntimeWarning: invalid value encountered in less\n",
      "  snr_cut = ((Ha / Ha_err) < 3) | ((Hb / Hb_err) < 3)\n",
      "/Users/hang/Desktop/research/projects/ENLR/code_new/mangatools/fitmaps.py:58: RuntimeWarning: divide by zero encountered in log10\n",
      "  E_BV = 1.97 * np.log10(ratio_obs / ratio_theory)\n"
     ]
    },
    {
     "name": "stdout",
     "output_type": "stream",
     "text": [
      "init: auto\n",
      "guess initial value by given range\n",
      "Success: [3.0, 0.2, 0.5]\n",
      "3.4206239224811026 0.1374937302913887\n",
      "97 9881-1901\n"
     ]
    },
    {
     "name": "stderr",
     "output_type": "stream",
     "text": [
      "/Users/hang/.local/miniconda3/envs/astro/lib/python3.7/site-packages/numpy/core/fromnumeric.py:3118: RuntimeWarning: Mean of empty slice.\n",
      "  out=out, **kwargs)\n",
      "/Users/hang/.local/miniconda3/envs/astro/lib/python3.7/site-packages/numpy/core/_methods.py:85: RuntimeWarning: invalid value encountered in double_scalars\n",
      "  ret = ret.dtype.type(ret / rcount)\n",
      "/Users/hang/.local/miniconda3/envs/astro/lib/python3.7/site-packages/numpy/core/_methods.py:140: RuntimeWarning: Degrees of freedom <= 0 for slice\n",
      "  keepdims=keepdims)\n",
      "/Users/hang/.local/miniconda3/envs/astro/lib/python3.7/site-packages/numpy/core/_methods.py:110: RuntimeWarning: invalid value encountered in true_divide\n",
      "  arrmean, rcount, out=arrmean, casting='unsafe', subok=False)\n",
      "/Users/hang/.local/miniconda3/envs/astro/lib/python3.7/site-packages/numpy/core/_methods.py:132: RuntimeWarning: invalid value encountered in double_scalars\n",
      "  ret = ret.dtype.type(ret / rcount)\n",
      "/Users/hang/.local/miniconda3/envs/astro/lib/python3.7/site-packages/ipykernel_launcher.py:32: ResourceWarning: unclosed file <_io.FileIO name='/Volumes/Lacie2/fitmaps/fitmap/9196-12703.fits' mode='rb' closefd=True>\n",
      "/Users/hang/.local/miniconda3/envs/astro/lib/python3.7/site-packages/ipykernel_launcher.py:32: ResourceWarning: unclosed file <_io.FileIO name='/Volumes/Lacie2/fitmaps/fitmap2/9196-12703_binned-maps.fits' mode='rb' closefd=True>\n"
     ]
    },
    {
     "name": "stdout",
     "output_type": "stream",
     "text": [
      "init: auto\n",
      "guess initial value by given range\n",
      "Success: [3.0, 0.2, 1.0]\n",
      "2.889212494957263 0.16308069554926652\n",
      "98 9883-12701\n"
     ]
    },
    {
     "name": "stderr",
     "output_type": "stream",
     "text": [
      "/Users/hang/.local/miniconda3/envs/astro/lib/python3.7/site-packages/numpy/core/fromnumeric.py:3118: RuntimeWarning: Mean of empty slice.\n",
      "  out=out, **kwargs)\n",
      "/Users/hang/.local/miniconda3/envs/astro/lib/python3.7/site-packages/numpy/core/_methods.py:85: RuntimeWarning: invalid value encountered in double_scalars\n",
      "  ret = ret.dtype.type(ret / rcount)\n",
      "/Users/hang/.local/miniconda3/envs/astro/lib/python3.7/site-packages/numpy/core/_methods.py:140: RuntimeWarning: Degrees of freedom <= 0 for slice\n",
      "  keepdims=keepdims)\n",
      "/Users/hang/.local/miniconda3/envs/astro/lib/python3.7/site-packages/numpy/core/_methods.py:110: RuntimeWarning: invalid value encountered in true_divide\n",
      "  arrmean, rcount, out=arrmean, casting='unsafe', subok=False)\n",
      "/Users/hang/.local/miniconda3/envs/astro/lib/python3.7/site-packages/numpy/core/_methods.py:132: RuntimeWarning: invalid value encountered in double_scalars\n",
      "  ret = ret.dtype.type(ret / rcount)\n",
      "/Users/hang/.local/miniconda3/envs/astro/lib/python3.7/site-packages/ipykernel_launcher.py:32: ResourceWarning: unclosed file <_io.FileIO name='/Volumes/Lacie2/fitmaps/fitmap/9881-1901.fits' mode='rb' closefd=True>\n",
      "/Users/hang/.local/miniconda3/envs/astro/lib/python3.7/site-packages/ipykernel_launcher.py:32: ResourceWarning: unclosed file <_io.FileIO name='/Volumes/Lacie2/fitmaps/fitmap2/9881-1901_binned-maps.fits' mode='rb' closefd=True>\n",
      "/Users/hang/Desktop/research/projects/ENLR/code_new/mangatools/fitmaps.py:54: RuntimeWarning: invalid value encountered in true_divide\n",
      "  snr_cut = ((Ha / Ha_err) < 3) | ((Hb / Hb_err) < 3)\n",
      "/Users/hang/Desktop/research/projects/ENLR/code_new/mangatools/fitmaps.py:54: RuntimeWarning: invalid value encountered in less\n",
      "  snr_cut = ((Ha / Ha_err) < 3) | ((Hb / Hb_err) < 3)\n",
      "/Users/hang/Desktop/research/projects/ENLR/code_new/mangatools/fitmaps.py:58: RuntimeWarning: divide by zero encountered in log10\n",
      "  E_BV = 1.97 * np.log10(ratio_obs / ratio_theory)\n"
     ]
    },
    {
     "name": "stdout",
     "output_type": "stream",
     "text": [
      "init: auto\n",
      "guess initial value by given range\n",
      "Success: [3.0, 0.2, 0.0]\n",
      "3.312608549411881 0.1406494748133101\n",
      "99 9888-12701\n"
     ]
    },
    {
     "name": "stderr",
     "output_type": "stream",
     "text": [
      "/Users/hang/.local/miniconda3/envs/astro/lib/python3.7/site-packages/ipykernel_launcher.py:32: ResourceWarning: unclosed file <_io.FileIO name='/Volumes/Lacie2/fitmaps/fitmap/9883-12701.fits' mode='rb' closefd=True>\n",
      "/Users/hang/.local/miniconda3/envs/astro/lib/python3.7/site-packages/ipykernel_launcher.py:32: ResourceWarning: unclosed file <_io.FileIO name='/Volumes/Lacie2/fitmaps/fitmap2/9883-12701_binned-maps.fits' mode='rb' closefd=True>\n"
     ]
    },
    {
     "name": "stdout",
     "output_type": "stream",
     "text": [
      "init: auto\n",
      "guess initial value by given range\n",
      "Success: [3.0, 0.2, 0.0]\n",
      "3.54707567252778 0.042178483626813916\n",
      "100 9893-6102\n"
     ]
    },
    {
     "name": "stderr",
     "output_type": "stream",
     "text": [
      "/Users/hang/.local/miniconda3/envs/astro/lib/python3.7/site-packages/numpy/core/fromnumeric.py:3118: RuntimeWarning: Mean of empty slice.\n",
      "  out=out, **kwargs)\n",
      "/Users/hang/.local/miniconda3/envs/astro/lib/python3.7/site-packages/numpy/core/_methods.py:85: RuntimeWarning: invalid value encountered in double_scalars\n",
      "  ret = ret.dtype.type(ret / rcount)\n",
      "/Users/hang/.local/miniconda3/envs/astro/lib/python3.7/site-packages/numpy/core/_methods.py:140: RuntimeWarning: Degrees of freedom <= 0 for slice\n",
      "  keepdims=keepdims)\n",
      "/Users/hang/.local/miniconda3/envs/astro/lib/python3.7/site-packages/numpy/core/_methods.py:110: RuntimeWarning: invalid value encountered in true_divide\n",
      "  arrmean, rcount, out=arrmean, casting='unsafe', subok=False)\n",
      "/Users/hang/.local/miniconda3/envs/astro/lib/python3.7/site-packages/numpy/core/_methods.py:132: RuntimeWarning: invalid value encountered in double_scalars\n",
      "  ret = ret.dtype.type(ret / rcount)\n",
      "/Users/hang/.local/miniconda3/envs/astro/lib/python3.7/site-packages/ipykernel_launcher.py:32: ResourceWarning: unclosed file <_io.FileIO name='/Volumes/Lacie2/fitmaps/fitmap/9888-12701.fits' mode='rb' closefd=True>\n",
      "/Users/hang/.local/miniconda3/envs/astro/lib/python3.7/site-packages/ipykernel_launcher.py:32: ResourceWarning: unclosed file <_io.FileIO name='/Volumes/Lacie2/fitmaps/fitmap2/9888-12701_binned-maps.fits' mode='rb' closefd=True>\n"
     ]
    },
    {
     "name": "stdout",
     "output_type": "stream",
     "text": [
      "init: auto\n",
      "guess initial value by given range\n",
      "Success: [3.0, 0.2, 0.0]\n",
      "No valid measurment\n",
      "-3.0583177923724567 217147.2409516259\n",
      "101 8656-12705\n"
     ]
    },
    {
     "name": "stderr",
     "output_type": "stream",
     "text": [
      "/Users/hang/.local/miniconda3/envs/astro/lib/python3.7/site-packages/numpy/core/fromnumeric.py:3118: RuntimeWarning: Mean of empty slice.\n",
      "  out=out, **kwargs)\n",
      "/Users/hang/.local/miniconda3/envs/astro/lib/python3.7/site-packages/numpy/core/_methods.py:85: RuntimeWarning: invalid value encountered in double_scalars\n",
      "  ret = ret.dtype.type(ret / rcount)\n",
      "/Users/hang/.local/miniconda3/envs/astro/lib/python3.7/site-packages/numpy/core/_methods.py:140: RuntimeWarning: Degrees of freedom <= 0 for slice\n",
      "  keepdims=keepdims)\n",
      "/Users/hang/.local/miniconda3/envs/astro/lib/python3.7/site-packages/numpy/core/_methods.py:110: RuntimeWarning: invalid value encountered in true_divide\n",
      "  arrmean, rcount, out=arrmean, casting='unsafe', subok=False)\n",
      "/Users/hang/.local/miniconda3/envs/astro/lib/python3.7/site-packages/numpy/core/_methods.py:132: RuntimeWarning: invalid value encountered in double_scalars\n",
      "  ret = ret.dtype.type(ret / rcount)\n",
      "/Users/hang/.local/miniconda3/envs/astro/lib/python3.7/site-packages/ipykernel_launcher.py:32: ResourceWarning: unclosed file <_io.FileIO name='/Volumes/Lacie2/fitmaps/fitmap/9893-6102.fits' mode='rb' closefd=True>\n",
      "/Users/hang/.local/miniconda3/envs/astro/lib/python3.7/site-packages/ipykernel_launcher.py:32: ResourceWarning: unclosed file <_io.FileIO name='/Volumes/Lacie2/fitmaps/fitmap2/9893-6102_binned-maps.fits' mode='rb' closefd=True>\n"
     ]
    },
    {
     "name": "stdout",
     "output_type": "stream",
     "text": [
      "init: auto\n",
      "guess initial value by given range\n"
     ]
    },
    {
     "name": "stderr",
     "output_type": "stream",
     "text": [
      "/Users/hang/.local/miniconda3/envs/astro/lib/python3.7/site-packages/numpy/core/fromnumeric.py:3118: RuntimeWarning: Mean of empty slice.\n",
      "  out=out, **kwargs)\n",
      "/Users/hang/.local/miniconda3/envs/astro/lib/python3.7/site-packages/numpy/core/_methods.py:85: RuntimeWarning: invalid value encountered in double_scalars\n",
      "  ret = ret.dtype.type(ret / rcount)\n",
      "/Users/hang/.local/miniconda3/envs/astro/lib/python3.7/site-packages/numpy/core/_methods.py:140: RuntimeWarning: Degrees of freedom <= 0 for slice\n",
      "  keepdims=keepdims)\n",
      "/Users/hang/.local/miniconda3/envs/astro/lib/python3.7/site-packages/numpy/core/_methods.py:110: RuntimeWarning: invalid value encountered in true_divide\n",
      "  arrmean, rcount, out=arrmean, casting='unsafe', subok=False)\n",
      "/Users/hang/.local/miniconda3/envs/astro/lib/python3.7/site-packages/numpy/core/_methods.py:132: RuntimeWarning: invalid value encountered in double_scalars\n",
      "  ret = ret.dtype.type(ret / rcount)\n"
     ]
    },
    {
     "name": "stdout",
     "output_type": "stream",
     "text": [
      "Success: [3.0, 0.2, 1.5]\n",
      "3.2353644983756227 0.15146866518356475\n",
      "102 8656-12702\n"
     ]
    },
    {
     "name": "stderr",
     "output_type": "stream",
     "text": [
      "/Users/hang/.local/miniconda3/envs/astro/lib/python3.7/site-packages/ipykernel_launcher.py:32: ResourceWarning: unclosed file <_io.FileIO name='/Volumes/Lacie2/fitmaps/fitmap/8656-12705.fits' mode='rb' closefd=True>\n",
      "/Users/hang/.local/miniconda3/envs/astro/lib/python3.7/site-packages/ipykernel_launcher.py:32: ResourceWarning: unclosed file <_io.FileIO name='/Volumes/Lacie2/fitmaps/fitmap2/8656-12705_binned-maps.fits' mode='rb' closefd=True>\n"
     ]
    },
    {
     "name": "stdout",
     "output_type": "stream",
     "text": [
      "init: auto\n",
      "guess initial value by given range\n",
      "Success: [3.0, 0.2, 0.0]\n",
      "3.1357127955487316 0.19925088842741787\n",
      "103 9498-3703\n"
     ]
    },
    {
     "name": "stderr",
     "output_type": "stream",
     "text": [
      "/Users/hang/.local/miniconda3/envs/astro/lib/python3.7/site-packages/numpy/core/fromnumeric.py:3118: RuntimeWarning: Mean of empty slice.\n",
      "  out=out, **kwargs)\n",
      "/Users/hang/.local/miniconda3/envs/astro/lib/python3.7/site-packages/numpy/core/_methods.py:85: RuntimeWarning: invalid value encountered in double_scalars\n",
      "  ret = ret.dtype.type(ret / rcount)\n",
      "/Users/hang/.local/miniconda3/envs/astro/lib/python3.7/site-packages/numpy/core/_methods.py:140: RuntimeWarning: Degrees of freedom <= 0 for slice\n",
      "  keepdims=keepdims)\n",
      "/Users/hang/.local/miniconda3/envs/astro/lib/python3.7/site-packages/numpy/core/_methods.py:110: RuntimeWarning: invalid value encountered in true_divide\n",
      "  arrmean, rcount, out=arrmean, casting='unsafe', subok=False)\n",
      "/Users/hang/.local/miniconda3/envs/astro/lib/python3.7/site-packages/numpy/core/_methods.py:132: RuntimeWarning: invalid value encountered in double_scalars\n",
      "  ret = ret.dtype.type(ret / rcount)\n",
      "/Users/hang/.local/miniconda3/envs/astro/lib/python3.7/site-packages/ipykernel_launcher.py:32: ResourceWarning: unclosed file <_io.FileIO name='/Volumes/Lacie2/fitmaps/fitmap/8656-12702.fits' mode='rb' closefd=True>\n",
      "/Users/hang/.local/miniconda3/envs/astro/lib/python3.7/site-packages/ipykernel_launcher.py:32: ResourceWarning: unclosed file <_io.FileIO name='/Volumes/Lacie2/fitmaps/fitmap2/8656-12702_binned-maps.fits' mode='rb' closefd=True>\n"
     ]
    },
    {
     "name": "stdout",
     "output_type": "stream",
     "text": [
      "init: auto\n",
      "guess initial value by given range\n",
      "Success: [3.0, 0.2, 0.0]\n",
      "3.0874365610845147 0.10692650132006032\n",
      "104 10216-3704\n"
     ]
    },
    {
     "name": "stderr",
     "output_type": "stream",
     "text": [
      "/Users/hang/.local/miniconda3/envs/astro/lib/python3.7/site-packages/ipykernel_launcher.py:32: ResourceWarning: unclosed file <_io.FileIO name='/Volumes/Lacie2/fitmaps/fitmap/9498-3703.fits' mode='rb' closefd=True>\n",
      "/Users/hang/.local/miniconda3/envs/astro/lib/python3.7/site-packages/ipykernel_launcher.py:32: ResourceWarning: unclosed file <_io.FileIO name='/Volumes/Lacie2/fitmaps/fitmap2/9498-3703_binned-maps.fits' mode='rb' closefd=True>\n"
     ]
    },
    {
     "name": "stdout",
     "output_type": "stream",
     "text": [
      "init: auto\n",
      "guess initial value by given range\n",
      "Success: [3.0, 0.2, 0.0]\n",
      "2.977306487751589 0.13527876710958472\n",
      "105 10216-12704\n"
     ]
    },
    {
     "name": "stderr",
     "output_type": "stream",
     "text": [
      "/Users/hang/.local/miniconda3/envs/astro/lib/python3.7/site-packages/ipykernel_launcher.py:32: ResourceWarning: unclosed file <_io.FileIO name='/Volumes/Lacie2/fitmaps/fitmap/10216-3704.fits' mode='rb' closefd=True>\n",
      "/Users/hang/.local/miniconda3/envs/astro/lib/python3.7/site-packages/ipykernel_launcher.py:32: ResourceWarning: unclosed file <_io.FileIO name='/Volumes/Lacie2/fitmaps/fitmap2/10216-3704_binned-maps.fits' mode='rb' closefd=True>\n"
     ]
    },
    {
     "name": "stdout",
     "output_type": "stream",
     "text": [
      "init: auto\n",
      "guess initial value by given range\n"
     ]
    },
    {
     "name": "stderr",
     "output_type": "stream",
     "text": [
      "/Users/hang/.local/miniconda3/envs/astro/lib/python3.7/site-packages/numpy/core/fromnumeric.py:3118: RuntimeWarning: Mean of empty slice.\n",
      "  out=out, **kwargs)\n",
      "/Users/hang/.local/miniconda3/envs/astro/lib/python3.7/site-packages/numpy/core/_methods.py:85: RuntimeWarning: invalid value encountered in double_scalars\n",
      "  ret = ret.dtype.type(ret / rcount)\n",
      "/Users/hang/.local/miniconda3/envs/astro/lib/python3.7/site-packages/numpy/core/_methods.py:140: RuntimeWarning: Degrees of freedom <= 0 for slice\n",
      "  keepdims=keepdims)\n",
      "/Users/hang/.local/miniconda3/envs/astro/lib/python3.7/site-packages/numpy/core/_methods.py:110: RuntimeWarning: invalid value encountered in true_divide\n",
      "  arrmean, rcount, out=arrmean, casting='unsafe', subok=False)\n",
      "/Users/hang/.local/miniconda3/envs/astro/lib/python3.7/site-packages/numpy/core/_methods.py:132: RuntimeWarning: invalid value encountered in double_scalars\n",
      "  ret = ret.dtype.type(ret / rcount)\n"
     ]
    },
    {
     "name": "stdout",
     "output_type": "stream",
     "text": [
      "Success: [3.0, 0.2, 1.0]\n",
      "3.2398695609347072 0.11543201847051966\n",
      "106 10218-1902\n"
     ]
    },
    {
     "name": "stderr",
     "output_type": "stream",
     "text": [
      "/Users/hang/.local/miniconda3/envs/astro/lib/python3.7/site-packages/ipykernel_launcher.py:32: ResourceWarning: unclosed file <_io.FileIO name='/Volumes/Lacie2/fitmaps/fitmap/10216-12704.fits' mode='rb' closefd=True>\n",
      "/Users/hang/.local/miniconda3/envs/astro/lib/python3.7/site-packages/ipykernel_launcher.py:32: ResourceWarning: unclosed file <_io.FileIO name='/Volumes/Lacie2/fitmaps/fitmap2/10216-12704_binned-maps.fits' mode='rb' closefd=True>\n",
      "/Users/hang/Desktop/research/projects/ENLR/code_new/mangatools/fitmaps.py:54: RuntimeWarning: invalid value encountered in true_divide\n",
      "  snr_cut = ((Ha / Ha_err) < 3) | ((Hb / Hb_err) < 3)\n",
      "/Users/hang/Desktop/research/projects/ENLR/code_new/mangatools/fitmaps.py:54: RuntimeWarning: invalid value encountered in less\n",
      "  snr_cut = ((Ha / Ha_err) < 3) | ((Hb / Hb_err) < 3)\n",
      "/Users/hang/Desktop/research/projects/ENLR/code_new/mangatools/fitmaps.py:58: RuntimeWarning: divide by zero encountered in log10\n",
      "  E_BV = 1.97 * np.log10(ratio_obs / ratio_theory)\n"
     ]
    },
    {
     "name": "stdout",
     "output_type": "stream",
     "text": [
      "init: auto\n",
      "guess initial value by given range\n",
      "Success: [3.0, 0.4, 2.5]\n",
      "3.138666975605612 0.11828999106670515\n",
      "107 10221-6104\n"
     ]
    },
    {
     "name": "stderr",
     "output_type": "stream",
     "text": [
      "/Users/hang/.local/miniconda3/envs/astro/lib/python3.7/site-packages/numpy/core/fromnumeric.py:3118: RuntimeWarning: Mean of empty slice.\n",
      "  out=out, **kwargs)\n",
      "/Users/hang/.local/miniconda3/envs/astro/lib/python3.7/site-packages/numpy/core/_methods.py:85: RuntimeWarning: invalid value encountered in double_scalars\n",
      "  ret = ret.dtype.type(ret / rcount)\n",
      "/Users/hang/.local/miniconda3/envs/astro/lib/python3.7/site-packages/numpy/core/_methods.py:140: RuntimeWarning: Degrees of freedom <= 0 for slice\n",
      "  keepdims=keepdims)\n",
      "/Users/hang/.local/miniconda3/envs/astro/lib/python3.7/site-packages/numpy/core/_methods.py:110: RuntimeWarning: invalid value encountered in true_divide\n",
      "  arrmean, rcount, out=arrmean, casting='unsafe', subok=False)\n",
      "/Users/hang/.local/miniconda3/envs/astro/lib/python3.7/site-packages/numpy/core/_methods.py:132: RuntimeWarning: invalid value encountered in double_scalars\n",
      "  ret = ret.dtype.type(ret / rcount)\n",
      "/Users/hang/.local/miniconda3/envs/astro/lib/python3.7/site-packages/ipykernel_launcher.py:32: ResourceWarning: unclosed file <_io.FileIO name='/Volumes/Lacie2/fitmaps/fitmap/10218-1902.fits' mode='rb' closefd=True>\n",
      "/Users/hang/.local/miniconda3/envs/astro/lib/python3.7/site-packages/ipykernel_launcher.py:32: ResourceWarning: unclosed file <_io.FileIO name='/Volumes/Lacie2/fitmaps/fitmap2/10218-1902_binned-maps.fits' mode='rb' closefd=True>\n"
     ]
    },
    {
     "name": "stdout",
     "output_type": "stream",
     "text": [
      "init: auto\n",
      "guess initial value by given range\n",
      "Success: [3.0, 0.2, 0.0]\n",
      "2.7091914708248512 0.21787523785332852\n",
      "108 9503-12701\n"
     ]
    },
    {
     "name": "stderr",
     "output_type": "stream",
     "text": [
      "/Users/hang/.local/miniconda3/envs/astro/lib/python3.7/site-packages/numpy/core/fromnumeric.py:3118: RuntimeWarning: Mean of empty slice.\n",
      "  out=out, **kwargs)\n",
      "/Users/hang/.local/miniconda3/envs/astro/lib/python3.7/site-packages/numpy/core/_methods.py:85: RuntimeWarning: invalid value encountered in double_scalars\n",
      "  ret = ret.dtype.type(ret / rcount)\n",
      "/Users/hang/.local/miniconda3/envs/astro/lib/python3.7/site-packages/numpy/core/_methods.py:140: RuntimeWarning: Degrees of freedom <= 0 for slice\n",
      "  keepdims=keepdims)\n",
      "/Users/hang/.local/miniconda3/envs/astro/lib/python3.7/site-packages/numpy/core/_methods.py:110: RuntimeWarning: invalid value encountered in true_divide\n",
      "  arrmean, rcount, out=arrmean, casting='unsafe', subok=False)\n",
      "/Users/hang/.local/miniconda3/envs/astro/lib/python3.7/site-packages/numpy/core/_methods.py:132: RuntimeWarning: invalid value encountered in double_scalars\n",
      "  ret = ret.dtype.type(ret / rcount)\n",
      "/Users/hang/.local/miniconda3/envs/astro/lib/python3.7/site-packages/ipykernel_launcher.py:32: ResourceWarning: unclosed file <_io.FileIO name='/Volumes/Lacie2/fitmaps/fitmap/10221-6104.fits' mode='rb' closefd=True>\n",
      "/Users/hang/.local/miniconda3/envs/astro/lib/python3.7/site-packages/ipykernel_launcher.py:32: ResourceWarning: unclosed file <_io.FileIO name='/Volumes/Lacie2/fitmaps/fitmap2/10221-6104_binned-maps.fits' mode='rb' closefd=True>\n",
      "/Users/hang/Desktop/research/projects/ENLR/code_new/mangatools/fitmaps.py:54: RuntimeWarning: invalid value encountered in true_divide\n",
      "  snr_cut = ((Ha / Ha_err) < 3) | ((Hb / Hb_err) < 3)\n",
      "/Users/hang/Desktop/research/projects/ENLR/code_new/mangatools/fitmaps.py:54: RuntimeWarning: invalid value encountered in less\n",
      "  snr_cut = ((Ha / Ha_err) < 3) | ((Hb / Hb_err) < 3)\n",
      "/Users/hang/Desktop/research/projects/ENLR/code_new/mangatools/fitmaps.py:58: RuntimeWarning: divide by zero encountered in log10\n",
      "  E_BV = 1.97 * np.log10(ratio_obs / ratio_theory)\n"
     ]
    },
    {
     "name": "stdout",
     "output_type": "stream",
     "text": [
      "init: auto\n",
      "guess initial value by given range\n",
      "Success: [3.0, 0.2, 0.5]\n",
      "3.0914807299443017 0.10573792166745843\n",
      "109 9503-6102\n"
     ]
    },
    {
     "name": "stderr",
     "output_type": "stream",
     "text": [
      "/Users/hang/.local/miniconda3/envs/astro/lib/python3.7/site-packages/numpy/core/fromnumeric.py:3118: RuntimeWarning: Mean of empty slice.\n",
      "  out=out, **kwargs)\n",
      "/Users/hang/.local/miniconda3/envs/astro/lib/python3.7/site-packages/numpy/core/_methods.py:85: RuntimeWarning: invalid value encountered in double_scalars\n",
      "  ret = ret.dtype.type(ret / rcount)\n",
      "/Users/hang/.local/miniconda3/envs/astro/lib/python3.7/site-packages/numpy/core/_methods.py:140: RuntimeWarning: Degrees of freedom <= 0 for slice\n",
      "  keepdims=keepdims)\n",
      "/Users/hang/.local/miniconda3/envs/astro/lib/python3.7/site-packages/numpy/core/_methods.py:110: RuntimeWarning: invalid value encountered in true_divide\n",
      "  arrmean, rcount, out=arrmean, casting='unsafe', subok=False)\n",
      "/Users/hang/.local/miniconda3/envs/astro/lib/python3.7/site-packages/numpy/core/_methods.py:132: RuntimeWarning: invalid value encountered in double_scalars\n",
      "  ret = ret.dtype.type(ret / rcount)\n",
      "/Users/hang/.local/miniconda3/envs/astro/lib/python3.7/site-packages/ipykernel_launcher.py:32: ResourceWarning: unclosed file <_io.FileIO name='/Volumes/Lacie2/fitmaps/fitmap/9503-12701.fits' mode='rb' closefd=True>\n"
     ]
    },
    {
     "name": "stdout",
     "output_type": "stream",
     "text": [
      "init: auto\n",
      "guess initial value by given range\n",
      "Success: [3.0, 0.2, 0.0]\n",
      "3.110639213298642 0.10199616590778171\n",
      "110 9503-3704\n"
     ]
    },
    {
     "name": "stderr",
     "output_type": "stream",
     "text": [
      "/Users/hang/.local/miniconda3/envs/astro/lib/python3.7/site-packages/numpy/core/fromnumeric.py:3118: RuntimeWarning: Mean of empty slice.\n",
      "  out=out, **kwargs)\n",
      "/Users/hang/.local/miniconda3/envs/astro/lib/python3.7/site-packages/numpy/core/_methods.py:85: RuntimeWarning: invalid value encountered in double_scalars\n",
      "  ret = ret.dtype.type(ret / rcount)\n",
      "/Users/hang/.local/miniconda3/envs/astro/lib/python3.7/site-packages/numpy/core/_methods.py:140: RuntimeWarning: Degrees of freedom <= 0 for slice\n",
      "  keepdims=keepdims)\n",
      "/Users/hang/.local/miniconda3/envs/astro/lib/python3.7/site-packages/numpy/core/_methods.py:110: RuntimeWarning: invalid value encountered in true_divide\n",
      "  arrmean, rcount, out=arrmean, casting='unsafe', subok=False)\n",
      "/Users/hang/.local/miniconda3/envs/astro/lib/python3.7/site-packages/numpy/core/_methods.py:132: RuntimeWarning: invalid value encountered in double_scalars\n",
      "  ret = ret.dtype.type(ret / rcount)\n",
      "/Users/hang/.local/miniconda3/envs/astro/lib/python3.7/site-packages/ipykernel_launcher.py:32: ResourceWarning: unclosed file <_io.FileIO name='/Volumes/Lacie2/fitmaps/fitmap/9503-6102.fits' mode='rb' closefd=True>\n",
      "/Users/hang/.local/miniconda3/envs/astro/lib/python3.7/site-packages/ipykernel_launcher.py:32: ResourceWarning: unclosed file <_io.FileIO name='/Volumes/Lacie2/fitmaps/fitmap2/9503-6102_binned-maps.fits' mode='rb' closefd=True>\n"
     ]
    },
    {
     "name": "stdout",
     "output_type": "stream",
     "text": [
      "init: auto\n",
      "guess initial value by given range\n",
      "Success: [3.0, 0.2, 0.0]\n",
      "3.048166199144363 0.17511874270292416\n",
      "111 9499-12703\n"
     ]
    },
    {
     "name": "stderr",
     "output_type": "stream",
     "text": [
      "/Users/hang/.local/miniconda3/envs/astro/lib/python3.7/site-packages/numpy/core/fromnumeric.py:3118: RuntimeWarning: Mean of empty slice.\n",
      "  out=out, **kwargs)\n",
      "/Users/hang/.local/miniconda3/envs/astro/lib/python3.7/site-packages/numpy/core/_methods.py:85: RuntimeWarning: invalid value encountered in double_scalars\n",
      "  ret = ret.dtype.type(ret / rcount)\n",
      "/Users/hang/.local/miniconda3/envs/astro/lib/python3.7/site-packages/numpy/core/_methods.py:140: RuntimeWarning: Degrees of freedom <= 0 for slice\n",
      "  keepdims=keepdims)\n",
      "/Users/hang/.local/miniconda3/envs/astro/lib/python3.7/site-packages/numpy/core/_methods.py:110: RuntimeWarning: invalid value encountered in true_divide\n",
      "  arrmean, rcount, out=arrmean, casting='unsafe', subok=False)\n",
      "/Users/hang/.local/miniconda3/envs/astro/lib/python3.7/site-packages/numpy/core/_methods.py:132: RuntimeWarning: invalid value encountered in double_scalars\n",
      "  ret = ret.dtype.type(ret / rcount)\n",
      "/Users/hang/.local/miniconda3/envs/astro/lib/python3.7/site-packages/ipykernel_launcher.py:32: ResourceWarning: unclosed file <_io.FileIO name='/Volumes/Lacie2/fitmaps/fitmap/9503-3704.fits' mode='rb' closefd=True>\n",
      "/Users/hang/.local/miniconda3/envs/astro/lib/python3.7/site-packages/ipykernel_launcher.py:32: ResourceWarning: unclosed file <_io.FileIO name='/Volumes/Lacie2/fitmaps/fitmap2/9503-3704_binned-maps.fits' mode='rb' closefd=True>\n"
     ]
    },
    {
     "name": "stdout",
     "output_type": "stream",
     "text": [
      "init: auto\n",
      "guess initial value by given range\n",
      "Success: [3.0, 0.2, 0.0]\n",
      "3.0116531167025826 0.16286954229650527\n",
      "112 9499-6104\n"
     ]
    },
    {
     "name": "stderr",
     "output_type": "stream",
     "text": [
      "/Users/hang/.local/miniconda3/envs/astro/lib/python3.7/site-packages/numpy/core/fromnumeric.py:3118: RuntimeWarning: Mean of empty slice.\n",
      "  out=out, **kwargs)\n",
      "/Users/hang/.local/miniconda3/envs/astro/lib/python3.7/site-packages/numpy/core/_methods.py:85: RuntimeWarning: invalid value encountered in double_scalars\n",
      "  ret = ret.dtype.type(ret / rcount)\n",
      "/Users/hang/.local/miniconda3/envs/astro/lib/python3.7/site-packages/numpy/core/_methods.py:140: RuntimeWarning: Degrees of freedom <= 0 for slice\n",
      "  keepdims=keepdims)\n",
      "/Users/hang/.local/miniconda3/envs/astro/lib/python3.7/site-packages/numpy/core/_methods.py:110: RuntimeWarning: invalid value encountered in true_divide\n",
      "  arrmean, rcount, out=arrmean, casting='unsafe', subok=False)\n",
      "/Users/hang/.local/miniconda3/envs/astro/lib/python3.7/site-packages/numpy/core/_methods.py:132: RuntimeWarning: invalid value encountered in double_scalars\n",
      "  ret = ret.dtype.type(ret / rcount)\n",
      "/Users/hang/.local/miniconda3/envs/astro/lib/python3.7/site-packages/ipykernel_launcher.py:32: ResourceWarning: unclosed file <_io.FileIO name='/Volumes/Lacie2/fitmaps/fitmap/9499-12703.fits' mode='rb' closefd=True>\n",
      "/Users/hang/.local/miniconda3/envs/astro/lib/python3.7/site-packages/ipykernel_launcher.py:32: ResourceWarning: unclosed file <_io.FileIO name='/Volumes/Lacie2/fitmaps/fitmap2/9499-12703_binned-maps.fits' mode='rb' closefd=True>\n"
     ]
    },
    {
     "name": "stdout",
     "output_type": "stream",
     "text": [
      "init: auto\n",
      "guess initial value by given range\n",
      "Success: [3.0, 0.2, 0.5]\n",
      "3.2598046982435185 0.0685435791129633\n",
      "113 9499-6101\n"
     ]
    },
    {
     "name": "stderr",
     "output_type": "stream",
     "text": [
      "/Users/hang/.local/miniconda3/envs/astro/lib/python3.7/site-packages/ipykernel_launcher.py:32: ResourceWarning: unclosed file <_io.FileIO name='/Volumes/Lacie2/fitmaps/fitmap/9499-6104.fits' mode='rb' closefd=True>\n",
      "/Users/hang/.local/miniconda3/envs/astro/lib/python3.7/site-packages/ipykernel_launcher.py:32: ResourceWarning: unclosed file <_io.FileIO name='/Volumes/Lacie2/fitmaps/fitmap2/9499-6104_binned-maps.fits' mode='rb' closefd=True>\n"
     ]
    },
    {
     "name": "stdout",
     "output_type": "stream",
     "text": [
      "init: auto\n",
      "guess initial value by given range\n",
      "Success: [3.0, 0.2, 0.0]\n",
      "3.1215370582836894 0.1529821544546479\n",
      "114 10215-1902\n"
     ]
    },
    {
     "name": "stderr",
     "output_type": "stream",
     "text": [
      "/Users/hang/.local/miniconda3/envs/astro/lib/python3.7/site-packages/numpy/core/fromnumeric.py:3118: RuntimeWarning: Mean of empty slice.\n",
      "  out=out, **kwargs)\n",
      "/Users/hang/.local/miniconda3/envs/astro/lib/python3.7/site-packages/numpy/core/_methods.py:85: RuntimeWarning: invalid value encountered in double_scalars\n",
      "  ret = ret.dtype.type(ret / rcount)\n",
      "/Users/hang/.local/miniconda3/envs/astro/lib/python3.7/site-packages/numpy/core/_methods.py:140: RuntimeWarning: Degrees of freedom <= 0 for slice\n",
      "  keepdims=keepdims)\n",
      "/Users/hang/.local/miniconda3/envs/astro/lib/python3.7/site-packages/numpy/core/_methods.py:110: RuntimeWarning: invalid value encountered in true_divide\n",
      "  arrmean, rcount, out=arrmean, casting='unsafe', subok=False)\n",
      "/Users/hang/.local/miniconda3/envs/astro/lib/python3.7/site-packages/numpy/core/_methods.py:132: RuntimeWarning: invalid value encountered in double_scalars\n",
      "  ret = ret.dtype.type(ret / rcount)\n",
      "/Users/hang/.local/miniconda3/envs/astro/lib/python3.7/site-packages/ipykernel_launcher.py:32: ResourceWarning: unclosed file <_io.FileIO name='/Volumes/Lacie2/fitmaps/fitmap/9499-6101.fits' mode='rb' closefd=True>\n",
      "/Users/hang/.local/miniconda3/envs/astro/lib/python3.7/site-packages/ipykernel_launcher.py:32: ResourceWarning: unclosed file <_io.FileIO name='/Volumes/Lacie2/fitmaps/fitmap2/9499-6101_binned-maps.fits' mode='rb' closefd=True>\n"
     ]
    },
    {
     "name": "stdout",
     "output_type": "stream",
     "text": [
      "init: auto\n",
      "guess initial value by given range\n",
      "Success: [3.0, 0.2, 0.0]\n",
      "3.0164807551108503 0.17090789298531303\n",
      "115 9495-1901\n"
     ]
    },
    {
     "name": "stderr",
     "output_type": "stream",
     "text": [
      "/Users/hang/.local/miniconda3/envs/astro/lib/python3.7/site-packages/numpy/core/fromnumeric.py:3118: RuntimeWarning: Mean of empty slice.\n",
      "  out=out, **kwargs)\n",
      "/Users/hang/.local/miniconda3/envs/astro/lib/python3.7/site-packages/numpy/core/_methods.py:85: RuntimeWarning: invalid value encountered in double_scalars\n",
      "  ret = ret.dtype.type(ret / rcount)\n",
      "/Users/hang/.local/miniconda3/envs/astro/lib/python3.7/site-packages/numpy/core/_methods.py:140: RuntimeWarning: Degrees of freedom <= 0 for slice\n",
      "  keepdims=keepdims)\n",
      "/Users/hang/.local/miniconda3/envs/astro/lib/python3.7/site-packages/numpy/core/_methods.py:110: RuntimeWarning: invalid value encountered in true_divide\n",
      "  arrmean, rcount, out=arrmean, casting='unsafe', subok=False)\n",
      "/Users/hang/.local/miniconda3/envs/astro/lib/python3.7/site-packages/numpy/core/_methods.py:132: RuntimeWarning: invalid value encountered in double_scalars\n",
      "  ret = ret.dtype.type(ret / rcount)\n",
      "/Users/hang/.local/miniconda3/envs/astro/lib/python3.7/site-packages/ipykernel_launcher.py:32: ResourceWarning: unclosed file <_io.FileIO name='/Volumes/Lacie2/fitmaps/fitmap/10215-1902.fits' mode='rb' closefd=True>\n",
      "/Users/hang/.local/miniconda3/envs/astro/lib/python3.7/site-packages/ipykernel_launcher.py:32: ResourceWarning: unclosed file <_io.FileIO name='/Volumes/Lacie2/fitmaps/fitmap2/10215-1902_binned-maps.fits' mode='rb' closefd=True>\n"
     ]
    },
    {
     "name": "stdout",
     "output_type": "stream",
     "text": [
      "init: auto\n",
      "guess initial value by given range\n",
      "Success: [3.0, 0.2, 0.0]\n",
      "2.682959726189737 0.1466850681938028\n",
      "116 8723-6104\n"
     ]
    },
    {
     "name": "stderr",
     "output_type": "stream",
     "text": [
      "/Users/hang/.local/miniconda3/envs/astro/lib/python3.7/site-packages/numpy/core/fromnumeric.py:3118: RuntimeWarning: Mean of empty slice.\n",
      "  out=out, **kwargs)\n",
      "/Users/hang/.local/miniconda3/envs/astro/lib/python3.7/site-packages/numpy/core/_methods.py:85: RuntimeWarning: invalid value encountered in double_scalars\n",
      "  ret = ret.dtype.type(ret / rcount)\n",
      "/Users/hang/.local/miniconda3/envs/astro/lib/python3.7/site-packages/numpy/core/_methods.py:140: RuntimeWarning: Degrees of freedom <= 0 for slice\n",
      "  keepdims=keepdims)\n",
      "/Users/hang/.local/miniconda3/envs/astro/lib/python3.7/site-packages/numpy/core/_methods.py:110: RuntimeWarning: invalid value encountered in true_divide\n",
      "  arrmean, rcount, out=arrmean, casting='unsafe', subok=False)\n",
      "/Users/hang/.local/miniconda3/envs/astro/lib/python3.7/site-packages/numpy/core/_methods.py:132: RuntimeWarning: invalid value encountered in double_scalars\n",
      "  ret = ret.dtype.type(ret / rcount)\n",
      "/Users/hang/.local/miniconda3/envs/astro/lib/python3.7/site-packages/ipykernel_launcher.py:32: ResourceWarning: unclosed file <_io.FileIO name='/Volumes/Lacie2/fitmaps/fitmap/9495-1901.fits' mode='rb' closefd=True>\n",
      "/Users/hang/.local/miniconda3/envs/astro/lib/python3.7/site-packages/ipykernel_launcher.py:32: ResourceWarning: unclosed file <_io.FileIO name='/Volumes/Lacie2/fitmaps/fitmap2/9495-1901_binned-maps.fits' mode='rb' closefd=True>\n"
     ]
    },
    {
     "name": "stdout",
     "output_type": "stream",
     "text": [
      "init: auto\n",
      "guess initial value by given range\n",
      "Success: [3.0, 0.2, 0.0]\n",
      "3.1985410111029724 0.12590960396370873\n",
      "117 9489-6104\n"
     ]
    },
    {
     "name": "stderr",
     "output_type": "stream",
     "text": [
      "/Users/hang/.local/miniconda3/envs/astro/lib/python3.7/site-packages/numpy/core/fromnumeric.py:3118: RuntimeWarning: Mean of empty slice.\n",
      "  out=out, **kwargs)\n",
      "/Users/hang/.local/miniconda3/envs/astro/lib/python3.7/site-packages/numpy/core/_methods.py:85: RuntimeWarning: invalid value encountered in double_scalars\n",
      "  ret = ret.dtype.type(ret / rcount)\n",
      "/Users/hang/.local/miniconda3/envs/astro/lib/python3.7/site-packages/numpy/core/_methods.py:140: RuntimeWarning: Degrees of freedom <= 0 for slice\n",
      "  keepdims=keepdims)\n",
      "/Users/hang/.local/miniconda3/envs/astro/lib/python3.7/site-packages/numpy/core/_methods.py:110: RuntimeWarning: invalid value encountered in true_divide\n",
      "  arrmean, rcount, out=arrmean, casting='unsafe', subok=False)\n",
      "/Users/hang/.local/miniconda3/envs/astro/lib/python3.7/site-packages/numpy/core/_methods.py:132: RuntimeWarning: invalid value encountered in double_scalars\n",
      "  ret = ret.dtype.type(ret / rcount)\n",
      "/Users/hang/.local/miniconda3/envs/astro/lib/python3.7/site-packages/ipykernel_launcher.py:32: ResourceWarning: unclosed file <_io.FileIO name='/Volumes/Lacie2/fitmaps/fitmap/8723-6104.fits' mode='rb' closefd=True>\n",
      "/Users/hang/.local/miniconda3/envs/astro/lib/python3.7/site-packages/ipykernel_launcher.py:32: ResourceWarning: unclosed file <_io.FileIO name='/Volumes/Lacie2/fitmaps/fitmap2/8723-6104_binned-maps.fits' mode='rb' closefd=True>\n"
     ]
    },
    {
     "name": "stdout",
     "output_type": "stream",
     "text": [
      "init: auto\n",
      "guess initial value by given range\n",
      "Success: [3.0, 0.2, 0.0]\n",
      "2.9006369095888673 0.1124585522819155\n",
      "118 8998-12705\n"
     ]
    },
    {
     "name": "stderr",
     "output_type": "stream",
     "text": [
      "/Users/hang/.local/miniconda3/envs/astro/lib/python3.7/site-packages/numpy/core/fromnumeric.py:3118: RuntimeWarning: Mean of empty slice.\n",
      "  out=out, **kwargs)\n",
      "/Users/hang/.local/miniconda3/envs/astro/lib/python3.7/site-packages/numpy/core/_methods.py:85: RuntimeWarning: invalid value encountered in double_scalars\n",
      "  ret = ret.dtype.type(ret / rcount)\n",
      "/Users/hang/.local/miniconda3/envs/astro/lib/python3.7/site-packages/numpy/core/_methods.py:140: RuntimeWarning: Degrees of freedom <= 0 for slice\n",
      "  keepdims=keepdims)\n",
      "/Users/hang/.local/miniconda3/envs/astro/lib/python3.7/site-packages/numpy/core/_methods.py:110: RuntimeWarning: invalid value encountered in true_divide\n",
      "  arrmean, rcount, out=arrmean, casting='unsafe', subok=False)\n",
      "/Users/hang/.local/miniconda3/envs/astro/lib/python3.7/site-packages/numpy/core/_methods.py:132: RuntimeWarning: invalid value encountered in double_scalars\n",
      "  ret = ret.dtype.type(ret / rcount)\n",
      "/Users/hang/.local/miniconda3/envs/astro/lib/python3.7/site-packages/ipykernel_launcher.py:32: ResourceWarning: unclosed file <_io.FileIO name='/Volumes/Lacie2/fitmaps/fitmap/9489-6104.fits' mode='rb' closefd=True>\n",
      "/Users/hang/.local/miniconda3/envs/astro/lib/python3.7/site-packages/ipykernel_launcher.py:32: ResourceWarning: unclosed file <_io.FileIO name='/Volumes/Lacie2/fitmaps/fitmap2/9489-6104_binned-maps.fits' mode='rb' closefd=True>\n"
     ]
    },
    {
     "name": "stdout",
     "output_type": "stream",
     "text": [
      "init: auto\n",
      "guess initial value by given range\n",
      "Success: [3.0, 0.2, 0.0]\n",
      "3.392079319393457 0.13102398468864562\n",
      "119 8981-6104\n"
     ]
    },
    {
     "name": "stderr",
     "output_type": "stream",
     "text": [
      "/Users/hang/.local/miniconda3/envs/astro/lib/python3.7/site-packages/numpy/core/fromnumeric.py:3118: RuntimeWarning: Mean of empty slice.\n",
      "  out=out, **kwargs)\n",
      "/Users/hang/.local/miniconda3/envs/astro/lib/python3.7/site-packages/numpy/core/_methods.py:85: RuntimeWarning: invalid value encountered in double_scalars\n",
      "  ret = ret.dtype.type(ret / rcount)\n",
      "/Users/hang/.local/miniconda3/envs/astro/lib/python3.7/site-packages/numpy/core/_methods.py:140: RuntimeWarning: Degrees of freedom <= 0 for slice\n",
      "  keepdims=keepdims)\n",
      "/Users/hang/.local/miniconda3/envs/astro/lib/python3.7/site-packages/numpy/core/_methods.py:110: RuntimeWarning: invalid value encountered in true_divide\n",
      "  arrmean, rcount, out=arrmean, casting='unsafe', subok=False)\n",
      "/Users/hang/.local/miniconda3/envs/astro/lib/python3.7/site-packages/numpy/core/_methods.py:132: RuntimeWarning: invalid value encountered in double_scalars\n",
      "  ret = ret.dtype.type(ret / rcount)\n",
      "/Users/hang/.local/miniconda3/envs/astro/lib/python3.7/site-packages/ipykernel_launcher.py:32: ResourceWarning: unclosed file <_io.FileIO name='/Volumes/Lacie2/fitmaps/fitmap/8998-12705.fits' mode='rb' closefd=True>\n",
      "/Users/hang/.local/miniconda3/envs/astro/lib/python3.7/site-packages/ipykernel_launcher.py:32: ResourceWarning: unclosed file <_io.FileIO name='/Volumes/Lacie2/fitmaps/fitmap2/8998-12705_binned-maps.fits' mode='rb' closefd=True>\n"
     ]
    },
    {
     "name": "stdout",
     "output_type": "stream",
     "text": [
      "init: auto\n",
      "guess initial value by given range\n",
      "Success: [3.0, 0.2, 1.5]\n",
      "3.642561629095844 0.07244827571937777\n",
      "120 8988-6102\n"
     ]
    },
    {
     "name": "stderr",
     "output_type": "stream",
     "text": [
      "/Users/hang/.local/miniconda3/envs/astro/lib/python3.7/site-packages/numpy/core/fromnumeric.py:3118: RuntimeWarning: Mean of empty slice.\n",
      "  out=out, **kwargs)\n",
      "/Users/hang/.local/miniconda3/envs/astro/lib/python3.7/site-packages/numpy/core/_methods.py:85: RuntimeWarning: invalid value encountered in double_scalars\n",
      "  ret = ret.dtype.type(ret / rcount)\n",
      "/Users/hang/.local/miniconda3/envs/astro/lib/python3.7/site-packages/numpy/core/_methods.py:140: RuntimeWarning: Degrees of freedom <= 0 for slice\n",
      "  keepdims=keepdims)\n",
      "/Users/hang/.local/miniconda3/envs/astro/lib/python3.7/site-packages/numpy/core/_methods.py:110: RuntimeWarning: invalid value encountered in true_divide\n",
      "  arrmean, rcount, out=arrmean, casting='unsafe', subok=False)\n",
      "/Users/hang/.local/miniconda3/envs/astro/lib/python3.7/site-packages/numpy/core/_methods.py:132: RuntimeWarning: invalid value encountered in double_scalars\n",
      "  ret = ret.dtype.type(ret / rcount)\n",
      "/Users/hang/.local/miniconda3/envs/astro/lib/python3.7/site-packages/ipykernel_launcher.py:32: ResourceWarning: unclosed file <_io.FileIO name='/Volumes/Lacie2/fitmaps/fitmap/8981-6104.fits' mode='rb' closefd=True>\n",
      "/Users/hang/.local/miniconda3/envs/astro/lib/python3.7/site-packages/ipykernel_launcher.py:32: ResourceWarning: unclosed file <_io.FileIO name='/Volumes/Lacie2/fitmaps/fitmap2/8981-6104_binned-maps.fits' mode='rb' closefd=True>\n"
     ]
    },
    {
     "name": "stdout",
     "output_type": "stream",
     "text": [
      "init: auto\n",
      "guess initial value by given range\n",
      "Success: [3.0, 0.2, 1.0]\n",
      "3.2828998877096476 0.1699975165317465\n",
      "121 10514-12705\n"
     ]
    },
    {
     "name": "stderr",
     "output_type": "stream",
     "text": [
      "/Users/hang/.local/miniconda3/envs/astro/lib/python3.7/site-packages/numpy/core/fromnumeric.py:3118: RuntimeWarning: Mean of empty slice.\n",
      "  out=out, **kwargs)\n",
      "/Users/hang/.local/miniconda3/envs/astro/lib/python3.7/site-packages/numpy/core/_methods.py:85: RuntimeWarning: invalid value encountered in double_scalars\n",
      "  ret = ret.dtype.type(ret / rcount)\n",
      "/Users/hang/.local/miniconda3/envs/astro/lib/python3.7/site-packages/numpy/core/_methods.py:140: RuntimeWarning: Degrees of freedom <= 0 for slice\n",
      "  keepdims=keepdims)\n",
      "/Users/hang/.local/miniconda3/envs/astro/lib/python3.7/site-packages/numpy/core/_methods.py:110: RuntimeWarning: invalid value encountered in true_divide\n",
      "  arrmean, rcount, out=arrmean, casting='unsafe', subok=False)\n",
      "/Users/hang/.local/miniconda3/envs/astro/lib/python3.7/site-packages/numpy/core/_methods.py:132: RuntimeWarning: invalid value encountered in double_scalars\n",
      "  ret = ret.dtype.type(ret / rcount)\n",
      "/Users/hang/.local/miniconda3/envs/astro/lib/python3.7/site-packages/ipykernel_launcher.py:32: ResourceWarning: unclosed file <_io.FileIO name='/Volumes/Lacie2/fitmaps/fitmap/8988-6102.fits' mode='rb' closefd=True>\n",
      "/Users/hang/.local/miniconda3/envs/astro/lib/python3.7/site-packages/ipykernel_launcher.py:32: ResourceWarning: unclosed file <_io.FileIO name='/Volumes/Lacie2/fitmaps/fitmap2/8988-6102_binned-maps.fits' mode='rb' closefd=True>\n"
     ]
    },
    {
     "name": "stdout",
     "output_type": "stream",
     "text": [
      "init: auto\n",
      "guess initial value by given range\n"
     ]
    },
    {
     "name": "stderr",
     "output_type": "stream",
     "text": [
      "/Users/hang/.local/miniconda3/envs/astro/lib/python3.7/site-packages/numpy/core/fromnumeric.py:3118: RuntimeWarning: Mean of empty slice.\n",
      "  out=out, **kwargs)\n",
      "/Users/hang/.local/miniconda3/envs/astro/lib/python3.7/site-packages/numpy/core/_methods.py:85: RuntimeWarning: invalid value encountered in double_scalars\n",
      "  ret = ret.dtype.type(ret / rcount)\n",
      "/Users/hang/.local/miniconda3/envs/astro/lib/python3.7/site-packages/numpy/core/_methods.py:140: RuntimeWarning: Degrees of freedom <= 0 for slice\n",
      "  keepdims=keepdims)\n",
      "/Users/hang/.local/miniconda3/envs/astro/lib/python3.7/site-packages/numpy/core/_methods.py:110: RuntimeWarning: invalid value encountered in true_divide\n",
      "  arrmean, rcount, out=arrmean, casting='unsafe', subok=False)\n",
      "/Users/hang/.local/miniconda3/envs/astro/lib/python3.7/site-packages/numpy/core/_methods.py:132: RuntimeWarning: invalid value encountered in double_scalars\n",
      "  ret = ret.dtype.type(ret / rcount)\n"
     ]
    },
    {
     "name": "stdout",
     "output_type": "stream",
     "text": [
      "Success: [3.0, 0.6000000000000001, 1.5]\n",
      "3.333454544400883 0.04877706634150616\n",
      "122 10514-9102\n"
     ]
    },
    {
     "name": "stderr",
     "output_type": "stream",
     "text": [
      "/Users/hang/.local/miniconda3/envs/astro/lib/python3.7/site-packages/ipykernel_launcher.py:32: ResourceWarning: unclosed file <_io.FileIO name='/Volumes/Lacie2/fitmaps/fitmap/10514-12705.fits' mode='rb' closefd=True>\n",
      "/Users/hang/.local/miniconda3/envs/astro/lib/python3.7/site-packages/ipykernel_launcher.py:32: ResourceWarning: unclosed file <_io.FileIO name='/Volumes/Lacie2/fitmaps/fitmap2/10514-12705_binned-maps.fits' mode='rb' closefd=True>\n",
      "/Users/hang/Desktop/research/projects/ENLR/code_new/mangatools/fitmaps.py:54: RuntimeWarning: invalid value encountered in true_divide\n",
      "  snr_cut = ((Ha / Ha_err) < 3) | ((Hb / Hb_err) < 3)\n",
      "/Users/hang/Desktop/research/projects/ENLR/code_new/mangatools/fitmaps.py:54: RuntimeWarning: invalid value encountered in less\n",
      "  snr_cut = ((Ha / Ha_err) < 3) | ((Hb / Hb_err) < 3)\n",
      "/Users/hang/Desktop/research/projects/ENLR/code_new/mangatools/fitmaps.py:58: RuntimeWarning: divide by zero encountered in log10\n",
      "  E_BV = 1.97 * np.log10(ratio_obs / ratio_theory)\n"
     ]
    },
    {
     "name": "stdout",
     "output_type": "stream",
     "text": [
      "init: auto\n",
      "guess initial value by given range\n",
      "Success: [3.0, 0.2, 0.0]\n",
      "2.9065325816059153 0.091644400340235\n",
      "123 10510-12704\n"
     ]
    },
    {
     "name": "stderr",
     "output_type": "stream",
     "text": [
      "/Users/hang/.local/miniconda3/envs/astro/lib/python3.7/site-packages/numpy/core/fromnumeric.py:3118: RuntimeWarning: Mean of empty slice.\n",
      "  out=out, **kwargs)\n",
      "/Users/hang/.local/miniconda3/envs/astro/lib/python3.7/site-packages/numpy/core/_methods.py:85: RuntimeWarning: invalid value encountered in double_scalars\n",
      "  ret = ret.dtype.type(ret / rcount)\n",
      "/Users/hang/.local/miniconda3/envs/astro/lib/python3.7/site-packages/numpy/core/_methods.py:140: RuntimeWarning: Degrees of freedom <= 0 for slice\n",
      "  keepdims=keepdims)\n",
      "/Users/hang/.local/miniconda3/envs/astro/lib/python3.7/site-packages/numpy/core/_methods.py:110: RuntimeWarning: invalid value encountered in true_divide\n",
      "  arrmean, rcount, out=arrmean, casting='unsafe', subok=False)\n",
      "/Users/hang/.local/miniconda3/envs/astro/lib/python3.7/site-packages/numpy/core/_methods.py:132: RuntimeWarning: invalid value encountered in double_scalars\n",
      "  ret = ret.dtype.type(ret / rcount)\n",
      "/Users/hang/.local/miniconda3/envs/astro/lib/python3.7/site-packages/ipykernel_launcher.py:32: ResourceWarning: unclosed file <_io.FileIO name='/Volumes/Lacie2/fitmaps/fitmap/10514-9102.fits' mode='rb' closefd=True>\n",
      "/Users/hang/.local/miniconda3/envs/astro/lib/python3.7/site-packages/ipykernel_launcher.py:32: ResourceWarning: unclosed file <_io.FileIO name='/Volumes/Lacie2/fitmaps/fitmap2/10514-9102_binned-maps.fits' mode='rb' closefd=True>\n",
      "/Users/hang/Desktop/research/projects/ENLR/code_new/mangatools/fitmaps.py:54: RuntimeWarning: invalid value encountered in true_divide\n",
      "  snr_cut = ((Ha / Ha_err) < 3) | ((Hb / Hb_err) < 3)\n",
      "/Users/hang/Desktop/research/projects/ENLR/code_new/mangatools/fitmaps.py:54: RuntimeWarning: invalid value encountered in less\n",
      "  snr_cut = ((Ha / Ha_err) < 3) | ((Hb / Hb_err) < 3)\n",
      "/Users/hang/Desktop/research/projects/ENLR/code_new/mangatools/fitmaps.py:58: RuntimeWarning: divide by zero encountered in log10\n",
      "  E_BV = 1.97 * np.log10(ratio_obs / ratio_theory)\n"
     ]
    },
    {
     "name": "stdout",
     "output_type": "stream",
     "text": [
      "init: auto\n",
      "guess initial value by given range\n",
      "Success: [3.0, 0.2, 0.0]\n",
      "2.2507788460798137 0.09390645641747362\n",
      "124 10510-6103\n"
     ]
    },
    {
     "name": "stderr",
     "output_type": "stream",
     "text": [
      "/Users/hang/.local/miniconda3/envs/astro/lib/python3.7/site-packages/numpy/core/fromnumeric.py:3118: RuntimeWarning: Mean of empty slice.\n",
      "  out=out, **kwargs)\n",
      "/Users/hang/.local/miniconda3/envs/astro/lib/python3.7/site-packages/numpy/core/_methods.py:85: RuntimeWarning: invalid value encountered in double_scalars\n",
      "  ret = ret.dtype.type(ret / rcount)\n",
      "/Users/hang/.local/miniconda3/envs/astro/lib/python3.7/site-packages/numpy/core/_methods.py:140: RuntimeWarning: Degrees of freedom <= 0 for slice\n",
      "  keepdims=keepdims)\n",
      "/Users/hang/.local/miniconda3/envs/astro/lib/python3.7/site-packages/numpy/core/_methods.py:110: RuntimeWarning: invalid value encountered in true_divide\n",
      "  arrmean, rcount, out=arrmean, casting='unsafe', subok=False)\n",
      "/Users/hang/.local/miniconda3/envs/astro/lib/python3.7/site-packages/numpy/core/_methods.py:132: RuntimeWarning: invalid value encountered in double_scalars\n",
      "  ret = ret.dtype.type(ret / rcount)\n",
      "/Users/hang/.local/miniconda3/envs/astro/lib/python3.7/site-packages/ipykernel_launcher.py:32: ResourceWarning: unclosed file <_io.FileIO name='/Volumes/Lacie2/fitmaps/fitmap/10510-12704.fits' mode='rb' closefd=True>\n"
     ]
    },
    {
     "name": "stdout",
     "output_type": "stream",
     "text": [
      "init: auto\n",
      "guess initial value by given range\n",
      "Success: [3.0, 0.2, 1.5]\n",
      "2.910268138907294 0.1074581867358115\n",
      "125 10493-3704\n"
     ]
    },
    {
     "name": "stderr",
     "output_type": "stream",
     "text": [
      "/Users/hang/.local/miniconda3/envs/astro/lib/python3.7/site-packages/numpy/core/fromnumeric.py:3118: RuntimeWarning: Mean of empty slice.\n",
      "  out=out, **kwargs)\n",
      "/Users/hang/.local/miniconda3/envs/astro/lib/python3.7/site-packages/numpy/core/_methods.py:85: RuntimeWarning: invalid value encountered in double_scalars\n",
      "  ret = ret.dtype.type(ret / rcount)\n",
      "/Users/hang/.local/miniconda3/envs/astro/lib/python3.7/site-packages/numpy/core/_methods.py:140: RuntimeWarning: Degrees of freedom <= 0 for slice\n",
      "  keepdims=keepdims)\n",
      "/Users/hang/.local/miniconda3/envs/astro/lib/python3.7/site-packages/numpy/core/_methods.py:110: RuntimeWarning: invalid value encountered in true_divide\n",
      "  arrmean, rcount, out=arrmean, casting='unsafe', subok=False)\n",
      "/Users/hang/.local/miniconda3/envs/astro/lib/python3.7/site-packages/numpy/core/_methods.py:132: RuntimeWarning: invalid value encountered in double_scalars\n",
      "  ret = ret.dtype.type(ret / rcount)\n",
      "/Users/hang/.local/miniconda3/envs/astro/lib/python3.7/site-packages/ipykernel_launcher.py:32: ResourceWarning: unclosed file <_io.FileIO name='/Volumes/Lacie2/fitmaps/fitmap/10510-6103.fits' mode='rb' closefd=True>\n",
      "/Users/hang/.local/miniconda3/envs/astro/lib/python3.7/site-packages/ipykernel_launcher.py:32: ResourceWarning: unclosed file <_io.FileIO name='/Volumes/Lacie2/fitmaps/fitmap2/10510-6103_binned-maps.fits' mode='rb' closefd=True>\n"
     ]
    },
    {
     "name": "stdout",
     "output_type": "stream",
     "text": [
      "init: auto\n",
      "guess initial value by given range\n",
      "Success: [3.0, 0.2, 0.0]\n",
      "3.120586274094959 0.10665918506676017\n",
      "126 9884-3704\n"
     ]
    },
    {
     "name": "stderr",
     "output_type": "stream",
     "text": [
      "/Users/hang/.local/miniconda3/envs/astro/lib/python3.7/site-packages/ipykernel_launcher.py:32: ResourceWarning: unclosed file <_io.FileIO name='/Volumes/Lacie2/fitmaps/fitmap/10493-3704.fits' mode='rb' closefd=True>\n",
      "/Users/hang/.local/miniconda3/envs/astro/lib/python3.7/site-packages/ipykernel_launcher.py:32: ResourceWarning: unclosed file <_io.FileIO name='/Volumes/Lacie2/fitmaps/fitmap2/10493-3704_binned-maps.fits' mode='rb' closefd=True>\n"
     ]
    },
    {
     "name": "stdout",
     "output_type": "stream",
     "text": [
      "init: auto\n",
      "guess initial value by given range\n"
     ]
    },
    {
     "name": "stderr",
     "output_type": "stream",
     "text": [
      "/Users/hang/.local/miniconda3/envs/astro/lib/python3.7/site-packages/numpy/core/fromnumeric.py:3118: RuntimeWarning: Mean of empty slice.\n",
      "  out=out, **kwargs)\n",
      "/Users/hang/.local/miniconda3/envs/astro/lib/python3.7/site-packages/numpy/core/_methods.py:85: RuntimeWarning: invalid value encountered in double_scalars\n",
      "  ret = ret.dtype.type(ret / rcount)\n",
      "/Users/hang/.local/miniconda3/envs/astro/lib/python3.7/site-packages/numpy/core/_methods.py:140: RuntimeWarning: Degrees of freedom <= 0 for slice\n",
      "  keepdims=keepdims)\n",
      "/Users/hang/.local/miniconda3/envs/astro/lib/python3.7/site-packages/numpy/core/_methods.py:110: RuntimeWarning: invalid value encountered in true_divide\n",
      "  arrmean, rcount, out=arrmean, casting='unsafe', subok=False)\n",
      "/Users/hang/.local/miniconda3/envs/astro/lib/python3.7/site-packages/numpy/core/_methods.py:132: RuntimeWarning: invalid value encountered in double_scalars\n",
      "  ret = ret.dtype.type(ret / rcount)\n"
     ]
    },
    {
     "name": "stdout",
     "output_type": "stream",
     "text": [
      "Success: [3.0, 0.2, 0.0]\n",
      "3.5255807106887778 0.03896225938511787\n",
      "127 10494-12701\n"
     ]
    },
    {
     "name": "stderr",
     "output_type": "stream",
     "text": [
      "/Users/hang/.local/miniconda3/envs/astro/lib/python3.7/site-packages/ipykernel_launcher.py:32: ResourceWarning: unclosed file <_io.FileIO name='/Volumes/Lacie2/fitmaps/fitmap/9884-3704.fits' mode='rb' closefd=True>\n",
      "/Users/hang/.local/miniconda3/envs/astro/lib/python3.7/site-packages/ipykernel_launcher.py:32: ResourceWarning: unclosed file <_io.FileIO name='/Volumes/Lacie2/fitmaps/fitmap2/9884-3704_binned-maps.fits' mode='rb' closefd=True>\n"
     ]
    },
    {
     "name": "stdout",
     "output_type": "stream",
     "text": [
      "init: auto\n",
      "guess initial value by given range\n"
     ]
    },
    {
     "name": "stderr",
     "output_type": "stream",
     "text": [
      "/Users/hang/.local/miniconda3/envs/astro/lib/python3.7/site-packages/numpy/core/fromnumeric.py:3118: RuntimeWarning: Mean of empty slice.\n",
      "  out=out, **kwargs)\n",
      "/Users/hang/.local/miniconda3/envs/astro/lib/python3.7/site-packages/numpy/core/_methods.py:85: RuntimeWarning: invalid value encountered in double_scalars\n",
      "  ret = ret.dtype.type(ret / rcount)\n",
      "/Users/hang/.local/miniconda3/envs/astro/lib/python3.7/site-packages/numpy/core/_methods.py:140: RuntimeWarning: Degrees of freedom <= 0 for slice\n",
      "  keepdims=keepdims)\n",
      "/Users/hang/.local/miniconda3/envs/astro/lib/python3.7/site-packages/numpy/core/_methods.py:110: RuntimeWarning: invalid value encountered in true_divide\n",
      "  arrmean, rcount, out=arrmean, casting='unsafe', subok=False)\n",
      "/Users/hang/.local/miniconda3/envs/astro/lib/python3.7/site-packages/numpy/core/_methods.py:132: RuntimeWarning: invalid value encountered in double_scalars\n",
      "  ret = ret.dtype.type(ret / rcount)\n"
     ]
    },
    {
     "name": "stdout",
     "output_type": "stream",
     "text": [
      "Success: [4.200000000000001, 0.2, 0.0]\n",
      "3.9330057611230327 0.033244421319509644\n",
      "128 10508-12703\n"
     ]
    },
    {
     "name": "stderr",
     "output_type": "stream",
     "text": [
      "/Users/hang/.local/miniconda3/envs/astro/lib/python3.7/site-packages/ipykernel_launcher.py:32: ResourceWarning: unclosed file <_io.FileIO name='/Volumes/Lacie2/fitmaps/fitmap/10494-12701.fits' mode='rb' closefd=True>\n",
      "/Users/hang/.local/miniconda3/envs/astro/lib/python3.7/site-packages/ipykernel_launcher.py:32: ResourceWarning: unclosed file <_io.FileIO name='/Volumes/Lacie2/fitmaps/fitmap2/10494-12701_binned-maps.fits' mode='rb' closefd=True>\n"
     ]
    },
    {
     "name": "stdout",
     "output_type": "stream",
     "text": [
      "init: auto\n",
      "guess initial value by given range\n",
      "Success: [3.0, 0.2, 0.0]\n",
      "3.277522691298628 0.11111760759366653\n",
      "129 10508-6101\n"
     ]
    },
    {
     "name": "stderr",
     "output_type": "stream",
     "text": [
      "/Users/hang/.local/miniconda3/envs/astro/lib/python3.7/site-packages/numpy/core/fromnumeric.py:3118: RuntimeWarning: Mean of empty slice.\n",
      "  out=out, **kwargs)\n",
      "/Users/hang/.local/miniconda3/envs/astro/lib/python3.7/site-packages/numpy/core/_methods.py:85: RuntimeWarning: invalid value encountered in double_scalars\n",
      "  ret = ret.dtype.type(ret / rcount)\n",
      "/Users/hang/.local/miniconda3/envs/astro/lib/python3.7/site-packages/numpy/core/_methods.py:140: RuntimeWarning: Degrees of freedom <= 0 for slice\n",
      "  keepdims=keepdims)\n",
      "/Users/hang/.local/miniconda3/envs/astro/lib/python3.7/site-packages/numpy/core/_methods.py:110: RuntimeWarning: invalid value encountered in true_divide\n",
      "  arrmean, rcount, out=arrmean, casting='unsafe', subok=False)\n",
      "/Users/hang/.local/miniconda3/envs/astro/lib/python3.7/site-packages/numpy/core/_methods.py:132: RuntimeWarning: invalid value encountered in double_scalars\n",
      "  ret = ret.dtype.type(ret / rcount)\n",
      "/Users/hang/.local/miniconda3/envs/astro/lib/python3.7/site-packages/ipykernel_launcher.py:32: ResourceWarning: unclosed file <_io.FileIO name='/Volumes/Lacie2/fitmaps/fitmap/10508-12703.fits' mode='rb' closefd=True>\n",
      "/Users/hang/.local/miniconda3/envs/astro/lib/python3.7/site-packages/ipykernel_launcher.py:32: ResourceWarning: unclosed file <_io.FileIO name='/Volumes/Lacie2/fitmaps/fitmap2/10508-12703_binned-maps.fits' mode='rb' closefd=True>\n",
      "/Users/hang/Desktop/research/projects/ENLR/code_new/mangatools/fitmaps.py:54: RuntimeWarning: invalid value encountered in true_divide\n",
      "  snr_cut = ((Ha / Ha_err) < 3) | ((Hb / Hb_err) < 3)\n",
      "/Users/hang/Desktop/research/projects/ENLR/code_new/mangatools/fitmaps.py:54: RuntimeWarning: invalid value encountered in less\n",
      "  snr_cut = ((Ha / Ha_err) < 3) | ((Hb / Hb_err) < 3)\n",
      "/Users/hang/Desktop/research/projects/ENLR/code_new/mangatools/fitmaps.py:58: RuntimeWarning: divide by zero encountered in log10\n",
      "  E_BV = 1.97 * np.log10(ratio_obs / ratio_theory)\n"
     ]
    },
    {
     "name": "stdout",
     "output_type": "stream",
     "text": [
      "init: auto\n",
      "guess initial value by given range\n",
      "Success: [3.0, 0.2, 0.0]\n",
      "3.0352471066980793 0.12697522031757166\n",
      "130 10492-12702\n"
     ]
    },
    {
     "name": "stderr",
     "output_type": "stream",
     "text": [
      "/Users/hang/.local/miniconda3/envs/astro/lib/python3.7/site-packages/ipykernel_launcher.py:32: ResourceWarning: unclosed file <_io.FileIO name='/Volumes/Lacie2/fitmaps/fitmap/10508-6101.fits' mode='rb' closefd=True>\n",
      "/Users/hang/.local/miniconda3/envs/astro/lib/python3.7/site-packages/ipykernel_launcher.py:32: ResourceWarning: unclosed file <_io.FileIO name='/Volumes/Lacie2/fitmaps/fitmap2/10508-6101_binned-maps.fits' mode='rb' closefd=True>\n"
     ]
    },
    {
     "name": "stdout",
     "output_type": "stream",
     "text": [
      "init: auto\n",
      "guess initial value by given range\n",
      "Success: [3.0, 0.2, 0.0]\n",
      "3.094724889460346 0.09793438501303345\n",
      "131 10492-6103\n"
     ]
    },
    {
     "name": "stderr",
     "output_type": "stream",
     "text": [
      "/Users/hang/.local/miniconda3/envs/astro/lib/python3.7/site-packages/numpy/core/fromnumeric.py:3118: RuntimeWarning: Mean of empty slice.\n",
      "  out=out, **kwargs)\n",
      "/Users/hang/.local/miniconda3/envs/astro/lib/python3.7/site-packages/numpy/core/_methods.py:85: RuntimeWarning: invalid value encountered in double_scalars\n",
      "  ret = ret.dtype.type(ret / rcount)\n",
      "/Users/hang/.local/miniconda3/envs/astro/lib/python3.7/site-packages/numpy/core/_methods.py:140: RuntimeWarning: Degrees of freedom <= 0 for slice\n",
      "  keepdims=keepdims)\n",
      "/Users/hang/.local/miniconda3/envs/astro/lib/python3.7/site-packages/numpy/core/_methods.py:110: RuntimeWarning: invalid value encountered in true_divide\n",
      "  arrmean, rcount, out=arrmean, casting='unsafe', subok=False)\n",
      "/Users/hang/.local/miniconda3/envs/astro/lib/python3.7/site-packages/numpy/core/_methods.py:132: RuntimeWarning: invalid value encountered in double_scalars\n",
      "  ret = ret.dtype.type(ret / rcount)\n",
      "/Users/hang/.local/miniconda3/envs/astro/lib/python3.7/site-packages/ipykernel_launcher.py:32: ResourceWarning: unclosed file <_io.FileIO name='/Volumes/Lacie2/fitmaps/fitmap/10492-12702.fits' mode='rb' closefd=True>\n",
      "/Users/hang/.local/miniconda3/envs/astro/lib/python3.7/site-packages/ipykernel_launcher.py:32: ResourceWarning: unclosed file <_io.FileIO name='/Volumes/Lacie2/fitmaps/fitmap2/10492-12702_binned-maps.fits' mode='rb' closefd=True>\n"
     ]
    },
    {
     "name": "stdout",
     "output_type": "stream",
     "text": [
      "init: auto\n",
      "guess initial value by given range\n",
      "Success: [3.0, 0.2, 0.0]\n",
      "3.2236728947204365 0.07428608930602797\n",
      "132 9882-9102\n"
     ]
    },
    {
     "name": "stderr",
     "output_type": "stream",
     "text": [
      "/Users/hang/.local/miniconda3/envs/astro/lib/python3.7/site-packages/ipykernel_launcher.py:32: ResourceWarning: unclosed file <_io.FileIO name='/Volumes/Lacie2/fitmaps/fitmap/10492-6103.fits' mode='rb' closefd=True>\n",
      "/Users/hang/.local/miniconda3/envs/astro/lib/python3.7/site-packages/ipykernel_launcher.py:32: ResourceWarning: unclosed file <_io.FileIO name='/Volumes/Lacie2/fitmaps/fitmap2/10492-6103_binned-maps.fits' mode='rb' closefd=True>\n"
     ]
    },
    {
     "name": "stdout",
     "output_type": "stream",
     "text": [
      "init: auto\n",
      "guess initial value by given range\n",
      "Success: [3.0, 0.2, 1.0]\n",
      "3.2926209334543457 0.12648524534975789\n",
      "133 9882-3701\n"
     ]
    },
    {
     "name": "stderr",
     "output_type": "stream",
     "text": [
      "/Users/hang/.local/miniconda3/envs/astro/lib/python3.7/site-packages/numpy/core/fromnumeric.py:3118: RuntimeWarning: Mean of empty slice.\n",
      "  out=out, **kwargs)\n",
      "/Users/hang/.local/miniconda3/envs/astro/lib/python3.7/site-packages/numpy/core/_methods.py:85: RuntimeWarning: invalid value encountered in double_scalars\n",
      "  ret = ret.dtype.type(ret / rcount)\n",
      "/Users/hang/.local/miniconda3/envs/astro/lib/python3.7/site-packages/numpy/core/_methods.py:140: RuntimeWarning: Degrees of freedom <= 0 for slice\n",
      "  keepdims=keepdims)\n",
      "/Users/hang/.local/miniconda3/envs/astro/lib/python3.7/site-packages/numpy/core/_methods.py:110: RuntimeWarning: invalid value encountered in true_divide\n",
      "  arrmean, rcount, out=arrmean, casting='unsafe', subok=False)\n",
      "/Users/hang/.local/miniconda3/envs/astro/lib/python3.7/site-packages/numpy/core/_methods.py:132: RuntimeWarning: invalid value encountered in double_scalars\n",
      "  ret = ret.dtype.type(ret / rcount)\n",
      "/Users/hang/.local/miniconda3/envs/astro/lib/python3.7/site-packages/ipykernel_launcher.py:32: ResourceWarning: unclosed file <_io.FileIO name='/Volumes/Lacie2/fitmaps/fitmap/9882-9102.fits' mode='rb' closefd=True>\n",
      "/Users/hang/.local/miniconda3/envs/astro/lib/python3.7/site-packages/ipykernel_launcher.py:32: ResourceWarning: unclosed file <_io.FileIO name='/Volumes/Lacie2/fitmaps/fitmap2/9882-9102_binned-maps.fits' mode='rb' closefd=True>\n"
     ]
    },
    {
     "name": "stdout",
     "output_type": "stream",
     "text": [
      "init: auto\n",
      "guess initial value by given range\n",
      "Success: [3.0, 0.2, 1.0]\n",
      "2.93855699406064 0.15471042202516405\n",
      "134 10503-12703\n"
     ]
    },
    {
     "name": "stderr",
     "output_type": "stream",
     "text": [
      "/Users/hang/.local/miniconda3/envs/astro/lib/python3.7/site-packages/ipykernel_launcher.py:32: ResourceWarning: unclosed file <_io.FileIO name='/Volumes/Lacie2/fitmaps/fitmap/9882-3701.fits' mode='rb' closefd=True>\n",
      "/Users/hang/.local/miniconda3/envs/astro/lib/python3.7/site-packages/ipykernel_launcher.py:32: ResourceWarning: unclosed file <_io.FileIO name='/Volumes/Lacie2/fitmaps/fitmap2/9882-3701_binned-maps.fits' mode='rb' closefd=True>\n"
     ]
    },
    {
     "name": "stdout",
     "output_type": "stream",
     "text": [
      "init: auto\n",
      "guess initial value by given range\n",
      "Success: [3.0, 0.2, 0.0]\n",
      "3.040195279021968 0.11278204707142936\n",
      "135 9091-3704\n"
     ]
    },
    {
     "name": "stderr",
     "output_type": "stream",
     "text": [
      "/Users/hang/.local/miniconda3/envs/astro/lib/python3.7/site-packages/numpy/core/fromnumeric.py:3118: RuntimeWarning: Mean of empty slice.\n",
      "  out=out, **kwargs)\n",
      "/Users/hang/.local/miniconda3/envs/astro/lib/python3.7/site-packages/numpy/core/_methods.py:85: RuntimeWarning: invalid value encountered in double_scalars\n",
      "  ret = ret.dtype.type(ret / rcount)\n",
      "/Users/hang/.local/miniconda3/envs/astro/lib/python3.7/site-packages/numpy/core/_methods.py:140: RuntimeWarning: Degrees of freedom <= 0 for slice\n",
      "  keepdims=keepdims)\n",
      "/Users/hang/.local/miniconda3/envs/astro/lib/python3.7/site-packages/numpy/core/_methods.py:110: RuntimeWarning: invalid value encountered in true_divide\n",
      "  arrmean, rcount, out=arrmean, casting='unsafe', subok=False)\n",
      "/Users/hang/.local/miniconda3/envs/astro/lib/python3.7/site-packages/numpy/core/_methods.py:132: RuntimeWarning: invalid value encountered in double_scalars\n",
      "  ret = ret.dtype.type(ret / rcount)\n",
      "/Users/hang/.local/miniconda3/envs/astro/lib/python3.7/site-packages/ipykernel_launcher.py:32: ResourceWarning: unclosed file <_io.FileIO name='/Volumes/Lacie2/fitmaps/fitmap/10503-12703.fits' mode='rb' closefd=True>\n",
      "/Users/hang/.local/miniconda3/envs/astro/lib/python3.7/site-packages/ipykernel_launcher.py:32: ResourceWarning: unclosed file <_io.FileIO name='/Volumes/Lacie2/fitmaps/fitmap2/10503-12703_binned-maps.fits' mode='rb' closefd=True>\n"
     ]
    },
    {
     "name": "stdout",
     "output_type": "stream",
     "text": [
      "init: auto\n",
      "guess initial value by given range\n",
      "Success: [3.0, 0.2, 0.0]\n",
      "3.2280339025756026 0.10743779307303061\n",
      "136 9091-12703\n"
     ]
    },
    {
     "name": "stderr",
     "output_type": "stream",
     "text": [
      "/Users/hang/.local/miniconda3/envs/astro/lib/python3.7/site-packages/ipykernel_launcher.py:32: ResourceWarning: unclosed file <_io.FileIO name='/Volumes/Lacie2/fitmaps/fitmap/9091-3704.fits' mode='rb' closefd=True>\n",
      "/Users/hang/.local/miniconda3/envs/astro/lib/python3.7/site-packages/ipykernel_launcher.py:32: ResourceWarning: unclosed file <_io.FileIO name='/Volumes/Lacie2/fitmaps/fitmap2/9091-3704_binned-maps.fits' mode='rb' closefd=True>\n"
     ]
    },
    {
     "name": "stdout",
     "output_type": "stream",
     "text": [
      "init: auto\n",
      "guess initial value by given range\n",
      "Success: [3.0, 0.2, 0.0]\n",
      "3.6889382616841466 0.03025242340075379\n",
      "137 8337-1901\n"
     ]
    },
    {
     "name": "stderr",
     "output_type": "stream",
     "text": [
      "/Users/hang/.local/miniconda3/envs/astro/lib/python3.7/site-packages/numpy/core/fromnumeric.py:3118: RuntimeWarning: Mean of empty slice.\n",
      "  out=out, **kwargs)\n",
      "/Users/hang/.local/miniconda3/envs/astro/lib/python3.7/site-packages/numpy/core/_methods.py:85: RuntimeWarning: invalid value encountered in double_scalars\n",
      "  ret = ret.dtype.type(ret / rcount)\n",
      "/Users/hang/.local/miniconda3/envs/astro/lib/python3.7/site-packages/numpy/core/_methods.py:140: RuntimeWarning: Degrees of freedom <= 0 for slice\n",
      "  keepdims=keepdims)\n",
      "/Users/hang/.local/miniconda3/envs/astro/lib/python3.7/site-packages/numpy/core/_methods.py:110: RuntimeWarning: invalid value encountered in true_divide\n",
      "  arrmean, rcount, out=arrmean, casting='unsafe', subok=False)\n",
      "/Users/hang/.local/miniconda3/envs/astro/lib/python3.7/site-packages/numpy/core/_methods.py:132: RuntimeWarning: invalid value encountered in double_scalars\n",
      "  ret = ret.dtype.type(ret / rcount)\n",
      "/Users/hang/.local/miniconda3/envs/astro/lib/python3.7/site-packages/ipykernel_launcher.py:32: ResourceWarning: unclosed file <_io.FileIO name='/Volumes/Lacie2/fitmaps/fitmap/9091-12703.fits' mode='rb' closefd=True>\n",
      "/Users/hang/.local/miniconda3/envs/astro/lib/python3.7/site-packages/ipykernel_launcher.py:32: ResourceWarning: unclosed file <_io.FileIO name='/Volumes/Lacie2/fitmaps/fitmap2/9091-12703_binned-maps.fits' mode='rb' closefd=True>\n"
     ]
    },
    {
     "name": "stdout",
     "output_type": "stream",
     "text": [
      "init: auto\n",
      "guess initial value by given range\n",
      "Success: [3.0, 0.2, 0.0]\n",
      "3.68014105941907 0.12287138119690769\n",
      "138 9885-3703\n"
     ]
    },
    {
     "name": "stderr",
     "output_type": "stream",
     "text": [
      "/Users/hang/.local/miniconda3/envs/astro/lib/python3.7/site-packages/numpy/core/fromnumeric.py:3118: RuntimeWarning: Mean of empty slice.\n",
      "  out=out, **kwargs)\n",
      "/Users/hang/.local/miniconda3/envs/astro/lib/python3.7/site-packages/numpy/core/_methods.py:85: RuntimeWarning: invalid value encountered in double_scalars\n",
      "  ret = ret.dtype.type(ret / rcount)\n",
      "/Users/hang/.local/miniconda3/envs/astro/lib/python3.7/site-packages/numpy/core/_methods.py:140: RuntimeWarning: Degrees of freedom <= 0 for slice\n",
      "  keepdims=keepdims)\n",
      "/Users/hang/.local/miniconda3/envs/astro/lib/python3.7/site-packages/numpy/core/_methods.py:110: RuntimeWarning: invalid value encountered in true_divide\n",
      "  arrmean, rcount, out=arrmean, casting='unsafe', subok=False)\n",
      "/Users/hang/.local/miniconda3/envs/astro/lib/python3.7/site-packages/numpy/core/_methods.py:132: RuntimeWarning: invalid value encountered in double_scalars\n",
      "  ret = ret.dtype.type(ret / rcount)\n",
      "/Users/hang/.local/miniconda3/envs/astro/lib/python3.7/site-packages/ipykernel_launcher.py:32: ResourceWarning: unclosed file <_io.FileIO name='/Volumes/Lacie2/fitmaps/fitmap/8337-1901.fits' mode='rb' closefd=True>\n",
      "/Users/hang/.local/miniconda3/envs/astro/lib/python3.7/site-packages/ipykernel_launcher.py:32: ResourceWarning: unclosed file <_io.FileIO name='/Volumes/Lacie2/fitmaps/fitmap2/8337-1901_binned-maps.fits' mode='rb' closefd=True>\n"
     ]
    },
    {
     "name": "stdout",
     "output_type": "stream",
     "text": [
      "init: auto\n",
      "guess initial value by given range\n",
      "Success: [3.0, 0.2, 0.0]\n",
      "3.0835429088617485 0.11461882574338403\n",
      "139 8334-3703\n"
     ]
    },
    {
     "name": "stderr",
     "output_type": "stream",
     "text": [
      "/Users/hang/.local/miniconda3/envs/astro/lib/python3.7/site-packages/numpy/core/fromnumeric.py:3118: RuntimeWarning: Mean of empty slice.\n",
      "  out=out, **kwargs)\n",
      "/Users/hang/.local/miniconda3/envs/astro/lib/python3.7/site-packages/numpy/core/_methods.py:85: RuntimeWarning: invalid value encountered in double_scalars\n",
      "  ret = ret.dtype.type(ret / rcount)\n",
      "/Users/hang/.local/miniconda3/envs/astro/lib/python3.7/site-packages/numpy/core/_methods.py:140: RuntimeWarning: Degrees of freedom <= 0 for slice\n",
      "  keepdims=keepdims)\n",
      "/Users/hang/.local/miniconda3/envs/astro/lib/python3.7/site-packages/numpy/core/_methods.py:110: RuntimeWarning: invalid value encountered in true_divide\n",
      "  arrmean, rcount, out=arrmean, casting='unsafe', subok=False)\n",
      "/Users/hang/.local/miniconda3/envs/astro/lib/python3.7/site-packages/numpy/core/_methods.py:132: RuntimeWarning: invalid value encountered in double_scalars\n",
      "  ret = ret.dtype.type(ret / rcount)\n",
      "/Users/hang/.local/miniconda3/envs/astro/lib/python3.7/site-packages/ipykernel_launcher.py:32: ResourceWarning: unclosed file <_io.FileIO name='/Volumes/Lacie2/fitmaps/fitmap/9885-3703.fits' mode='rb' closefd=True>\n",
      "/Users/hang/.local/miniconda3/envs/astro/lib/python3.7/site-packages/ipykernel_launcher.py:32: ResourceWarning: unclosed file <_io.FileIO name='/Volumes/Lacie2/fitmaps/fitmap2/9885-3703_binned-maps.fits' mode='rb' closefd=True>\n"
     ]
    },
    {
     "name": "stdout",
     "output_type": "stream",
     "text": [
      "init: auto\n",
      "guess initial value by given range\n",
      "Success: [3.0, 0.2, 0.0]\n",
      "2.8334724619441722 0.1649047039025946\n",
      "140 8260-1901\n"
     ]
    },
    {
     "name": "stderr",
     "output_type": "stream",
     "text": [
      "/Users/hang/.local/miniconda3/envs/astro/lib/python3.7/site-packages/numpy/core/fromnumeric.py:3118: RuntimeWarning: Mean of empty slice.\n",
      "  out=out, **kwargs)\n",
      "/Users/hang/.local/miniconda3/envs/astro/lib/python3.7/site-packages/numpy/core/_methods.py:85: RuntimeWarning: invalid value encountered in double_scalars\n",
      "  ret = ret.dtype.type(ret / rcount)\n",
      "/Users/hang/.local/miniconda3/envs/astro/lib/python3.7/site-packages/numpy/core/_methods.py:140: RuntimeWarning: Degrees of freedom <= 0 for slice\n",
      "  keepdims=keepdims)\n",
      "/Users/hang/.local/miniconda3/envs/astro/lib/python3.7/site-packages/numpy/core/_methods.py:110: RuntimeWarning: invalid value encountered in true_divide\n",
      "  arrmean, rcount, out=arrmean, casting='unsafe', subok=False)\n",
      "/Users/hang/.local/miniconda3/envs/astro/lib/python3.7/site-packages/numpy/core/_methods.py:132: RuntimeWarning: invalid value encountered in double_scalars\n",
      "  ret = ret.dtype.type(ret / rcount)\n",
      "/Users/hang/.local/miniconda3/envs/astro/lib/python3.7/site-packages/ipykernel_launcher.py:32: ResourceWarning: unclosed file <_io.FileIO name='/Volumes/Lacie2/fitmaps/fitmap/8334-3703.fits' mode='rb' closefd=True>\n",
      "/Users/hang/.local/miniconda3/envs/astro/lib/python3.7/site-packages/ipykernel_launcher.py:32: ResourceWarning: unclosed file <_io.FileIO name='/Volumes/Lacie2/fitmaps/fitmap2/8334-3703_binned-maps.fits' mode='rb' closefd=True>\n"
     ]
    },
    {
     "name": "stdout",
     "output_type": "stream",
     "text": [
      "init: auto\n",
      "guess initial value by given range\n",
      "Success: [3.0, 0.2, 0.0]\n",
      "2.893454492320097 0.13549307010698608\n",
      "141 9892-3703\n"
     ]
    },
    {
     "name": "stderr",
     "output_type": "stream",
     "text": [
      "/Users/hang/.local/miniconda3/envs/astro/lib/python3.7/site-packages/numpy/core/fromnumeric.py:3118: RuntimeWarning: Mean of empty slice.\n",
      "  out=out, **kwargs)\n",
      "/Users/hang/.local/miniconda3/envs/astro/lib/python3.7/site-packages/numpy/core/_methods.py:85: RuntimeWarning: invalid value encountered in double_scalars\n",
      "  ret = ret.dtype.type(ret / rcount)\n",
      "/Users/hang/.local/miniconda3/envs/astro/lib/python3.7/site-packages/numpy/core/_methods.py:140: RuntimeWarning: Degrees of freedom <= 0 for slice\n",
      "  keepdims=keepdims)\n",
      "/Users/hang/.local/miniconda3/envs/astro/lib/python3.7/site-packages/numpy/core/_methods.py:110: RuntimeWarning: invalid value encountered in true_divide\n",
      "  arrmean, rcount, out=arrmean, casting='unsafe', subok=False)\n",
      "/Users/hang/.local/miniconda3/envs/astro/lib/python3.7/site-packages/numpy/core/_methods.py:132: RuntimeWarning: invalid value encountered in double_scalars\n",
      "  ret = ret.dtype.type(ret / rcount)\n",
      "/Users/hang/.local/miniconda3/envs/astro/lib/python3.7/site-packages/ipykernel_launcher.py:32: ResourceWarning: unclosed file <_io.FileIO name='/Volumes/Lacie2/fitmaps/fitmap/8260-1901.fits' mode='rb' closefd=True>\n",
      "/Users/hang/.local/miniconda3/envs/astro/lib/python3.7/site-packages/ipykernel_launcher.py:32: ResourceWarning: unclosed file <_io.FileIO name='/Volumes/Lacie2/fitmaps/fitmap2/8260-1901_binned-maps.fits' mode='rb' closefd=True>\n"
     ]
    },
    {
     "name": "stdout",
     "output_type": "stream",
     "text": [
      "init: auto\n",
      "guess initial value by given range\n",
      "Success: [3.0, 0.2, 0.0]\n",
      "3.3763868505805417 0.11109209264358759\n",
      "142 8324-6104\n"
     ]
    },
    {
     "name": "stderr",
     "output_type": "stream",
     "text": [
      "/Users/hang/.local/miniconda3/envs/astro/lib/python3.7/site-packages/numpy/core/fromnumeric.py:3118: RuntimeWarning: Mean of empty slice.\n",
      "  out=out, **kwargs)\n",
      "/Users/hang/.local/miniconda3/envs/astro/lib/python3.7/site-packages/numpy/core/_methods.py:85: RuntimeWarning: invalid value encountered in double_scalars\n",
      "  ret = ret.dtype.type(ret / rcount)\n",
      "/Users/hang/.local/miniconda3/envs/astro/lib/python3.7/site-packages/numpy/core/_methods.py:140: RuntimeWarning: Degrees of freedom <= 0 for slice\n",
      "  keepdims=keepdims)\n",
      "/Users/hang/.local/miniconda3/envs/astro/lib/python3.7/site-packages/numpy/core/_methods.py:110: RuntimeWarning: invalid value encountered in true_divide\n",
      "  arrmean, rcount, out=arrmean, casting='unsafe', subok=False)\n",
      "/Users/hang/.local/miniconda3/envs/astro/lib/python3.7/site-packages/numpy/core/_methods.py:132: RuntimeWarning: invalid value encountered in double_scalars\n",
      "  ret = ret.dtype.type(ret / rcount)\n",
      "/Users/hang/.local/miniconda3/envs/astro/lib/python3.7/site-packages/ipykernel_launcher.py:32: ResourceWarning: unclosed file <_io.FileIO name='/Volumes/Lacie2/fitmaps/fitmap/9892-3703.fits' mode='rb' closefd=True>\n",
      "/Users/hang/.local/miniconda3/envs/astro/lib/python3.7/site-packages/ipykernel_launcher.py:32: ResourceWarning: unclosed file <_io.FileIO name='/Volumes/Lacie2/fitmaps/fitmap2/9892-3703_binned-maps.fits' mode='rb' closefd=True>\n"
     ]
    },
    {
     "name": "stdout",
     "output_type": "stream",
     "text": [
      "init: auto\n",
      "guess initial value by given range\n",
      "Success: [3.0, 0.2, 0.0]\n",
      "3.770124881560022 0.04332162960744983\n",
      "143 8614-12703\n"
     ]
    },
    {
     "name": "stderr",
     "output_type": "stream",
     "text": [
      "/Users/hang/.local/miniconda3/envs/astro/lib/python3.7/site-packages/ipykernel_launcher.py:32: ResourceWarning: unclosed file <_io.FileIO name='/Volumes/Lacie2/fitmaps/fitmap/8324-6104.fits' mode='rb' closefd=True>\n",
      "/Users/hang/.local/miniconda3/envs/astro/lib/python3.7/site-packages/ipykernel_launcher.py:32: ResourceWarning: unclosed file <_io.FileIO name='/Volumes/Lacie2/fitmaps/fitmap2/8324-6104_binned-maps.fits' mode='rb' closefd=True>\n",
      "/Users/hang/Desktop/research/projects/ENLR/code_new/mangatools/fitmaps.py:54: RuntimeWarning: invalid value encountered in true_divide\n",
      "  snr_cut = ((Ha / Ha_err) < 3) | ((Hb / Hb_err) < 3)\n",
      "/Users/hang/Desktop/research/projects/ENLR/code_new/mangatools/fitmaps.py:54: RuntimeWarning: invalid value encountered in less\n",
      "  snr_cut = ((Ha / Ha_err) < 3) | ((Hb / Hb_err) < 3)\n",
      "/Users/hang/Desktop/research/projects/ENLR/code_new/mangatools/fitmaps.py:58: RuntimeWarning: divide by zero encountered in log10\n",
      "  E_BV = 1.97 * np.log10(ratio_obs / ratio_theory)\n"
     ]
    },
    {
     "name": "stdout",
     "output_type": "stream",
     "text": [
      "init: auto\n",
      "guess initial value by given range\n",
      "Success: [3.0, 0.2, 0.0]\n",
      "3.0533188767793185 0.10471992715645542\n",
      "144 8614-3703\n"
     ]
    },
    {
     "name": "stderr",
     "output_type": "stream",
     "text": [
      "/Users/hang/.local/miniconda3/envs/astro/lib/python3.7/site-packages/numpy/core/fromnumeric.py:3118: RuntimeWarning: Mean of empty slice.\n",
      "  out=out, **kwargs)\n",
      "/Users/hang/.local/miniconda3/envs/astro/lib/python3.7/site-packages/numpy/core/_methods.py:85: RuntimeWarning: invalid value encountered in double_scalars\n",
      "  ret = ret.dtype.type(ret / rcount)\n",
      "/Users/hang/.local/miniconda3/envs/astro/lib/python3.7/site-packages/numpy/core/_methods.py:140: RuntimeWarning: Degrees of freedom <= 0 for slice\n",
      "  keepdims=keepdims)\n",
      "/Users/hang/.local/miniconda3/envs/astro/lib/python3.7/site-packages/numpy/core/_methods.py:110: RuntimeWarning: invalid value encountered in true_divide\n",
      "  arrmean, rcount, out=arrmean, casting='unsafe', subok=False)\n",
      "/Users/hang/.local/miniconda3/envs/astro/lib/python3.7/site-packages/numpy/core/_methods.py:132: RuntimeWarning: invalid value encountered in double_scalars\n",
      "  ret = ret.dtype.type(ret / rcount)\n",
      "/Users/hang/.local/miniconda3/envs/astro/lib/python3.7/site-packages/ipykernel_launcher.py:32: ResourceWarning: unclosed file <_io.FileIO name='/Volumes/Lacie2/fitmaps/fitmap/8614-12703.fits' mode='rb' closefd=True>\n",
      "/Users/hang/.local/miniconda3/envs/astro/lib/python3.7/site-packages/ipykernel_launcher.py:32: ResourceWarning: unclosed file <_io.FileIO name='/Volumes/Lacie2/fitmaps/fitmap2/8614-12703_binned-maps.fits' mode='rb' closefd=True>\n"
     ]
    },
    {
     "name": "stdout",
     "output_type": "stream",
     "text": [
      "init: auto\n",
      "guess initial value by given range\n",
      "Success: [3.0, 0.2, 0.0]\n",
      "3.104152753915813 0.12748512871220655\n",
      "145 9092-1902\n"
     ]
    },
    {
     "name": "stderr",
     "output_type": "stream",
     "text": [
      "/Users/hang/.local/miniconda3/envs/astro/lib/python3.7/site-packages/numpy/core/fromnumeric.py:3118: RuntimeWarning: Mean of empty slice.\n",
      "  out=out, **kwargs)\n",
      "/Users/hang/.local/miniconda3/envs/astro/lib/python3.7/site-packages/numpy/core/_methods.py:85: RuntimeWarning: invalid value encountered in double_scalars\n",
      "  ret = ret.dtype.type(ret / rcount)\n",
      "/Users/hang/.local/miniconda3/envs/astro/lib/python3.7/site-packages/numpy/core/_methods.py:140: RuntimeWarning: Degrees of freedom <= 0 for slice\n",
      "  keepdims=keepdims)\n",
      "/Users/hang/.local/miniconda3/envs/astro/lib/python3.7/site-packages/numpy/core/_methods.py:110: RuntimeWarning: invalid value encountered in true_divide\n",
      "  arrmean, rcount, out=arrmean, casting='unsafe', subok=False)\n",
      "/Users/hang/.local/miniconda3/envs/astro/lib/python3.7/site-packages/numpy/core/_methods.py:132: RuntimeWarning: invalid value encountered in double_scalars\n",
      "  ret = ret.dtype.type(ret / rcount)\n",
      "/Users/hang/.local/miniconda3/envs/astro/lib/python3.7/site-packages/ipykernel_launcher.py:32: ResourceWarning: unclosed file <_io.FileIO name='/Volumes/Lacie2/fitmaps/fitmap/8614-3703.fits' mode='rb' closefd=True>\n",
      "/Users/hang/.local/miniconda3/envs/astro/lib/python3.7/site-packages/ipykernel_launcher.py:32: ResourceWarning: unclosed file <_io.FileIO name='/Volumes/Lacie2/fitmaps/fitmap2/8614-3703_binned-maps.fits' mode='rb' closefd=True>\n"
     ]
    },
    {
     "name": "stdout",
     "output_type": "stream",
     "text": [
      "init: auto\n",
      "guess initial value by given range\n",
      "Success: [3.0, 0.2, 0.0]\n",
      "3.2652132065663055 0.11309752132897183\n",
      "146 9032-12701\n"
     ]
    },
    {
     "name": "stderr",
     "output_type": "stream",
     "text": [
      "/Users/hang/.local/miniconda3/envs/astro/lib/python3.7/site-packages/ipykernel_launcher.py:32: ResourceWarning: unclosed file <_io.FileIO name='/Volumes/Lacie2/fitmaps/fitmap/9092-1902.fits' mode='rb' closefd=True>\n",
      "/Users/hang/.local/miniconda3/envs/astro/lib/python3.7/site-packages/ipykernel_launcher.py:32: ResourceWarning: unclosed file <_io.FileIO name='/Volumes/Lacie2/fitmaps/fitmap2/9092-1902_binned-maps.fits' mode='rb' closefd=True>\n"
     ]
    },
    {
     "name": "stdout",
     "output_type": "stream",
     "text": [
      "init: auto\n",
      "guess initial value by given range\n",
      "Success: [3.0, 0.2, 1.0]\n",
      "3.30276588280886 0.0999235946149384\n",
      "147 9032-12702\n"
     ]
    },
    {
     "name": "stderr",
     "output_type": "stream",
     "text": [
      "/Users/hang/.local/miniconda3/envs/astro/lib/python3.7/site-packages/numpy/core/fromnumeric.py:3118: RuntimeWarning: Mean of empty slice.\n",
      "  out=out, **kwargs)\n",
      "/Users/hang/.local/miniconda3/envs/astro/lib/python3.7/site-packages/numpy/core/_methods.py:85: RuntimeWarning: invalid value encountered in double_scalars\n",
      "  ret = ret.dtype.type(ret / rcount)\n",
      "/Users/hang/.local/miniconda3/envs/astro/lib/python3.7/site-packages/numpy/core/_methods.py:140: RuntimeWarning: Degrees of freedom <= 0 for slice\n",
      "  keepdims=keepdims)\n",
      "/Users/hang/.local/miniconda3/envs/astro/lib/python3.7/site-packages/numpy/core/_methods.py:110: RuntimeWarning: invalid value encountered in true_divide\n",
      "  arrmean, rcount, out=arrmean, casting='unsafe', subok=False)\n",
      "/Users/hang/.local/miniconda3/envs/astro/lib/python3.7/site-packages/numpy/core/_methods.py:132: RuntimeWarning: invalid value encountered in double_scalars\n",
      "  ret = ret.dtype.type(ret / rcount)\n",
      "/Users/hang/.local/miniconda3/envs/astro/lib/python3.7/site-packages/ipykernel_launcher.py:32: ResourceWarning: unclosed file <_io.FileIO name='/Volumes/Lacie2/fitmaps/fitmap/9032-12701.fits' mode='rb' closefd=True>\n",
      "/Users/hang/.local/miniconda3/envs/astro/lib/python3.7/site-packages/ipykernel_launcher.py:32: ResourceWarning: unclosed file <_io.FileIO name='/Volumes/Lacie2/fitmaps/fitmap2/9032-12701_binned-maps.fits' mode='rb' closefd=True>\n"
     ]
    },
    {
     "name": "stdout",
     "output_type": "stream",
     "text": [
      "init: auto\n",
      "guess initial value by given range\n",
      "Success: [3.0, 0.2, 0.0]\n",
      "3.3208804331447337 0.11778314915347748\n",
      "148 8593-12705\n"
     ]
    },
    {
     "name": "stderr",
     "output_type": "stream",
     "text": [
      "/Users/hang/.local/miniconda3/envs/astro/lib/python3.7/site-packages/numpy/core/fromnumeric.py:3118: RuntimeWarning: Mean of empty slice.\n",
      "  out=out, **kwargs)\n",
      "/Users/hang/.local/miniconda3/envs/astro/lib/python3.7/site-packages/numpy/core/_methods.py:85: RuntimeWarning: invalid value encountered in double_scalars\n",
      "  ret = ret.dtype.type(ret / rcount)\n",
      "/Users/hang/.local/miniconda3/envs/astro/lib/python3.7/site-packages/numpy/core/_methods.py:140: RuntimeWarning: Degrees of freedom <= 0 for slice\n",
      "  keepdims=keepdims)\n",
      "/Users/hang/.local/miniconda3/envs/astro/lib/python3.7/site-packages/numpy/core/_methods.py:110: RuntimeWarning: invalid value encountered in true_divide\n",
      "  arrmean, rcount, out=arrmean, casting='unsafe', subok=False)\n",
      "/Users/hang/.local/miniconda3/envs/astro/lib/python3.7/site-packages/numpy/core/_methods.py:132: RuntimeWarning: invalid value encountered in double_scalars\n",
      "  ret = ret.dtype.type(ret / rcount)\n",
      "/Users/hang/.local/miniconda3/envs/astro/lib/python3.7/site-packages/ipykernel_launcher.py:32: ResourceWarning: unclosed file <_io.FileIO name='/Volumes/Lacie2/fitmaps/fitmap/9032-12702.fits' mode='rb' closefd=True>\n",
      "/Users/hang/.local/miniconda3/envs/astro/lib/python3.7/site-packages/ipykernel_launcher.py:32: ResourceWarning: unclosed file <_io.FileIO name='/Volumes/Lacie2/fitmaps/fitmap2/9032-12702_binned-maps.fits' mode='rb' closefd=True>\n"
     ]
    },
    {
     "name": "stdout",
     "output_type": "stream",
     "text": [
      "init: auto\n",
      "guess initial value by given range\n",
      "Success: [3.0, 0.2, 0.0]\n",
      "3.3049335855637807 0.10151572182750014\n",
      "149 9090-9102\n"
     ]
    },
    {
     "name": "stderr",
     "output_type": "stream",
     "text": [
      "/Users/hang/.local/miniconda3/envs/astro/lib/python3.7/site-packages/ipykernel_launcher.py:32: ResourceWarning: unclosed file <_io.FileIO name='/Volumes/Lacie2/fitmaps/fitmap/8593-12705.fits' mode='rb' closefd=True>\n",
      "/Users/hang/.local/miniconda3/envs/astro/lib/python3.7/site-packages/ipykernel_launcher.py:32: ResourceWarning: unclosed file <_io.FileIO name='/Volumes/Lacie2/fitmaps/fitmap2/8593-12705_binned-maps.fits' mode='rb' closefd=True>\n"
     ]
    },
    {
     "name": "stdout",
     "output_type": "stream",
     "text": [
      "init: auto\n",
      "guess initial value by given range\n",
      "Success: [3.0, 0.2, 0.0]\n",
      "3.1148620502085644 0.18168276518710333\n",
      "150 9090-3701\n"
     ]
    },
    {
     "name": "stderr",
     "output_type": "stream",
     "text": [
      "/Users/hang/.local/miniconda3/envs/astro/lib/python3.7/site-packages/ipykernel_launcher.py:32: ResourceWarning: unclosed file <_io.FileIO name='/Volumes/Lacie2/fitmaps/fitmap/9090-9102.fits' mode='rb' closefd=True>\n",
      "/Users/hang/.local/miniconda3/envs/astro/lib/python3.7/site-packages/ipykernel_launcher.py:32: ResourceWarning: unclosed file <_io.FileIO name='/Volumes/Lacie2/fitmaps/fitmap2/9090-9102_binned-maps.fits' mode='rb' closefd=True>\n"
     ]
    },
    {
     "name": "stdout",
     "output_type": "stream",
     "text": [
      "init: auto\n",
      "guess initial value by given range\n",
      "Success: [3.2, 0.2, 1.5]\n",
      "3.5291564412184626 0.060719385095272284\n",
      "151 8651-1902\n"
     ]
    },
    {
     "name": "stderr",
     "output_type": "stream",
     "text": [
      "/Users/hang/.local/miniconda3/envs/astro/lib/python3.7/site-packages/numpy/core/fromnumeric.py:3118: RuntimeWarning: Mean of empty slice.\n",
      "  out=out, **kwargs)\n",
      "/Users/hang/.local/miniconda3/envs/astro/lib/python3.7/site-packages/numpy/core/_methods.py:85: RuntimeWarning: invalid value encountered in double_scalars\n",
      "  ret = ret.dtype.type(ret / rcount)\n",
      "/Users/hang/.local/miniconda3/envs/astro/lib/python3.7/site-packages/numpy/core/_methods.py:140: RuntimeWarning: Degrees of freedom <= 0 for slice\n",
      "  keepdims=keepdims)\n",
      "/Users/hang/.local/miniconda3/envs/astro/lib/python3.7/site-packages/numpy/core/_methods.py:110: RuntimeWarning: invalid value encountered in true_divide\n",
      "  arrmean, rcount, out=arrmean, casting='unsafe', subok=False)\n",
      "/Users/hang/.local/miniconda3/envs/astro/lib/python3.7/site-packages/numpy/core/_methods.py:132: RuntimeWarning: invalid value encountered in double_scalars\n",
      "  ret = ret.dtype.type(ret / rcount)\n",
      "/Users/hang/.local/miniconda3/envs/astro/lib/python3.7/site-packages/ipykernel_launcher.py:32: ResourceWarning: unclosed file <_io.FileIO name='/Volumes/Lacie2/fitmaps/fitmap/9090-3701.fits' mode='rb' closefd=True>\n",
      "/Users/hang/.local/miniconda3/envs/astro/lib/python3.7/site-packages/ipykernel_launcher.py:32: ResourceWarning: unclosed file <_io.FileIO name='/Volumes/Lacie2/fitmaps/fitmap2/9090-3701_binned-maps.fits' mode='rb' closefd=True>\n"
     ]
    },
    {
     "name": "stdout",
     "output_type": "stream",
     "text": [
      "init: auto\n",
      "guess initial value by given range\n"
     ]
    },
    {
     "name": "stderr",
     "output_type": "stream",
     "text": [
      "/Users/hang/.local/miniconda3/envs/astro/lib/python3.7/site-packages/numpy/core/fromnumeric.py:3118: RuntimeWarning: Mean of empty slice.\n",
      "  out=out, **kwargs)\n",
      "/Users/hang/.local/miniconda3/envs/astro/lib/python3.7/site-packages/numpy/core/_methods.py:85: RuntimeWarning: invalid value encountered in double_scalars\n",
      "  ret = ret.dtype.type(ret / rcount)\n",
      "/Users/hang/.local/miniconda3/envs/astro/lib/python3.7/site-packages/numpy/core/_methods.py:140: RuntimeWarning: Degrees of freedom <= 0 for slice\n",
      "  keepdims=keepdims)\n",
      "/Users/hang/.local/miniconda3/envs/astro/lib/python3.7/site-packages/numpy/core/_methods.py:110: RuntimeWarning: invalid value encountered in true_divide\n",
      "  arrmean, rcount, out=arrmean, casting='unsafe', subok=False)\n",
      "/Users/hang/.local/miniconda3/envs/astro/lib/python3.7/site-packages/numpy/core/_methods.py:132: RuntimeWarning: invalid value encountered in double_scalars\n",
      "  ret = ret.dtype.type(ret / rcount)\n"
     ]
    },
    {
     "name": "stdout",
     "output_type": "stream",
     "text": [
      "Success: [3.0, 0.2, 0.5]\n",
      "3.3297268528175525 0.11158015605159993\n"
     ]
    }
   ],
   "source": [
    "# find different between IFU and longslit\n",
    "# two direction was chosed for longslit, the major and minor axis\n",
    "from mangatools.fitmaps import FitMaps\n",
    "from scipy import optimize, signal\n",
    "\n",
    "fm_dir = '/Volumes/Lacie2/fitmaps/fitmap/' #set to your local folder\n",
    "fm_binned_dir = '/Volumes/Lacie2/fitmaps/fitmap2/' #set to your local folder\n",
    "\n",
    "set_matplotlib_formats('png')\n",
    "quiet = False\n",
    "SB = 10\n",
    "\n",
    "major_R = []\n",
    "major_R_err = []\n",
    "minor_R = []\n",
    "minor_R_err = []\n",
    "\n",
    "targets = Table.read('data/AGNs-2019-04-26.dat', format='ascii')\n",
    "targets = targets[:]\n",
    "\n",
    "for idx, plateifu in enumerate(targets['plateifu']):\n",
    "    eps = 1e-8 # error value, or value used for handling zero\n",
    "    if not quiet:\n",
    "        print(idx, plateifu)\n",
    "    m = Maps(plateifu)\n",
    "    agn, cp, sf, *others = m.bptregion()\n",
    "    r, rr, phi = m.maps['SPX_ELLCOO'].data\n",
    "    z = m.z\n",
    "    sb_corr = (1+z)**4\n",
    "    psf = m.psf\n",
    "\n",
    "    fm = FitMaps(plateifu, fitmaps_dir=fm_dir, fitmaps_binned_dir=fm_binned_dir)\n",
    "    O3_corr, O3_corr_err = fm.O3map()\n",
    "    O3_agn = np.zeros(agn.shape)\n",
    "    O3_agn[agn] = O3_corr[agn]\n",
    "\n",
    "    sample_time = 0\n",
    "    intens_list = []\n",
    "    agn = binary_opening(binary_closing(agn, iterations=2), iterations=2)\n",
    "\n",
    "    O3_agn = np.zeros(agn.shape)\n",
    "    O3_agn[agn] = O3_corr[agn]\n",
    "    init0, isolist = fitEllipse(O3_agn, init='auto')\n",
    "    valid = (isolist.stop_code == 0) #& (isolist.valid == 1)\n",
    "\n",
    "    sma_base = isolist.sma[valid] * 0.5\n",
    "    intens = isolist.intens[valid].tolist()\n",
    "\n",
    "\n",
    "    # for major axis\n",
    "    major_sma, major_intens, major_intens_err = fit_rings(r, O3_agn, np.max(sma_base), \n",
    "                                                          step=np.max(sma_base)/len(sma_base))\n",
    "    # for minor axis\n",
    "    minor_sma = major_sma * m.elpetro_ba\n",
    "\n",
    "    if True: # fitting SB of the major axis\n",
    "        major_valid = ~(np.isnan(major_intens) & np.isnan(major_intens))\n",
    "        r = major_sma[major_valid]\n",
    "        I = major_intens[major_valid] * sb_corr * 4\n",
    "        I_err = major_intens_err[major_valid] * sb_corr * 4\n",
    "        logI = np.log(I)\n",
    "        logI_err = I_err/I + eps\n",
    "        # define the model\n",
    "        baseModel = lambda x, r: np.exp(x[0] - x[1] * r**(1/x[2]))\n",
    "\n",
    "        # initial value and bounds\n",
    "        x0 = (logI[1], 1, 0.5)\n",
    "        bounds=((0, np.inf), (0.01, 10), (0.5, 10))\n",
    "\n",
    "        #********* fit without de-convlolution *************#\n",
    "        # used the logscale of y, to optimize the fitting\n",
    "        cost_fun = lambda x, r, logy, logy_err: \\\n",
    "                    np.sum((np.log(baseModel(x, r)) - logy)**2/(logy_err)**2)\n",
    "\n",
    "        res_lsq = optimize.minimize(cost_fun, x0,\n",
    "                                     args=(r, logI, logI_err), \n",
    "                                     method='L-BFGS-B', options={'disp':False},\n",
    "                                     jac='2-point', bounds=bounds)\n",
    "    if True: # calculate the size\n",
    "        r_extend = np.linspace(r.min(), 2*r.max(), 100) # for smooth plot\n",
    "        gg_fit = baseModel(res_lsq.x, r_extend)\n",
    "        \n",
    "        try:\n",
    "            R_fsb = np.max(r_extend[gg_fit > SB])\n",
    "            has_size = True\n",
    "        except:\n",
    "            print('No valid measurment')\n",
    "            R_fsb = 1e-6\n",
    "            has_size = False\n",
    "        logR_fsb = np.log10(R_fsb * m.arcsec2kpc.value*1000)\n",
    "        logR_fsb_err = .5/R_fsb/np.log(10)\n",
    "        if not quiet:\n",
    "            print(logR_fsb, logR_fsb_err)\n",
    "        major_R.append(logR_fsb)\n",
    "        major_R_err.append(logR_fsb_err)\n",
    "        minor_R.append(logR_fsb * m.elpetro_ba)\n",
    "        minor_R_err.append(logR_fsb_err * m.elpetro_ba)"
   ]
  },
  {
   "cell_type": "code",
   "execution_count": 84,
   "metadata": {
    "ExecuteTime": {
     "end_time": "2019-06-19T09:12:36.531060Z",
     "start_time": "2019-06-19T09:12:35.775978Z"
    }
   },
   "outputs": [
    {
     "data": {
      "text/plain": [
       "Text(0, 0.5, '$R_{16}$ major axis')"
      ]
     },
     "execution_count": 84,
     "metadata": {},
     "output_type": "execute_result"
    },
    {
     "data": {
      "image/png": "[encoded data removed]",
      "text/plain": [
       "<Figure size 864x288 with 2 Axes>"
      ]
     },
     "metadata": {
      "needs_background": "light"
     },
     "output_type": "display_data"
    }
   ],
   "source": [
    "Rdata = Table.read('data/R_fsb(10)-2019-05-03.dat', format='ascii')\n",
    "R = Rdata['logR_fsb2']\n",
    "R_err = Rdata['logR_fsb2_err']\n",
    "\n",
    "fig = plt.figure(figsize=(12, 4))\n",
    "\n",
    "ax = fig.add_subplot(121)\n",
    "ax.plot(R, np.array(major_R), 'ro')\n",
    "ax.set_xlim(2.7, 4.2)\n",
    "ax.set_ylim(2.5, 4.0)\n",
    "\n",
    "x0 = np.linspace(2.7, 4.2)\n",
    "y0 = x0\n",
    "ax.plot(x0, y0)\n",
    "\n",
    "ax.plot(4., 2.8, 'o', color='C0')\n",
    "ax.errorbar(4., 2.8, xerr=np.median(R_err), yerr=np.median(major_R_err), color='C0')\n",
    "\n",
    "ax.set_xlabel(r\"$R_{16}$ ellipse fitting\", fontsize=14)\n",
    "ax.set_ylabel(r\"$R_{16}$ major axis\", fontsize=14)\n",
    "\n",
    "ax = fig.add_subplot(122)\n",
    "ax.plot(R, np.array(minor_R), 'ro')\n",
    "ax.set_xlim(2.7, 4.2)\n",
    "ax.set_ylim(1.5, 3.5)\n",
    "\n",
    "x0 = np.linspace(2.7, 4.2)\n",
    "y0 = x0\n",
    "ax.plot(x0, y0)\n",
    "\n",
    "ax.plot(4., 1.8, 'o', color='C0')\n",
    "ax.errorbar(4., 1.8, xerr=np.median(R_err), yerr=np.median(minor_R_err), color='C0')\n",
    "\n",
    "ax.set_xlabel(r\"$R_{16}$ ellipse fitting\", fontsize=14)\n",
    "ax.set_ylabel(r\"$R_{16}$ major axis\", fontsize=14)"
   ]
  },
  {
   "cell_type": "code",
   "execution_count": 109,
   "metadata": {
    "ExecuteTime": {
     "end_time": "2019-06-20T09:22:55.258283Z",
     "start_time": "2019-06-20T09:22:54.483489Z"
    }
   },
   "outputs": [
    {
     "data": {
      "image/png": "[encoded data removed]",
      "text/plain": [
       "<Figure size 432x288 with 1 Axes>"
      ]
     },
     "metadata": {
      "needs_background": "light"
     },
     "output_type": "display_data"
    }
   ],
   "source": [
    "#plt.hist(np.abs(R - major_R) / R, range=(0., 0.3), bins=10)\n",
    "plt.hist(R / major_R, range=(0.8, 1.4), bins=20)\n",
    "plt.xlabel(r'R$_{IFU}$/R$_{major}$')\n",
    "plt.ylabel('number')\n",
    "plt.savefig('results/response2-1.pdf', bbox_inches='tight')"
   ]
  },
  {
   "cell_type": "code",
   "execution_count": 108,
   "metadata": {
    "ExecuteTime": {
     "end_time": "2019-06-20T09:22:50.760424Z",
     "start_time": "2019-06-20T09:22:49.996287Z"
    }
   },
   "outputs": [
    {
     "data": {
      "image/png": "[encoded data removed]",
      "text/plain": [
       "<Figure size 432x288 with 1 Axes>"
      ]
     },
     "metadata": {
      "needs_background": "light"
     },
     "output_type": "display_data"
    }
   ],
   "source": [
    "#plt.hist(np.abs(R - minor_R) / R, range=(0., 0.8), bins=10)\n",
    "plt.hist(R / minor_R, range=(1., 4), bins=20)\n",
    "plt.xlabel(r'R$_{IFU}$/R$_{minor}$')\n",
    "plt.ylabel('number')\n",
    "plt.savefig('results/response2-2.pdf', bbox_inches='tight')"
   ]
  },
  {
   "cell_type": "code",
   "execution_count": null,
   "metadata": {},
   "outputs": [],
   "source": []
  }
 ],
 "metadata": {
  "kernelspec": {
   "display_name": "Python 3",
   "language": "python",
   "name": "python3"
  },
  "language_info": {
   "codemirror_mode": {
    "name": "ipython",
    "version": 3
   },
   "file_extension": ".py",
   "mimetype": "text/x-python",
   "name": "python",
   "nbconvert_exporter": "python",
   "pygments_lexer": "ipython3",
   "version": "3.7.2"
  },
  "toc": {
   "base_numbering": 1,
   "nav_menu": {},
   "number_sections": true,
   "sideBar": true,
   "skip_h1_title": false,
   "title_cell": "Table of Contents",
   "title_sidebar": "Contents",
   "toc_cell": false,
   "toc_position": {
    "height": "calc(100% - 180px)",
    "left": "10px",
    "top": "150px",
    "width": "341.333px"
   },
   "toc_section_display": true,
   "toc_window_display": true
  }
 },
 "nbformat": 4,
 "nbformat_minor": 2
}
