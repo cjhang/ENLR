{
 "cells": [
  {
   "cell_type": "markdown",
   "metadata": {},
   "source": [
    "This main jupyter notebook of ENLR, which is about the spatial extension of the extended narrow lines (ENLRs). We used the data from MaNGA, the massive integrate field unit(IFU) observation, to selected the AGNs with extended narrow line regions and to revisit the size luminosity relation of ENLR."
   ]
  },
  {
   "cell_type": "markdown",
   "metadata": {
    "ExecuteTime": {
     "end_time": "2019-02-22T07:42:10.623987Z",
     "start_time": "2019-02-22T07:42:10.599359Z"
    }
   },
   "source": [
    "**to-do list**\n",
    "<form>\n",
    "  <input type=\"checkbox\" checked> Changing the structure of the pipeline<br>\n",
    "  <input type=\"checkbox\" checked> Excluding binary galaxies from the sample.<br>\n",
    "  <input type=\"checkbox\" checked> Comparing your sample with PSF and the radius of the major axies of [OIII] to check whether the ENLR was resolved.<br>\n",
    "  <input type=\"checkbox\" checked> Applying dust extinction before calculating the ENLR radius<br>\n",
    "  <input type=\"checkbox\" checked> Using MC method to get the mearsuring error of all the results.<br>\n",
    "  <input type=\"checkbox\" > Checking the size of ENLR with the 5500Å to determine the check the whether the relation is due to the AGN or the host galaxy<br> \n",
    "  <input type=\"checkbox\" checked> Including previous results<br>\n",
    "  <input type=\"checkbox\" > Checking the morphology of ENLR with the b/a of the galaxy to find possible relation with related with egde-on galaxies<br>\n",
    "  <input type=\"checkbox\" > Getting the stellar mass of the galaxies to check the ENLR go with L[OIII]/Mass_stellar (L/M as a roughly accretion rate).<br>\n",
    "  <input type=\"checkbox\"> What's the relation with hubble morphology related?<br>\n",
    "  <input type=\"checkbox\"> Determining the ionizing state of the gas. Using the software developed by Thomas2018 <a href=\"https://github.com/ADThomas-astro/NebulaBayes\">NebulaBayes</a><br> \n",
    "  <input type=\"checkbox\"> Determining the difference between bulge-dominanted and disk-dominanted galaxies, using the cataloge of Meer2015<br>\n",
    "  <input type=\"checkbox\" checked> Determining the gas density and inonized state of the NLR according MaNGA internal Nascimento2018. <i>the S/N was not enough for that</i><br>\n",
    "  <input type=\"checkbox\" checked> Cross-matching with all sky surveys (ROSAT, WISE, FIRST)<br>\n",
    "  <input type=\"checkbox\"> Using some indicator that can show the evolution of the ENLR, age? metallicity? SFH?<br>\n",
    "  <input type=\"checkbox\"> Picking out the outliers of the sample, finding the possible reasons that contribute the scatter.<br>\n",
    "  <input type=\"checkbox\" checked> Whether this relation is due to secular process? Single or multiple process? something like the [‘red geysers] (Cheung 2016)<br>\n",
    "  <input type=\"checkbox\" checked> Using the line ratio that can stand for the ionization ([O III]/Hb) to see whether the results is consistant with OIII. <i>limited by resolution</i><br>\n",
    "</form>"
   ]
  },
  {
   "cell_type": "markdown",
   "metadata": {},
   "source": [
    "**Contents**\n",
    "\n",
    "The structure of the whole jupyter notebook\n",
    "\n",
    "- [Sample Selection](./Sample_selection.ipynb) \n",
    "- [Methods](./Methods.ipynb)\n",
    "- [Extended Narrow line Region](./ENLR.ipynb)\n",
    "- [Results](./Results.ipynb)\n",
    "- [Discussion](./Discussion.ipynb)"
   ]
  },
  {
   "cell_type": "markdown",
   "metadata": {},
   "source": [
    "**Figures**\n",
    "\n",
    "The shortcuts linking to the plots showed in the paper\n",
    "\n",
    "- [Figure 1](./Methods.ipynb#Demo-Sample-Detail)\n",
    "- [Figure 2](./Sample_selection.ipynb#All-the-sample-in-BPT-diagram)\n",
    "- [Figure 3](./Methods.ipynb#Testting-for-a-single-galaxy)\n",
    "- [Figure 4](./ENLR.ipynb#Compare-IFU-and-longslit)\n",
    "- [Figure 5](./ENLR.ipynb#Demo-Different-PSF-Effects)\n",
    "- [Figure 6](./Results.ipynb#Size(ENLR)---Luminosty(AGN)-relation)\n",
    "- [Figure 7](./Discussion.ipynb#IR-luminosity)\n",
    "- Figure 8"
   ]
  },
  {
   "cell_type": "code",
   "execution_count": null,
   "metadata": {
    "ExecuteTime": {
     "end_time": "2019-07-15T08:11:56.457363Z",
     "start_time": "2019-07-15T08:11:56.350637Z"
    }
   },
   "outputs": [],
   "source": [
    "# Read all the computed data, generate the table in paper\n",
    "# It is also easy to modify the code to generate the all the data into files\n",
    "# History:\n",
    "#   2018-11-12: first release\n",
    "#   2019-06-26: updated for re-submission\n",
    "\n",
    "# the columns of the table\n",
    "# ---------------------------------------------------------------------------------\n",
    "# plateifu, mangaid, Ra, Dec, z, g_PSF, logL_[O III], R15, R_16, resolved, outflow_strength, radio_loudness\n",
    "\n",
    "import numpy as np\n",
    "from astropy.table import Table\n",
    "\n",
    "# used for generate table for paper\n",
    "table_for_paper = True\n",
    "line_split = 40\n",
    "\n",
    "this_AGN = Table.read('data/AGNs-2019-04-26.dat', format='ascii')\n",
    "this_Ldata = Table.read('data/LO3-2019-06-25.dat', format=\"ascii\")\n",
    "this_Rdata = Table.read('data/R_fsb-(10)-2019-06-19.dat', format='ascii')\n",
    "this_Rdata_100 = Table.read('data/R_fsb-(100)-2019-06-19.dat', format='ascii')\n",
    "this_Lv_first = np.loadtxt('data/Lv_first.txt')\n",
    "this_loudness = np.loadtxt('data/loudness.txt')\n",
    "this_L_IR = np.loadtxt('data/L_IR.txt')\n",
    "\n",
    "\n",
    "LO3 = this_Ldata['LO3_redcorr']\n",
    "LO3_err = 0.5 * (this_Ldata['LO3_redcorr_err_up'].data + this_Ldata['LO3_redcorr_err_low'].data)\n",
    "\n",
    "R16 = 10**this_Rdata['logR_fsb2_orig'].data / 1000\n",
    "R16_err = this_Rdata['logR_fsb2_orig_err'].data * 10**this_Rdata['logR_fsb2_orig'].data / 1000 * np.log(10)\n",
    "resolved = (this_Rdata['is_limit'].data == 0)\n",
    "R16[~resolved] = this_Rdata['logR_fsb1'].data[~resolved]\n",
    "\n",
    "R15 = 10**this_Rdata_100['logR_fsb2_orig'].data / 1000\n",
    "R15_err = this_Rdata_100['logR_fsb2_orig_err'].data * 10**this_Rdata_100['logR_fsb2_orig'].data / 1000 * np.log(10)\n",
    "resolved_100 = (this_Rdata_100['is_limit'].data == 0)\n",
    "R15[~resolved_100] = np.nan\n",
    "R15_err[~resolved_100] = np.nan\n",
    "\n",
    "outflow_strength = this_Ldata['outflow_strength']\n",
    "radio_loudness = this_loudness\n",
    "\n",
    "tot_num = len(this_AGN[:])\n",
    "for i in range(tot_num):\n",
    "    plateifu = this_AGN['plateifu'][i]\n",
    "    mangaid = this_AGN['mangaid'][i]\n",
    "    ra = this_AGN['ra'][i]\n",
    "    dec = this_AGN['dec'][i]\n",
    "    z = this_AGN['z'][i]\n",
    "    psf = this_AGN['psf'][i]\n",
    "    \n",
    "    if np.isnan(R15[i]) or np.isnan(R15_err[i]) or (R15[i] < 0.01):\n",
    "        R15_string = 'nan'\n",
    "    else:\n",
    "        R15_string = \"{:.2f}$\\pm${:.2f}\".format(R15[i], R15_err[i])\n",
    "        \n",
    "    if np.isnan(R16[i]) or np.isnan(R16_err[i]) or (R16[i] < 0.01):\n",
    "        R16_string = 'nan'\n",
    "    else:\n",
    "        R16_string = \"{:.2f}$\\pm${:.2f}\".format(R16[i], R16_err[i])\n",
    "    if this_Lv_first[i] < 0:\n",
    "        Lv_first = np.nan\n",
    "    else:\n",
    "        Lv_first = this_Lv_first[i]\n",
    "    \n",
    "    print(\"{} & {:.6f} & {:.6f} & {} & {:.2f} & {:.2f}$\\pm${:.2f} & {:.2f} & {:.2f} & {} & {} & {} & {:.2f} \\\\\\\\\".format(\n",
    "        plateifu, ra, dec, z, psf, LO3[i], LO3_err[i], this_L_IR[i], Lv_first, R15_string, R16_string, resolved[i], radio_loudness[i]))\n",
    "    if not (i+1)%40:\n",
    "        print(\"------------------------------\\n\\n\\n\\n---------------------------\")"
   ]
  },
  {
   "cell_type": "code",
   "execution_count": null,
   "metadata": {},
   "outputs": [],
   "source": []
  }
 ],
 "metadata": {
  "kernelspec": {
   "display_name": "Python 3",
   "language": "python",
   "name": "python3"
  },
  "language_info": {
   "codemirror_mode": {
    "name": "ipython",
    "version": 3
   },
   "file_extension": ".py",
   "mimetype": "text/x-python",
   "name": "python",
   "nbconvert_exporter": "python",
   "pygments_lexer": "ipython3",
   "version": "3.7.2"
  },
  "toc": {
   "base_numbering": 1,
   "nav_menu": {},
   "number_sections": true,
   "sideBar": true,
   "skip_h1_title": false,
   "title_cell": "Table of Contents",
   "title_sidebar": "Contents",
   "toc_cell": false,
   "toc_position": {},
   "toc_section_display": true,
   "toc_window_display": false
  }
 },
 "nbformat": 4,
 "nbformat_minor": 2
}
