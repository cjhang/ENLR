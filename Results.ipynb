{
 "cells": [
  {
   "cell_type": "code",
   "execution_count": 1,
   "metadata": {
    "ExecuteTime": {
     "end_time": "2019-06-25T10:34:40.584763Z",
     "start_time": "2019-06-25T10:34:40.522688Z"
    }
   },
   "outputs": [
    {
     "name": "stdout",
     "output_type": "stream",
     "text": [
      "The autoreload extension is already loaded. To reload it, use:\n",
      "  %reload_ext autoreload\n"
     ]
    }
   ],
   "source": [
    "%matplotlib inline\n",
    "# autoload the package, for debuge purpose\n",
    "%load_ext autoreload\n",
    "%autoreload 2\n",
    "\n",
    "# import modules and plot setting\n",
    "import numpy as np\n",
    "from matplotlib import pyplot as plt\n",
    "from astropy.table import Table\n",
    "import datetime\n",
    "from astropy.table import Table\n",
    "from astropy.io import fits\n",
    "#from mangatools import maps, utils\n",
    "\n",
    "today = datetime.date.today().isoformat()\n",
    "\n",
    "# set the display properties\n",
    "from IPython.display import set_matplotlib_formats\n",
    "set_matplotlib_formats('png')\n",
    "\n",
    "# customize the warning message\n",
    "import warnings\n",
    "warnings.filterwarnings(\"default\") # default or ignore"
   ]
  },
  {
   "cell_type": "markdown",
   "metadata": {},
   "source": [
    "### Fraquelli2003"
   ]
  },
  {
   "cell_type": "code",
   "execution_count": 2,
   "metadata": {
    "ExecuteTime": {
     "end_time": "2019-06-29T12:17:15.171653Z",
     "start_time": "2019-06-29T12:17:14.837975Z"
    }
   },
   "outputs": [
    {
     "data": {
      "text/html": [
       "<i>Table length=2</i>\n",
       "<table id=\"table4535409464\" class=\"table-striped table-bordered table-condensed\">\n",
       "<thead><tr><th>name</th><th>L_OIII</th><th>delta</th><th>distance</th><th>scale</th></tr></thead>\n",
       "<thead><tr><th>str14</th><th>float64</th><th>float64</th><th>float64</th><th>int64</th></tr></thead>\n",
       "<tr><td>ESO417-G6</td><td>38.3</td><td>-3.5</td><td>63.89</td><td>310</td></tr>\n",
       "<tr><td>Fairall316</td><td>35.91</td><td>-2.9</td><td>63.63</td><td>308</td></tr>\n",
       "</table>"
      ],
      "text/plain": [
       "<Table length=2>\n",
       "   name     L_OIII  delta  distance scale\n",
       "  str14    float64 float64 float64  int64\n",
       "---------- ------- ------- -------- -----\n",
       " ESO417-G6    38.3    -3.5    63.89   310\n",
       "Fairall316   35.91    -2.9    63.63   308"
      ]
     },
     "execution_count": 2,
     "metadata": {},
     "output_type": "execute_result"
    }
   ],
   "source": [
    "from astropy.table import Table\n",
    "# read data from (Fraquelli 2003) \n",
    "fraquelli2003 = Table.read('data/Fraquelli2003.txt', format='ascii')\n",
    "fraquelli2003[:2]"
   ]
  },
  {
   "cell_type": "code",
   "execution_count": 3,
   "metadata": {
    "ExecuteTime": {
     "end_time": "2019-06-29T12:17:21.653520Z",
     "start_time": "2019-06-29T12:17:21.242521Z"
    }
   },
   "outputs": [
    {
     "name": "stdout",
     "output_type": "stream",
     "text": [
      "escape: NGC1386\n",
      "escape: NGC5643\n"
     ]
    },
    {
     "data": {
      "image/png": "[encoded data removed]",
      "text/plain": [
       "<Figure size 432x288 with 1 Axes>"
      ]
     },
     "metadata": {
      "needs_background": "light"
     },
     "output_type": "display_data"
    }
   ],
   "source": [
    "# convert fraquelli2001 to surface brightness\n",
    "SB = 1e-16\n",
    "r = np.linspace(100, 40000, 1000)\n",
    "dr = np.diff(r)\n",
    "r = r[0:-1]\n",
    "fra03_r = []\n",
    "fra03_L = []\n",
    "\n",
    "for i in range(0, len(fraquelli2003)):\n",
    "    # exclude two also observerd by Bennert2006a\n",
    "    if fraquelli2003['name'][i] == 'NGC5643' or fraquelli2003['name'][i] == 'NGC1386':\n",
    "        print(\"escape:\", fraquelli2003['name'][i])\n",
    "    L_tmp = fraquelli2003['L_OIII'][i] + fraquelli2003['delta'][i] * (np.log10(r) - np.log10(100))\n",
    "    #print(logF)\n",
    "    threshold = np.log10(SB*4*np.pi*fraquelli2003['distance'][i]**2 \n",
    "                     *(u.Mpc.to(u.cm))**2/(fraquelli2003['scale'][i]**2))\n",
    "    #print(threshold)\n",
    "    sel = L_tmp < threshold\n",
    "    fra03_L.append(np.log10(np.sum(10**L_tmp[sel] * 2*np.pi*r[sel]*dr[sel])))\n",
    "    r_tmp = np.min(r[sel])\n",
    "    fra03_r.append(np.log10(r_tmp))\n",
    "fra03_L = np.array(fra03_L)\n",
    "fra03_r = np.array(fra03_r)\n",
    "if True: #plot\n",
    "    plt.plot(fra03_L, fra03_r, 'o')\n",
    "    #print(fra2003_r, fra2003_L)"
   ]
  },
  {
   "cell_type": "markdown",
   "metadata": {},
   "source": [
    "### Bennert2006a"
   ]
  },
  {
   "cell_type": "code",
   "execution_count": 4,
   "metadata": {
    "ExecuteTime": {
     "end_time": "2019-06-29T12:17:26.894021Z",
     "start_time": "2019-06-29T12:17:26.822917Z"
    }
   },
   "outputs": [
    {
     "data": {
      "text/html": [
       "<i>Table length=2</i>\n",
       "<table id=\"table4570569192\" class=\"table-striped table-bordered table-condensed\">\n",
       "<thead><tr><th>name</th><th>dist</th><th>scale</th><th>R_NLR</th><th>L0_OIII</th><th>delta</th><th>delta_err</th></tr></thead>\n",
       "<thead><tr><th>str11</th><th>int64</th><th>int64</th><th>int64</th><th>float64</th><th>float64</th><th>float64</th></tr></thead>\n",
       "<tr><td>IC5063</td><td>47</td><td>220</td><td>2860</td><td>38.41</td><td>-2.73</td><td>0.33</td></tr>\n",
       "<tr><td>NGC7212</td><td>110</td><td>504</td><td>5040</td><td>38.46</td><td>-2.13</td><td>0.57</td></tr>\n",
       "</table>"
      ],
      "text/plain": [
       "<Table length=2>\n",
       "  name   dist scale R_NLR L0_OIII  delta  delta_err\n",
       " str11  int64 int64 int64 float64 float64  float64 \n",
       "------- ----- ----- ----- ------- ------- ---------\n",
       " IC5063    47   220  2860   38.41   -2.73      0.33\n",
       "NGC7212   110   504  5040   38.46   -2.13      0.57"
      ]
     },
     "execution_count": 4,
     "metadata": {},
     "output_type": "execute_result"
    }
   ],
   "source": [
    "bennert2006a = Table.read('data/Bennert2006a.txt', format='ascii')\n",
    "bennert2006a[:2]"
   ]
  },
  {
   "cell_type": "code",
   "execution_count": 5,
   "metadata": {
    "ExecuteTime": {
     "end_time": "2019-06-29T12:17:34.670575Z",
     "start_time": "2019-06-29T12:17:34.277845Z"
    }
   },
   "outputs": [
    {
     "name": "stdout",
     "output_type": "stream",
     "text": [
      "Escape bad fit: ESO362-G008\n"
     ]
    },
    {
     "data": {
      "image/png": "[encoded data removed]",
      "text/plain": [
       "<Figure size 432x288 with 1 Axes>"
      ]
     },
     "metadata": {
      "needs_background": "light"
     },
     "output_type": "display_data"
    }
   ],
   "source": [
    "# convert fraquelli2001 to surface brightness\n",
    "r = np.linspace(100, 400000, 1000)\n",
    "dr = np.diff(r)\n",
    "r = r[0:-1]\n",
    "ben06a_L = []\n",
    "ben06a_r = []\n",
    "ben06a_r_err = []\n",
    "SB = 1e-16\n",
    "\n",
    "for i in range(0, len(bennert2006a)):\n",
    "    if bennert2006a['delta'][i] > -1e-6:\n",
    "        print('Escape bad fit:', bennert2006a['name'][i])\n",
    "        continue\n",
    "    L_tmp = bennert2006a['L0_OIII'][i] + bennert2006a['delta'][i] * (np.log10(r) - np.log10(100))\n",
    "    #print(logF)\n",
    "    threshold = np.log10(SB*4*np.pi*bennert2006a['dist'][i]**2 \n",
    "                     *(u.Mpc.to(u.cm))**2/(bennert2006a['scale'][i]**2))\n",
    "    #print(threshold)\n",
    "    sel = L_tmp < threshold\n",
    "    ben06a_L.append(np.log10(np.sum(10**L_tmp[sel] * 2*np.pi*r[sel]*dr[sel])))\n",
    "    r_tmp = np.min(r[sel])\n",
    "    ben06a_r.append(np.log10(r_tmp))\n",
    "    ben06a_r_err.append(0.5/np.log(10)) #need update\n",
    "ben06a_L = np.array(ben06a_L)\n",
    "ben06a_r = np.array(ben06a_r)\n",
    "ben06a_r_err = np.array(ben06a_r_err)\n",
    "if True:\n",
    "    #print(r_bennert_a, F_bennert_a)\n",
    "    plt.errorbar(ben06a_L, ben06a_r, yerr=ben06a_r_err, marker='o', linestyle='None')"
   ]
  },
  {
   "cell_type": "markdown",
   "metadata": {},
   "source": [
    "### Bennert2006b"
   ]
  },
  {
   "cell_type": "code",
   "execution_count": 6,
   "metadata": {
    "ExecuteTime": {
     "end_time": "2019-06-29T12:17:37.911772Z",
     "start_time": "2019-06-29T12:17:37.853615Z"
    }
   },
   "outputs": [
    {
     "data": {
      "text/html": [
       "<i>Table length=2</i>\n",
       "<table id=\"table4571436424\" class=\"table-striped table-bordered table-condensed\">\n",
       "<thead><tr><th>name</th><th>dist</th><th>scale</th><th>R_NLR</th><th>L0_OIII</th><th>delta</th><th>delta_err</th></tr></thead>\n",
       "<thead><tr><th>str13</th><th>int64</th><th>int64</th><th>int64</th><th>float64</th><th>float64</th><th>float64</th></tr></thead>\n",
       "<tr><td>Fairall51</td><td>60</td><td>283</td><td>2260</td><td>38.14</td><td>-3.55</td><td>0.25</td></tr>\n",
       "<tr><td>NGC6860</td><td>62</td><td>293</td><td>1465</td><td>37.69</td><td>-3.06</td><td>0.12</td></tr>\n",
       "</table>"
      ],
      "text/plain": [
       "<Table length=2>\n",
       "   name    dist scale R_NLR L0_OIII  delta  delta_err\n",
       "  str13   int64 int64 int64 float64 float64  float64 \n",
       "--------- ----- ----- ----- ------- ------- ---------\n",
       "Fairall51    60   283  2260   38.14   -3.55      0.25\n",
       "  NGC6860    62   293  1465   37.69   -3.06      0.12"
      ]
     },
     "execution_count": 6,
     "metadata": {},
     "output_type": "execute_result"
    }
   ],
   "source": [
    "bennert2006b = Table.read('data/Bennert2006b.txt', format='ascii')\n",
    "bennert2006b[:2]"
   ]
  },
  {
   "cell_type": "code",
   "execution_count": 7,
   "metadata": {
    "ExecuteTime": {
     "end_time": "2019-06-29T12:17:41.849093Z",
     "start_time": "2019-06-29T12:17:41.460500Z"
    }
   },
   "outputs": [
    {
     "data": {
      "image/png": "[encoded data removed]",
      "text/plain": [
       "<Figure size 432x288 with 1 Axes>"
      ]
     },
     "metadata": {
      "needs_background": "light"
     },
     "output_type": "display_data"
    }
   ],
   "source": [
    "# convert fraquelli2001 to surface brightness\n",
    "r = np.linspace(100, 40000, 1000)\n",
    "SB = 1e-16\n",
    "dr = np.diff(r)\n",
    "r = r[0:-1]\n",
    "ben06b_L = []\n",
    "ben06b_r = []\n",
    "ben06b_r_err = []\n",
    "for i in range(0, len(bennert2006b)):\n",
    "    if bennert2006b['delta'][i] > -1e-6:\n",
    "        print('Escape bad fit:', bennert2006b['name'][i])\n",
    "        continue\n",
    "    L_tmp = bennert2006b['L0_OIII'][i] + bennert2006b['delta'][i] * (np.log10(r) - np.log10(100))\n",
    "    #print(logF)\n",
    "    threshold = np.log10(SB*4*np.pi*bennert2006b['dist'][i]**2 \n",
    "                     *(u.Mpc.to(u.cm))**2/(bennert2006b['scale'][i]**2))\n",
    "    #print(threshold)\n",
    "    sel = L_tmp < threshold\n",
    "    ben06b_L.append(np.log10(np.sum(10**L_tmp[sel] * 2*np.pi*r[sel]*dr[sel])))\n",
    "    r_tmp = np.min(r[sel])\n",
    "    ben06b_r.append(np.log10(r_tmp))\n",
    "    ben06b_r_err.append(0.5/np.log(10)) #need update\n",
    "\n",
    "ben06b_L = np.array(ben06b_L)\n",
    "ben06b_r = np.array(ben06b_r)\n",
    "ben06b_r_err = np.array(ben06b_r_err)\n",
    "\n",
    "if True:\n",
    "    #print(r_bennert_a, F_bennert_a)\n",
    "    plt.errorbar(ben06b_L, ben06b_r, yerr=ben06b_r_err, marker='o', linestyle='None')"
   ]
  },
  {
   "cell_type": "markdown",
   "metadata": {},
   "source": [
    "### Greene2011"
   ]
  },
  {
   "cell_type": "code",
   "execution_count": 8,
   "metadata": {
    "ExecuteTime": {
     "end_time": "2019-06-25T06:06:30.769951Z",
     "start_time": "2019-06-25T06:06:30.695779Z"
    }
   },
   "outputs": [
    {
     "data": {
      "text/html": [
       "<i>Table length=2</i>\n",
       "<table id=\"table4572195808\" class=\"table-striped table-bordered table-condensed\">\n",
       "<thead><tr><th>SDSS</th><th>z</th><th>LOIII</th><th>ROIII</th><th>RCont</th><th>FWHM</th><th>beta1</th><th>beta2</th><th>uplimit</th></tr></thead>\n",
       "<thead><tr><th>str10</th><th>float64</th><th>float64</th><th>float64</th><th>float64</th><th>float64</th><th>float64</th><th>float64</th><th>int64</th></tr></thead>\n",
       "<tr><td>J0157−0053</td><td>0.422</td><td>42.91</td><td>4.3</td><td>4.0</td><td>3.0</td><td>2.9</td><td>3.2</td><td>1</td></tr>\n",
       "<tr><td>J1106+0357</td><td>0.242</td><td>42.52</td><td>4.0</td><td>4.1</td><td>2.8</td><td>2.9</td><td>3.2</td><td>0</td></tr>\n",
       "</table>"
      ],
      "text/plain": [
       "<Table length=2>\n",
       "   SDSS       z     LOIII   ROIII   RCont    FWHM   beta1   beta2  uplimit\n",
       "  str10    float64 float64 float64 float64 float64 float64 float64  int64 \n",
       "---------- ------- ------- ------- ------- ------- ------- ------- -------\n",
       "J0157−0053   0.422   42.91     4.3     4.0     3.0     2.9     3.2       1\n",
       "J1106+0357   0.242   42.52     4.0     4.1     2.8     2.9     3.2       0"
      ]
     },
     "execution_count": 8,
     "metadata": {},
     "output_type": "execute_result"
    }
   ],
   "source": [
    "greene2011 = Table.read('data/Greene2011.txt', format='ascii')\n",
    "greene2011[:2]"
   ]
  },
  {
   "cell_type": "code",
   "execution_count": 9,
   "metadata": {
    "ExecuteTime": {
     "end_time": "2019-06-25T06:06:32.320613Z",
     "start_time": "2019-06-25T06:06:31.970742Z"
    }
   },
   "outputs": [
    {
     "data": {
      "image/png": "[encoded data removed]",
      "text/plain": [
       "<Figure size 432x288 with 1 Axes>"
      ]
     },
     "metadata": {
      "needs_background": "light"
     },
     "output_type": "display_data"
    }
   ],
   "source": [
    "gre11_L = greene2011['LOIII'].data\n",
    "gre11_L_err = np.full_like(gre11_L, 0.2/np.log(10)) # 20% error for dust extinction\n",
    "#gre11_r_up = -1/greene2011['beta1'].data + greene2011['ROIII'].data\n",
    "#gre11_r_low = -1/greene2011['beta2'].data + greene2011['ROIII'].data\n",
    "#gre11_r = 0.5 * (gre11_r_up + gre11_r_low) #* (1+greene2011['z'])**4\n",
    "#gre11_r_err = np.abs(gre11_r - gre11_r_low) + np.log10(3)/np.log(10) # (3r)/r/np.log(10)\n",
    "gre11_r = greene2011['ROIII'] #* (1+greene2011['z'])**4)\n",
    "gre11_r_err = np.log10(5)/np.log(10)\n",
    "if True:\n",
    "    plt.errorbar(gre11_L, gre11_r, xerr=gre11_L_err, yerr=gre11_r_err, linestyle='None', marker='o')"
   ]
  },
  {
   "cell_type": "markdown",
   "metadata": {},
   "source": [
    "### Liu2013"
   ]
  },
  {
   "cell_type": "markdown",
   "metadata": {},
   "source": [
    "#### Read data from files"
   ]
  },
  {
   "cell_type": "code",
   "execution_count": null,
   "metadata": {
    "ExecuteTime": {
     "end_time": "2019-06-29T12:17:56.319824Z",
     "start_time": "2019-06-29T12:17:56.258388Z"
    }
   },
   "outputs": [],
   "source": [
    "liu2013 = Table.read('data/Liu2013.txt', format='ascii')\n",
    "liu2013[:]"
   ]
  },
  {
   "cell_type": "code",
   "execution_count": null,
   "metadata": {
    "ExecuteTime": {
     "end_time": "2019-04-30T00:09:04.062142Z",
     "start_time": "2019-04-30T00:09:04.023998Z"
    }
   },
   "outputs": [],
   "source": [
    "liu2013['z'].data"
   ]
  },
  {
   "cell_type": "code",
   "execution_count": null,
   "metadata": {
    "ExecuteTime": {
     "end_time": "2019-06-29T12:18:12.460449Z",
     "start_time": "2019-06-29T12:18:12.108832Z"
    }
   },
   "outputs": [],
   "source": [
    "liu13_L = liu2013['L_OIII'].data\n",
    "liu13_L_err = np.full_like(liu13_L, 0.2/np.log(10)) # 20% uncertainty for type2 AGNs\n",
    "liu13_r = np.log10(liu2013['R_int'].data * 1000)\n",
    "liu13_r_err = np.full_like(liu13_r, 0.2/np.log(10))\n",
    "liu13_islimit = np.full(liu13_r.shape, False)\n",
    "#liu13_L = liu13_L.tolist()\n",
    "#liu13_r = liu13_r.tolist()\n",
    "#liu13_r_err = liu13_r_err.tolist()\n",
    "\n",
    "if True:\n",
    "    plt.errorbar(liu13_L, liu13_r, xerr=liu13_L_err, yerr=liu13_r_err, marker='o', ls='None')"
   ]
  },
  {
   "cell_type": "markdown",
   "metadata": {},
   "source": [
    "#### PSF effect"
   ]
  },
  {
   "cell_type": "markdown",
   "metadata": {},
   "source": [
    "##### model the PSF by Gausian"
   ]
  },
  {
   "cell_type": "code",
   "execution_count": null,
   "metadata": {
    "ExecuteTime": {
     "end_time": "2019-06-20T07:49:51.616974Z",
     "start_time": "2019-06-20T07:49:51.566852Z"
    }
   },
   "outputs": [],
   "source": [
    "def psf_new(r, params):\n",
    "    # multiple gaussian modeled psf\n",
    "    y = 0\n",
    "    for i in range(0, len(params), 3):\n",
    "        y = y + params[i+0]* np.exp( -(r - params[i+1])**2/(2*params[i+2]**2))\n",
    "    return y"
   ]
  },
  {
   "cell_type": "code",
   "execution_count": null,
   "metadata": {
    "ExecuteTime": {
     "end_time": "2019-06-20T07:49:57.368300Z",
     "start_time": "2019-06-20T07:49:55.013924Z"
    },
    "scrolled": true
   },
   "outputs": [],
   "source": [
    "# tow gaussian modeled psf\n",
    "# take JJ0149-0048 as an example\n",
    "from astropy.modeling import models, fitting\n",
    "\n",
    "liu2013_psf = np.array([3.4,4.0,2.5,3.9,3.7,4.1,3.25,3.15,4.0,3.7,5.0,3.7,3.9,4.3])\n",
    "tab_star = Table.read('data/Liu2013/star_ell.fits')\n",
    "liu2013_psf_FWHM = []\n",
    "\n",
    "#plt.semilogy(tab_star['SMA'] * 0.1 * 3.4 * 0.145779 / 0.6, tab_star['INTENS']/max(tab_star['INTENS']), ':')\n",
    "for psf in [4.3]:#liu2013_psf:\n",
    "    x = tab_star['SMA'] * 0.1 * 4 * 0.145779 / 0.6\n",
    "    y = tab_star['INTENS']/max(tab_star['INTENS'])\n",
    "    g_init1 = models.Gaussian1D(amplitude=1, mean=0, stddev=0.1)\n",
    "    g_init2 = models.Gaussian1D(amplitude=1, mean=0, stddev=0.1) + models.Gaussian1D(amplitude=0.1, mean=0, stddev=1)\n",
    "    fit_g1 = fitting.LevMarLSQFitter()\n",
    "    fit_g2 = fitting.LevMarLSQFitter()\n",
    "    g1 = fit_g1(g_init1, x, y)\n",
    "    g2 = fit_g1(g_init2, x, y)\n",
    "    #print(g1.parameters)\n",
    "    #print(g.stddev.value * 2.355 )\n",
    "    #liu2013_psf_FWHM.append(g.stddev_1.value * 2.35482)\n",
    "if 1:\n",
    "    plt.figure()\n",
    "    plt.semilogy(x, y, 'ko')\n",
    "    #plt.plot(x, psf_new(x, g.parameters), 'r', lw=4)\n",
    "    plt.plot(x, g1(x), label='One Gaussian')\n",
    "    plt.plot(x, g2(x), label='Two Gaussian')\n",
    "    plt.ylim(0.01, 1.1)\n",
    "    plt.legend()\n",
    "print(g1.parameters, g2.parameters)"
   ]
  },
  {
   "cell_type": "code",
   "execution_count": null,
   "metadata": {
    "ExecuteTime": {
     "end_time": "2019-06-20T07:50:03.281265Z",
     "start_time": "2019-06-20T07:50:02.221670Z"
    }
   },
   "outputs": [],
   "source": [
    "# single gaussian modeled psf\n",
    "# take JJ0149-0048 as an example\n",
    "from astropy.modeling import models, fitting\n",
    "\n",
    "liu2013_psf = np.array([3.4,4.0,2.5,3.9,3.7,4.1,3.25,3.15,4.0,3.7,5.0,3.7,3.9,4.3])\n",
    "tab_star = Table.read('data/Liu2013/star_ell.fits')\n",
    "liu2013_psf_FWHM = []\n",
    "\n",
    "#plt.semilogy(tab_star['SMA'] * 0.1 * 3.4 * 0.145779 / 0.6, tab_star['INTENS']/max(tab_star['INTENS']), ':')\n",
    "for psf in liu2013_psf:\n",
    "    x = tab_star['SMA'] * 0.1 * psf * 0.145779 / 0.6\n",
    "    y = tab_star['INTENS']/max(tab_star['INTENS'])\n",
    "    g_init = models.Gaussian1D(amplitude=1, mean=0, stddev=0.1) \n",
    "    fit_g = fitting.LevMarLSQFitter()\n",
    "    g = fit_g(g_init, x, y)\n",
    "    #print(g.parameters)\n",
    "    liu2013_psf_FWHM.append(g.stddev.value * 2.355)\n",
    "if 0:\n",
    "    plt.figure()\n",
    "    plt.semilogy(x, y, 'ko')\n",
    "    plt.plot(x, psf_new(x, g.parameters), 'r', lw=4)\n",
    "    plt.plot(x, g(x), label='model')\n",
    "    plt.ylim(0.01, 1.1)\n",
    "print(liu2013_psf_FWHM)"
   ]
  },
  {
   "cell_type": "code",
   "execution_count": null,
   "metadata": {
    "ExecuteTime": {
     "end_time": "2019-04-09T14:35:50.700387Z",
     "start_time": "2019-04-09T14:35:49.913616Z"
    },
    "scrolled": true
   },
   "outputs": [],
   "source": [
    "liu2013_obj = np.array(['J0149-0048','J0210-1001','J0319-0019','J0319-0058','J0321+0016','J0759+1339',\n",
    "                     'J0841+2042','J0842+3625','J0858+4417','J1039+4512','J1040+4745','J0224+2750', \\\n",
    "                     'J0807+4946','J1101+4004'])\n",
    "liu2013_psf = np.array([3.4,4.0,2.5,3.9,3.7,4.1,3.25,3.15,4.0,3.7,5.0,3.7,3.9,4.3])\n",
    "tab_star = Table.read('data/Liu2013/star_ell.fits')\n",
    "for idx, obj in enumerate(['J0319-0019']):#liu2013_obj):\n",
    "    tab_obj = Table.read('data/Liu2013/{}ell.fits'.format(obj))\n",
    "    plt.semilogy(tab_obj['SMA'] * 0.1, tab_obj['INTENS'])#/max(tab_obj['INTENS']))\n",
    "    #plt.semilogy(tab_star['SMA'] * 0.1 * liu2013_psf[idx] * 0.145779 / 0.6, tab_star['INTENS']/max(tab_star['INTENS']), ':')\n",
    "#plt.ylim(0.01, 1)"
   ]
  },
  {
   "cell_type": "code",
   "execution_count": null,
   "metadata": {
    "ExecuteTime": {
     "end_time": "2019-06-22T01:10:17.711368Z",
     "start_time": "2019-06-22T01:10:15.676291Z"
    },
    "code_folding": [],
    "scrolled": true
   },
   "outputs": [],
   "source": [
    "# repeat the results of Liu2013\n",
    "from astropy.cosmology import LambdaCDM\n",
    "cosmo = LambdaCDM(71, 0.27, 0.73)\n",
    "\n",
    "liu2013_obj = np.array(['J0149-0048','J0210-1001','J0319-0019','J0319-0058','J0321+0016','J0759+1339',\n",
    "                     'J0841+2042','J0842+3625','J0858+4417','J1039+4512','J1040+4745','J0224+2750', \\\n",
    "                     'J0807+4946','J1101+4004'])\n",
    "liu2013_z = np.array([0.566, 0.54 , 0.635, 0.626, 0.643, 0.649, 0.641, 0.561, 0.454,\n",
    "                0.579, 0.486, 0.311, 0.575, 0.457])\n",
    "peak=[1.58,3.19,1.37,1.38,0.96,3.93,6.72,6.13,2.64,5.20,3.31,2.40,2.66,2.36]\n",
    "\n",
    "SB = 100\n",
    "\n",
    "if False: #save fitting results into file\n",
    "    fsb_file = open('data/liu2013_R_fsb-{}.dat'.format(today), 'w')\n",
    "    fsb_file.write(\"{} {} {} {} {} {} {} {}\\n\".format(\n",
    "        'plateifu', 'logR_fsb1', 'logR_fsb1_err', 'logR_fsb2', 'logR_fsb2_err', \\\n",
    "        'logR_fsb2_orig', 'logR_fsb2_orig_err', 'is_limit'))\n",
    "for idx, obj in enumerate(liu2013_obj):\n",
    "    tab_obj = Table.read('data/Liu2013/{}ell.fits'.format(obj))\n",
    "    #plt.semilogy(tab_obj['SMA'] * 0.1, tab_obj['INTENS'])\n",
    "    #psf = liu2013_psf_FWHM[idx]\n",
    "    z = liu2013_z[idx]\n",
    "    sb_corr = (1 + z)**4\n",
    "    arcsec2kpc = cosmo.kpc_comoving_per_arcmin(z).to(u.kpc/u.arcsec)\n",
    "    r = tab_obj['SMA'] * 0.1 \n",
    "    Ip = peak[idx] * 1000\n",
    "    I = tab_obj['INTENS']\n",
    "    I_err = tab_obj['INT_ERR']\n",
    "    I_err[0] = I_err[1]\n",
    "    snr = I / I_err\n",
    "    valid = snr > 5\n",
    "    r = r[valid]\n",
    "    I = I[valid]\n",
    "    #print('-----', np.max(I), Ip)\n",
    "    I = I * Ip / np.max(I) #* sb_corr\n",
    "    #I = I * sb_corr\n",
    "    r_extend = np.linspace(r.min(), 5*r.max(), 5000)\n",
    "    I_extend = np.interp(r_extend, r, I)\n",
    "    R16 = np.max(r_extend[I_extend > SB])\n",
    "    logR16 = np.log10(R16 * arcsec2kpc.value*1000)\n",
    "    print(z, np.max(I), R16*arcsec2kpc.value, logR16, np.min(snr))"
   ]
  },
  {
   "cell_type": "code",
   "execution_count": null,
   "metadata": {
    "ExecuteTime": {
     "end_time": "2019-06-22T00:37:13.466867Z",
     "start_time": "2019-06-22T00:37:12.678779Z"
    }
   },
   "outputs": [],
   "source": [
    "SB = 100\n",
    "\n",
    "for idx, obj in enumerate(['J0149-0048',]):\n",
    "    tab_obj = Table.read('data/Liu2013/{}ell.fits'.format(obj))\n",
    "    #plt.semilogy(tab_obj['SMA'] * 0.1, tab_obj['INTENS'])\n",
    "    #psf = liu2013_psf_FWHM[idx]\n",
    "    z = liu2013_z[idx]\n",
    "    sb_corr = (1 + z)**4\n",
    "    arcsec2kpc = cosmo.kpc_comoving_per_arcmin(z).to(u.kpc/u.arcsec)\n",
    "\n",
    "    r = tab_obj['SMA'] * 0.1 \n",
    "    Ip = peak[idx] * 1000\n",
    "    I = tab_obj['INTENS']\n",
    "    I_err = tab_obj['INT_ERR']\n",
    "    I_err[0] = I_err[1]\n",
    "    snr = I / I_err\n",
    "    valid = snr > 5\n",
    "    r = r[valid]\n",
    "    I = I[valid]\n",
    "    I = I * Ip / np.max(I) * sb_corr\n",
    "    #I = I * sb_corr\n",
    "    r_extend = np.linspace(r.min(), 1.5*r.max(), 5000)\n",
    "    I_extend = np.interp(r_extend, r, I)\n",
    "    R16 = np.max(r_extend[I_extend > SB])\n",
    "    logR16 = np.log10(R16 * arcsec2kpc.value*1000)\n",
    "    print(z, np.max(I), R16, R16*arcsec2kpc.value, logR16)\n",
    "    \n",
    "    if True:\n",
    "        plt.semilogy(r, I/1e4, 'o')\n",
    "        plt.plot(r_extend, I_extend/1e4)\n",
    "        plt.axhline(y=SB/1e4, linestyle='-.', color='r')"
   ]
  },
  {
   "cell_type": "markdown",
   "metadata": {},
   "source": [
    "##### Statistics"
   ]
  },
  {
   "cell_type": "code",
   "execution_count": null,
   "metadata": {
    "ExecuteTime": {
     "end_time": "2019-04-19T03:20:09.171835Z",
     "start_time": "2019-04-19T03:18:24.893209Z"
    },
    "code_folding": [
     0,
     168
    ]
   },
   "outputs": [],
   "source": [
    "# Statistics, signle gaussian modeled psf\n",
    "# History:\n",
    "#    2019-04-09: Follow the same method we used to analyse the data of Liu2013\n",
    "\n",
    "# global value\n",
    "import numpy as np\n",
    "from scipy import optimize, signal\n",
    "from matplotlib import pyplot as plt\n",
    "from astropy.cosmology import LambdaCDM\n",
    "from astropy import units as u\n",
    "import matplotlib.backends.backend_pdf as mpdf\n",
    "\n",
    "def psf_func(r, amplitude=0, mean=0, stddev=0):\n",
    "    return amplitude * np.exp(-(r-mean)**2/(2*stddev**2))\n",
    "\n",
    "def psf_kernel(fwhm, interv=1, data_points=50):\n",
    "    edge = data_points/(2*interv)\n",
    "    r = np.arange(-edge, edge+interv, interv)\n",
    "    sigma = fwhm/2.35482\n",
    "    return np.exp(-r**2/(2*sigma**2))\n",
    "\n",
    "def fmodel_conv(x, r, basemodel, psf_fwhm=None, points=50, scale_factor=1.5):\n",
    "    # used for convolution\n",
    "    r_interp = np.linspace(r.min(), 1.5*r.max(), points)\n",
    "    flux = basemodel(x, r_interp)\n",
    "    psf = psf_kernel(psf_fwhm, r_interp[1]-r_interp[0])\n",
    "    flux_sym = np.array([flux[::-1], flux]).flatten()\n",
    "    flux_conv = signal.fftconvolve(flux_sym, psf, mode='same')/np.sum(psf)\n",
    "    return np.interp(r, r_interp, flux_conv[len(flux_sym)//2:])\n",
    "\n",
    "\n",
    "plot = True\n",
    "save = True\n",
    "SB = 10\n",
    "sample_times = 10\n",
    "quiet = True\n",
    "cosmo = LambdaCDM(70, 0.3, 0.7)\n",
    "\n",
    "excess_num = 0\n",
    "undetect = 0\n",
    "\n",
    "liu2013_obj = np.array(['J0149-0048','J0210-1001','J0319-0019','J0319-0058','J0321+0016','J0759+1339',\n",
    "                     'J0841+2042','J0842+3625','J0858+4417','J1039+4512','J1040+4745','J0224+2750', \\\n",
    "                     'J0807+4946','J1101+4004'])\n",
    "liu2013_z = np.array([0.566, 0.54 , 0.635, 0.626, 0.643, 0.649, 0.641, 0.561, 0.454,\n",
    "                0.579, 0.486, 0.311, 0.575, 0.457])\n",
    "\n",
    "if plot: #plot into file\n",
    "    pdf = mpdf.PdfPages('results/liu2013_checkfit-{}.pdf'.format(today))\n",
    "\n",
    "if save: #save fitting results into file\n",
    "    fsb_file = open('data/liu2013_R_fsb-{}.dat'.format(today), 'w')\n",
    "    fsb_file.write(\"{} {} {} {} {} {} {} {}\\n\".format(\n",
    "        'plateifu', 'logR_fsb1', 'logR_fsb1_err', 'logR_fsb2', 'logR_fsb2_err', \\\n",
    "        'logR_fsb2_orig', 'logR_fsb2_orig_err', 'is_limit'))\n",
    "for idx, obj in enumerate(liu2013_obj):\n",
    "    tab_obj = Table.read('data/Liu2013/{}ell.fits'.format(obj))\n",
    "    plt.semilogy(tab_obj['SMA'] * 0.1, tab_obj['INTENS'])\n",
    "    psf = liu2013_psf_FWHM[idx]\n",
    "    z = liu2013_z[idx]\n",
    "    sb_corr = (1 + z)**4\n",
    "    arcsec2kpc = cosmo.kpc_comoving_per_arcmin(z).to(u.kpc/u.arcsec)\n",
    "\n",
    "    r = tab_obj['SMA'] * 0.1 \n",
    "    I = tab_obj['INTENS']\n",
    "    I_err = tab_obj['INT_ERR']\n",
    "    I_err[0] = I_err[1] # fix the nan\n",
    "    logI = np.log(I)\n",
    "    logI_err = I_err/I\n",
    "\n",
    "    # define the model\n",
    "    baseModel_1 = lambda x, r: np.exp(x[0] - x[1] * r**(1/x[2]))\n",
    "    #baseModel_1 = lambda x, r: np.exp(x[0] + x[1] * r)\n",
    "    \n",
    "    #********* fit without de-convlolution *************#\n",
    "    # initial value and bounds\n",
    "    x0 = (logI.max(), 1, 1)\n",
    "    bounds=((0, np.inf), (0.01, 10), (0.5, 10))\n",
    "    \n",
    "    # used the logscale of y, to optimize the fitting\n",
    "    cost_fun1 = lambda x, r, logy, logy_err: \\\n",
    "                np.sum((np.log(baseModel_1(x, r)) - logy)**2/(logy_err)**2)\n",
    "    res_lsq1 = optimize.minimize(cost_fun1, x0,\n",
    "                                 args=(r+np.random.randn(len(r))*1e-8, logI, logI_err),\n",
    "                                 method='L-BFGS-B', options={'disp':False},\n",
    "                                 jac='2-point', bounds=bounds)\n",
    "    print(res_lsq1.x)\n",
    "    \n",
    "    #*********** fit with de-convolution ****************#\n",
    "    baseModel_2 = lambda x, r: np.exp(x[0] - x[1] * r**(1/x[2])) #+ np.exp(x[3] - x[4] * r**(1/x[5]))\n",
    "    # initial value and bounds\n",
    "    x0_2 = (logI.max(), 1, 1)#, logI.max()/2, 1, 1)\n",
    "    bounds_2=((0, np.inf), (0.01, 10), (0.5, 10))#, (0, np.inf), (0.01, 10), (0.5, 10))\n",
    "    \n",
    "    cost_fun2 = lambda x, r, logy, logy_err, basemodel, psf_fwhm: \\\n",
    "                np.sum((np.log(fmodel_conv(x, r, basemodel, psf_fwhm)) - logy)**2/logy_err**2)\n",
    "    res_lsq2 = optimize.minimize(cost_fun2, x0_2,\n",
    "                                 args=(r, logI, logI_err, baseModel_2, psf), \n",
    "                                 method='L-BFGS-B', options={'disp':False},\n",
    "                                 jac='2-point', bounds=bounds_2)\n",
    "    print(res_lsq2.x)\n",
    "    \n",
    "    if save: # save fitted results into file\n",
    "        r_extend = np.linspace(r.min(), 5*r.max(), 1000) # for smooth plot\n",
    "        gg_fit1 = baseModel_1(res_lsq1.x, r_extend)\n",
    "        gg_fit2 = fmodel_conv(res_lsq2.x, r_extend, baseModel_2, psf)\n",
    "        gg_fit2_orig = baseModel_2(res_lsq2.x, r_extend)\n",
    "        #print(gg_fit1*sb_corr)\n",
    "        R_fsb1 = np.max(r_extend[sb_corr*gg_fit1 > SB])\n",
    "        R_fsb2 = np.max(r_extend[sb_corr*gg_fit2 > SB])\n",
    "        R_fsb2_orig = np.max(r_extend[sb_corr*gg_fit2_orig > SB])\n",
    "        logR_fsb1 = np.log10(R_fsb1 * arcsec2kpc.value*1000)\n",
    "        logR_fsb1_err = .5/R_fsb1/np.log(10)\n",
    "        logR_fsb2 = np.log10(R_fsb2 * arcsec2kpc.value*1000)\n",
    "        logR_fsb2_err = .5/R_fsb2/np.log(10)\n",
    "        logR_fsb2_orig = np.log10(R_fsb2_orig * arcsec2kpc.value*1000)\n",
    "        logR_fsb2_orig_err = .5/R_fsb2_orig/np.log(10)\n",
    "        \n",
    "        if ((np.abs(res_lsq2.x[1] - 10) < 1e-8) or (np.abs(res_lsq2.x[2] - 10) < 1e-8)\n",
    "            or (np.abs(res_lsq2.x[2] - 0.5) < 1e-8)):\n",
    "            is_limit = 1\n",
    "            logR_fsb2_err = .1\n",
    "            logR_fsb2_orig_err = .1\n",
    "        else:\n",
    "            is_limit = 0\n",
    "        #is_limit = 0\n",
    "            \n",
    "        if not is_limit: # resample to get the fitting error\n",
    "            R_list = []\n",
    "            R_orig_list = []\n",
    "            r_extend = np.linspace(r.min(), 2*r.max(), 50)\n",
    "            failed_times = 0\n",
    "            for i in range(sample_times):\n",
    "                logI = np.log(I + I_err*np.random.randn(len(I)))\n",
    "                logI_err = I_err/I\n",
    "                \n",
    "                try:\n",
    "                    res_lsq2 = optimize.minimize(cost_fun2, x0_2,\n",
    "                                                 args=(r, logI, logI_err, baseModel_2, psf), \n",
    "                                                 method='L-BFGS-B', options={'disp':False},\n",
    "                                                 jac='2-point', bounds=bounds_2)\n",
    "                    gg_fit2 = fmodel_conv(res_lsq2.x, r_extend, baseModel_2, psf)\n",
    "                    gg_fit2_orig = baseModel_2(res_lsq2.x, r_extend)\n",
    "                    #print(\"gg_fit2\", gg_fit2)\n",
    "                    R_fsb2 = np.max(r_extend[sb_corr*gg_fit2 > SB])\n",
    "                    logR_fsb2 = np.log10(R_fsb2 * arcsec2kpc.value*1000)\n",
    "                    R_fsb2_orig = np.max(r_extend[sb_corr*gg_fit2_orig > SB])\n",
    "                    logR_fsb2_orig = np.log10(R_fsb2_orig * arcsec2kpc.value*1000)\n",
    "                    \n",
    "                except:\n",
    "                    print(\"Resmaple fitting failed {}th times!\".format(failed_times+1))\n",
    "                    failed_times += 1\n",
    "                    continue\n",
    "                R_list.append(logR_fsb2)\n",
    "                R_orig_list.append(logR_fsb2_orig)\n",
    "\n",
    "                \n",
    "            logR_fsb2 = np.mean(R_list)\n",
    "            logR_fsb2_err += np.std(R_list)\n",
    "            logR_fsb2_orig = np.mean(R_orig_list)\n",
    "            logR_fsb2_orig_err += np.std(R_orig_list)\n",
    "        if not quiet:    \n",
    "            print('{} {:.2f} {:.2f} {:.2f} {:.2f} {}'.format(idx+1, logR_fsb2, logR_fsb2_err, \n",
    "                   logR_fsb2_orig, logR_fsb2_orig_err, is_limit))\n",
    "        fsb_file.write(\"{} {} {} {} {} {} {} {}\\n\".format(\n",
    "            obj, logR_fsb1, logR_fsb1_err, logR_fsb2, logR_fsb2_err, \\\n",
    "            logR_fsb2_orig, logR_fsb2_orig_err, is_limit))\n",
    "    \n",
    "    if plot:\n",
    "        # generate data for plot \n",
    "        r_extend = np.linspace(r.min(), r.max(), 50) # for smooth plot\n",
    "        gauss_psf = psf_func(r_extend, amplitude=I.max(), mean=0, stddev=psf/2.35482)\n",
    "\n",
    "        fig, ax_list = plt.subplots(nrows=1, ncols=2, figsize=(10, 4))\n",
    "\n",
    "        # show the results of without de-convolution\n",
    "        gg_fit1 = baseModel_1(res_lsq1.x, r_extend)\n",
    "        ax = ax_list[0]\n",
    "        ax.set_title('without de-convolution')\n",
    "        ax.semilogy(r, sb_corr * I, 'ko')\n",
    "        ax.errorbar(r, sb_corr * I, yerr=I_err, marker='None', linestyle='None', color='k')\n",
    "        ax.plot(r_extend, sb_corr * gauss_psf, 'k--', label='PSF')\n",
    "        ax.plot(r_extend, sb_corr * gg_fit1, label='single')\n",
    "        ax.legend()\n",
    "        ax.set_ylim(I.min(), 1.2*sb_corr*I.max())\n",
    "\n",
    "        # show the results after convolution\n",
    "        gg_fit2 = fmodel_conv(res_lsq2.x, r_extend, baseModel_2, psf)\n",
    "        gg_fit2_orig = baseModel_2(res_lsq2.x, r_extend)\n",
    "        ax = ax_list[1]\n",
    "        ax.set_title('with de-convolution')\n",
    "        ax.semilogy(r, sb_corr * I, 'ko')\n",
    "        ax.plot(r_extend, sb_corr * gauss_psf, 'k--', label='PSF')\n",
    "        ax.errorbar(r, sb_corr * I, yerr=I_err, marker='None', linestyle='None', color='k')\n",
    "        ax.plot(r_extend, sb_corr * gg_fit2, label='after')\n",
    "        ax.plot(r_extend, sb_corr * gg_fit2_orig, label='before')\n",
    "        ax.set_ylim(I.min(), 2*sb_corr*I.max())\n",
    "        ax.legend()\n",
    "\n",
    "        pdf.savefig(fig)\n",
    "        plt.close(fig)\n",
    "\n",
    "if plot:        \n",
    "    pdf.close()\n",
    "    %matplotlib inline\n",
    "if save:\n",
    "    print(\"save into file {}\".format(fsb_file.name))\n",
    "    fsb_file.close()"
   ]
  },
  {
   "cell_type": "code",
   "execution_count": null,
   "metadata": {
    "ExecuteTime": {
     "end_time": "2019-06-25T10:57:20.536482Z",
     "start_time": "2019-06-25T10:54:04.179490Z"
    },
    "code_folding": []
   },
   "outputs": [],
   "source": [
    "# Statistics, two gaussian modeled psf\n",
    "# History:\n",
    "#    2019-04-09: Follow the same method we used to analyse the data of Liu2013\n",
    "#    2019-06-20: reRun for SB=10(-1), SB=100(-2)\n",
    "\n",
    "# global value\n",
    "import numpy as np\n",
    "from scipy import optimize, signal\n",
    "from matplotlib import pyplot as plt\n",
    "from astropy.cosmology import LambdaCDM\n",
    "from astropy import units as u\n",
    "import matplotlib.backends.backend_pdf as mpdf\n",
    "from astropy.modeling import models, fitting\n",
    "\n",
    "def psf_new(r, params):\n",
    "    # multiple gaussian modeled psf\n",
    "    y = 0\n",
    "    for i in range(0, len(params), 3):\n",
    "        y = y + params[i+0]* np.exp( -(r - params[i+1])**2/(2*params[i+2]**2))\n",
    "    return y\n",
    "\n",
    "def psf_kernel_new(params, interv=1, data_points=200):\n",
    "    edge = data_points/(2*interv)\n",
    "    r = np.arange(0, edge+interv, interv)\n",
    "    y = 0\n",
    "    for i in range(0, len(params), 3):\n",
    "        y = y + params[i+0]* np.exp(-(r - params[i+1])**2/(2*params[i+2]**2))\n",
    "    return y\n",
    "\n",
    "def fmodel_conv(x, r, basemodel, psf_params=None, points=100, scale_factor=1.5):\n",
    "    # used for convolution\n",
    "    r_interp = np.linspace(r.min(), 1.5*r.max(), points)\n",
    "    flux = basemodel(x, r_interp)\n",
    "    psf = psf_kernel_new(psf_params, r_interp[1]-r_interp[0])\n",
    "    psf_sym = np.array([psf[::-1], psf]).flatten()\n",
    "    flux_sym = np.array([flux[::-1], flux]).flatten()\n",
    "    flux_conv = signal.fftconvolve(flux_sym, psf_sym, mode='same')/(np.sum(psf_sym))\n",
    "    return np.interp(r, r_interp, flux_conv[len(flux_sym)//2:])\n",
    "\n",
    "\n",
    "plot = True\n",
    "save = True\n",
    "SB = 100\n",
    "sample_times = 5\n",
    "quiet = True\n",
    "cosmo = LambdaCDM(70, 0.3, 0.7)\n",
    "\n",
    "excess_num = 0\n",
    "undetect = 0\n",
    "\n",
    "liu2013_obj = np.array(['J0149-0048','J0210-1001','J0319-0019','J0319-0058','J0321+0016','J0759+1339',\n",
    "                     'J0841+2042','J0842+3625','J0858+4417','J1039+4512','J1040+4745','J0224+2750', \\\n",
    "                     'J0807+4946','J1101+4004'])\n",
    "liu2013_z = np.array([0.566, 0.54 , 0.635, 0.626, 0.643, 0.649, 0.641, 0.561, 0.454,\n",
    "                0.579, 0.486, 0.311, 0.575, 0.457])\n",
    "liu2013_psf = np.array([3.4,4.0,2.5,3.9,3.7,4.1,3.25,3.15,4.0,3.7,5.0,3.7,3.9,4.3])\n",
    "peak=[1.58,3.19,1.37,1.38,0.96,3.93,6.72,6.13,2.64,5.20,3.31,2.40,2.66,2.36]\n",
    "# for the standard star\n",
    "tab_star = Table.read('data/Liu2013/star_ell.fits')\n",
    "star_r_base = tab_star['SMA'] * 0.1 * 0.145779 / 0.6\n",
    "star_I = tab_star['INTENS']/max(tab_star['INTENS'])\n",
    "\n",
    "if plot: #plot into file\n",
    "    pdf = mpdf.PdfPages('results/liu2013_checkfit-{}-2-{}.pdf'.format(SB, today))\n",
    "\n",
    "if save: #save fitting results into file\n",
    "    fsb_file = open('data/liu2013_R_fsb-{}-{}.dat'.format(SB, today), 'w')\n",
    "    fsb_file.write(\"{} {} {} {} {} {} {} {}\\n\".format(\n",
    "        'plateifu', 'logR_fsb1', 'logR_fsb1_err', 'logR_fsb2', 'logR_fsb2_err', \\\n",
    "        'logR_fsb2_orig', 'logR_fsb2_orig_err', 'is_limit'))\n",
    "for idx, obj in enumerate(liu2013_obj[4:8]):\n",
    "    # get the PSF profile\n",
    "    star_r = star_r_base * liu2013_psf[idx]\n",
    "    g_init = models.Gaussian1D(amplitude=1, mean=0, stddev=0.1) + models.Gaussian1D(amplitude=1, mean=0, stddev=1)\n",
    "    fit_g = fitting.LevMarLSQFitter()\n",
    "    g_star = fit_g(g_init, star_r, star_I)\n",
    "    params = g_star.parameters\n",
    "    \n",
    "    tab_obj = Table.read('data/Liu2013/{}ell.fits'.format(obj))\n",
    "    plt.semilogy(tab_obj['SMA'] * 0.1, tab_obj['INTENS'])\n",
    "    z = liu2013_z[idx]\n",
    "    \n",
    "    sb_corr= (1 + z)**4\n",
    "    arcsec2kpc = cosmo.kpc_comoving_per_arcmin(z).to(u.kpc/u.arcsec)\n",
    "    \n",
    "    # read ellipse isophote data\n",
    "    r = tab_obj['SMA'] * 0.1\n",
    "    I = tab_obj['INTENS']\n",
    "    Ip = peak[idx] * 1000\n",
    "    I_err = tab_obj['INT_ERR']\n",
    "    I_err[0] = I_err[1] # fix the nan\n",
    "    valid = (I/I_err > 5)\n",
    "    r = r[valid]\n",
    "    I = I[valid]\n",
    "    I_err = I_err[valid]\n",
    "    I = I * Ip / np.max(I) #* sb_corr\n",
    "    I_err = I_err * Ip / np.max(I) #* sb_corr\n",
    "    logI = np.log(I)\n",
    "    logI_err = I_err/I\n",
    "    \n",
    "    \n",
    "    # define the model\n",
    "    baseModel_1 = lambda x, r: np.exp(x[0] - x[1] * r**(1/x[2]))\n",
    "    #baseModel_1 = lambda x, r: np.exp(x[0] + x[1] * r)\n",
    "    \n",
    "    #********* fit without de-convlolution *************#\n",
    "    # initial value and bounds\n",
    "    x0 = (logI.max(), 1, 1)\n",
    "    bounds=((0, np.inf), (0.01, 10), (0.5, 10))\n",
    "    \n",
    "    # used the logscale of y, to optimize the fitting\n",
    "    cost_fun1 = lambda x, r, logy, logy_err: \\\n",
    "                np.sum((np.log(baseModel_1(x, r)) - logy)**2/(logy_err)**2)\n",
    "    res_lsq1 = optimize.minimize(cost_fun1, x0,\n",
    "                                 args=(r+np.random.randn(len(r))*1e-8, logI, logI_err),\n",
    "                                 method='L-BFGS-B', options={'disp':False},\n",
    "                                 jac='2-point', bounds=bounds)\n",
    "    print(res_lsq1.x)\n",
    "    \n",
    "    #*********** fit with de-convolution ****************#\n",
    "    baseModel_2 = lambda x, r: np.exp(x[0] - x[1] * r**(1/x[2])) #+ np.exp(x[3] - x[4] * r**(1/x[5]))\n",
    "    # initial value and bounds\n",
    "    x0_2 = (logI.max(), 1, 1)#, logI.max()/2, 1, 1)\n",
    "    bounds_2=((0, np.inf), (0.01, 10), (0.5, 10))#, (0, np.inf), (0.01, 10), (0.5, 10))\n",
    "    \n",
    "    #cost_fun2 = lambda x, r, logy, logy_err, basemodel, psf_params: \\\n",
    "    #            np.sum((np.log(fmodel_conv(x, r, basemodel, psf_params)) - logy)**2/logy_err**2)\n",
    "    cost_fun2 = lambda x, r, logy, logy_err, basemodel, psf_params: \\\n",
    "                np.sum((np.log(fmodel_conv(x, r, basemodel, psf_params)) - logy)**2/((0.1*r)**2+logI_err**2))\n",
    "    \n",
    "    res_lsq2 = optimize.minimize(cost_fun2, x0_2,\n",
    "                                 args=(r, logI, logI_err, baseModel_2, params), \n",
    "                                 method='L-BFGS-B', options={'disp':False},\n",
    "                                 jac='2-point', bounds=bounds_2)\n",
    "    print(res_lsq2.x)\n",
    "    \n",
    "    if save: # save fitted results into file\n",
    "        r_extend = np.linspace(r.min(), 5*r.max(), 1000) # for smooth plot\n",
    "        gg_fit1 = baseModel_1(res_lsq1.x, r_extend)\n",
    "        gg_fit2 = fmodel_conv(res_lsq2.x, r_extend, baseModel_2, params)\n",
    "        gg_fit2_orig = baseModel_2(res_lsq2.x, r_extend)\n",
    "        R_fsb1 = np.max(r_extend[gg_fit1 > SB])\n",
    "        R_fsb2 = np.max(r_extend[gg_fit2 > SB])\n",
    "        R_fsb2_orig = np.max(r_extend[gg_fit2_orig > SB])\n",
    "        logR_fsb1 = np.log10(R_fsb1 * arcsec2kpc.value*1000)\n",
    "        logR_fsb1_err = .5/R_fsb1/np.log(10)\n",
    "        logR_fsb2 = np.log10(R_fsb2 * arcsec2kpc.value*1000)\n",
    "        logR_fsb2_err = .5/R_fsb2/np.log(10)\n",
    "        logR_fsb2_orig = np.log10(R_fsb2_orig * arcsec2kpc.value*1000)\n",
    "        logR_fsb2_orig_err = .5/R_fsb2_orig/np.log(10)\n",
    "        \n",
    "        if ((np.abs(res_lsq2.x[1] - 10) < 1e-8) or (np.abs(res_lsq2.x[2] - 10) < 1e-8)\n",
    "            or (np.abs(res_lsq2.x[2] - 0.5) < 1e-8)):\n",
    "            is_limit = 1\n",
    "            logR_fsb2_err = .1\n",
    "            logR_fsb2_orig_err = .1\n",
    "        else:\n",
    "            is_limit = 0\n",
    "        #is_limit = 0\n",
    "            \n",
    "        if not is_limit: # resample to get the fitting error\n",
    "            R_list = []\n",
    "            R_orig_list = []\n",
    "            #r_extend = np.linspace(r.min(), 5*r.max(), 1000)\n",
    "            failed_times = 0\n",
    "            for i in range(sample_times):\n",
    "                logI = np.log(I + I_err*np.random.randn(len(I)))\n",
    "                logI_err = I_err/I\n",
    "                \n",
    "                try:\n",
    "                    res_lsq2 = optimize.minimize(cost_fun2, x0_2,\n",
    "                                                 args=(r, logI, logI_err, baseModel_2, params), \n",
    "                                                 method='L-BFGS-B', options={'disp':False},\n",
    "                                                 jac='2-point', bounds=bounds_2)\n",
    "                    gg_fit2 = fmodel_conv(res_lsq2.x, r_extend, baseModel_2, params)\n",
    "                    gg_fit2_orig = baseModel_2(res_lsq2.x, r_extend)\n",
    "                    #print(\"gg_fit2\", gg_fit2)\n",
    "                    R_fsb2 = np.max(r_extend[gg_fit2 > SB])\n",
    "                    logR_fsb2 = np.log10(R_fsb2 * arcsec2kpc.value*1000)\n",
    "                    R_fsb2_orig = np.max(r_extend[gg_fit2_orig > SB])\n",
    "                    logR_fsb2_orig = np.log10(R_fsb2_orig * arcsec2kpc.value*1000)\n",
    "                    \n",
    "                except:\n",
    "                    print(\"Resmaple fitting failed {}th times!\".format(failed_times+1))\n",
    "                    failed_times += 1\n",
    "                    continue\n",
    "                R_list.append(logR_fsb2)\n",
    "                R_orig_list.append(logR_fsb2_orig)\n",
    "\n",
    "                \n",
    "            logR_fsb2 = np.mean(R_list)\n",
    "            logR_fsb2_err += np.std(R_list)\n",
    "            logR_fsb2_orig = np.mean(R_orig_list)\n",
    "            logR_fsb2_orig_err += np.std(R_orig_list)\n",
    "        if not quiet:    \n",
    "            print('{} {:.2f} {:.2f} {:.2f} {:.2f} {}'.format(idx+1, logR_fsb2, logR_fsb2_err, \n",
    "                   logR_fsb2_orig, logR_fsb2_orig_err, is_limit))\n",
    "        fsb_file.write(\"{} {} {} {} {} {} {} {}\\n\".format(\n",
    "            obj, logR_fsb1, logR_fsb1_err, logR_fsb2, logR_fsb2_err, \\\n",
    "            logR_fsb2_orig, logR_fsb2_orig_err, is_limit))\n",
    "    \n",
    "    if plot:\n",
    "        # generate data for plot \n",
    "        r_extend = np.linspace(r.min(), 2*r.max(), 50) # for smooth plot\n",
    "        gauss_psf = I.max() * psf_new(r_extend, params)\n",
    "\n",
    "        fig, ax_list = plt.subplots(nrows=1, ncols=2, figsize=(10, 4))\n",
    "        plt.suptitle(\"{}:{}\".format(idx, obj))\n",
    "        # show the results of without de-convolution\n",
    "        gg_fit1 = baseModel_1(res_lsq1.x, r_extend)\n",
    "        ax = ax_list[0]\n",
    "        ax.set_title('without de-convolution')\n",
    "        ax.semilogy(r, I, 'ko')\n",
    "        ax.errorbar(r, I, yerr=I_err, marker='None', linestyle='None', color='k')\n",
    "        ax.plot(r_extend, gauss_psf, 'k--', label='PSF')\n",
    "        ax.plot(r_extend, I.max() * g_star(r_extend), 'r--', label='PSF_fit')\n",
    "        ax.plot(r_extend, gg_fit1, label='single')\n",
    "        ax.axhline(y=SB, linestyle='-.', color='r')\n",
    "        ax.legend()\n",
    "        ax.set_xlim(-0.1, 1.5*np.max(r))\n",
    "        ax.set_ylim(I.min(), 1.2*I.max())\n",
    "\n",
    "        # show the results after convolution\n",
    "        gg_fit2 = fmodel_conv(res_lsq2.x, r_extend, baseModel_2, params)\n",
    "        gg_fit2_orig = baseModel_2(res_lsq2.x, r_extend)\n",
    "        ax = ax_list[1]\n",
    "        ax.set_title('with de-convolution')\n",
    "        ax.semilogy(r, I, 'ko')\n",
    "        ax.plot(r_extend, gauss_psf, 'k--', label='PSF')\n",
    "        ax.errorbar(r, I, yerr=I_err, marker='None', linestyle='None', color='k')\n",
    "        ax.plot(r_extend, gg_fit2, label='after')\n",
    "        ax.plot(r_extend, gg_fit2_orig, label='before')\n",
    "        ax.axhline(y=SB, linestyle='-.', color='r')\n",
    "        ax.set_ylim(I.min(), 1.2*I.max())\n",
    "        ax.set_xlim(-0.1, 1.5*np.max(r))\n",
    "        ax.legend()\n",
    "\n",
    "        pdf.savefig(fig)\n",
    "        plt.close(fig)\n",
    "\n",
    "if plot:        \n",
    "    pdf.close()\n",
    "    %matplotlib inline\n",
    "if save:\n",
    "    print(\"save into file {}\".format(fsb_file.name))\n",
    "    fsb_file.close()"
   ]
  },
  {
   "cell_type": "markdown",
   "metadata": {},
   "source": [
    "#### Liu2013 data"
   ]
  },
  {
   "cell_type": "code",
   "execution_count": 10,
   "metadata": {
    "ExecuteTime": {
     "end_time": "2019-06-25T10:35:27.238164Z",
     "start_time": "2019-06-25T10:35:27.175314Z"
    },
    "scrolled": true
   },
   "outputs": [
    {
     "data": {
      "text/html": [
       "<i>Table length=14</i>\n",
       "<table id=\"table4573266888\" class=\"table-striped table-bordered table-condensed\">\n",
       "<thead><tr><th>plateifu</th><th>logR_fsb1</th><th>logR_fsb1_err</th><th>logR_fsb2</th><th>logR_fsb2_err</th><th>logR_fsb2_orig</th><th>logR_fsb2_orig_err</th><th>is_limit</th></tr></thead>\n",
       "<thead><tr><th>str10</th><th>float64</th><th>float64</th><th>float64</th><th>float64</th><th>float64</th><th>float64</th><th>int64</th></tr></thead>\n",
       "<tr><td>J0149-0048</td><td>4.134035768724026</td><td>0.16240753936430147</td><td>4.2071157361583555</td><td>0.13833557558197548</td><td>3.99893292664954</td><td>0.22510295348212336</td><td>0</td></tr>\n",
       "<tr><td>J0210-1001</td><td>4.352828248391499</td><td>0.09428031690934816</td><td>4.4438737081701</td><td>0.07754533028656863</td><td>4.398737637254477</td><td>0.08597421751059192</td><td>0</td></tr>\n",
       "<tr><td>J0319-0019</td><td>4.077935656918806</td><td>0.20351813773471325</td><td>4.126240336493361</td><td>0.1</td><td>3.9133040200301754</td><td>0.1</td><td>1</td></tr>\n",
       "<tr><td>J0319-0058</td><td>4.214405397861988</td><td>0.1468880346089689</td><td>4.321966382901153</td><td>0.11540431271218685</td><td>4.209874197282</td><td>0.1498220878312741</td><td>0</td></tr>\n",
       "<tr><td>J0321+0016</td><td>4.461180855620099</td><td>0.08508627614634544</td><td>4.590328359854763</td><td>0.06459533434214378</td><td>4.564593419492266</td><td>0.06854461613283308</td><td>0</td></tr>\n",
       "<tr><td>J0759+1339</td><td>4.320183976980057</td><td>0.11862829919881063</td><td>4.497087699357373</td><td>0.0801131475246287</td><td>4.438956295987778</td><td>0.0921517246224021</td><td>0</td></tr>\n",
       "<tr><td>J0841+2042</td><td>4.225533416279552</td><td>0.14601179424717797</td><td>4.347848009061702</td><td>0.1</td><td>4.248463376925791</td><td>0.1</td><td>1</td></tr>\n",
       "<tr><td>J0842+3625</td><td>4.3261122289410245</td><td>0.10357602702487681</td><td>4.3821391944897705</td><td>0.09186365070133114</td><td>4.33942172036372</td><td>0.10127932775645189</td><td>0</td></tr>\n",
       "<tr><td>J0858+4417</td><td>4.169173413514661</td><td>0.12379711621392277</td><td>4.2308303145787525</td><td>0.10741220377384565</td><td>4.058773514505365</td><td>0.16134451412482653</td><td>0</td></tr>\n",
       "<tr><td>J1039+4512</td><td>4.1662568290481925</td><td>0.153720021610252</td><td>4.341362175122223</td><td>0.1</td><td>3.3968795029720544</td><td>0.1</td><td>1</td></tr>\n",
       "<tr><td>J1040+4745</td><td>4.260596473395186</td><td>0.10645544775120552</td><td>4.335368600537756</td><td>0.08961810652525044</td><td>4.238235166455176</td><td>0.11312592534560785</td><td>0</td></tr>\n",
       "<tr><td>J0224+2750</td><td>4.080760779326609</td><td>0.10792541975655436</td><td>4.14365000030904</td><td>0.09437480796441217</td><td>4.0686975545737845</td><td>0.11281104318976125</td><td>0</td></tr>\n",
       "<tr><td>J0807+4946</td><td>4.401869225167832</td><td>0.08883296349108508</td><td>4.553310989472666</td><td>0.06669112107081514</td><td>4.528072113294764</td><td>0.07107040173625398</td><td>0</td></tr>\n",
       "<tr><td>J1101+4004</td><td>4.371341236934927</td><td>0.07817300674258532</td><td>4.65794846762125</td><td>0.042863900907208465</td><td>4.643588506874958</td><td>0.04438048193397139</td><td>0</td></tr>\n",
       "</table>"
      ],
      "text/plain": [
       "<Table length=14>\n",
       " plateifu      logR_fsb1      ...  logR_fsb2_orig_err is_limit\n",
       "  str10         float64       ...       float64        int64  \n",
       "---------- ------------------ ... ------------------- --------\n",
       "J0149-0048  4.134035768724026 ... 0.22510295348212336        0\n",
       "J0210-1001  4.352828248391499 ... 0.08597421751059192        0\n",
       "J0319-0019  4.077935656918806 ...                 0.1        1\n",
       "J0319-0058  4.214405397861988 ...  0.1498220878312741        0\n",
       "J0321+0016  4.461180855620099 ... 0.06854461613283308        0\n",
       "J0759+1339  4.320183976980057 ...  0.0921517246224021        0\n",
       "J0841+2042  4.225533416279552 ...                 0.1        1\n",
       "J0842+3625 4.3261122289410245 ... 0.10127932775645189        0\n",
       "J0858+4417  4.169173413514661 ... 0.16134451412482653        0\n",
       "J1039+4512 4.1662568290481925 ...                 0.1        1\n",
       "J1040+4745  4.260596473395186 ... 0.11312592534560785        0\n",
       "J0224+2750  4.080760779326609 ... 0.11281104318976125        0\n",
       "J0807+4946  4.401869225167832 ... 0.07107040173625398        0\n",
       "J1101+4004  4.371341236934927 ... 0.04438048193397139        0"
      ]
     },
     "execution_count": 10,
     "metadata": {},
     "output_type": "execute_result"
    }
   ],
   "source": [
    "# load the fitting data by our methods\n",
    "SB = 10\n",
    "liu2013 = Table.read('data/Liu2013.txt', format='ascii')\n",
    "liu2013_corr = Table.read('data/liu2013_R_fsb-{}-2019-06-25.dat'.format(SB), format='ascii')\n",
    "liu2013_corr[:]"
   ]
  },
  {
   "cell_type": "code",
   "execution_count": 11,
   "metadata": {
    "ExecuteTime": {
     "end_time": "2019-06-25T10:35:32.166380Z",
     "start_time": "2019-06-25T10:35:31.845895Z"
    },
    "scrolled": true
   },
   "outputs": [
    {
     "data": {
      "image/png": "[encoded data removed]",
      "text/plain": [
       "<Figure size 432x288 with 1 Axes>"
      ]
     },
     "metadata": {
      "needs_background": "light"
     },
     "output_type": "display_data"
    }
   ],
   "source": [
    "liu13_L = liu2013['L_OIII'].data\n",
    "liu13_L_err = np.full_like(liu13_L, 0.3/np.log(10)) # 30% uncertainty for type2 AGNs\n",
    "liu13_r = liu2013_corr['logR_fsb2_orig'].data \n",
    "liu13_r_err = liu2013_corr['logR_fsb2_orig_err'].data + 0.2/np.log(10)\n",
    "\n",
    "liu13_islimit = liu2013_corr['is_limit'].data == 1\n",
    "liu13_islimit = np.array([0, 0, 0, 0, 0, 1, 1, 0, 0, 1, 1, 0, 1, 1], dtype=bool) | liu13_islimit\n",
    "liu13_r[liu13_islimit] = liu2013_corr['logR_fsb1'].data[liu13_islimit]\n",
    "\n",
    "if True:\n",
    "    plt.errorbar(liu13_L, liu13_r, xerr=liu13_L_err, yerr=liu13_r_err, marker='o', ls='None', \n",
    "                 uplims=liu13_islimit)"
   ]
  },
  {
   "cell_type": "markdown",
   "metadata": {},
   "source": [
    "### Liu2014 "
   ]
  },
  {
   "cell_type": "code",
   "execution_count": null,
   "metadata": {
    "ExecuteTime": {
     "end_time": "2019-06-29T12:18:18.459227Z",
     "start_time": "2019-06-29T12:18:18.399459Z"
    }
   },
   "outputs": [],
   "source": [
    "liu2014 = Table.read('data/Liu2014.txt', format='ascii')\n",
    "liu2014[:4]"
   ]
  },
  {
   "cell_type": "code",
   "execution_count": null,
   "metadata": {
    "ExecuteTime": {
     "end_time": "2019-06-21T07:20:28.821386Z",
     "start_time": "2019-06-21T07:20:28.774317Z"
    }
   },
   "outputs": [],
   "source": [
    "liu2014['z'].data"
   ]
  },
  {
   "cell_type": "code",
   "execution_count": null,
   "metadata": {
    "ExecuteTime": {
     "end_time": "2019-06-29T12:18:26.083787Z",
     "start_time": "2019-06-29T12:18:25.737346Z"
    },
    "scrolled": true
   },
   "outputs": [],
   "source": [
    "liu14_L = liu2014['L_OIII'].data\n",
    "liu14_L_err = np.full_like(liu14_L, 0.1/np.log(10)) # 10% uncertainty for type1 AGNs\n",
    "liu14_r = np.log10(liu2014['R_int'].data * 1000)\n",
    "liu14_r_err = np.full_like(liu14_r, 0.2/np.log(10))\n",
    "liu14_islimit = np.full(liu14_r.shape, False)\n",
    "#liu14_L = liu14_L.tolist()\n",
    "#liu14_r = liu14_r.tolist()\n",
    "#liu14_r_err = liu14_r_err.tolist()\n",
    "\n",
    "if True:\n",
    "    plt.errorbar(liu14_L, liu14_r, xerr=liu14_L_err, yerr=liu14_r_err, marker='o', ls='None')"
   ]
  },
  {
   "cell_type": "code",
   "execution_count": null,
   "metadata": {
    "ExecuteTime": {
     "end_time": "2019-06-21T07:20:44.623693Z",
     "start_time": "2019-06-21T07:20:42.208290Z"
    }
   },
   "outputs": [],
   "source": [
    "from astropy.io import fits\n",
    "from scipy.ndimage import binary_closing, binary_opening\n",
    "from matplotlib import colors\n",
    "from photutils.isophote import Ellipse, EllipseSample\n",
    "from photutils.isophote import EllipseGeometry\n",
    "from astropy.convolution import Gaussian2DKernel, interpolate_replace_nans\n",
    "from photutils import EllipticalAperture\n",
    "\n",
    "# get the PSF profile from the standard star\n",
    "hdu_star = fits.open('data/Liu2014/star.fits')\n",
    "flux_star = hdu_star[0].data\n",
    "\n",
    "x0 = np.arange(0, flux_star.shape[1])\n",
    "y0 = np.arange(0, flux_star.shape[0])\n",
    "\n",
    "sma, eps, pa = 5., 0.1, 0\n",
    "geometry = EllipseGeometry(x0=x0.mean(), y0=y0.mean(), sma=sma, eps=eps, pa=pa)\n",
    "ellipse = Ellipse(flux_star, geometry, threshold=0.01)\n",
    "isolist = ellipse.fit_image(linear=True, step=0.1)#, sclip=2., nclip=3)\n",
    "\n",
    "## Save to file\n",
    "if True:\n",
    "    hdr = fits.Header()\n",
    "    hdr['AUTHOR'] = 'Jianhang Chen'\n",
    "    hdr['DATE'] = '{}'.format(today)\n",
    "    hdr['COMMENT'] = \"Ellipse fittting of the standard star from Liu 2014\"\n",
    "\n",
    "    c1 = fits.Column(name='SMA', array=isolist.sma, format='D') # double float\n",
    "    c2 = fits.Column(name='INTENS', array=isolist.intens, format='D') # doubel float\n",
    "    c3 = fits.Column(name='INT_ERR', array=isolist.int_err, format='D') # double float\n",
    "    bintable_hdu = fits.BinTableHDU.from_columns([c1, c2, c3], \n",
    "                                                 name=obj, header=hdr)\n",
    "    #hdus = fits.HDUList([hdr_bin])\n",
    "    bintable_hdu.writeto('data/Liu2014/star_ell.fits', overwrite=True)"
   ]
  },
  {
   "cell_type": "code",
   "execution_count": null,
   "metadata": {
    "ExecuteTime": {
     "end_time": "2019-06-21T07:20:46.411636Z",
     "start_time": "2019-06-21T07:20:46.056443Z"
    }
   },
   "outputs": [],
   "source": [
    "liustar_2014 = Table.read('data/Liu2014/star_ell.fits')\n",
    "#liustar_2014\n",
    "#plt.plot(isolist.sma, isolist.intens)\n",
    "plt.plot(liustar_2014['SMA'], liustar_2014['INTENS'], 'ko')"
   ]
  },
  {
   "cell_type": "code",
   "execution_count": null,
   "metadata": {
    "ExecuteTime": {
     "end_time": "2019-06-21T07:20:48.966415Z",
     "start_time": "2019-06-21T07:20:48.821940Z"
    },
    "code_folding": [
     0
    ]
   },
   "outputs": [],
   "source": [
    "if True:#liu2013_psf:\n",
    "    x = liustar_2014['SMA'] * 0.1 * psf * 0.145779 / 0.6\n",
    "    y = tab_star['INTENS']/max(tab_star['INTENS'])\n",
    "    g_init1 = models.Gaussian1D(amplitude=1, mean=0, stddev=0.1)\n",
    "    g_init2 = models.Gaussian1D(amplitude=1, mean=0, stddev=0.1) + models.Gaussian1D(amplitude=0.1, mean=0, stddev=1)\n",
    "    fit_g1 = fitting.LevMarLSQFitter()\n",
    "    fit_g2 = fitting.LevMarLSQFitter()\n",
    "    g1 = fit_g1(g_init1, x, y)\n",
    "    g2 = fit_g1(g_init2, x, y)\n",
    "    #print(g1.parameters)\n",
    "    #print(g.stddev.value * 2.355 )\n",
    "    #liu2013_psf_FWHM.append(g.stddev_1.value * 2.35482)\n",
    "if 1:\n",
    "    plt.figure()\n",
    "    plt.semilogy(x, y, 'ko')\n",
    "    #plt.plot(x, psf_new(x, g.parameters), 'r', lw=4)\n",
    "    plt.plot(x, g1(x), label='One Gaussian')\n",
    "    plt.plot(x, g2(x), label='Two Gaussian')\n",
    "    plt.ylim(0.01, 1.1)\n",
    "    plt.legend()"
   ]
  },
  {
   "cell_type": "code",
   "execution_count": null,
   "metadata": {
    "ExecuteTime": {
     "end_time": "2019-06-21T07:21:10.224628Z",
     "start_time": "2019-06-21T07:21:10.105474Z"
    }
   },
   "outputs": [],
   "source": [
    "# take JJ0149-0048 as an example\n",
    "from astropy.modeling import models, fitting\n",
    "\n",
    "liu2014_psf = np.array([2.9,3.2,3.95,2.7,3.5,3.3,4.1,4.3,3.3,4.8,3.7,3.1])\n",
    "liu2014_psf_FWHM = []\n",
    "\n",
    "#plt.semilogy(tab_star['SMA'] * 0.1 * 3.4 * 0.145779 / 0.6, tab_star['INTENS']/max(tab_star['INTENS']), ':')\n",
    "for psf in liu2014_psf:\n",
    "    x = isolist.sma * 0.1 * psf * 0.1456 / 0.508\n",
    "    y = isolist.intens/max(isolist.intens)\n",
    "    g_init = models.Gaussian1D(amplitude=1, mean=0, stddev=0.1)\n",
    "    fit_g = fitting.LevMarLSQFitter()\n",
    "    g = fit_g(g_init, x, y)\n",
    "    #print(g.stddev.value * 2.355 )\n",
    "    liu2014_psf_FWHM.append(g.stddev.value * 2.35482)\n",
    "if 0:\n",
    "    plt.figure()\n",
    "    plt.semilogy(x, y, 'ko')\n",
    "    plt.plot(x, g(x), label='model')\n",
    "    plt.ylim(0.01, 1.1)\n",
    "print(liu2014_psf_FWHM)"
   ]
  },
  {
   "cell_type": "code",
   "execution_count": null,
   "metadata": {
    "ExecuteTime": {
     "end_time": "2019-04-17T08:07:47.145228Z",
     "start_time": "2019-04-17T08:07:46.822883Z"
    }
   },
   "outputs": [],
   "source": [
    "aper = EllipticalAperture((geometry.x0, geometry.y0), geometry.sma,\n",
    "                           geometry.sma*(1 - geometry.eps),\n",
    "                           geometry.pa)\n",
    "plt.imshow(flux_star, origin='lower')\n",
    "aper.plot(color='white')"
   ]
  },
  {
   "cell_type": "code",
   "execution_count": null,
   "metadata": {},
   "outputs": [],
   "source": [
    "tab_obj = Table.read('data/Liu2014/{}.fits'.format('J0304'))\n",
    "r = tab_obj['SMA'] * 0.1 \n",
    "I = tab_obj['INTENS']\n",
    "I_err = tab_obj['INT_ERR']\n",
    "plt.semilogy(r, I, 'ko')\n",
    "plt.errorbar(r, I, yerr=I_err)\n",
    "#print(I/I_err)"
   ]
  },
  {
   "cell_type": "code",
   "execution_count": null,
   "metadata": {
    "ExecuteTime": {
     "end_time": "2019-06-22T01:37:49.091646Z",
     "start_time": "2019-06-22T01:37:47.323917Z"
    },
    "scrolled": true
   },
   "outputs": [],
   "source": [
    "# reproduce the results of Liu2014\n",
    "\n",
    "cosmo = LambdaCDM(71, 0.27, 0.73)\n",
    "SB = 100\n",
    "\n",
    "liu2014_obj = np.array(['J0233','J0304','J0311','J0412','J0753','J0809','J0847','J0909','J0924','J0935',\n",
    "                        'J1144','J2214'])\n",
    "liu2014_z = np.array([0.4538, 0.6385, 0.633 , 0.5492, 0.4938, 0.6527, 0.5662, 0.5749, 0.5884, 0.6864, \n",
    "                      0.6785, 0.4752])\n",
    "liu2014_pk = np.array([2.45, 0.85, 1.03, 9.51, 0.72, 1.39, 0.44, 0.93, 1.39, 0.63, 0.87, 1.74])\n",
    "for idx, obj in enumerate(liu2014_obj[:]):\n",
    "    psf = liu2014_psf_FWHM[idx]\n",
    "    z = liu2014_z[idx]\n",
    "    sb_corr = (1 + z)**4\n",
    "    arcsec2kpc = cosmo.kpc_comoving_per_arcmin(z).to(u.kpc/u.arcsec)\n",
    "    tab_obj = Table.read('data/Liu2014/dat/{}/o3lp.fits'.format(obj))\n",
    "    #plt.semilogy(tab_obj['SMA'] * 0.1, tab_obj['INTENS'])\n",
    "    r = tab_obj['SMA'] * 0.1\n",
    "    I = tab_obj['INTENS'] * 1e3\n",
    "    I_pk = liu2014_pk[idx] * 1e3\n",
    "    I_err = tab_obj['INT_ERR']\n",
    "    I_err[0] = I_err[1] # fix the nan\n",
    "    valid = (I/I_err > 5)\n",
    "    r = r[valid]\n",
    "    I = I[valid]\n",
    "    I_err = I_err[valid] #* sb_corr\n",
    "    I = I * I_pk / np.max(I)\n",
    "    r_extend = np.linspace(r.min(), 5*r.max(), 5000)\n",
    "    I_extend = np.interp(r_extend, r, I)\n",
    "    R15 = np.max(r_extend[I_extend > SB])\n",
    "    logR15 = np.log10(R15 * arcsec2kpc.value*1000)\n",
    "    print(z, np.max(I), R15*arcsec2kpc.value, logR15, np.min(snr))\n",
    "    #print(max(I))"
   ]
  },
  {
   "cell_type": "code",
   "execution_count": null,
   "metadata": {
    "ExecuteTime": {
     "end_time": "2019-04-18T12:22:57.766149Z",
     "start_time": "2019-04-18T12:22:57.160803Z"
    }
   },
   "outputs": [],
   "source": [
    "cosmo = LambdaCDM(71, 0.27, 0.73)\n",
    "SB = 10\n",
    "\n",
    "liu2014_obj = np.array(['J0233','J0304','J0311','J0412','J0753','J0809','J0847','J0909','J0924','J0935',\n",
    "                        'J1144','J2214'])\n",
    "liu2014_z = np.array([0.4538, 0.6385, 0.633 , 0.5492, 0.4938, 0.6527, 0.5662, 0.5749, 0.5884, 0.6864, \n",
    "                      0.6785, 0.4752])\n",
    "for idx, obj in enumerate(['J0304']):#liu2014_obj[:]):\n",
    "    psf = liu2014_psf_FWHM[idx]\n",
    "    z = liu2014_z[idx]\n",
    "    sb_corr = (1 + z)**4\n",
    "    with fits.open('data/Liu2014/dat/{}/nonpar/flx.fits'.format(obj)) as hdu:\n",
    "        flux = hdu[0].data\n",
    "    #LO3 = np.log10(O3_agn*1e-17/u.cm**2*4*np.pi*(m.d**2).to(u.cm**2))\n",
    "    #plt.imshow(flux, vmax=10)\n",
    "    plt.imshow(flux, norm=colors.LogNorm(vmin=0.1, vmax=2), cmap='Oranges', origin='low')\n",
    "    plt.colorbar()"
   ]
  },
  {
   "cell_type": "markdown",
   "metadata": {},
   "source": [
    "#### Ellipse fitting"
   ]
  },
  {
   "cell_type": "code",
   "execution_count": null,
   "metadata": {
    "ExecuteTime": {
     "end_time": "2019-04-17T09:15:30.127497Z",
     "start_time": "2019-04-17T09:14:35.249248Z"
    },
    "scrolled": false
   },
   "outputs": [],
   "source": [
    "from astropy.io import fits\n",
    "from scipy.ndimage import binary_closing, binary_opening\n",
    "from matplotlib import colors\n",
    "from photutils.isophote import Ellipse, EllipseSample\n",
    "from photutils.isophote import EllipseGeometry\n",
    "from astropy.convolution import Gaussian2DKernel, interpolate_replace_nans\n",
    "from photutils import EllipticalAperture\n",
    "\n",
    "quiet = True\n",
    "hdr = fits.Header()\n",
    "hdr['AUTHOR'] = 'Jianhang Chen'\n",
    "hdr['DATE'] = '{}'.format(today)\n",
    "hdr['COMMENT'] = \"Ellipse fittting of the [OIII] surface brightness isophote for the unobscured QSOs from Liu 2014\"\n",
    "primary_hdu = fits.PrimaryHDU(header=hdr)\n",
    "\n",
    "hdu_list = [primary_hdu]\n",
    "\n",
    "liu2014_obj = ['J0233','J0304','J0311','J0412','J0753','J0809','J0847','J0909','J0924','J0935','J1144','J2214']\n",
    "for obj in liu2014_obj: #['J0233','J0304']:#\n",
    "    print(obj, '-----------------------')\n",
    "    with fits.open('data/Liu2014/dat/{}/nonpar/flx.fits'.format(obj)) as hdu:\n",
    "        flux = hdu[0].data\n",
    "\n",
    "    x0 = np.arange(0, flux.shape[1])\n",
    "    y0 = np.arange(0, flux.shape[0])\n",
    "\n",
    "    fitted = 0\n",
    "    if 1: # auto just the paremeter\n",
    "        for sma in np.arange(5, 2, -0.3):\n",
    "            for eps in np.arange(0.2, 1., 0.3):\n",
    "                for pa in np.arange(0, np.pi, 0.5):\n",
    "                    print(\"Parameter:\", sma, eps, pa)\n",
    "                    geometry = EllipseGeometry(x0=x0.mean(), y0=y0.mean(), sma=sma, eps=eps, pa=pa)\n",
    "                    ellipse = Ellipse(flux, geometry, threshold=0.01)\n",
    "                    #try: # some may failed to fit\n",
    "                    isolist = ellipse.fit_image(linear=True, step=0.1)#, sclip=2., nclip=3)\n",
    "                    #except:\n",
    "                    #    # continue\n",
    "                    #    print(\"len(intens):\", len(isolist.intens))\n",
    "                    if len(isolist.intens) > 5:\n",
    "                        fitted = True\n",
    "                        init = [sma, eps, pa]\n",
    "                        break\n",
    "                if fitted:\n",
    "                    break\n",
    "            if fitted:\n",
    "                break\n",
    "        if not fitted:\n",
    "            if not quiet:\n",
    "                print(\"auto fit failed\")\n",
    "        hdr_bin = fits.Header()\n",
    "        c1 = fits.Column(name='sma', array=isolist.sma, format='D') # double float\n",
    "        c2 = fits.Column(name='intens', array=isolist.intens, format='D') # doubel float\n",
    "        c3 = fits.Column(name='int_err', array=isolist.int_err, format='D') # double float\n",
    "        bintable_hdu = fits.BinTableHDU.from_columns([c1, c2, c3], \n",
    "                                                     name=obj, header=hdr_bin)\n",
    "        hdu_list.append(bintable_hdu)\n",
    "    if 0:\n",
    "        sma, eps, pa = 5., 0.5, 1.6\n",
    "        geometry = EllipseGeometry(x0=x0.mean(), y0=y0.mean(), sma=sma, eps=eps, pa=pa)\n",
    "        ellipse = Ellipse(flux, geometry, threshold=0.01)\n",
    "        isolist = ellipse.fit_image(linear=True, step=0.1)#, sclip=2., nclip=3)\n",
    "    plt.figure()\n",
    "    #plt.semilogy(isolist.sma, isolist.intens, 'ko')\n",
    "    plt.errorbar(isolist.sma, isolist.intens, yerr=isolist.int_err, marker='.', linestyle='None')\n",
    "    \n",
    "hdus = fits.HDUList(hdu_list)\n",
    "hdus.writeto('data/Liu2014_EllispeFitting-{}.fits'.format(today), overwrite=True)\n",
    "print('Done! Write into file data/Liu2014_EllipseFitting-{}.fits'.format(today))"
   ]
  },
  {
   "cell_type": "code",
   "execution_count": null,
   "metadata": {
    "ExecuteTime": {
     "end_time": "2019-04-17T07:01:50.279894Z",
     "start_time": "2019-04-17T07:01:49.962411Z"
    }
   },
   "outputs": [],
   "source": [
    "aper = EllipticalAperture((geometry.x0, geometry.y0), geometry.sma,\n",
    "                           geometry.sma*(1 - geometry.eps),\n",
    "                           geometry.pa)\n",
    "plt.imshow(flux, origin='lower')\n",
    "aper.plot(color='white')"
   ]
  },
  {
   "cell_type": "code",
   "execution_count": null,
   "metadata": {
    "ExecuteTime": {
     "end_time": "2019-04-17T09:12:53.472254Z",
     "start_time": "2019-04-17T09:12:53.117182Z"
    },
    "scrolled": true
   },
   "outputs": [],
   "source": [
    "#plt.plot(isolist.sma, isolist.intens, 'ko')\n",
    "plt.errorbar(isolist.sma, isolist.intens, yerr=isolist.int_err, marker='.', linestyle='None')"
   ]
  },
  {
   "cell_type": "code",
   "execution_count": null,
   "metadata": {
    "ExecuteTime": {
     "end_time": "2019-04-17T09:08:28.378603Z",
     "start_time": "2019-04-17T09:08:27.949009Z"
    }
   },
   "outputs": [],
   "source": [
    "hdu = fits.open('data/Liu2014_EllispeFitting-2019-04-17.fits')\n",
    "tab_tmp = hdu[2].data\n",
    "plt.errorbar(tab_tmp['SMA'], tab_tmp['INTENS'], yerr=tab_tmp['INT_ERR'], marker='.', linestyle='None')"
   ]
  },
  {
   "cell_type": "code",
   "execution_count": null,
   "metadata": {
    "ExecuteTime": {
     "end_time": "2019-04-17T09:08:36.514743Z",
     "start_time": "2019-04-17T09:08:36.030191Z"
    }
   },
   "outputs": [],
   "source": [
    "liu_lp = Table.read('data/Liu2014/dat/J0304/o3lp.fits')\n",
    "#plt.plot(liu_lp['SMA'], liu_lp['INTENS'], 'ko')\n",
    "plt.errorbar(liu_lp['SMA'], liu_lp['INTENS'], yerr=liu_lp['INT_ERR'], marker='.', linestyle='None')"
   ]
  },
  {
   "cell_type": "markdown",
   "metadata": {},
   "source": [
    "#### fit the sersic"
   ]
  },
  {
   "cell_type": "code",
   "execution_count": null,
   "metadata": {
    "ExecuteTime": {
     "end_time": "2019-04-18T12:37:59.108805Z",
     "start_time": "2019-04-18T12:32:52.120451Z"
    },
    "code_folding": [
     0,
     58,
     124,
     191
    ]
   },
   "outputs": [],
   "source": [
    "# Statistics, One Gaussian PSF\n",
    "# History:\n",
    "#    2019-04-10: Follow the same method we used to analyse the data of Liu2014\n",
    "\n",
    "# global value\n",
    "import numpy as np\n",
    "from scipy import optimize, signal\n",
    "from matplotlib import pyplot as plt\n",
    "from astropy.cosmology import LambdaCDM\n",
    "from astropy import units as u\n",
    "import matplotlib.backends.backend_pdf as mpdf\n",
    "\n",
    "def psf_func(r, amplitude=0, mean=0, stddev=0):\n",
    "    return amplitude * np.exp(-(r-mean)**2/(2*stddev**2))\n",
    "\n",
    "def psf_kernel(fwhm, interv=1, data_points=50):\n",
    "    edge = data_points/(2*interv)\n",
    "    r = np.arange(-edge, edge+interv, interv)\n",
    "    sigma = fwhm/2.35482\n",
    "    return np.exp(-r**2/(2*sigma**2))\n",
    "\n",
    "def fmodel_conv(x, r, basemodel, psf_fwhm=None, points=50, scale_factor=1.5):\n",
    "    # used for convolution\n",
    "    r_interp = np.linspace(r.min(), 1.5*r.max(), points)\n",
    "    flux = basemodel(x, r_interp)\n",
    "    psf = psf_kernel(psf_fwhm, r_interp[1]-r_interp[0])\n",
    "    flux_sym = np.array([flux[::-1], flux]).flatten()\n",
    "    flux_conv = signal.fftconvolve(flux_sym, psf, mode='same')/np.sum(psf)\n",
    "    return np.interp(r, r_interp, flux_conv[len(flux_sym)//2:])\n",
    "\n",
    "\n",
    "plot = True\n",
    "save = False\n",
    "SB = 10\n",
    "sample_times = 5\n",
    "quiet = True\n",
    "cosmo = LambdaCDM(70, 0.3, 0.7)\n",
    "\n",
    "excess_num = 0\n",
    "undetect = 0\n",
    "\n",
    "liu2014_obj = np.array(['J0233','J0304','J0311','J0412','J0753','J0809','J0847','J0909','J0924','J0935',\n",
    "                        'J1144','J2214'])\n",
    "liu2014_dec = np.array(['-0743','+0022','-0707','-0511','+3153','+0743','+2940','+3459','+0642','+5348',\n",
    "                        '+1043','+2115'])\n",
    "liu2014_z = np.array([0.4538, 0.6385, 0.633 , 0.5492, 0.4938, 0.6527, 0.5662, 0.5749, 0.5884, 0.6864, \n",
    "                      0.6785, 0.4752])\n",
    "peak = np.array([2.45, 0.85, 1.03, 9.51, 0.72, 1.39, 0.44, 0.93, 1.39, 0.63, 0.87, 1.74])\n",
    "\n",
    "\n",
    "if plot: #plot into file\n",
    "    pdf = mpdf.PdfPages('results/liu2014_checkfit-{}.pdf'.format(today))\n",
    "\n",
    "if save: #save fitting results into file\n",
    "    fsb_file = open('data/liu2014_R_fsb-{}.dat'.format(today), 'w')\n",
    "    fsb_file.write(\"{} {} {} {} {} {} {} {}\\n\".format(\n",
    "        'plateifu', 'logR_fsb1', 'logR_fsb1_err', 'logR_fsb2', 'logR_fsb2_err', \\\n",
    "        'logR_fsb2_orig', 'logR_fsb2_orig_err', 'is_limit'))\n",
    "for idx, obj in enumerate(liu2014_obj[:]):\n",
    "    psf = liu2014_psf_FWHM[idx]\n",
    "    z = liu2014_z[idx]\n",
    "    sb_corr = (1 + z)**4\n",
    "    arcsec2kpc = cosmo.kpc_comoving_per_arcmin(z).to(u.kpc/u.arcsec)\n",
    "    if 0:\n",
    "        tab_obj = Table.read('data/Liu2014/dat/{}/o3lp.fits'.format(obj))\n",
    "        #plt.semilogy(tab_obj['SMA'] * 0.1, tab_obj['INTENS'])\n",
    "        r = tab_obj['SMA'] * 0.1 \n",
    "        I = tab_obj['INTENS']\n",
    "        I_err = tab_obj['INT_ERR']\n",
    "        I_err[0] = I_err[1] # fix the nan\n",
    "        valid = (I/I_err > 5)\n",
    "        r = r[valid]\n",
    "        I = I[valid]\n",
    "        I_err = I_err[valid]\n",
    "        logI = np.log(I)\n",
    "        logI_err = I_err/I\n",
    "        \n",
    "    if 1:\n",
    "        with fits.open('data/Liu2014_EllispeFitting-2019-04-17.fits') as f:\n",
    "            data = f[obj].data\n",
    "            # ignore the first point\n",
    "            r = data['sma'] * 0.1\n",
    "            I = data['intens'] * 1e3\n",
    "            I_err = data['int_err']\n",
    "            I_err[0] = I_err[1] \n",
    "            valid = (I > 0.1) & (I/I_err > 5)\n",
    "            r = r[valid]\n",
    "            I = I[valid]\n",
    "            print('I min:', I.min())\n",
    "            I_err = I_err[valid]\n",
    "            logI = np.log(I)\n",
    "            logI_err = I_err/I\n",
    "    # define the model\n",
    "    baseModel_1 = lambda x, r: np.exp(x[0] - x[1] * r**(1/x[2]))\n",
    "    #baseModel_1 = lambda x, r: np.exp(x[0] + x[1] * r)\n",
    "    \n",
    "    #********* fit without de-convlolution *************#\n",
    "    # initial value and bounds\n",
    "    x0 = (logI.max(), 1, 1)\n",
    "    bounds=((0, np.inf), (0.01, 10), (0.5, 10))\n",
    "    \n",
    "    # used the logscale of y, to optimize the fitting\n",
    "    cost_fun1 = lambda x, r, logy, logy_err: \\\n",
    "                np.sum((np.log(baseModel_1(x, r)) - logy)**2/(logy_err)**2)\n",
    "    res_lsq1 = optimize.minimize(cost_fun1, x0,\n",
    "                                 args=(r, logI, logI_err),\n",
    "                                 method='L-BFGS-B', options={'disp':False},\n",
    "                                 jac='2-point', bounds=bounds)\n",
    "    print(res_lsq1.x)\n",
    "    \n",
    "    #*********** fit with de-convolution ****************#\n",
    "    baseModel_2 = lambda x, r: np.exp(x[0] - x[1] * r**(1/x[2])) #+ np.exp(x[3] - x[4] * r**(1/x[5]))\n",
    "    # initial value and bounds\n",
    "    x0_2 = (logI.max(), 1, 1)#, logI.max()/2, 1, 1)\n",
    "    bounds_2=((0, np.inf), (0.01, 10), (0.5, 10))#, (0, np.inf), (0.01, 10), (0.5, 10))\n",
    "    \n",
    "    cost_fun2 = lambda x, r, logy, logy_err, basemodel, psf_fwhm: \\\n",
    "                np.sum((np.log(fmodel_conv(x, r, basemodel, psf_fwhm)) - logy)**2/logy_err**2)\n",
    "    res_lsq2 = optimize.minimize(cost_fun2, x0_2,\n",
    "                                 args=(r, logI, logI_err, baseModel_2, psf), \n",
    "                                 method='L-BFGS-B', options={'disp':False},\n",
    "                                 jac='2-point', bounds=bounds_2)\n",
    "    print(res_lsq2.x)\n",
    "    \n",
    "    if save: # save fitted results into file\n",
    "        r_extend = np.linspace(r.min(), r.max(), 50) # for smooth plot\n",
    "        gg_fit1 = baseModel_1(res_lsq1.x, r_extend)\n",
    "        gg_fit2 = fmodel_conv(res_lsq2.x, r_extend, baseModel_2, psf)\n",
    "        gg_fit2_orig = baseModel_2(res_lsq2.x, r_extend)\n",
    "        #print(gg_fit1*sb_corr)\n",
    "        R_fsb1 = np.max(r_extend[sb_corr*gg_fit1 > SB])\n",
    "        R_fsb2 = np.max(r_extend[sb_corr*gg_fit2 > SB])\n",
    "        R_fsb2_orig = np.max(r_extend[sb_corr*gg_fit2_orig > SB])\n",
    "        logR_fsb1 = np.log10(R_fsb1 * arcsec2kpc.value*1000)\n",
    "        logR_fsb1_err = .5/R_fsb1/np.log(10)\n",
    "        logR_fsb2 = np.log10(R_fsb2 * arcsec2kpc.value*1000)\n",
    "        logR_fsb2_err = .5/R_fsb2/np.log(10)\n",
    "        logR_fsb2_orig = np.log10(R_fsb2_orig * arcsec2kpc.value*1000)\n",
    "        logR_fsb2_orig_err = .5/R_fsb2_orig/np.log(10)\n",
    "        \n",
    "        #if ((np.abs(res_lsq2.x[1] - 10) < 1e-8) or (np.abs(res_lsq2.x[2] - 10) < 1e-8)\n",
    "        #    or (np.abs(res_lsq2.x[2] - 0.5) < 1e-8)):\n",
    "        #    is_limit = 1\n",
    "        #    logR_fsb2_err = .1\n",
    "        #    logR_fsb2_orig_err = .1\n",
    "        #else:\n",
    "        #    is_limit = 0\n",
    "        is_limit = 0\n",
    "        \n",
    "            \n",
    "        if not is_limit: # resample to get the fitting error\n",
    "            R_list = []\n",
    "            R_orig_list = []\n",
    "            r_extend = np.linspace(r.min(), r.max(), 50)\n",
    "            failed_times = 0\n",
    "            for i in range(sample_times):\n",
    "                logI = np.log(I + I_err*np.random.randn(len(I)))\n",
    "                logI_err = I_err/I\n",
    "                \n",
    "                try:\n",
    "                    res_lsq2 = optimize.minimize(cost_fun2, x0_2,\n",
    "                                                 args=(r, logI, logI_err, baseModel_2, psf), \n",
    "                                                 method='L-BFGS-B', options={'disp':False},\n",
    "                                                 jac='2-point', bounds=bounds_2)\n",
    "                    gg_fit2 = fmodel_conv(res_lsq2.x, r_extend, baseModel_2, psf)\n",
    "                    gg_fit2_orig = baseModel_2(res_lsq2.x, r_extend)\n",
    "                    #print(\"gg_fit2\", gg_fit2)\n",
    "                    R_fsb2 = np.max(r_extend[sb_corr*gg_fit2 > SB])\n",
    "                    logR_fsb2 = np.log10(R_fsb2 * arcsec2kpc.value*1000)\n",
    "                    R_fsb2_orig = np.max(r_extend[sb_corr*gg_fit2_orig > SB])\n",
    "                    logR_fsb2_orig = np.log10(R_fsb2_orig * arcsec2kpc.value*1000)\n",
    "                    \n",
    "                except:\n",
    "                    print(\"Resmaple fitting failed {}th times!\".format(failed_times+1))\n",
    "                    failed_times += 1\n",
    "                    continue\n",
    "                R_list.append(logR_fsb2)\n",
    "                R_orig_list.append(logR_fsb2_orig)\n",
    "\n",
    "                \n",
    "            logR_fsb2 = np.mean(R_list)\n",
    "            logR_fsb2_err += np.std(R_list)\n",
    "            logR_fsb2_orig = np.mean(R_orig_list)\n",
    "            logR_fsb2_orig_err += np.std(R_orig_list)\n",
    "        if not quiet:    \n",
    "            print('{} {:.2f} {:.2f} {:.2f} {:.2f} {}'.format(idx+1, logR_fsb2, logR_fsb2_err, \n",
    "                   logR_fsb2_orig, logR_fsb2_orig_err, is_limit))\n",
    "        fsb_file.write(\"{} {} {} {} {} {} {} {}\\n\".format(\n",
    "            obj, logR_fsb1, logR_fsb1_err, logR_fsb2, logR_fsb2_err, \\\n",
    "            logR_fsb2_orig, logR_fsb2_orig_err, is_limit))\n",
    "    \n",
    "    if plot:\n",
    "        # generate data for plot \n",
    "        r_extend = np.linspace(r.min(), 2*r.max(), 50) # for smooth plot\n",
    "        gauss_psf = psf_func(r_extend, amplitude=I.max(), mean=0, stddev=psf/2.35482)\n",
    "\n",
    "        fig, ax_list = plt.subplots(nrows=1, ncols=2, figsize=(10, 4))\n",
    "\n",
    "        # show the results of without de-convolution\n",
    "        gg_fit1 = baseModel_1(res_lsq1.x, r_extend)\n",
    "        ax = ax_list[0]\n",
    "        ax.set_title('without de-convolution')\n",
    "        ax.semilogy(r, sb_corr * I, 'ko')\n",
    "        ax.errorbar(r, sb_corr * I, yerr=I_err, marker='None', linestyle='None', color='k')\n",
    "        ax.plot(r_extend, sb_corr * gauss_psf, 'k--', label='PSF')\n",
    "        ax.plot(r_extend, sb_corr * gg_fit1, label='single')\n",
    "        ax.legend()\n",
    "        ax.set_ylim(I.min(), 1.2*sb_corr*I.max())\n",
    "\n",
    "        # show the results after convolution\n",
    "        gg_fit2 = fmodel_conv(res_lsq2.x, r_extend, baseModel_2, psf)\n",
    "        gg_fit2_orig = baseModel_2(res_lsq2.x, r_extend)\n",
    "        ax = ax_list[1]\n",
    "        ax.set_title('with de-convolution')\n",
    "        ax.semilogy(r, sb_corr * I, 'ko')\n",
    "        ax.plot(r_extend, sb_corr * gauss_psf, 'k--', label='PSF')\n",
    "        ax.errorbar(r, sb_corr * I, yerr=I_err, marker='None', linestyle='None', color='k')\n",
    "        ax.plot(r_extend, sb_corr * gg_fit2, label='after')\n",
    "        ax.plot(r_extend, sb_corr * gg_fit2_orig, label='before')\n",
    "        ax.set_ylim(I.min(), 2*sb_corr*I.max())\n",
    "        ax.legend()\n",
    "\n",
    "        pdf.savefig(fig)\n",
    "        plt.close(fig)\n",
    "\n",
    "if plot:\n",
    "    pdf.close()\n",
    "    %matplotlib inline\n",
    "if save:\n",
    "    print(\"save into file {}\".format(fsb_file.name))\n",
    "    fsb_file.close()"
   ]
  },
  {
   "cell_type": "code",
   "execution_count": null,
   "metadata": {
    "ExecuteTime": {
     "end_time": "2019-06-25T09:08:27.134022Z",
     "start_time": "2019-06-25T09:07:07.326939Z"
    },
    "code_folding": [],
    "scrolled": true
   },
   "outputs": [],
   "source": [
    "# Statistics, two gaussian modeled psf\n",
    "# History:\n",
    "#    2019-04-09: Follow the same method we used to analyse the data of Liu2014\n",
    "\n",
    "# global value\n",
    "import numpy as np\n",
    "from scipy import optimize, signal\n",
    "from matplotlib import pyplot as plt\n",
    "from astropy.cosmology import LambdaCDM\n",
    "from astropy import units as u\n",
    "import matplotlib.backends.backend_pdf as mpdf\n",
    "from astropy.modeling import models, fitting\n",
    "\n",
    "def psf_new(r, params):\n",
    "    # multiple gaussian modeled psf\n",
    "    y = 0\n",
    "    for i in range(0, len(params), 3):\n",
    "        y = y + params[i+0]* np.exp( -(r - params[i+1])**2/(2*params[i+2]**2))\n",
    "    return y\n",
    "\n",
    "def psf_kernel_new(params, interv=1, data_points=200):\n",
    "    edge = data_points/(2*interv)\n",
    "    r = np.arange(0, edge+interv, interv)\n",
    "    y = 0\n",
    "    for i in range(0, len(params), 3):\n",
    "        y = y + params[i+0]* np.exp(-(r - params[i+1])**2/(2*params[i+2]**2))\n",
    "    return y\n",
    "\n",
    "def fmodel_conv(x, r, basemodel, psf_params=None, points=50, scale_factor=1.5):\n",
    "    # used for convolution\n",
    "    r_interp = np.linspace(r.min(), 1.5*r.max(), points)\n",
    "    flux = basemodel(x, r_interp)\n",
    "    psf = psf_kernel_new(psf_params, r_interp[1]-r_interp[0])\n",
    "    psf_sym = np.array([psf[::-1], psf]).flatten()\n",
    "    flux_sym = np.array([flux[::-1], flux]).flatten()\n",
    "    flux_conv = signal.fftconvolve(flux_sym, psf_sym, mode='same')/(np.sum(psf_sym))\n",
    "    return np.interp(r, r_interp, flux_conv[len(flux_sym)//2:])\n",
    "\n",
    "\n",
    "plot = True\n",
    "save = True\n",
    "SB = 100\n",
    "sample_times = 10\n",
    "quiet = True\n",
    "cosmo = LambdaCDM(70, 0.3, 0.7)\n",
    "\n",
    "excess_num = 0\n",
    "undetect = 0\n",
    "\n",
    "liu2014_obj = np.array(['J0233','J0304','J0311','J0412','J0753','J0809','J0847','J0909','J0924','J0935',\n",
    "                        'J1144','J2214'])\n",
    "liu2014_dec = np.array(['-0743','+0022','-0707','-0511','+3153','+0743','+2940','+3459','+0642','+5348',\n",
    "                        '+1043','+2115'])\n",
    "liu2014_psf = np.array([2.9,3.2,3.95,2.7,3.5,3.3,4.1,4.3,3.3,4.8,3.7,3.1])\n",
    "liu2014_z = np.array([0.4538, 0.6385, 0.633 , 0.5492, 0.4938, 0.6527, 0.5662, 0.5749, 0.5884, 0.6864, \n",
    "                      0.6785, 0.4752])\n",
    "peak = np.array([2.45, 0.85, 1.03, 9.51, 0.72, 1.39, 0.44, 0.93, 1.39, 0.63, 0.87, 1.74])\n",
    "\n",
    "# for the standard star\n",
    "tab_star = Table.read('data/Liu2014/star_ell.fits')\n",
    "star_r_base = tab_star['SMA'] * 0.1 * 0.1456 / 0.508\n",
    "star_I = tab_star['INTENS']/max(tab_star['INTENS'])\n",
    "\n",
    "if plot: #plot into file\n",
    "    pdf = mpdf.PdfPages('results/liu2014_checkfit-{}-{}.pdf'.format(SB, today))\n",
    "\n",
    "if save: #save fitting results into file\n",
    "    fsb_file = open('data/liu2014_R_fsb-{}-{}.dat'.format(SB, today), 'w')\n",
    "    fsb_file.write(\"{} {} {} {} {} {} {} {}\\n\".format(\n",
    "        'plateifu', 'logR_fsb1', 'logR_fsb1_err', 'logR_fsb2', 'logR_fsb2_err', \\\n",
    "        'logR_fsb2_orig', 'logR_fsb2_orig_err', 'is_limit'))\n",
    "for idx, obj in enumerate(liu2014_obj):\n",
    "    # get the PSF profile\n",
    "    star_r = star_r_base * liu2014_psf[idx]\n",
    "    g_init = models.Gaussian1D(amplitude=1, mean=0, stddev=0.1) + models.Gaussian1D(amplitude=1, mean=0, stddev=1)\n",
    "    fit_g = fitting.LevMarLSQFitter()\n",
    "    g_star = fit_g(g_init, star_r, star_I)\n",
    "    params = g_star.parameters\n",
    "    \n",
    "    # ready for fitting\n",
    "    z = liu2014_z[idx]\n",
    "    sb_corr = (1 + z)**4\n",
    "    Ip = peak[idx] * 1000\n",
    "    arcsec2kpc = cosmo.kpc_comoving_per_arcmin(z).to(u.kpc/u.arcsec)\n",
    "    \n",
    "    # read ellipse isophote data\n",
    "    if 1:\n",
    "        tab_obj = Table.read('data/Liu2014/dat/{}/o3lp.fits'.format(obj))\n",
    "        #plt.semilogy(tab_obj['SMA'] * 0.1, tab_obj['INTENS'])\n",
    "        r = tab_obj['SMA'] * 0.1 \n",
    "        I = tab_obj['INTENS'] * 1e3\n",
    "        I_err = tab_obj['INT_ERR'] * 1e3\n",
    "        I_err[0] = I_err[1] # fix the nan\n",
    "        valid = (I/I_err > 5)\n",
    "        r = r[valid]\n",
    "        I = I[valid]\n",
    "        I_err = I_err[valid]\n",
    "        I = I / np.max(I) * Ip\n",
    "        I_err = I_err / np.max(I) * Ip\n",
    "        logI = np.log(I)\n",
    "        logI_err = I_err/I\n",
    "        \n",
    "    if 0:\n",
    "        with fits.open('data/Liu2014_EllispeFitting-2019-04-17.fits') as f:\n",
    "            data = f[obj].data\n",
    "            # ignore the first point\n",
    "            r = data['sma'] * 0.1\n",
    "            I = data['intens'] * 1e3\n",
    "            I_err = data['int_err']\n",
    "            I_err[0] = I_err[1] \n",
    "            valid = (I/I_err > 5)\n",
    "            r = r[valid]\n",
    "            I = I[valid]\n",
    "            I_err = I_err[valid]\n",
    "            #print('I min:', I.min())\n",
    "            I = I * Ip / np.max(I) #* sb_corr\n",
    "            I_err = I_err * Ip / np.max(I) #* sb_corr\n",
    "            logI = np.log(I)\n",
    "            logI_err = I_err/I\n",
    "\n",
    "    # define the model\n",
    "    baseModel_1 = lambda x, r: np.exp(x[0] - x[1] * r**(1/x[2]))\n",
    "    #baseModel_1 = lambda x, r: np.exp(x[0] + x[1] * r)\n",
    "    \n",
    "    #********* fit without de-convlolution *************#\n",
    "    # initial value and bounds\n",
    "    x0 = (logI.max(), 1, 1)\n",
    "    bounds=((0, np.inf), (0.01, 10), (0.5, 10))\n",
    "    \n",
    "    # used the logscale of y, to optimize the fitting\n",
    "    cost_fun1 = lambda x, r, logy, logy_err: \\\n",
    "                np.sum((np.log(baseModel_1(x, r)) - logy)**2/(logy_err)**2)\n",
    "    res_lsq1 = optimize.minimize(cost_fun1, x0,\n",
    "                                 args=(r+np.random.randn(len(r))*1e-8, logI, logI_err),\n",
    "                                 method='L-BFGS-B', options={'disp':False},\n",
    "                                 jac='2-point', bounds=bounds)\n",
    "    print(res_lsq1.x)\n",
    "    \n",
    "    #*********** fit with de-convolution ****************#\n",
    "    baseModel_2 = lambda x, r: np.exp(x[0] - x[1] * r**(1/x[2])) #+ np.exp(x[3] - x[4] * r**(1/x[5]))\n",
    "    # initial value and bounds\n",
    "    x0_2 = (logI.max(), 1, 1)#, logI.max()/2, 1, 1)\n",
    "    bounds_2=((0, np.inf), (0.01, 10), (0.5, 10))#, (0, np.inf), (0.01, 10), (0.5, 10))\n",
    "    \n",
    "    cost_fun2 = lambda x, r, logy, logy_err, basemodel, psf_params: \\\n",
    "                np.sum((np.log(fmodel_conv(x, r, basemodel, psf_params)) - logy)**2/logy_err**2)\n",
    "    res_lsq2 = optimize.minimize(cost_fun2, x0_2,\n",
    "                                 args=(r, logI, logI_err, baseModel_2, params), \n",
    "                                 method='L-BFGS-B', options={'disp':False},\n",
    "                                 jac='2-point', bounds=bounds_2)\n",
    "    print(res_lsq2.x)\n",
    "    \n",
    "    if save: # save fitted results into file\n",
    "        print(r.min(), r.max())\n",
    "        r_extend = np.linspace(0, 2*r.max(), 1000) # for smooth plot\n",
    "        gg_fit1 = baseModel_1(res_lsq1.x, r_extend)\n",
    "        gg_fit2 = fmodel_conv(res_lsq2.x, r_extend, baseModel_2, params)\n",
    "        gg_fit2_orig = baseModel_2(res_lsq2.x, r_extend)\n",
    "        #print(gg_fit2_orig)\n",
    "        R_fsb1 = np.max(r_extend[gg_fit1 > SB])\n",
    "        R_fsb2 = np.max(r_extend[gg_fit2 > SB])\n",
    "        R_fsb2_orig = np.max(r_extend[gg_fit2_orig > SB])\n",
    "        logR_fsb1 = np.log10(R_fsb1 * arcsec2kpc.value*1000)\n",
    "        logR_fsb1_err = .5/R_fsb1/np.log(10)\n",
    "        logR_fsb2 = np.log10(R_fsb2 * arcsec2kpc.value*1000)\n",
    "        logR_fsb2_err = .5/R_fsb2/np.log(10)\n",
    "        logR_fsb2_orig = np.log10(R_fsb2_orig * arcsec2kpc.value*1000)\n",
    "        logR_fsb2_orig_err = .5/R_fsb2_orig/np.log(10)\n",
    "        \n",
    "        if ((np.abs(res_lsq2.x[1] - 10) < 1e-8) or (np.abs(res_lsq2.x[2] - 10) < 1e-8)\n",
    "            or (np.abs(res_lsq2.x[2] - 0.5) < 1e-8)):\n",
    "            is_limit = 1\n",
    "            logR_fsb2_err = .1\n",
    "            logR_fsb2_orig_err = .1\n",
    "        else:\n",
    "            is_limit = 0\n",
    "        #is_limit = 0\n",
    "            \n",
    "        if not is_limit: # resample to get the fitting error\n",
    "            R_list = []\n",
    "            R_orig_list = []\n",
    "            failed_times = 0\n",
    "            for i in range(sample_times):\n",
    "                logI = np.log(I + I_err*np.random.randn(len(I)))\n",
    "                logI_err = I_err/I\n",
    "                \n",
    "                try:\n",
    "                    res_lsq2 = optimize.minimize(cost_fun2, x0_2,\n",
    "                                                 args=(r, logI, logI_err, baseModel_2, params), \n",
    "                                                 method='L-BFGS-B', options={'disp':False},\n",
    "                                                 jac='2-point', bounds=bounds_2)\n",
    "                    gg_fit2 = fmodel_conv(res_lsq2.x, r_extend, baseModel_2, params)\n",
    "                    gg_fit2_orig = baseModel_2(res_lsq2.x, r_extend)\n",
    "                    #print(\"gg_fit2\", gg_fit2)\n",
    "                    R_fsb2 = np.max(r_extend[gg_fit2 > SB])\n",
    "                    logR_fsb2 = np.log10(R_fsb2 * arcsec2kpc.value*1000)\n",
    "                    R_fsb2_orig = np.max(r_extend[gg_fit2_orig > SB])\n",
    "                    logR_fsb2_orig = np.log10(R_fsb2_orig * arcsec2kpc.value*1000)\n",
    "                    \n",
    "                except:\n",
    "                    print(\"Resmaple fitting failed {}th times!\".format(failed_times+1))\n",
    "                    failed_times += 1\n",
    "                    continue\n",
    "                if np.isfinite(logR_fsb2) & np.isfinite(logR_fsb2_orig):\n",
    "                    R_list.append(logR_fsb2)\n",
    "                    R_orig_list.append(logR_fsb2_orig)\n",
    "\n",
    "                \n",
    "            logR_fsb2 = np.mean(R_list)\n",
    "            logR_fsb2_err += np.std(R_list)\n",
    "            logR_fsb2_orig = np.mean(R_orig_list)\n",
    "            \n",
    "            logR_fsb2_orig_err += np.std(R_orig_list)\n",
    "        if not quiet:    \n",
    "            print('{} {:.2f} {:.2f} {:.2f} {:.2f} {}'.format(idx+1, logR_fsb2, logR_fsb2_err, \n",
    "                   logR_fsb2_orig, logR_fsb2_orig_err, is_limit))\n",
    "        fsb_file.write(\"{} {} {} {} {} {} {} {}\\n\".format(\n",
    "            obj, logR_fsb1, logR_fsb1_err, logR_fsb2, logR_fsb2_err, \\\n",
    "            logR_fsb2_orig, logR_fsb2_orig_err, is_limit))\n",
    "    \n",
    "    if plot:\n",
    "        # generate data for plot \n",
    "        r_extend = np.linspace(r.min(), 2*r.max(), 100) # for smooth plot\n",
    "        gauss_psf = I.max() * psf_new(r_extend, params)\n",
    "\n",
    "        fig, ax_list = plt.subplots(nrows=1, ncols=2, figsize=(10, 4))\n",
    "\n",
    "        # show the results of without de-convolution\n",
    "        gg_fit1 = baseModel_1(res_lsq1.x, r_extend)\n",
    "        ax = ax_list[0]\n",
    "        ax.set_title('without de-convolution')\n",
    "        ax.semilogy(r, I, 'ko')\n",
    "        ax.errorbar(r, I, yerr=I_err, marker='None', linestyle='None', color='k')\n",
    "        ax.plot(r_extend, gauss_psf, 'k--', label='PSF')\n",
    "        ax.plot(r_extend, I.max() * g_star(r_extend), 'r--', label='PSF_fit')\n",
    "        ax.plot(r_extend, gg_fit1, label='single')\n",
    "        ax.axhline(y=SB, linestyle='-.', color='r')\n",
    "        ax.legend()\n",
    "        ax.set_xlim(-0.1, 1.5*np.max(r))\n",
    "        ax.set_ylim(I.min(), 1.2*I.max())\n",
    "\n",
    "        # show the results after convolution\n",
    "        gg_fit2 = fmodel_conv(res_lsq2.x, r_extend, baseModel_2, params)\n",
    "        gg_fit2_orig = baseModel_2(res_lsq2.x, r_extend)\n",
    "        ax = ax_list[1]\n",
    "        ax.set_title('with de-convolution')\n",
    "        ax.semilogy(r, I, 'ko')\n",
    "        ax.plot(r_extend, gauss_psf, 'k--', label='PSF')\n",
    "        ax.errorbar(r, I, yerr=I_err, marker='None', linestyle='None', color='k')\n",
    "        ax.plot(r_extend, gg_fit2, label='after')\n",
    "        ax.plot(r_extend, gg_fit2_orig, label='before')\n",
    "        ax.axhline(y=SB, linestyle='-.', color='r')\n",
    "        ax.set_ylim(I.min(), 1.2*I.max())\n",
    "        #ax.set_xlim(-0.1, 2.5)\n",
    "        ax.set_xlim(-0.1, 1.5*np.max(r))\n",
    "        ax.legend()\n",
    "\n",
    "        pdf.savefig(fig)\n",
    "        plt.close(fig)\n",
    "\n",
    "if plot:        \n",
    "    pdf.close()\n",
    "    %matplotlib inline\n",
    "if save:\n",
    "    print(\"save into file {}\".format(fsb_file.name))\n",
    "    fsb_file.close()"
   ]
  },
  {
   "cell_type": "markdown",
   "metadata": {},
   "source": [
    "#### Liu2014 (read products)"
   ]
  },
  {
   "cell_type": "code",
   "execution_count": 12,
   "metadata": {
    "ExecuteTime": {
     "end_time": "2019-06-25T10:35:48.335472Z",
     "start_time": "2019-06-25T10:35:48.271509Z"
    }
   },
   "outputs": [
    {
     "data": {
      "text/html": [
       "<i>Table length=12</i>\n",
       "<table id=\"table4571475136\" class=\"table-striped table-bordered table-condensed\">\n",
       "<thead><tr><th>plateifu</th><th>logR_fsb1</th><th>logR_fsb1_err</th><th>logR_fsb2</th><th>logR_fsb2_err</th><th>logR_fsb2_orig</th><th>logR_fsb2_orig_err</th><th>is_limit</th></tr></thead>\n",
       "<thead><tr><th>str5</th><th>float64</th><th>float64</th><th>float64</th><th>float64</th><th>float64</th><th>float64</th><th>int64</th></tr></thead>\n",
       "<tr><td>J0233</td><td>4.2551442746963835</td><td>0.10152462243312725</td><td>4.227468010841585</td><td>0.11445527820689559</td><td>4.145301586869734</td><td>0.1414138072074556</td><td>0</td></tr>\n",
       "<tr><td>J0304</td><td>4.19485028366854</td><td>0.15619471602210255</td><td>4.188240591565526</td><td>0.1633355143292515</td><td>3.0208879090059124</td><td>1.2217092334712567</td><td>0</td></tr>\n",
       "<tr><td>J0311</td><td>4.228149693292181</td><td>0.14363257944947339</td><td>4.249060687654164</td><td>0.1</td><td>3.0839648128999455</td><td>0.1</td><td>1</td></tr>\n",
       "<tr><td>J0412</td><td>4.319041546402161</td><td>0.10338867323882946</td><td>4.319943146842246</td><td>0.12171434917828262</td><td>4.17976245554546</td><td>0.22951571068479987</td><td>0</td></tr>\n",
       "<tr><td>J0753</td><td>4.099441236241367</td><td>0.15643500859224518</td><td>4.099441236241367</td><td>0.1</td><td>2.712496611870792</td><td>0.1</td><td>1</td></tr>\n",
       "<tr><td>J0809</td><td>4.307491068652712</td><td>0.12272055638786424</td><td>4.328780499847715</td><td>0.122318695040765</td><td>4.178248189626842</td><td>0.17857035293990553</td><td>0</td></tr>\n",
       "<tr><td>J0847</td><td>4.227759420953734</td><td>0.1309220028990893</td><td>4.201600649698587</td><td>0.15264434219593856</td><td>4.007347005649098</td><td>0.3338566116521454</td><td>0</td></tr>\n",
       "<tr><td>J0909</td><td>4.269703322801755</td><td>0.12041377901215249</td><td>4.287828534078099</td><td>0.11910463234166453</td><td>4.137849537700544</td><td>0.17090094770299225</td><td>0</td></tr>\n",
       "<tr><td>J0924</td><td>4.173368465468519</td><td>0.15329058630898398</td><td>4.241871310084831</td><td>0.1</td><td>2.573485393394831</td><td>0.1</td><td>1</td></tr>\n",
       "<tr><td>J0935</td><td>4.318506203596342</td><td>0.12468762738245098</td><td>4.326973543754663</td><td>0.13252478906148238</td><td>4.0718309272568005</td><td>0.3860329333883644</td><td>0</td></tr>\n",
       "<tr><td>J1144</td><td>4.383166330049999</td><td>0.10642900855127375</td><td>4.39775089776318</td><td>0.12503079651888782</td><td>4.3107925255274075</td><td>0.16408172359923887</td><td>0</td></tr>\n",
       "<tr><td>J2214</td><td>4.120050049309084</td><td>0.14427957305059713</td><td>4.135289611372324</td><td>0.14243070396199656</td><td>3.4969851670269247</td><td>0.7134565432319058</td><td>0</td></tr>\n",
       "</table>"
      ],
      "text/plain": [
       "<Table length=12>\n",
       "plateifu     logR_fsb1         logR_fsb1_err    ...  logR_fsb2_orig_err is_limit\n",
       "  str5        float64             float64       ...       float64        int64  \n",
       "-------- ------------------ ------------------- ... ------------------- --------\n",
       "   J0233 4.2551442746963835 0.10152462243312725 ...  0.1414138072074556        0\n",
       "   J0304   4.19485028366854 0.15619471602210255 ...  1.2217092334712567        0\n",
       "   J0311  4.228149693292181 0.14363257944947339 ...                 0.1        1\n",
       "   J0412  4.319041546402161 0.10338867323882946 ... 0.22951571068479987        0\n",
       "   J0753  4.099441236241367 0.15643500859224518 ...                 0.1        1\n",
       "   J0809  4.307491068652712 0.12272055638786424 ... 0.17857035293990553        0\n",
       "   J0847  4.227759420953734  0.1309220028990893 ...  0.3338566116521454        0\n",
       "   J0909  4.269703322801755 0.12041377901215249 ... 0.17090094770299225        0\n",
       "   J0924  4.173368465468519 0.15329058630898398 ...                 0.1        1\n",
       "   J0935  4.318506203596342 0.12468762738245098 ...  0.3860329333883644        0\n",
       "   J1144  4.383166330049999 0.10642900855127375 ... 0.16408172359923887        0\n",
       "   J2214  4.120050049309084 0.14427957305059713 ...  0.7134565432319058        0"
      ]
     },
     "execution_count": 12,
     "metadata": {},
     "output_type": "execute_result"
    }
   ],
   "source": [
    "SB = 10 # surface brightness\n",
    "liu2014 = Table.read('data/Liu2014.txt', format='ascii')\n",
    "liu2014_corr = Table.read('data/liu2014_R_fsb-{}-2019-06-25.dat'.format(SB), format='ascii')\n",
    "liu2014_islimit = liu2014_corr['is_limit'].data == 1\n",
    "#liu2013[:2]\n",
    "liu2014_corr[:]"
   ]
  },
  {
   "cell_type": "code",
   "execution_count": 13,
   "metadata": {
    "ExecuteTime": {
     "end_time": "2019-06-25T10:35:51.273559Z",
     "start_time": "2019-06-25T10:35:50.911004Z"
    },
    "scrolled": true
   },
   "outputs": [
    {
     "data": {
      "image/png": "[encoded data removed]",
      "text/plain": [
       "<Figure size 432x288 with 1 Axes>"
      ]
     },
     "metadata": {
      "needs_background": "light"
     },
     "output_type": "display_data"
    }
   ],
   "source": [
    "liu14_L = liu2014['L_OIII'].data\n",
    "liu14_L_err = np.full_like(liu14_L, 0.3/np.log(10)) # 30% uncertainty for type2 AGNs\n",
    "\n",
    "liu14_r = liu2014_corr['logR_fsb2_orig'].data\n",
    "#liu14_valid = (liu14_r > 0)\n",
    "liu14_r_err = liu2014_corr['logR_fsb2_orig_err'].data + 0.2/np.log(10)\n",
    "liu14_islimit = liu2014_corr['is_limit'].data == 1\n",
    "liu14_islimit = np.array([0, 1, 1, 1, 0, 0, 0, 0, 0, 0, 1, 0], dtype=bool) | liu14_islimit\n",
    "liu14_r[liu14_islimit] = liu2014_corr['logR_fsb1'].data[liu14_islimit]\n",
    "liu14_r_err[liu14_islimit] = 0.2\n",
    "#liu14_L = liu14_L[liu14_valid]\n",
    "#liu14_L_err = liu14_L_err[liu14_valid]\n",
    "#liu14_r = liu14_r[liu14_valid]\n",
    "#liu14_r_err = liu14_r_err[liu14_valid]\n",
    "\n",
    "if True:\n",
    "    plt.errorbar(liu14_L, liu14_r, xerr=liu14_L_err, yerr=liu14_r_err, marker='o', ls='None',\n",
    "                 uplims=liu14_islimit)"
   ]
  },
  {
   "cell_type": "code",
   "execution_count": null,
   "metadata": {
    "ExecuteTime": {
     "end_time": "2019-06-21T08:45:08.451544Z",
     "start_time": "2019-06-21T08:45:08.401902Z"
    }
   },
   "outputs": [],
   "source": [
    "liu14_islimit"
   ]
  },
  {
   "cell_type": "code",
   "execution_count": null,
   "metadata": {
    "ExecuteTime": {
     "end_time": "2019-06-21T08:45:05.877924Z",
     "start_time": "2019-06-21T08:45:05.823652Z"
    }
   },
   "outputs": [],
   "source": [
    "liu14_islimit = np.array([0, 1, 1, 1, 0, 0, 0, 0, 0, 0, 1, 0], dtype=bool)"
   ]
  },
  {
   "cell_type": "markdown",
   "metadata": {},
   "source": [
    "### Law2018"
   ]
  },
  {
   "cell_type": "code",
   "execution_count": 14,
   "metadata": {
    "ExecuteTime": {
     "end_time": "2019-06-21T07:34:42.365515Z",
     "start_time": "2019-06-21T07:34:41.954490Z"
    }
   },
   "outputs": [
    {
     "data": {
      "text/plain": [
       "<ErrorbarContainer object of 3 artists>"
      ]
     },
     "execution_count": 14,
     "metadata": {},
     "output_type": "execute_result"
    },
    {
     "data": {
      "image/png": "[encoded data removed]",
      "text/plain": [
       "<Figure size 432x288 with 1 Axes>"
      ]
     },
     "metadata": {
      "needs_background": "light"
     },
     "output_type": "display_data"
    }
   ],
   "source": [
    "law18_L = np.array([43.58, 43.60, 43.90, 43.23, 43.00, 42.78, 42.60])\n",
    "law18_r = np.array([4.41, 3.73, 4.47, 4.06, 4.29, 3.88, 3.97])\n",
    "law18_islimit = np.array([0, 0, 0, 1, 0, 1, 1])\n",
    "\n",
    "plt.errorbar(law18_L, law18_r, uplims=law18_islimit, linestyle='None', marker='o')"
   ]
  },
  {
   "cell_type": "markdown",
   "metadata": {},
   "source": [
    "### This work"
   ]
  },
  {
   "cell_type": "code",
   "execution_count": 15,
   "metadata": {
    "ExecuteTime": {
     "end_time": "2019-06-30T05:26:46.253446Z",
     "start_time": "2019-06-30T05:26:45.781256Z"
    }
   },
   "outputs": [],
   "source": [
    "SB = 10\n",
    "this_Ldata = Table.read('data/LO3-2019-06-25.dat', format=\"ascii\")\n",
    "#this_Rdata = Table.read('data/R_fsb-2019-04-29.dat', format='ascii')\n",
    "this_Rdata = Table.read('data/R_fsb-({})-2019-06-19.dat'.format(SB), format='ascii')\n"
   ]
  },
  {
   "cell_type": "code",
   "execution_count": 16,
   "metadata": {
    "ExecuteTime": {
     "end_time": "2019-06-30T05:26:50.431243Z",
     "start_time": "2019-06-30T05:26:49.987671Z"
    },
    "scrolled": true
   },
   "outputs": [
    {
     "name": "stderr",
     "output_type": "stream",
     "text": [
      "/Users/cjhang/.local/miniconda3/envs/astro/lib/python3.7/site-packages/ipykernel_launcher.py:19: RuntimeWarning: invalid value encountered in less\n"
     ]
    },
    {
     "data": {
      "image/png": "[encoded data removed]",
      "text/plain": [
       "<Figure size 432x288 with 1 Axes>"
      ]
     },
     "metadata": {
      "needs_background": "light"
     },
     "output_type": "display_data"
    }
   ],
   "source": [
    "this_L = this_Ldata['LO3_redcorr'].data\n",
    "this_L_err = 0.5 * (this_Ldata['LO3_redcorr_err_up'].data + this_Ldata['LO3_redcorr_err_low'].data)\n",
    "\n",
    "this_r = this_Rdata['logR_fsb2_orig'].data\n",
    "this_r_err = this_Rdata['logR_fsb2_orig_err'].data\n",
    "\n",
    "this_islimit = this_Rdata['is_limit'].data == 1\n",
    "#contaminate = (this_Rdata['agn_fraction'].data < 0.1) #& is_limit\n",
    "unresolve = this_Rdata['agn_pixels'].data < 100\n",
    "#excess = this_Rdata['excess'] == 1\n",
    "\n",
    "this_r[this_islimit] = this_Rdata['logR_fsb1'].data[this_islimit]\n",
    "\n",
    "\n",
    "if True:\n",
    "    #plt.plot(this_L[not_limit], this_r[not_limit], 'o')\n",
    "    #plt.plot(this_L[is_limit], this_r[is_limit], 'o')\n",
    "    \n",
    "    is_valid = (this_L > 38) & (this_L < 45) & (this_r > 2.0) & (this_r < 5.0) & (this_L_err < 0.5) & (this_r_err < 1) #& ~this_islimit\n",
    "    this_L = this_L[is_valid]\n",
    "    this_L_err = this_L_err[is_valid]\n",
    "    this_r = this_r[is_valid]\n",
    "    this_r_err = this_r_err[is_valid]\n",
    "    this_islimit = this_islimit[is_valid]\n",
    "    plt.plot(this_L, this_r, 'o')\n",
    "    #plt.plot(this_L[contaminate], this_r[contaminate], 'o')\n",
    "    #plt.plot(this_L[excess], this_r[excess], 'o')\n",
    "    \n",
    "    plt.errorbar(this_L, this_r, xerr=this_L_err, yerr=this_r_err, uplims=this_islimit, marker='o', ls='None', alpha=0.5)\n",
    "    \n",
    "    # account for the is_converge\n",
    "    #this_L1 = this_L[is_converge]\n",
    "    #this_L_err1 = this_L_err[is_converge]\n",
    "    #this_r1 = this_r[is_converge]\n",
    "    #this_r_err1 = yerr=this_r_err[is_converge]\n",
    "    #is_limit1 = is_limit[is_converge]\n",
    "    #plt.errorbar(this_L1, this_r1, xerr=this_L_err1, yerr=this_r_err1, uplims=is_limit1, marker='o', ls='None', alpha=0.5)\n",
    "    \n",
    "    #this_L2 = this_L[~is_converge]\n",
    "    #this_L_err2 = this_L_err[~is_converge]\n",
    "    #this_r2 = this_r[~is_converge]\n",
    "    #this_r_err2 = yerr=this_r_err[~is_converge]\n",
    "    #is_limit2 = is_limit[~is_converge]\n",
    "    #plt.errorbar(this_L2, this_r2, xerr=this_L_err2, yerr=this_r_err2, uplims=is_limit2, marker='o', ls='None', alpha=0.5)\n",
    "    \n",
    "    plt.ylim(2.0, 4.4)\n",
    "    plt.xlim(39, 43)\n",
    "    \n",
    "    #plt.errorbar(this_L[contaminate], this_r[contaminate], xerr=this_L_err[contaminate], yerr=this_r_err[contaminate], marker='o', ls='None', alpha=0.5, uplims=True)\n",
    "    #plt.errorbar(this_L[unresolve], this_r[unresolve], xerr=this_L_err[unresolve], yerr=this_r_err[unresolve], marker='o', ls='None', alpha=0.5, lolims=True)"
   ]
  },
  {
   "cell_type": "code",
   "execution_count": null,
   "metadata": {
    "ExecuteTime": {
     "end_time": "2019-06-20T07:45:18.814663Z",
     "start_time": "2019-06-20T07:45:18.772074Z"
    }
   },
   "outputs": [],
   "source": [
    "np.sum(this_islimit)"
   ]
  },
  {
   "cell_type": "code",
   "execution_count": null,
   "metadata": {
    "ExecuteTime": {
     "end_time": "2019-06-27T01:39:04.919934Z",
     "start_time": "2019-06-27T01:39:04.870078Z"
    }
   },
   "outputs": [],
   "source": [
    "152 - np.sum(is_valid)"
   ]
  },
  {
   "cell_type": "markdown",
   "metadata": {},
   "source": [
    "## Size-Luminosty relation"
   ]
  },
  {
   "cell_type": "code",
   "execution_count": 17,
   "metadata": {
    "ExecuteTime": {
     "end_time": "2019-06-30T05:27:18.834897Z",
     "start_time": "2019-06-30T05:26:58.892585Z"
    },
    "code_folding": [
     158
    ]
   },
   "outputs": [
    {
     "name": "stderr",
     "output_type": "stream",
     "text": [
      "/Users/cjhang/.local/miniconda3/envs/astro/lib/python3.7/importlib/_bootstrap.py:219: RuntimeWarning: numpy.ufunc size changed, may indicate binary incompatibility. Expected 192 from C header, got 216 from PyObject\n",
      "  return f(*args, **kwds)\n",
      "/Users/cjhang/.local/miniconda3/envs/astro/lib/python3.7/importlib/_bootstrap.py:219: RuntimeWarning: numpy.ufunc size changed, may indicate binary incompatibility. Expected 192 from C header, got 216 from PyObject\n",
      "  return f(*args, **kwds)\n"
     ]
    },
    {
     "name": "stdout",
     "output_type": "stream",
     "text": [
      "Only our data: alpha: -16.444±1.505, beta: +0.482±0.037, sig^2: 0.009\n",
      "All the data: alpha: -14.108±0.908, beta: +0.425±0.022, sig^2: 0.008\n"
     ]
    },
    {
     "data": {
      "image/png": "[encoded data removed]",
      "text/plain": [
       "<Figure size 720x504 with 1 Axes>"
      ]
     },
     "metadata": {
      "needs_background": "light"
     },
     "output_type": "display_data"
    }
   ],
   "source": [
    "# Isophote\n",
    "import numpy as np\n",
    "import astropy.units as u\n",
    "from astropy.table import Table\n",
    "import matplotlib.pyplot as plt\n",
    "from ltsfit.lts_linefit import lts_linefit\n",
    "from mangatools import linmix\n",
    "\n",
    "set_matplotlib_formats('png')\n",
    "\n",
    "# preset for plot\n",
    "fs = 16\n",
    "lw = 2\n",
    "ms = 4\n",
    "pa = 0.8 # point alpha\n",
    "ea = 0.1 #errorbar alpha\n",
    "\n",
    "X_all = [] #include all the data points\n",
    "X_all_err = []\n",
    "Y_all = []\n",
    "Y_all_err = []\n",
    "\n",
    "X_ifu = [] #include just the ifu obervation\n",
    "X_ifu_err = []\n",
    "Y_ifu = []\n",
    "Y_ifu_err = []\n",
    "Y_delta = []\n",
    "\n",
    "# default error, use for fitting\n",
    "x_err_default = 0.2*np.log(10) # 30% error\n",
    "y_err_default = 0.2*np.log(10) # 30% error\n",
    "\n",
    "fig, ax = plt.subplots(1,1, figsize=(10, 7))\n",
    "ax.tick_params(axis='both', which='major', labelsize=fs)\n",
    "ax.tick_params(axis='both', which='minor', labelsize=fs-1)\n",
    "\n",
    "if 1: # plot data of this work\n",
    "    color = 'C0'\n",
    "    marker = 'o'\n",
    "    ax.plot(this_L, this_r, marker=marker, alpha=pa, label='This Work', \n",
    "            color=color, lw=lw, ms=ms, linestyle='None')\n",
    "    plt.errorbar(this_L, this_r, xerr=this_L_err, uplims=this_islimit,\n",
    "                 yerr=this_r_err, ls='None', label=None, alpha=ea, color=color)\n",
    "    #ax.plot(this_L1, this_r1, marker=marker, alpha=0.8, label='This Work', \n",
    "    #        color=color, lw=lw, ms=ms, linestyle='None')\n",
    "    #plt.errorbar(this_L1, this_r1, xerr=this_L_err1, uplims=is_limit1,\n",
    "    #             yerr=this_r_err1, ls='None', label=None, alpha=0.1, color=color)\n",
    "    #ax.plot(this_L2, this_r2, marker=marker, alpha=0.3, \n",
    "    #        color=color, lw=lw, ms=ms, linestyle='None')\n",
    "    #plt.errorbar(this_L2, this_r2, xerr=this_L_err2, uplims=is_limit2,\n",
    "    #             yerr=this_r_err2, ls='None', label=None, alpha=0.1, color=color)\n",
    "    # append data for fitting\n",
    "    X_all.append(this_L)\n",
    "    X_all_err.append(this_L_err)\n",
    "    Y_all.append(this_r)\n",
    "    Y_all_err.append(this_r_err)\n",
    "    Y_delta.append(~this_islimit)\n",
    "    \n",
    "\n",
    "if 1: # plot fraqulli 2003\n",
    "    color = 'C1'\n",
    "    marker = 'x'\n",
    "    ax.plot(fra03_L, fra03_r, marker=marker, alpha=pa, label='Fraquelli 2003', color=color, \n",
    "            lw=lw, ms=ms, linestyle='None')\n",
    "    ax.errorbar(fra03_L, fra03_r, marker=marker, alpha=ea, label=None, color=color,\n",
    "                linestyle='None')#, yerr=np.full_like(fra03_r), uplims=np.ones_like(fra03_r))\n",
    "    if 1:\n",
    "        # append data for fitting\n",
    "        X_all.append(fra03_L)\n",
    "        X_all_err.append(np.full_like(fra03_L, x_err_default)) # 30% error\n",
    "        Y_all.append(fra03_r)\n",
    "        Y_all_err.append(np.full_like(fra03_r, y_err_default))\n",
    "        Y_delta.append(np.full_like(fra03_r, True))\n",
    "\n",
    "\n",
    "if 1: # plot Bennert 2006a\n",
    "    color = 'C2'\n",
    "    marker = '>'\n",
    "    ax.plot(ben06a_L, ben06a_r, marker=marker, alpha=pa, label='Bennert 2006a', \n",
    "            color=color, lw=lw, ms=ms, linestyle='None')\n",
    "    plt.errorbar(ben06a_L, ben06a_r, ls='None', label=None, alpha=ea, color=color,)\n",
    "                 #uplims=np.ones_like(ben06a_r) yerr=np.full_like(ben06a_r, 0.05))\n",
    "    if 1:\n",
    "        # append data for fitting\n",
    "        X_all.append(ben06a_L)\n",
    "        X_all_err.append(np.full_like(ben06a_L, x_err_default))\n",
    "        Y_all.append(ben06a_r)\n",
    "        Y_all_err.append(ben06a_r_err)\n",
    "        Y_delta.append(np.full_like(ben06a_r, True))\n",
    "\n",
    "if 1: # plot Bennert 2006b\n",
    "    #ax.errorbar(ben06b_L, ben06b_r, yerr=ben06b_r_err, marker='o', linestyle='None', label='Bennert 2006b')\n",
    "    color = 'C3'\n",
    "    marker = '<'\n",
    "    ax.plot(ben06b_L, ben06b_r, marker=marker, alpha=pa, label='Bennert 2006b', \n",
    "            color=color, lw=lw, ms=ms, linestyle='None')\n",
    "    plt.errorbar(ben06b_L, ben06b_r, ls='None', label=None, alpha=ea, color=color,)\n",
    "                 #yerr=np.full_like(ben06b_r, 0.05), uplims=np.ones_like(ben06b_r))\n",
    "    if 1:\n",
    "        # append data for fitting\n",
    "        X_all.append(ben06b_L)\n",
    "        X_all_err.append(np.full_like(ben06b_L, x_err_default))\n",
    "        Y_all.append(ben06b_r)\n",
    "        Y_all_err.append(ben06b_r_err)\n",
    "        Y_delta.append(np.full_like(ben06b_r, True))\n",
    "    \n",
    "if 1: # plot greene 2011\n",
    "    color = 'C4'\n",
    "    marker = 'P'\n",
    "    ax.plot(gre11_L, gre11_r, marker=marker, alpha=pa, label='Greene 2011', \n",
    "            color=color, lw=lw, ms=ms, linestyle='None')\n",
    "    #plt.errorbar(gre11_L, gre11_r, xerr=gre11_L_err, yerr=gre11_r_err, \n",
    "    #             ls='None', label=None, alpha=ea, color=color)\n",
    "    # append data for fitting\n",
    "    #X_all.append(gre11_L)\n",
    "    #X_all_err.append(np.full_like(gre11_L, x_err_default))\n",
    "    #Y_all.append(gre11_r)\n",
    "    #Y_all_err.append(gre11_r_err)\n",
    "    #Y_delta.append(np.ones_like(gre11_r))\n",
    "\n",
    "    \n",
    "if 1: # plot liu2013\n",
    "    #ax.errorbar(liu13_L, liu13_r, yerr=liu13_r_err, marker='o', ls='None', label='Liu 2013')\n",
    "    color = 'C5'\n",
    "    marker = 's'\n",
    "    ax.plot(liu13_L, liu13_r, marker=marker, alpha=pa, label='Liu 2013', \n",
    "            color=color, lw=lw, ms=ms, linestyle='None')\n",
    "    plt.errorbar(liu13_L, liu13_r, yerr=liu13_r_err, xerr=liu13_L_err,\n",
    "                 ls='None', label=None, alpha=ea, color=color, uplims=liu13_islimit)\n",
    "    # append data for fitting\n",
    "    X_all.append(liu13_L)\n",
    "    X_all_err.append(np.full_like(liu13_L, x_err_default))\n",
    "    Y_all.append(liu13_r)\n",
    "    Y_all_err.append(liu13_r_err)\n",
    "    Y_delta.append(~liu13_islimit)\n",
    "    \n",
    "if 1: # plot liu2014\n",
    "    #ax.errorbar(liu14_L, liu14_r, yerr=liu14_r_err, marker='o', ls='None', label='Liu 2014')\n",
    "    color = 'C6'\n",
    "    marker = 'D'\n",
    "    ax.plot(liu14_L, liu14_r, marker=marker, alpha=pa, label='Liu 2014', \n",
    "            color=color, lw=lw, ms=ms, linestyle='None')\n",
    "    plt.errorbar(liu14_L, liu14_r, yerr=liu14_r_err, xerr=liu14_L_err,\n",
    "                 ls='None', label=None, alpha=ea, color=color, uplims=liu14_islimit)\n",
    "    # append data for fitting\n",
    "    X_all.append(liu14_L)\n",
    "    X_all_err.append(np.full_like(liu14_L, x_err_default))\n",
    "    Y_all.append(liu14_r)\n",
    "    Y_all_err.append(liu14_r_err)\n",
    "    Y_delta.append(~liu14_islimit)\n",
    "\n",
    "if 1: # plot Law 2018\n",
    "    color = 'C7'\n",
    "    marker = '*'\n",
    "    ax.plot(law18_L, law18_r, marker=marker, alpha=pa, label='Law 2018', color=color, \n",
    "            lw=lw, ms=ms, linestyle='None')\n",
    "    ax.errorbar(law18_L, law18_r, marker=marker, alpha=ea, label=None, color=color,\n",
    "                linestyle='None')#, yerr=np.full_like(fra03_r), uplims=np.ones_like(fra03_r))\n",
    "\n",
    "if False: # do fitting\n",
    "    xfit = np.concatenate(X_all)\n",
    "    xfit_err = np.concatenate(X_all_err)\n",
    "    yfit = np.concatenate(Y_all)\n",
    "    yfit_err = np.concatenate(Y_all_err)\n",
    "    \n",
    "\n",
    "    p = lts_linefit(xfit, yfit, xfit_err, yfit_err, clip=3, epsy=True, corr=True, frac=None, \n",
    "                    pivot=0, plot=False, text=False)\n",
    "\n",
    "    # show fitting results\n",
    "    rms = np.std(p.ab[0] + p.ab[1]*xfit[p.mask] - yfit[p.mask], ddof=2)\n",
    "    par = np.append(p.ab, p.sig_int)\n",
    "    sig_par = np.append(p.ab_err, p.sig_int_err)\n",
    "\n",
    "    xmin, xmax = np.min(xfit), np.max(xfit)\n",
    "    dx = xmax - xmin\n",
    "    xlimits = np.array([xmin - dx, xmax + dx])\n",
    "    y_res = par[0] + par[1]*xlimits\n",
    "    ax.plot(xlimits, y_res, '-k')\n",
    "    ax.plot(xlimits, y_res + rms, '--r', alpha=0.3)\n",
    "    ax.plot(xlimits, y_res - rms, '--r', alpha=0.3)\n",
    "    #ax.set_title(r\"$y = (0.307 \\pm 0.021) x - (9.09 \\pm 0.86)$\", fontsize=fs)\n",
    "    #ax.text(41., 2.7, \"Spearman r=0.78, p=1e-19 \\n Pearson r=0.84, p=1e-25\", \n",
    "    #        fontsize=fs)\n",
    "\n",
    "if True: #only fit our data\n",
    "    xfit = this_L\n",
    "    xfit_err = this_L_err\n",
    "    yfit = this_r\n",
    "    yfit_err = this_r_err\n",
    "    ydelta = ~this_islimit\n",
    "\n",
    "    lm = linmix.LinMix(xfit, yfit, xfit_err, yfit_err, delta=ydelta, K=2)\n",
    "    lm.run_mcmc(silent=True)\n",
    "    xs = np.arange(38,46)\n",
    "    curves = []\n",
    "    for i in range(0, len(lm.chain)):\n",
    "        curves.append(lm.chain[i]['alpha'] + xs * lm.chain[i]['beta'] + lm.chain[i]['sigsqr'])\n",
    "\n",
    "    # Plot 95% confidence interval\n",
    "    alpha, alpha_err = np.mean(lm.chain['alpha']), np.std(lm.chain['alpha'])\n",
    "    beta, beta_err = np.mean(lm.chain['beta']), np.std(lm.chain['beta'])\n",
    "    sigsqr = np.mean(lm.chain['sigsqr'])\n",
    "    print(r\"Only our data: alpha: {:+.3f}±{:.3f}, beta: {:+.3f}±{:.3f}, sig^2: {:.3f}\".format(\n",
    "            alpha, alpha_err, beta, beta_err, sigsqr))\n",
    "    ax.plot(xs, alpha + xs * beta + sigsqr, 'k:', alpha=0.8, label='Linear fitting (only this work)')\n",
    "    \n",
    "if True: # fitting with linmix\n",
    "    xfit = np.concatenate(X_all)\n",
    "    xfit_err = np.concatenate(X_all_err)\n",
    "    yfit = np.concatenate(Y_all)\n",
    "    yfit_err = np.concatenate(Y_all_err)\n",
    "    ydelta = np.concatenate(Y_delta)\n",
    "\n",
    "    lm = linmix.LinMix(xfit, yfit, xfit_err, yfit_err, delta=ydelta, K=2)\n",
    "    lm.run_mcmc(silent=True)\n",
    "    \n",
    "    #for i in range(0, len(lm.chain), 25):\n",
    "    #    xs = np.arange(38,46)\n",
    "    #    ys = lm.chain[i]['alpha'] + xs * lm.chain[i]['beta']\n",
    "    #    ax.plot(xs, ys, color='r', alpha=0.02)\n",
    "    curves = []\n",
    "    xs = np.arange(38,46)\n",
    "    for i in range(0, len(lm.chain)):\n",
    "        curves.append(lm.chain[i]['alpha'] + xs * lm.chain[i]['beta'] + lm.chain[i]['sigsqr'])\n",
    "\n",
    "    # Plot 95% confidence interval\n",
    "    lo, hi = np.percentile(curves, (2.5, 97.5), axis=0)\n",
    "    #lo, hi = np.percentile(curves, (17, 83), axis=0)\n",
    "    ax.fill_between(xs, lo, hi, color='red', alpha=0.2)\n",
    "    #ax.fill_between(xs, lo, hi, color='mistyrose', alpha=0.2)\n",
    "    alpha, alpha_err = np.mean(lm.chain['alpha']), np.std(lm.chain['alpha'])\n",
    "    beta, beta_err = np.mean(lm.chain['beta']), np.std(lm.chain['beta'])\n",
    "    sigsqr = np.mean(lm.chain['sigsqr'])\n",
    "    print(r\"All the data: alpha: {:+.3f}±{:.3f}, beta: {:+.3f}±{:.3f}, sig^2: {:.3f}\".format(\n",
    "            alpha, alpha_err, beta, beta_err, sigsqr))\n",
    "    ax.plot(xs, alpha + xs * beta + sigsqr, 'k-', alpha=0.8, label='Linear fitting (all data)')\n",
    "\n",
    "if 0:\n",
    "    model = np.loadtxt('./data/prediction_1e7_3e-3.txt')\n",
    "    ax.plot(model[:, 0], model[:, 1], 'k--', alpha=0.5)\n",
    "    \n",
    "    \n",
    "ax.set_xlabel(r\"${\\rm Log(L[O\\,III])}$\", fontsize=fs)\n",
    "ax.set_ylabel(r\"Log(R$_{15}$)/pc\", fontsize=fs)\n",
    "# for SB=10\n",
    "ax.set_xlim(39, 44.5)\n",
    "ax.set_ylim(2.0, 4.8)\n",
    "# for SB=100\n",
    "#ax.set_xlim(39, 44.5)\n",
    "#ax.set_ylim(1.8, 4.5)\n",
    "ax.legend(fontsize=fs-2, loc='lower right', ncol=1)\n",
    "#fig.savefig('./results/all_fitting.png', bbox_inches='tight')\n",
    "#set_matplotlib_formats('png')"
   ]
  },
  {
   "cell_type": "markdown",
   "metadata": {},
   "source": [
    "SB=10:\n",
    "\n",
    "    Only our data: alpha: -16.503±1.586, beta: +0.484±0.039, sig^2: 0.008\n",
    "    \n",
    "    All the data: alpha: -14.070±0.957, beta: +0.425±0.023, sig^2: 0.009\n",
    "\n",
    "SB=100: \n",
    "    \n",
    "    alpha: -16.150±1.611, beta: +0.465±0.039, sig^2: 0.005"
   ]
  },
  {
   "cell_type": "code",
   "execution_count": null,
   "metadata": {
    "ExecuteTime": {
     "end_time": "2019-06-21T15:04:32.117746Z",
     "start_time": "2019-06-21T15:04:31.728334Z"
    }
   },
   "outputs": [],
   "source": [
    "# the best model prediction\n",
    "model = np.loadtxt('./data/prediction_1e7_3e-3.txt')\n",
    "plt.plot(model[:, 0], model[:, 1])"
   ]
  },
  {
   "cell_type": "code",
   "execution_count": null,
   "metadata": {
    "ExecuteTime": {
     "end_time": "2019-06-28T14:53:15.141460Z",
     "start_time": "2019-06-28T14:53:15.043817Z"
    },
    "code_folding": []
   },
   "outputs": [],
   "source": [
    "# try to save the data into txt files\n",
    "header = 'log(L[OIII]) log(L[OIII])_err log(R16) log(R16)_err is_limit'\n",
    "fmt = '%.4f %.4f %.4f %.4f %d'\n",
    "# save Fraquelli 2003\n",
    "np.savetxt('data/R-L/Fraquelli2003.txt', \n",
    "           np.array([fra03_L, np.zeros_like(fra03_L), fra03_r, np.zeros_like(fra03_r), np.zeros_like(fra03_r)]).T, header=header, fmt=fmt)\n",
    "\n",
    "# save Bennert 2006a\n",
    "np.savetxt('data/R-L/Bennert2006a.txt', \n",
    "           np.array([ben06a_L, np.zeros_like(ben06a_L), ben06a_r, np.zeros_like(ben06a_r), np.zeros_like(ben06a_r)]).T, header=header, fmt=fmt)\n",
    "\n",
    "# save Bennert 2006b\n",
    "np.savetxt('data/R-L/Bennert2006b.txt', \n",
    "           np.array([ben06b_L, np.zeros_like(ben06b_L), ben06b_r, np.zeros_like(ben06b_r), np.zeros_like(ben06b_r)]).T, header=header, fmt=fmt)\n",
    "\n",
    "# save Greene 2011\n",
    "np.savetxt('data/R-L/Greene2011.txt', \n",
    "           np.array([gre11_L, np.zeros_like(gre11_L), gre11_r, np.zeros_like(gre11_r), np.zeros_like(gre11_r)]).T, header=header, fmt=fmt)\n",
    "\n",
    "# save Liu 2013\n",
    "np.savetxt('data/R-L/Liu2013.txt', np.array([liu13_L, liu13_L_err, liu13_r, liu13_r_err, liu13_islimit]).T, header=header, fmt=fmt)\n",
    "\n",
    "# save Liu 2014\n",
    "np.savetxt('data/R-L/Liu2014.txt', np.array([liu14_L, liu14_L_err, liu14_r, liu14_r_err, liu14_islimit]).T, header=header, fmt=fmt)\n",
    "\n",
    "# save Law 2018\n",
    "np.savetxt('data/R-L/Law2018.txt', \n",
    "           np.array([law18_L, np.zeros_like(law18_L), law18_r, np.zeros_like(law18_r), law18_islimit]).T, header=header, fmt=fmt)\n",
    "\n",
    "# save this work\n",
    "np.savetxt('data/R-L/manga.txt', np.array([this_L, this_L_err, this_r, this_r_err, this_islimit]).T, header=header, fmt=fmt)"
   ]
  },
  {
   "cell_type": "code",
   "execution_count": null,
   "metadata": {
    "ExecuteTime": {
     "end_time": "2019-06-28T14:53:17.256981Z",
     "start_time": "2019-06-28T14:53:17.181343Z"
    },
    "code_folding": []
   },
   "outputs": [],
   "source": [
    "#law18 = np.loadtxt('data/R-L/Law2018.txt')\n",
    "manga = Table.read('data/R-L/manga.txt', format='ascii')\n",
    "manga"
   ]
  },
  {
   "cell_type": "code",
   "execution_count": null,
   "metadata": {},
   "outputs": [],
   "source": []
  }
 ],
 "metadata": {
  "kernelspec": {
   "display_name": "Python 3",
   "language": "python",
   "name": "python3"
  },
  "language_info": {
   "codemirror_mode": {
    "name": "ipython",
    "version": 3
   },
   "file_extension": ".py",
   "mimetype": "text/x-python",
   "name": "python",
   "nbconvert_exporter": "python",
   "pygments_lexer": "ipython3",
   "version": "3.7.2"
  },
  "toc": {
   "base_numbering": 1,
   "nav_menu": {},
   "number_sections": true,
   "sideBar": true,
   "skip_h1_title": false,
   "title_cell": "Table of Contents",
   "title_sidebar": "Contents",
   "toc_cell": false,
   "toc_position": {
    "height": "calc(100% - 180px)",
    "left": "10px",
    "top": "150px",
    "width": "341.333px"
   },
   "toc_section_display": true,
   "toc_window_display": true
  },
  "varInspector": {
   "cols": {
    "lenName": 16,
    "lenType": 16,
    "lenVar": 40
   },
   "kernels_config": {
    "python": {
     "delete_cmd_postfix": "",
     "delete_cmd_prefix": "del ",
     "library": "var_list.py",
     "varRefreshCmd": "print(var_dic_list())"
    },
    "r": {
     "delete_cmd_postfix": ") ",
     "delete_cmd_prefix": "rm(",
     "library": "var_list.r",
     "varRefreshCmd": "cat(var_dic_list()) "
    }
   },
   "position": {
    "height": "722.85px",
    "left": "1349px",
    "right": "20px",
    "top": "120px",
    "width": "337.667px"
   },
   "types_to_exclude": [
    "module",
    "function",
    "builtin_function_or_method",
    "instance",
    "_Feature"
   ],
   "window_display": false
  }
 },
 "nbformat": 4,
 "nbformat_minor": 2
}
