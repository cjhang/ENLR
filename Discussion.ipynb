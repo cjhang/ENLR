{
 "cells": [
  {
   "cell_type": "code",
   "execution_count": 1,
   "metadata": {
    "ExecuteTime": {
     "end_time": "2019-08-08T14:44:50.051425Z",
     "start_time": "2019-08-08T14:44:48.531346Z"
    }
   },
   "outputs": [
    {
     "name": "stdout",
     "output_type": "stream",
     "text": [
      "The autoreload extension is already loaded. To reload it, use:\n",
      "  %reload_ext autoreload\n",
      "Data relese: MPL-8, configure: mangatools/config.py\n",
      "Global SAS directory is /Volumes/Lacie2\n"
     ]
    }
   ],
   "source": [
    "%matplotlib inline\n",
    "# autoload the package, for debuge purpose\n",
    "%load_ext autoreload\n",
    "%autoreload 2\n",
    "\n",
    "# import modules and plot setting\n",
    "import numpy as np\n",
    "from matplotlib import pyplot as plt\n",
    "from astropy.table import Table\n",
    "import datetime\n",
    "from astropy.table import Table\n",
    "from astropy.io import fits\n",
    "import astropy.units as u\n",
    "import astropy.constants as const\n",
    "from astropy.coordinates import SkyCoord\n",
    "\n",
    "from mangatools import linmix\n",
    "from mangatools import maps, datacube, utils\n",
    "from mangatools.fitmaps import FitMaps\n",
    "\n",
    "today = datetime.date.today().isoformat()\n",
    "\n",
    "# set the display properties\n",
    "from IPython.display import set_matplotlib_formats\n",
    "set_matplotlib_formats('png')\n",
    "\n",
    "# customize the warning message\n",
    "import warnings\n",
    "warnings.filterwarnings(\"ignore\") # default or ignore"
   ]
  },
  {
   "cell_type": "markdown",
   "metadata": {},
   "source": [
    "# Outflow (deprecated)"
   ]
  },
  {
   "cell_type": "code",
   "execution_count": 303,
   "metadata": {
    "ExecuteTime": {
     "end_time": "2019-06-30T13:00:53.952681Z",
     "start_time": "2019-06-30T13:00:42.825605Z"
    },
    "code_folding": [
     62
    ]
   },
   "outputs": [
    {
     "name": "stdout",
     "output_type": "stream",
     "text": [
      "alpha: +3.567±0.065, beta: +0.145±0.060, sig^2: 0.064\n"
     ]
    },
    {
     "data": {
      "image/png": "[encoded data removed]",
      "text/plain": [
       "<Figure size 432x288 with 1 Axes>"
      ]
     },
     "metadata": {
      "needs_background": "light"
     },
     "output_type": "display_data"
    }
   ],
   "source": [
    "# Outflow strength and the size of ENLR\n",
    "LO3data = Table.read('data/LO3-2019-06-25.dat', format=\"ascii\")\n",
    "Rdata = Table.read('data/R_fsb-(10)-2019-06-19.dat', format='ascii')\n",
    "mcmc_fitting = Table.read('data/mcmc.txt', format='ascii')\n",
    "is_converge = (mcmc_fitting['is_converge'] >= 1)\n",
    "LO3 = LO3data['LO3_redcorr']\n",
    "LO3_err = LO3data['LO3_redcorr_err_up']\n",
    "\n",
    "R = Rdata['logR_fsb2_orig']\n",
    "R_err = Rdata['logR_fsb2_orig_err']\n",
    "R_uplims = (Rdata['is_limit'] == 1)\n",
    "R[R_uplims] = Rdata['logR_fsb2'][R_uplims]\n",
    "\n",
    "#s = R > 0\n",
    "# plot the outflow signature\n",
    "outflow_strength = LO3data['outflow_strength']\n",
    "outflow_strength_err = LO3data['outflow_strength_err']\n",
    "is_valid = (LO3 > 38) & (LO3 < 45) & (R > 2.0) & (R < 5.0) & (LO3_err < 1)\n",
    "ss = (outflow_strength > 0.01) & is_valid\n",
    "fig, ax = plt.subplots(1,1, figsize=(6, 4))\n",
    "\n",
    "#ax.semilogx(outflow_strength, R, 'o')\n",
    "#ax.errorbar(outflow_strength, R, xerr=outflow_strength_err, yerr=R_err, ls='None', marker=None, alpha=0.5)\n",
    "#ax.set_xlabel('outflow strength')\n",
    "#ax.set_ylabel('log(R)')\n",
    "\n",
    "if 1: # fitting with linmix\n",
    "    xfit = np.log10(outflow_strength[ss])\n",
    "    xfit_err = outflow_strength_err[ss]/np.log(10)/xfit\n",
    "    yfit = R[ss]\n",
    "    yfit_err = R_err[ss]\n",
    "\n",
    "    ax.plot(xfit, yfit, 'o', color='C0')\n",
    "    ax.set_xlabel('Outflow Strength')\n",
    "    #ax.set_ylabel(r'log($R_{16}$[pc])')\n",
    "    ax.set_ylabel(r\"Log(R$_{16}$)/pc\")\n",
    "    ax.errorbar(xfit, yfit, xerr=xfit_err, yerr=yfit_err, uplims=R_uplims[ss], ls='None', marker=None, alpha=0.5, color='C0')\n",
    "    \n",
    "    lm = linmix.LinMix(xfit, yfit, xfit_err, yfit_err, K=2)\n",
    "    lm.run_mcmc(silent=True)\n",
    "    \n",
    "    #for i in range(0, len(lm.chain), 25):\n",
    "    #    xs = np.arange(38,46)\n",
    "    #    ys = lm.chain[i]['alpha'] + xs * lm.chain[i]['beta']\n",
    "    #    ax.plot(xs, ys, color='r', alpha=0.02)\n",
    "    curves = []\n",
    "    xs = np.arange(-3.5, 2.2)\n",
    "    for i in range(0, len(lm.chain)):\n",
    "        curves.append(lm.chain[i]['alpha'] + xs * lm.chain[i]['beta'] + lm.chain[i]['sigsqr'])\n",
    "\n",
    "    # Plot 95% confidence interval\n",
    "    lo, hi = np.percentile(curves, (2.5, 97.5), axis=0)\n",
    "    #ax.fill_between(xs, lo, hi, color='red', alpha=0.2)\n",
    "    ax.fill_between(xs, lo, hi, color='red', alpha=0.3)\n",
    "    alpha, alpha_err = np.mean(lm.chain['alpha']), np.std(lm.chain['alpha'])\n",
    "    beta, beta_err = np.mean(lm.chain['beta']), np.std(lm.chain['beta'])\n",
    "    sigsqr = np.mean(lm.chain['sigsqr'])\n",
    "    print(r\"alpha: {:+.3f}±{:.3f}, beta: {:+.3f}±{:.3f}, sig^2: {:.3f}\".format(\n",
    "            alpha, alpha_err, beta, beta_err, sigsqr))\n",
    "    ax.plot(xs, alpha + xs * beta + sigsqr, 'k-', alpha=0.8)\n",
    "    ax.set_xlim(-2.2, 0.2)\n",
    "    ax.set_ylim(2.3, 4.5)\n",
    "    \n",
    "if False: # do fitting\n",
    "    xfit = outflow_strength\n",
    "    xfit_err = outflow_strength_err\n",
    "    yfit = R\n",
    "    yfit_err = R_err\n",
    "    \n",
    "    p = lts_linefit(xfit, yfit, xfit_err, yfit_err, clip=3, epsy=True, corr=True, frac=None, \n",
    "                    pivot=0, plot=False, text=False)\n",
    "\n",
    "    # show fitting results\n",
    "    rms = np.std(p.ab[0] + p.ab[1]*xfit[p.mask] - yfit[p.mask], ddof=2)\n",
    "    par = np.append(p.ab, p.sig_int)\n",
    "    sig_par = np.append(p.ab_err, p.sig_int_err)\n",
    "\n",
    "    xmin, xmax = np.min(xfit), np.max(xfit)\n",
    "    dx = xmax - xmin\n",
    "    xlimits = np.array([xmin - dx, xmax + dx])\n",
    "    y_res = par[0] + par[1]*xlimits\n",
    "    ax.plot(xlimits, y_res, '-k')\n",
    "    ax.plot(xlimits, y_res + rms, '--r', alpha=0.3)\n",
    "    ax.plot(xlimits, y_res - rms, '--r', alpha=0.3)\n",
    "    #ax.set_title(r\"$y = (0.307 \\pm 0.021) x - (9.09 \\pm 0.86)$\", fontsize=fs)\n",
    "    #ax.text(41., 2.7, \"Spearman r=0.78, p=1e-19 \\n Pearson r=0.84, p=1e-25\", \n",
    "    #        fontsize=fs)\n",
    "fig.savefig('./results/outflow.pdf', bbox_inches='tight')"
   ]
  },
  {
   "cell_type": "code",
   "execution_count": null,
   "metadata": {},
   "outputs": [],
   "source": []
  },
  {
   "cell_type": "code",
   "execution_count": 304,
   "metadata": {
    "ExecuteTime": {
     "end_time": "2019-06-30T13:00:58.777665Z",
     "start_time": "2019-06-30T13:00:58.713426Z"
    }
   },
   "outputs": [
    {
     "data": {
      "text/plain": [
       "0.24994104659821717"
      ]
     },
     "execution_count": 304,
     "metadata": {},
     "output_type": "execute_result"
    }
   ],
   "source": [
    "# calculate the correlation of the two variable\n",
    "xx = xfit.data\n",
    "yy = yfit.data\n",
    "\n",
    "np.mean((xx - np.mean(xx))*(yy - np.mean(yy))) / (np.std(xx)*np.std(yy))"
   ]
  },
  {
   "cell_type": "code",
   "execution_count": 51,
   "metadata": {
    "ExecuteTime": {
     "end_time": "2019-05-04T13:01:14.197704Z",
     "start_time": "2019-05-04T13:01:14.142992Z"
    }
   },
   "outputs": [
    {
     "data": {
      "text/plain": [
       "Ttest_relResult(statistic=-98.80393466154254, pvalue=9.06411067923439e-120)"
      ]
     },
     "execution_count": 51,
     "metadata": {},
     "output_type": "execute_result"
    }
   ],
   "source": [
    "from scipy.stats import mstats\n",
    "\n",
    "mstats.ttest_rel(xx, yy)"
   ]
  },
  {
   "cell_type": "markdown",
   "metadata": {},
   "source": [
    "# IR luminosity"
   ]
  },
  {
   "cell_type": "code",
   "execution_count": 25,
   "metadata": {
    "ExecuteTime": {
     "end_time": "2019-06-17T01:23:46.524789Z",
     "start_time": "2019-06-17T01:23:46.465505Z"
    }
   },
   "outputs": [],
   "source": [
    "# generate the target file to request data from http://wise2.ipac.caltech.edu/docs/release/allwise/\n",
    "targets = Table.read('data/AGNs-2019-04-26.dat', format='ascii')\n",
    "with open('data/agn_coords.txt', 'w') as f:\n",
    "    f.write(\"|   ra          |    dec      |\\n\")\n",
    "    f.write(\"|   double      |    double   |\\n\")\n",
    "    f.write(\"|   deg         |    deg      |\\n\")\n",
    "    f.write(\"|   null        |    null     |\\n\")\n",
    "    for g in targets:\n",
    "        f.write(\"  {:.8f}    {:.8f}\\n\".format(g['ra'], g['dec']))\n",
    "f.close()"
   ]
  },
  {
   "cell_type": "code",
   "execution_count": 4,
   "metadata": {
    "ExecuteTime": {
     "end_time": "2019-08-08T14:48:55.231495Z",
     "start_time": "2019-08-08T14:48:55.043754Z"
    }
   },
   "outputs": [
    {
     "data": {
      "text/html": [
       "<i>Table masked=True length=2</i>\n",
       "<table id=\"table5613887672\" class=\"table-striped table-bordered table-condensed\">\n",
       "<thead><tr><th>cntr_01</th><th>dist_x</th><th>pang_x</th><th>ra_01</th><th>dec_01</th><th>designation</th><th>ra</th><th>dec</th><th>sigra</th><th>sigdec</th><th>sigradec</th><th>w1mpro</th><th>w1sigmpro</th><th>w1snr</th><th>w1rchi2</th><th>w2mpro</th><th>w2sigmpro</th><th>w2snr</th><th>w2rchi2</th><th>w3mpro</th><th>w3sigmpro</th><th>w3snr</th><th>w3rchi2</th><th>w4mpro</th><th>w4sigmpro</th><th>w4snr</th><th>w4rchi2</th><th>nb</th><th>na</th><th>w1sat</th><th>w2sat</th><th>w3sat</th><th>w4sat</th><th>pmra</th><th>sigpmra</th><th>pmdec</th><th>sigpmdec</th><th>cc_flags</th><th>ext_flg</th><th>var_flg</th><th>ph_qual</th><th>moon_lev</th><th>w1nm</th><th>w1m</th><th>w2nm</th><th>w2m</th><th>w3nm</th><th>w3m</th><th>w4nm</th><th>w4m</th></tr></thead>\n",
       "<thead><tr><th></th><th>arcsec</th><th>deg</th><th>deg</th><th>deg</th><th></th><th>deg</th><th>deg</th><th>arcsec</th><th>arcsec</th><th>arcsec</th><th>mag</th><th>mag</th><th></th><th></th><th>mag</th><th>mag</th><th></th><th></th><th>mag</th><th>mag</th><th></th><th></th><th>mag</th><th>mag</th><th></th><th></th><th></th><th></th><th></th><th></th><th></th><th></th><th>maspyr</th><th>maspyr</th><th>maspyr</th><th>maspyr</th><th></th><th></th><th></th><th></th><th></th><th></th><th></th><th></th><th></th><th></th><th></th><th></th><th></th></tr></thead>\n",
       "<thead><tr><th>int64</th><th>float64</th><th>float64</th><th>float64</th><th>float64</th><th>str19</th><th>float64</th><th>float64</th><th>float64</th><th>float64</th><th>float64</th><th>float64</th><th>float64</th><th>float64</th><th>float64</th><th>float64</th><th>float64</th><th>float64</th><th>float64</th><th>float64</th><th>float64</th><th>float64</th><th>float64</th><th>float64</th><th>float64</th><th>float64</th><th>float64</th><th>int64</th><th>int64</th><th>float64</th><th>float64</th><th>float64</th><th>float64</th><th>int64</th><th>int64</th><th>int64</th><th>int64</th><th>str4</th><th>int64</th><th>str4</th><th>str4</th><th>str4</th><th>int64</th><th>int64</th><th>int64</th><th>int64</th><th>int64</th><th>int64</th><th>int64</th><th>int64</th></tr></thead>\n",
       "<tr><td>1</td><td>0.044455</td><td>-112.673053</td><td>205.04476857</td><td>26.84104106</td><td>J134010.74+265027.7</td><td>205.0447558</td><td>26.8410363</td><td>0.0541</td><td>0.0555</td><td>-0.0058</td><td>13.944</td><td>0.026</td><td>41.2</td><td>1.829</td><td>13.756</td><td>0.036</td><td>30.1</td><td>1.005</td><td>11.152</td><td>0.132</td><td>8.2</td><td>0.9379</td><td>8.33</td><td>--</td><td>1.8</td><td>0.7771</td><td>1</td><td>0</td><td>0.0</td><td>0.0</td><td>0.0</td><td>0.0</td><td>138</td><td>101</td><td>-2</td><td>109</td><td>0000</td><td>0</td><td>00nn</td><td>AABU</td><td>0011</td><td>30</td><td>30</td><td>30</td><td>30</td><td>4</td><td>15</td><td>0</td><td>15</td></tr>\n",
       "<tr><td>2</td><td>0.03975</td><td>-89.948108</td><td>319.19309865</td><td>11.04374079</td><td>J211646.34+110237.4</td><td>319.1930874</td><td>11.0437408</td><td>0.0365</td><td>0.0348</td><td>0.0068</td><td>12.274</td><td>0.022</td><td>48.6</td><td>4.603</td><td>11.544</td><td>0.021</td><td>51.9</td><td>1.432</td><td>8.805</td><td>0.029</td><td>37.0</td><td>1.046</td><td>6.172</td><td>0.048</td><td>22.4</td><td>0.9475</td><td>1</td><td>0</td><td>0.0</td><td>0.0</td><td>0.0</td><td>0.0</td><td>54</td><td>42</td><td>-213</td><td>42</td><td>0000</td><td>1</td><td>1100</td><td>AAAA</td><td>0100</td><td>35</td><td>35</td><td>31</td><td>31</td><td>17</td><td>17</td><td>17</td><td>17</td></tr>\n",
       "</table>"
      ],
      "text/plain": [
       "<Table masked=True length=2>\n",
       "cntr_01  dist_x     pang_x      ra_01     ...  w3nm  w3m   w4nm  w4m \n",
       "         arcsec      deg         deg      ...                        \n",
       " int64  float64    float64     float64    ... int64 int64 int64 int64\n",
       "------- -------- ----------- ------------ ... ----- ----- ----- -----\n",
       "      1 0.044455 -112.673053 205.04476857 ...     4    15     0    15\n",
       "      2  0.03975  -89.948108 319.19309865 ...    17    17    17    17"
      ]
     },
     "execution_count": 4,
     "metadata": {},
     "output_type": "execute_result"
    }
   ],
   "source": [
    "tt = Table.read('data/irsa_catalog_search_results.tbl.txt', format='ipac')\n",
    "tt[:2]"
   ]
  },
  {
   "cell_type": "code",
   "execution_count": 9,
   "metadata": {
    "ExecuteTime": {
     "end_time": "2019-08-08T14:51:44.289430Z",
     "start_time": "2019-08-08T14:51:44.239743Z"
    }
   },
   "outputs": [],
   "source": [
    "def fixdata(arr):\n",
    "    fixed_arr = []\n",
    "    for i in arr:\n",
    "        try:\n",
    "            tmp = np.float(i)\n",
    "        except:\n",
    "            tmp = -9999.0\n",
    "        if np.isnan(tmp):\n",
    "            tmp = -9999.0\n",
    "        fixed_arr.append(tmp)\n",
    "    return np.array(fixed_arr)\n"
   ]
  },
  {
   "cell_type": "code",
   "execution_count": null,
   "metadata": {
    "ExecuteTime": {
     "end_time": "2019-08-08T14:52:25.788045Z",
     "start_time": "2019-08-08T14:51:47.008147Z"
    },
    "scrolled": true
   },
   "outputs": [],
   "source": [
    "# Comparing L[OIII] and L_IR\n",
    "\n",
    "this_Ldata = Table.read('data/LO3-2019-06-25.dat', format=\"ascii\")\n",
    "this_Rdata = Table.read('data/R_fsb-(10)-2019-06-19.dat', format='ascii')\n",
    "L_IR = []\n",
    "L_IR_err = []\n",
    "#IR_wave = [3.4, 4.6, 12, 22]\n",
    "wise_f0 = np.array([309.54, 171.787, 31.674, 8.363])\n",
    "target_wave = 8 #in um\n",
    "for i, gal in enumerate(this_Rdata[:]):\n",
    "    m = maps.Maps(gal['plateifu'])\n",
    "    \n",
    "    wise_pho = fixdata(tt[i]['w1mpro', 'w2mpro', 'w3mpro', 'w4mpro']) \n",
    "    wise_pho_err = fixdata(tt[i]['w1sigmpro', 'w2sigmpro', 'w3sigmpro', 'w4sigmpro'])\n",
    "    wise_flux = wise_f0 * 10**(-wise_pho/2.5)\n",
    "    wise_flux_err = wise_f0 * 10**(-wise_pho/2.5) * np.log(10) / 2.5 * wise_pho_err\n",
    "    \n",
    "    f = (wise_flux[2] - wise_flux[1]) / 7.4 * (target_wave - 4.6) + wise_flux[1]\n",
    "    f_err = np.sqrt((1/7.4*(target_wave-4.6) * wise_flux_err[2])**2 + ((1-1/7.4*(8-4.6))*wise_flux_err[1])**2)\n",
    "        \n",
    "    L = np.log10(f*1e-23/u.cm**2*4*np.pi*(m.d**2).to(u.cm**2) * 3e10/(1e-4 * target_wave))\n",
    "    #L_err = np.log10(f*1e-23/u.cm**2*4*np.pi*(m.d**2).to(u.cm**2) * 3e10/12e-4)\n",
    "    L_err = f_err/np.log(10)/f\n",
    "    #print(wise_flux)\n",
    "    #print(wise_flux_err)\n",
    "    #print(f, f_err)\n",
    "    #print(L, L_err)\n",
    "    L_IR.append(L.value)\n",
    "    L_IR_err.append(L_err)\n",
    "np.savetxt('data/L_IR.txt', np.array(L_IR))"
   ]
  },
  {
   "cell_type": "code",
   "execution_count": 11,
   "metadata": {
    "ExecuteTime": {
     "end_time": "2019-08-08T14:52:51.753407Z",
     "start_time": "2019-08-08T14:52:33.993698Z"
    }
   },
   "outputs": [
    {
     "name": "stdout",
     "output_type": "stream",
     "text": [
      "sig_int:     0.0000      0.5790\n",
      "Computing sig_int\n",
      "sig_int:     0.0000      0.5790\n",
      "sig_int:     0.5128     -0.6051\n",
      "sig_int:     0.2507     -0.1002\n",
      "sig_int:     0.2137      0.0161\n",
      "sig_int:     0.2189     -0.0007\n",
      "sig_int:     0.2187     -0.0000\n",
      "sig_int:     0.2185      0.0004\n",
      "Computing sig_int error\n",
      "sig_int:     0.2187      0.1162\n",
      "sig_int:     0.5128     -0.4888\n",
      "sig_int:     0.2752     -0.0542\n",
      "sig_int:     0.2572     -0.0031\n",
      "sig_int:     0.2561      0.0000\n",
      "sig_int:     0.2563     -0.0004\n",
      "Repeat at best fitting solution\n",
      "sig_int:     0.2187     -0.0000\n",
      "################# Values and formal errors ################\n",
      " intercept:  2.1 +/- 2.4\n",
      "     slope:  0.904 +/- 0.057\n",
      "   scatter:  0.219 +/- 0.037\n",
      "Observed rms scatter: 0.437 \n",
      "Spearman r=0.76 and p=9e-30\n",
      "Pearson r=0.74 and p=7.9e-28\n",
      "##########################################################\n",
      "seconds 16.95\n"
     ]
    },
    {
     "data": {
      "text/plain": [
       "(38.0, 43.5)"
      ]
     },
     "execution_count": 11,
     "metadata": {},
     "output_type": "execute_result"
    },
    {
     "data": {
      "image/png": "[encoded data removed]",
      "text/plain": [
       "<Figure size 432x288 with 1 Axes>"
      ]
     },
     "metadata": {
      "needs_background": "light"
     },
     "output_type": "display_data"
    }
   ],
   "source": [
    "from ltsfit.lts_linefit import lts_linefit\n",
    "\n",
    "xfit = np.array(L_IR)\n",
    "xfit_err = np.array(L_IR_err)\n",
    "\n",
    "this_L = this_Ldata['LO3_redcorr'].data\n",
    "this_L_err = 0.5 * (this_Ldata['LO3_redcorr_err_up'].data + this_Ldata['LO3_redcorr_err_low'].data)\n",
    "yfit = this_L\n",
    "yfit_err = this_L_err\n",
    "\n",
    "ss = (xfit < 1e4) & (xfit > 1e-4) & (yfit > 0) & (yfit < 1e4) & (yfit_err < 1e4)\n",
    "\n",
    "p = lts_linefit(xfit[ss], yfit[ss], xfit_err[ss], yfit_err[ss], clip=3, epsy=True, corr=True, frac=None, \n",
    "                    pivot=0, plot=False, text=False)\n",
    "xlimits = np.linspace(41., 44, 100)\n",
    "y_res = p.ab[0] + p.ab[1]*xlimits\n",
    "plt.errorbar(xfit, yfit, xerr=xfit_err, yerr=yfit_err, ls='None', marker='o', alpha=0.2)\n",
    "plt.plot(xlimits, y_res)\n",
    "\n",
    "plt.xlabel(r'$\\nu\\, L_\\nu, 8\\mu m$')\n",
    "plt.ylabel('L[O III]')\n",
    "\n",
    "plt.xlim(40.3, 44.5)\n",
    "plt.ylim(38.0, 43.5)"
   ]
  },
  {
   "cell_type": "code",
   "execution_count": 12,
   "metadata": {
    "ExecuteTime": {
     "end_time": "2019-08-08T14:53:40.393876Z",
     "start_time": "2019-08-08T14:52:55.138654Z"
    }
   },
   "outputs": [
    {
     "name": "stdout",
     "output_type": "stream",
     "text": [
      "Only our data: alpha: -12.582±1.906, beta: +0.369±0.044, sig^2: 0.050\n",
      "All the data: alpha: -12.038±1.275, beta: +0.357±0.030, sig^2: 0.048\n"
     ]
    },
    {
     "data": {
      "text/plain": [
       "(2.3, 4.7)"
      ]
     },
     "execution_count": 12,
     "metadata": {},
     "output_type": "execute_result"
    },
    {
     "data": {
      "image/png": "[encoded data removed]",
      "text/plain": [
       "<Figure size 432x288 with 1 Axes>"
      ]
     },
     "metadata": {
      "needs_background": "light"
     },
     "output_type": "display_data"
    }
   ],
   "source": [
    "# L_IR and R_ENLR relation\n",
    "\n",
    "import numpy as np\n",
    "import astropy.units as u\n",
    "from astropy.table import Table\n",
    "import matplotlib.pyplot as plt\n",
    "from ltsfit.lts_linefit import lts_linefit\n",
    "from mangatools import linmix\n",
    "\n",
    "# preset for plot\n",
    "fs = 16\n",
    "lw = 2\n",
    "ms = 4\n",
    "pa = 0.8 # point alpha\n",
    "ea = 0.1 #errorbar alpha\n",
    "\n",
    "fig, ax = plt.subplots(1,1, figsize=(6, 4))\n",
    "#ax.tick_params(axis='both', which='major', labelsize=fs)\n",
    "#ax.tick_params(axis='both', which='minor', labelsize=fs-1)\n",
    "\n",
    "X_all = [] #include all the data points\n",
    "X_all_err = []\n",
    "Y_all = []\n",
    "Y_all_err = []\n",
    "Y_delta = []\n",
    "\n",
    "# default error, use for fitting\n",
    "x_err_default = 0.2*np.log(10) # 20% error\n",
    "y_err_default = 0.2*np.log(10) # 20% error\n",
    "\n",
    "\n",
    "if True: #read our data\n",
    "    #this_Ldata = Table.read('data/LO3-2019-06-25.dat', format=\"ascii\")\n",
    "    this_Rdata = Table.read('data/R_fsb-(10)-2019-06-19.dat', format='ascii')\n",
    "    \n",
    "    #this_L = this_Ldata['LO3_redcorr'].data\n",
    "    #this_L_err = 0.5 * (this_Ldata['LO3_redcorr_err_up'].data + this_Ldata['LO3_redcorr_err_low'].data)\n",
    "    this_L = np.array(L_IR)\n",
    "    this_L_err = np.array(L_IR_err)\n",
    "    \n",
    "    this_r = this_Rdata['logR_fsb2_orig'].data\n",
    "    this_r_err = this_Rdata['logR_fsb2_orig_err'].data\n",
    "\n",
    "    this_islimit = this_Rdata['is_limit'].data == 1\n",
    "    this_r[this_islimit] = this_Rdata['logR_fsb1'].data[this_islimit]\n",
    "\n",
    "    is_valid = (this_L > 38) & (this_L < 45) & (this_r > 2.0) & (this_r < 5.0) & (this_L_err < 2) & (this_r_err < 1) #& ~this_islimit\n",
    "    this_L = this_L[is_valid]\n",
    "    this_L_err = this_L_err[is_valid]\n",
    "    this_r = this_r[is_valid]\n",
    "    this_r_err = this_r_err[is_valid]\n",
    "    this_islimit = this_islimit[is_valid]\n",
    "    \n",
    "    X_all.append(this_L)\n",
    "    X_all_err.append(this_L_err)\n",
    "    Y_all.append(this_r)\n",
    "    Y_all_err.append(this_r_err)\n",
    "    Y_delta.append(~this_islimit)\n",
    "    \n",
    "    color = 'C0'\n",
    "    marker = 'o'\n",
    "    ax.plot(this_L, this_r, marker=marker, alpha=pa, label='This Work', \n",
    "            color=color, lw=lw, ms=ms, linestyle='None')\n",
    "    plt.errorbar(this_L, this_r, xerr=this_L_err, uplims=this_islimit,\n",
    "                 yerr=this_r_err, ls='None', label=None, alpha=ea, color=color)\n",
    "    \n",
    "if True: #read the data from Liu2013\n",
    "    liu2013 = Table.read('data/Liu2013.txt', format='ascii')\n",
    "    liu2013_corr = Table.read('data/liu2013_R_fsb-10-2019-06-25.dat', format='ascii')\n",
    "    liu13_L5um = liu2013['vLv5um'].data\n",
    "    liu13_L12um = liu2013['vLv12um'].data\n",
    "    liu13_L = (liu13_L12um - liu13_L5um)/(12. - 4.6) * (8 - 4.6) + liu13_L5um # vLv8um\n",
    "    liu13_L_err = np.full_like(liu13_L, 0.01)\n",
    "    liu13_r = liu2013_corr['logR_fsb2_orig'].data\n",
    "    liu13_r_err = liu2013_corr['logR_fsb2_orig_err'].data + 0.2/np.log(10)\n",
    "    #liu13_islimit = np.full(liu13_r.shape, False)\n",
    "    liu13_islimit = liu2013_corr['is_limit'].data == 1\n",
    "    liu13_islimit = np.array([0, 0, 0, 0, 0, 1, 1, 0, 0, 1, 1, 0, 1, 1], dtype=bool) | liu13_islimit\n",
    "    liu13_r[liu13_islimit] = liu2013_corr['logR_fsb1'].data[liu13_islimit]\n",
    "    # only use the first 10 targets\n",
    "    liu13_L = liu13_L[:10]\n",
    "    liu13_L_err = liu13_L_err[:10]\n",
    "    liu13_r = liu13_r[:10]\n",
    "    liu13_r_err = liu13_r_err[:10]\n",
    "    liu13_islimit = liu13_islimit[:10]\n",
    "    \n",
    "    X_all.append(liu13_L)\n",
    "    X_all_err.append(np.full_like(liu13_L, x_err_default))\n",
    "    Y_all.append(liu13_r)\n",
    "    Y_all_err.append(liu13_r_err)\n",
    "    Y_delta.append(~liu13_islimit)\n",
    "    \n",
    "    color = 'C5'\n",
    "    marker = 's'\n",
    "    ax.plot(liu13_L, liu13_r, marker=marker, alpha=pa, label='Liu 2013', \n",
    "            color=color, lw=lw, ms=ms, linestyle='None')\n",
    "    plt.errorbar(liu13_L, liu13_r, yerr=liu13_r_err, xerr=liu13_L_err,\n",
    "                 ls='None', label=None, alpha=ea, color=color, uplims=liu13_islimit)\n",
    "    \n",
    "if True: #read the data from Liu2014\n",
    "    liu2014 = Table.read('data/Liu2014.txt', format='ascii')\n",
    "    liu2014_corr = Table.read('data/liu2014_R_fsb-10-2019-06-25.dat', format='ascii')\n",
    "    liu14_L = liu2014['vLv8um'].data\n",
    "    liu14_L_err = np.full_like(liu14_L, 0.01)\n",
    "\n",
    "    liu14_r = liu2014_corr['logR_fsb2_orig'].data\n",
    "    #liu14_valid = (liu14_r > 0)\n",
    "    liu14_r_err = liu2014_corr['logR_fsb2_orig_err'].data + 0.2/np.log(10)\n",
    "    liu14_islimit = liu2014_corr['is_limit'].data == 1\n",
    "    liu14_islimit = np.array([0, 1, 1, 1, 0, 0, 0, 0, 0, 0, 1, 0], dtype=bool) | liu14_islimit\n",
    "    liu14_r[liu14_islimit] = liu2014_corr['logR_fsb1'].data[liu14_islimit]\n",
    "    liu14_r_err[liu14_islimit] = 0.2\n",
    "    \n",
    "    X_all.append(liu14_L)\n",
    "    X_all_err.append(np.full_like(liu14_L, x_err_default))\n",
    "    Y_all.append(liu14_r)\n",
    "    Y_all_err.append(liu14_r_err)\n",
    "    Y_delta.append(~liu14_islimit)\n",
    "    \n",
    "    color = 'C6'\n",
    "    marker = 'D'\n",
    "    ax.plot(liu14_L, liu14_r, marker=marker, alpha=pa, label='Liu 2014', \n",
    "            color=color, lw=lw, ms=ms, linestyle='None')\n",
    "    plt.errorbar(liu14_L, liu14_r, yerr=liu14_r_err, xerr=liu14_L_err,\n",
    "                 ls='None', label=None, alpha=ea, color=color, uplims=liu14_islimit)\n",
    "\n",
    "\n",
    "if True: #only fit our data\n",
    "    xfit = this_L\n",
    "    xfit_err = this_L_err\n",
    "    yfit = this_r\n",
    "    yfit_err = this_r_err\n",
    "    ydelta = ~this_islimit\n",
    "\n",
    "    lm = linmix.LinMix(xfit, yfit, xfit_err, yfit_err, delta=ydelta, K=2)\n",
    "    lm.run_mcmc(silent=True)\n",
    "    xs = np.arange(38,48)\n",
    "    curves = []\n",
    "    for i in range(0, len(lm.chain)):\n",
    "        curves.append(lm.chain[i]['alpha'] + xs * lm.chain[i]['beta'] + lm.chain[i]['sigsqr'])\n",
    "\n",
    "    # Plot 95% confidence interval\n",
    "    alpha, alpha_err = np.mean(lm.chain['alpha']), np.std(lm.chain['alpha'])\n",
    "    beta, beta_err = np.mean(lm.chain['beta']), np.std(lm.chain['beta'])\n",
    "    sigsqr = np.mean(lm.chain['sigsqr'])\n",
    "    print(r\"Only our data: alpha: {:+.3f}±{:.3f}, beta: {:+.3f}±{:.3f}, sig^2: {:.3f}\".format(\n",
    "            alpha, alpha_err, beta, beta_err, sigsqr))\n",
    "    ax.plot(xs, alpha + xs * beta + sigsqr, 'k:', alpha=0.8, label='Linear fitting (only this work)')\n",
    "    \n",
    "if True:\n",
    "    xfit = np.concatenate(X_all)\n",
    "    xfit_err = np.concatenate(X_all_err)\n",
    "    yfit = np.concatenate(Y_all)\n",
    "    yfit_err = np.concatenate(Y_all_err)\n",
    "    ydelta = np.concatenate(Y_delta)\n",
    "\n",
    "    lm = linmix.LinMix(xfit, yfit, xfit_err, yfit_err, delta=ydelta, K=2)\n",
    "    lm.run_mcmc(silent=True)\n",
    "    \n",
    "    #for i in range(0, len(lm.chain), 25):\n",
    "    #    xs = np.arange(38,46)\n",
    "    #    ys = lm.chain[i]['alpha'] + xs * lm.chain[i]['beta']\n",
    "    #    ax.plot(xs, ys, color='r', alpha=0.02)\n",
    "    curves = []\n",
    "    xs = np.arange(38,48)\n",
    "    for i in range(0, len(lm.chain)):\n",
    "        curves.append(lm.chain[i]['alpha'] + xs * lm.chain[i]['beta'] + lm.chain[i]['sigsqr'])\n",
    "\n",
    "    # Plot 95% confidence interval\n",
    "    lo, hi = np.percentile(curves, (2.5, 97.5), axis=0)\n",
    "    #lo, hi = np.percentile(curves, (17, 83), axis=0)\n",
    "    ax.fill_between(xs, lo, hi, color='red', alpha=0.2)\n",
    "    #ax.fill_between(xs, lo, hi, color='mistyrose', alpha=0.2)\n",
    "    alpha, alpha_err = np.mean(lm.chain['alpha']), np.std(lm.chain['alpha'])\n",
    "    beta, beta_err = np.mean(lm.chain['beta']), np.std(lm.chain['beta'])\n",
    "    sigsqr = np.mean(lm.chain['sigsqr'])\n",
    "    print(r\"All the data: alpha: {:+.3f}±{:.3f}, beta: {:+.3f}±{:.3f}, sig^2: {:.3f}\".format(\n",
    "            alpha, alpha_err, beta, beta_err, sigsqr))\n",
    "    ax.plot(xs, alpha + xs * beta + sigsqr, 'k-', alpha=0.8, label='Linear fitting (all IFU)')\n",
    "\n",
    "plt.xlabel(r'$\\nu\\, L_{\\nu, 8\\mu m}$')\n",
    "#ax.set_xlabel(r\"${\\rm Log(L[O\\,III])}$\", fontsize=fs)\n",
    "ax.set_ylabel(r\"Log(R$_{16}$)/pc\")\n",
    "ax.legend(loc='lower right')\n",
    "\n",
    "plt.xlim(41, 46.5)\n",
    "plt.ylim(2.3, 4.7)\n",
    "\n",
    "#plt.savefig('./results/LIR-R.pdf', bbox_inches='tight')"
   ]
  },
  {
   "cell_type": "code",
   "execution_count": 274,
   "metadata": {
    "ExecuteTime": {
     "end_time": "2019-06-28T14:58:07.883980Z",
     "start_time": "2019-06-28T14:58:07.830239Z"
    }
   },
   "outputs": [
    {
     "data": {
      "text/plain": [
       "array([44.89108108, 44.76189189, 44.66297297, 44.94324324, 45.11324324,\n",
       "       44.91162162, 44.73027027, 45.63243243, 45.06216216, 45.16648649])"
      ]
     },
     "execution_count": 274,
     "metadata": {},
     "output_type": "execute_result"
    }
   ],
   "source": [
    "liu13_L"
   ]
  },
  {
   "cell_type": "code",
   "execution_count": null,
   "metadata": {
    "ExecuteTime": {
     "end_time": "2019-06-27T06:26:07.531200Z",
     "start_time": "2019-06-27T06:24:57.270463Z"
    }
   },
   "outputs": [],
   "source": [
    "nsa_catalog = Table.read('/Volumes/Lacie2/other/nsa_v1_0_1.fits')"
   ]
  },
  {
   "cell_type": "code",
   "execution_count": 95,
   "metadata": {
    "ExecuteTime": {
     "end_time": "2019-06-27T06:51:55.787942Z",
     "start_time": "2019-06-27T06:51:55.717393Z"
    }
   },
   "outputs": [],
   "source": [
    "select = (nsa_catalog['NSAID'] == m.drp['nsa_nsaid'])"
   ]
  },
  {
   "cell_type": "code",
   "execution_count": null,
   "metadata": {
    "ExecuteTime": {
     "end_time": "2019-06-27T12:10:21.424367Z",
     "start_time": "2019-06-27T12:09:43.797883Z"
    },
    "scrolled": true
   },
   "outputs": [],
   "source": [
    "# Generate the photometry from GALEX and SDSS and WISE\n",
    "\n",
    "from mangatools.maps import Maps\n",
    "import pathlib\n",
    "\n",
    "wise_wave = [3.4, 4.6, 12, 22]\n",
    "wise_f0 = np.array([309.54, 171.787, 31.674, 8.363])\n",
    "\n",
    "targets = Table.read('data/AGNs-2019-04-26.dat', format='ascii')\n",
    "\n",
    "#i_base = 1\n",
    "#targets = targets[i_base: i_base+1]\n",
    "\n",
    "if True:\n",
    "    for i, target in enumerate(targets[:]):\n",
    "        #i = i + i_base\n",
    "        pathlib.Path('./cjh_photometry/{}'.format(i)).mkdir(parents=True, exist_ok=True)\n",
    "\n",
    "        f = open('cjh_photometry/{0}/{0}.txt'.format(i), 'w+')\n",
    "        f.write(\"# id redshift FUV FUV_err NUV NUV_err u_prime u_prime_err g_prime g_prime_err r_prime r_prime_err i_prime i_prime_err z_prime z_prime_err WISE1 WISE1_err WISE2 WISE2_err WISE3 WISE3_err WISE4 WISE4_err\\n\")\n",
    "        \n",
    "        plateifu = target['plateifu']\n",
    "        print(i, plateifu)\n",
    "        m = Maps(plateifu)\n",
    "        select = (nsa_catalog['NSAID'] == m.drp['nsa_nsaid'])\n",
    "        sdss_flux = nsa_catalog['ELPETRO_FLUX'][select][0] * 1e-3\n",
    "        sdss_flux_err = np.sqrt(1/nsa_catalog['ELPETRO_FLUX_IVAR'][select][0]) * 1e-3\n",
    "        \n",
    "        wise_pho = fixdata(tt[i]['w1mpro', 'w2mpro', 'w3mpro', 'w4mpro']) \n",
    "        wise_pho_err = fixdata(tt[i]['w1sigmpro', 'w2sigmpro', 'w3sigmpro', 'w4sigmpro'])\n",
    "        wise_flux = wise_f0 * 10**(-wise_pho/2.5) * 1e3\n",
    "        wise_flux_err = wise_f0 * 10**(-wise_pho/2.5) * np.log(10) / 2.5 * wise_pho_err  * 1e3\n",
    "        \n",
    "        #print(sdss_flux)\n",
    "        #print(sdss_flux_err)\n",
    "        #print(wise_flux)\n",
    "        #print(wise_flux_err)\n",
    "        f.write(\"{} {} {} {} {} {} {} {} {} {} {} {} {} {} {} {} {} {} {} {} {} {} {} {}\\n\".format(i, m.z, *np.array(list(zip(sdss_flux, sdss_flux_err))).flatten(), *np.array(list(zip(wise_flux, wise_flux_err))).flatten()))\n",
    "        f.close()"
   ]
  },
  {
   "cell_type": "markdown",
   "metadata": {
    "heading_collapsed": true
   },
   "source": [
    "# Jets"
   ]
  },
  {
   "cell_type": "code",
   "execution_count": null,
   "metadata": {
    "ExecuteTime": {
     "end_time": "2019-06-28T06:57:17.732138Z",
     "start_time": "2019-06-28T06:56:50.340342Z"
    },
    "hidden": true
   },
   "outputs": [],
   "source": [
    "targets = Table.read('data/AGNs-2019-04-26.dat', format='ascii')\n",
    "\n",
    "flux_tot = []\n",
    "flux_tot_err = []\n",
    "\n",
    "for i, target in enumerate(targets[:]):\n",
    "    res1 = Table.read('/Volumes/DATA/cjh_photometry/{}/final/results.fits'.format(i))\n",
    "    res2 = Table.read('/Volumes/DATA/cjh_photometry/{}/agn_final/results.fits'.format(i))\n",
    "    if res1['best.reduced_chi_square'] > res2['best.reduced_chi_square']:\n",
    "        res = res2\n",
    "    else:\n",
    "        res = res1\n",
    "    flux, flux_err = res['bayes.agn.luminosity', 'bayes.agn.luminosity_err'][0]\n",
    "    flux_tot.append(flux)\n",
    "    flux_tot_err.append(flux_err)\n",
    "L_tot = np.log10(np.array(flux_tot) * 1e7)\n",
    "L_tot_err = np.array(flux_tot_err) * 1e7 / (np.array(flux_tot) * 1e7) / np.log(10)   "
   ]
  },
  {
   "cell_type": "markdown",
   "metadata": {
    "hidden": true
   },
   "source": [
    "## 4400\\AA luminosity"
   ]
  },
  {
   "cell_type": "code",
   "execution_count": 175,
   "metadata": {
    "ExecuteTime": {
     "end_time": "2019-06-28T06:22:25.970169Z",
     "start_time": "2019-06-28T06:22:25.797713Z"
    },
    "hidden": true,
    "scrolled": true
   },
   "outputs": [
    {
     "data": {
      "text/html": [
       "<i>Table length=1</i>\n",
       "<table id=\"table5221396096\" class=\"table-striped table-bordered table-condensed\">\n",
       "<thead><tr><th>id</th><th>bayes.agn.luminosity</th><th>bayes.agn.luminosity_err</th><th>bayes.agn.therm_luminosity</th><th>bayes.agn.therm_luminosity_err</th><th>bayes.agn.fracAGN</th><th>bayes.agn.fracAGN_err</th><th>best.chi_square</th><th>best.reduced_chi_square</th><th>best.agn.agn_luminosity</th><th>best.agn.beta</th><th>best.agn.fracAGN</th><th>best.agn.gamma</th><th>best.agn.luminosity</th><th>best.agn.opening_angle</th><th>best.agn.psy</th><th>best.agn.r_ratio</th><th>best.agn.scatt_luminosity</th><th>best.agn.tau</th><th>best.agn.therm_luminosity</th><th>best.attenuation.B_B90</th><th>best.attenuation.E_BVs.stellar.old</th><th>best.attenuation.E_BVs.stellar.young</th><th>best.attenuation.FUV</th><th>best.attenuation.V_B90</th><th>best.attenuation.ebvs_old_factor</th><th>best.attenuation.powerlaw_slope</th><th>best.attenuation.stellar.old</th><th>best.attenuation.stellar.young</th><th>best.attenuation.uv_bump_amplitude</th><th>best.attenuation.uv_bump_wavelength</th><th>best.attenuation.uv_bump_width</th><th>best.dust.alpha</th><th>best.dust.gamma</th><th>best.dust.luminosity</th><th>best.dust.mass</th><th>best.dust.qpah</th><th>best.dust.umin</th><th>best.sfh.age</th><th>best.sfh.burst_age</th><th>best.sfh.f_burst</th><th>best.sfh.integrated</th><th>best.sfh.sfr</th><th>best.sfh.sfr100Myrs</th><th>best.sfh.sfr10Myrs</th><th>best.sfh.tau_burst</th><th>best.sfh.tau_main</th><th>best.stellar.age_m_star</th><th>best.stellar.imf</th><th>best.stellar.lum</th><th>best.stellar.lum_ly</th><th>best.stellar.lum_ly_old</th><th>best.stellar.lum_ly_young</th><th>best.stellar.lum_old</th><th>best.stellar.lum_young</th><th>best.stellar.m_gas</th><th>best.stellar.m_gas_old</th><th>best.stellar.m_gas_young</th><th>best.stellar.m_star</th><th>best.stellar.m_star_old</th><th>best.stellar.m_star_young</th><th>best.stellar.metallicity</th><th>best.stellar.n_ly</th><th>best.stellar.n_ly_old</th><th>best.stellar.n_ly_young</th><th>best.stellar.old_young_separation_age</th><th>best.universe.age</th><th>best.universe.luminosity_distance</th><th>best.universe.redshift</th><th>best.FUV</th><th>best.NUV</th><th>best.u_prime</th><th>best.g_prime</th><th>best.r_prime</th><th>best.i_prime</th><th>best.z_prime</th><th>best.WISE1</th><th>best.WISE2</th><th>best.WISE3</th><th>best.WISE4</th></tr></thead>\n",
       "<thead><tr><th></th><th></th><th></th><th></th><th></th><th></th><th></th><th></th><th></th><th></th><th></th><th></th><th></th><th></th><th></th><th></th><th></th><th></th><th></th><th></th><th></th><th></th><th></th><th></th><th></th><th></th><th></th><th></th><th></th><th></th><th></th><th></th><th></th><th></th><th></th><th></th><th></th><th></th><th></th><th></th><th></th><th></th><th></th><th></th><th></th><th></th><th></th><th></th><th></th><th></th><th></th><th></th><th></th><th></th><th></th><th></th><th></th><th></th><th></th><th></th><th></th><th></th><th></th><th></th><th></th><th></th><th></th><th></th><th></th><th>mJy</th><th>mJy</th><th>mJy</th><th>mJy</th><th>mJy</th><th>mJy</th><th>mJy</th><th>mJy</th><th>mJy</th><th>mJy</th><th>mJy</th></tr></thead>\n",
       "<thead><tr><th>int64</th><th>float64</th><th>float64</th><th>float64</th><th>float64</th><th>float64</th><th>float64</th><th>float64</th><th>float64</th><th>float64</th><th>float64</th><th>float64</th><th>float64</th><th>float64</th><th>float64</th><th>float64</th><th>float64</th><th>float64</th><th>float64</th><th>float64</th><th>float64</th><th>float64</th><th>float64</th><th>float64</th><th>float64</th><th>float64</th><th>float64</th><th>float64</th><th>float64</th><th>float64</th><th>float64</th><th>float64</th><th>float64</th><th>float64</th><th>float64</th><th>float64</th><th>float64</th><th>float64</th><th>float64</th><th>float64</th><th>float64</th><th>float64</th><th>float64</th><th>float64</th><th>float64</th><th>float64</th><th>float64</th><th>float64</th><th>float64</th><th>float64</th><th>float64</th><th>float64</th><th>float64</th><th>float64</th><th>float64</th><th>float64</th><th>float64</th><th>float64</th><th>float64</th><th>float64</th><th>float64</th><th>float64</th><th>float64</th><th>float64</th><th>float64</th><th>float64</th><th>float64</th><th>float64</th><th>float64</th><th>float64</th><th>float64</th><th>float64</th><th>float64</th><th>float64</th><th>float64</th><th>float64</th><th>float64</th><th>float64</th><th>float64</th><th>float64</th></tr></thead>\n",
       "<tr><td>1</td><td>1.3191315455363322e+37</td><td>9.383739770747507e+35</td><td>1.07884355031997e+37</td><td>9.914000571779584e+35</td><td>0.43254644340797727</td><td>0.026281145459230344</td><td>19.423740769032403</td><td>1.9423740769032403</td><td>2.308018485708164e+36</td><td>-0.25</td><td>0.45</td><td>4.0</td><td>1.3777290242479215e+37</td><td>140.0</td><td>20.1</td><td>150.0</td><td>4.352532580271556e+34</td><td>3.0</td><td>1.1425746430968335e+37</td><td>1.2643985457797113</td><td>0.25</td><td>0.25</td><td>2.569132881987268</td><td>1.0153041650353054</td><td>1.0</td><td>0.0</td><td>8.858381823272307e+36</td><td>5.1064193701334386e+36</td><td>1.0</td><td>217.5</td><td>35.0</td><td>2.8</td><td>0.02</td><td>1.3964801193405744e+37</td><td>9.545859813558333e+37</td><td>1.12</td><td>5.0</td><td>4520.0</td><td>1.0</td><td>0.0</td><td>33966950326.301613</td><td>2.945311645506657</td><td>3.032549276338252</td><td>2.953123108662302</td><td>20.0</td><td>1235.0</td><td>2472.3075853847904</td><td>1.0</td><td>2.548401977838699e+37</td><td>1.4448391667445247e+36</td><td>2.635112648331017e+34</td><td>1.4184880402612143e+36</td><td>1.8177538391116462e+37</td><td>7.306481387270526e+36</td><td>14573891640.876314</td><td>14572138689.156374</td><td>1752951.7199397215</td><td>19393058676.583176</td><td>19365280406.05873</td><td>27778270.524444275</td><td>0.02</td><td>4.359807394334932e+53</td><td>6.337882522998811e+51</td><td>4.296428569104944e+53</td><td>10.0</td><td>12693.611506079042</td><td>1.1266935008912497e+25</td><td>0.0806967</td><td>0.023233963892856712</td><td>0.03291728125986794</td><td>0.0733698331366696</td><td>0.25323704921470286</td><td>0.4741869290748326</td><td>0.6921463926144482</td><td>0.9376061407024942</td><td>3.3165817082820435</td><td>4.3743768039667765</td><td>10.595982287314676</td><td>25.568622849140276</td></tr>\n",
       "</table>"
      ],
      "text/plain": [
       "<Table length=1>\n",
       "  id   bayes.agn.luminosity  ...     best.WISE3         best.WISE4    \n",
       "                             ...        mJy                mJy        \n",
       "int64        float64         ...      float64            float64      \n",
       "----- ---------------------- ... ------------------ ------------------\n",
       "    1 1.3191315455363322e+37 ... 10.595982287314676 25.568622849140276"
      ]
     },
     "execution_count": 175,
     "metadata": {},
     "output_type": "execute_result"
    }
   ],
   "source": [
    "tab = Table.read('/Volumes/DATA/cjh_photometry/1/final/results.fits')\n",
    "tab[:2]"
   ]
  },
  {
   "cell_type": "code",
   "execution_count": 2,
   "metadata": {
    "ExecuteTime": {
     "end_time": "2019-06-16T15:59:46.735441Z",
     "start_time": "2019-06-16T15:14:20.564203Z"
    },
    "hidden": true,
    "scrolled": true
   },
   "outputs": [
    {
     "name": "stdout",
     "output_type": "stream",
     "text": [
      "0 7495-1902\n",
      "1 7815-6104\n",
      "2 7991-6104\n",
      "3 7991-3702\n",
      "4 8132-6101\n",
      "5 8247-6101\n",
      "6 8137-3702\n",
      "7 8141-1901\n",
      "8 8143-6101\n",
      "9 8256-12704\n",
      "10 8249-3704\n",
      "11 8319-12705\n",
      "12 8341-12704\n",
      "13 8439-6104\n",
      "14 8452-1901\n",
      "15 8483-12703\n",
      "16 8482-12704\n",
      "17 8549-12701\n",
      "18 8465-12704\n",
      "26 8606-12701\n",
      "27 8314-3704\n",
      "28 8611-3704\n",
      "29 7992-9102\n",
      "30 8603-6101\n",
      "31 8612-12704\n",
      "32 8588-12704\n",
      "33 8602-12701\n",
      "34 8077-6103\n",
      "35 8147-6102\n",
      "36 8146-12705\n",
      "37 8084-6103\n",
      "38 8718-12702\n",
      "39 8718-12701\n",
      "40 8725-9102\n",
      "41 10001-6102\n",
      "42 8715-3702\n",
      "43 8255-6101\n",
      "44 8241-9102\n",
      "45 8241-6102\n",
      "46 8720-1901\n",
      "47 8547-12701\n",
      "48 8978-12705\n",
      "49 8978-6102\n",
      "50 8978-9101\n",
      "51 8979-6102\n",
      "52 8948-12704\n",
      "53 8946-3701\n",
      "54 8947-3701\n",
      "55 8945-3703\n",
      "56 8597-3703\n",
      "57 9026-9101\n",
      "58 9049-1901\n",
      "59 9002-12702\n",
      "60 9031-1902\n",
      "61 9027-12704\n",
      "62 8982-3703\n",
      "63 7972-6103\n",
      "64 9025-12704\n",
      "65 7958-9101\n",
      "66 9195-3703\n",
      "67 8080-12703\n",
      "68 9182-6102\n",
      "69 9193-12701\n",
      "70 8940-12702\n",
      "71 9183-3703\n",
      "72 8993-12705\n",
      "73 8992-3702\n",
      "74 9485-12705\n",
      "75 9487-3702\n",
      "76 8989-3703\n",
      "77 8984-9102\n",
      "78 8983-12701\n",
      "79 8311-6104\n",
      "80 8309-12701\n",
      "81 9507-12704\n",
      "82 9507-12705\n",
      "83 9508-12704\n",
      "84 9508-3704\n",
      "85 9024-12705\n",
      "86 9488-3702\n",
      "87 9502-9101\n",
      "88 9502-12703\n",
      "89 9511-12704\n",
      "90 9511-6104\n",
      "91 8990-12705\n",
      "92 8990-9101\n",
      "93 8442-9102\n",
      "94 9048-1902\n",
      "95 9095-12701\n",
      "96 9196-12703\n",
      "97 9881-1901\n",
      "98 9883-12701\n",
      "99 9888-12701\n",
      "100 9893-6102\n",
      "101 8656-12705\n",
      "102 8656-12702\n",
      "103 9498-3703\n",
      "104 10216-3704\n",
      "105 10216-12704\n",
      "106 10218-1902\n",
      "107 10221-6104\n",
      "108 9503-12701\n",
      "109 9503-6102\n",
      "110 9503-3704\n",
      "111 9499-12703\n",
      "112 9499-6104\n",
      "113 9499-6101\n",
      "114 10215-1902\n",
      "115 9495-1901\n",
      "116 8723-6104\n",
      "117 9489-6104\n",
      "118 8998-12705\n",
      "119 8981-6104\n",
      "120 8988-6102\n",
      "121 10514-12705\n",
      "122 10514-9102\n",
      "123 10510-12704\n",
      "124 10510-6103\n",
      "125 10493-3704\n",
      "126 9884-3704\n",
      "127 10494-12701\n",
      "128 10508-12703\n",
      "129 10508-6101\n",
      "130 10492-12702\n",
      "131 10492-6103\n",
      "132 9882-9102\n",
      "133 9882-3701\n",
      "134 10503-12703\n",
      "135 9091-3704\n",
      "136 9091-12703\n",
      "137 8337-1901\n",
      "138 9885-3703\n",
      "139 8334-3703\n",
      "140 8260-1901\n",
      "141 9892-3703\n",
      "142 8324-6104\n",
      "143 8614-12703\n",
      "144 8614-3703\n",
      "145 9092-1902\n",
      "146 9032-12701\n",
      "147 9032-12702\n",
      "148 8593-12705\n",
      "149 9090-9102\n",
      "150 9090-3701\n",
      "151 8651-1902\n"
     ]
    }
   ],
   "source": [
    "targets = Table.read('data/AGNs-2019-04-26.dat', format='ascii')\n",
    "\n",
    "Lv_4400 = []\n",
    "\n",
    "for idx, plateifu in enumerate(targets['plateifu'][:]):\n",
    "    #plateifu = '7495-1902'\n",
    "    print(idx, plateifu)\n",
    "    m = maps.Maps(plateifu)\n",
    "    dc = datacube.Datacube(plateifu)\n",
    "    sp = dc.stack2(m.mask, vmap=m.vfield())\n",
    "    wave_wind = (sp.wave/(1+sp.z) < 4460) & (sp.wave/(1+sp.z) > 4430)\n",
    "    wave_select = sp.wave[wave_wind]\n",
    "    flux = 1e-17 / u.angstrom * np.sum(dc.flux[wave_wind])/(wave_select[-1] - wave_select[0]) * 4400**2 *u.angstrom**2 / const.c.to(u.angstrom/u.s)\n",
    "    Lv = flux / u.cm**2 * 4*np.pi*(m.d**2).to(u.cm**2)\n",
    "    Lv_4400.append(Lv.value)\n",
    "    \n",
    "Lv_4400 = np.array(Lv_4400)\n",
    "np.savetxt('data/Lv.txt', Lv_4400)"
   ]
  },
  {
   "cell_type": "code",
   "execution_count": 216,
   "metadata": {
    "ExecuteTime": {
     "end_time": "2019-06-28T07:28:12.782711Z",
     "start_time": "2019-06-28T07:28:12.710485Z"
    },
    "hidden": true
   },
   "outputs": [],
   "source": [
    "this_Ldata = Table.read('data/LO3-2019-06-25.dat', format=\"ascii\")\n",
    "#this_Rdata = Table.read('data/R_fsb-2019-04-29.dat', format='ascii')\n",
    "this_Rdata = Table.read('data/R_fsb-(10)-2019-06-19.dat', format='ascii')\n"
   ]
  },
  {
   "cell_type": "markdown",
   "metadata": {
    "hidden": true
   },
   "source": [
    "## Radio luminosity"
   ]
  },
  {
   "cell_type": "code",
   "execution_count": 217,
   "metadata": {
    "ExecuteTime": {
     "end_time": "2019-06-28T07:28:52.201705Z",
     "start_time": "2019-06-28T07:28:32.943982Z"
    },
    "hidden": true
   },
   "outputs": [
    {
     "name": "stdout",
     "output_type": "stream",
     "text": [
      "sig_int:     0.0000      0.8451\n",
      "Computing sig_int\n",
      "sig_int:     0.0000      0.8451\n",
      "sig_int:     0.5643     -0.5643\n",
      "sig_int:     0.3384     -0.1666\n",
      "sig_int:     0.2593      0.0686\n",
      "sig_int:     0.2824     -0.0062\n",
      "sig_int:     0.2805     -0.0002\n",
      "sig_int:     0.2803      0.0002\n",
      "Computing sig_int error\n",
      "sig_int:     0.2805      0.1294\n",
      "sig_int:     0.5643     -0.4346\n",
      "sig_int:     0.3456     -0.0555\n",
      "sig_int:     0.3261     -0.0043\n",
      "sig_int:     0.3245      0.0000\n",
      "sig_int:     0.3247     -0.0004\n",
      "Repeat at best fitting solution\n",
      "sig_int:     0.2805     -0.0002\n",
      "################# Values and formal errors ################\n",
      " intercept:  4.2 +/- 2.9\n",
      "     slope:  0.85 +/- 0.067\n",
      "   scatter:  0.28 +/- 0.044\n",
      "Observed rms scatter: 0.465 \n",
      "Spearman r=0.73 and p=3.8e-21\n",
      "Pearson r=0.71 and p=1.1e-19\n",
      "##########################################################\n",
      "seconds 18.85\n"
     ]
    },
    {
     "data": {
      "image/png": "[encoded data removed]",
      "text/plain": [
       "<Figure size 432x288 with 1 Axes>"
      ]
     },
     "metadata": {
      "needs_background": "light"
     },
     "output_type": "display_data"
    }
   ],
   "source": [
    "# plot L[O III] vs L_tot\n",
    "this_L = this_Ldata['LO3_redcorr'].data\n",
    "this_L_err = 0.5 * (this_Ldata['LO3_redcorr_err_up'].data + this_Ldata['LO3_redcorr_err_low'].data)\n",
    "\n",
    "if True: # do the linear fitting\n",
    "    xfit = np.array(L_tot)\n",
    "    xfit_err = np.array(L_tot_err)\n",
    "\n",
    "    yfit = this_L\n",
    "    yfit_err = this_L_err\n",
    "\n",
    "    ss = (xfit < 1e4) & (xfit > 1e-4) & (yfit > 0) & (yfit < 1e4) & (xfit_err < 2) & (yfit_err < 2)\n",
    "\n",
    "    p = lts_linefit(xfit[ss], yfit[ss], xfit_err[ss], yfit_err[ss], clip=3, epsy=True, corr=True, frac=None, \n",
    "                        pivot=0, plot=False, text=False)\n",
    "    xlimits = np.linspace(42., 46.5, 100)\n",
    "    y_res = p.ab[0] + p.ab[1]*xlimits\n",
    "    plt.errorbar(xfit[ss], yfit[ss], xerr=xfit_err[ss], yerr=yfit_err[ss], ls='None', marker='o', alpha=0.2)\n",
    "    plt.plot(xlimits, y_res)\n",
    "\n",
    "    plt.xlabel(r'$L_{tot}$')\n",
    "    plt.ylabel('L[O III]')\n",
    "\n",
    "    plt.xlim(40.3, 44.5)\n",
    "    plt.ylim(38.0, 43.5)"
   ]
  },
  {
   "cell_type": "code",
   "execution_count": 328,
   "metadata": {
    "ExecuteTime": {
     "end_time": "2019-07-18T02:56:23.441359Z",
     "start_time": "2019-07-18T02:56:19.724663Z"
    },
    "hidden": true
   },
   "outputs": [],
   "source": [
    "# calculate the radio luminosity\n",
    "targets = Table.read('data/AGNs-2019-04-26.dat', format='ascii')\n",
    "c_targets = SkyCoord(ra=targets['ra']*u.degree, dec=targets['dec']*u.degree)\n",
    "\n",
    "first = Table.read('data/first_14dec17.fits.gz')\n",
    "first[:3]\n",
    "\n",
    "c_first = SkyCoord(ra=first['RA'], dec=first['DEC'])\n",
    "\n",
    "idx, d2d, d3d = c_targets.match_to_catalog_sky(c_first)\n",
    "matched = d2d < 5*u.arcsec\n",
    "\n",
    "first_flux = np.zeros(len(targets))\n",
    "first_flux[matched] = first[idx]['FINT'][matched]"
   ]
  },
  {
   "cell_type": "code",
   "execution_count": 329,
   "metadata": {
    "ExecuteTime": {
     "end_time": "2019-07-18T02:57:50.328206Z",
     "start_time": "2019-07-18T02:57:11.263008Z"
    },
    "hidden": true,
    "scrolled": true
   },
   "outputs": [
    {
     "name": "stdout",
     "output_type": "stream",
     "text": [
      "7.092958774131178e+30 2.507541427709128e+30 39.985526009536294\n",
      "4.663404045242347e+30 1.648632003930388e+30 39.80340161899322\n",
      "3.347894334696144e+30 1.1835658442652636e+30 39.65947031635411\n",
      "1.0803052977444669e+30 3.819154142764217e+29 39.16824507974454\n",
      "2.5632872304231915e+30 9.061872662852529e+29 39.54349584789228\n",
      "1.0380971470737838e+31 3.6699375890465597e+30 40.15093657140208\n",
      "5.426835724339623e+30 1.9185245302402425e+30 39.86924524915435\n"
     ]
    }
   ],
   "source": [
    "# calculate the radio loudness\n",
    "LO3data = Table.read('data/LO3-2019-04-29.dat', format=\"ascii\")\n",
    "Lv_4400 = np.array(Lv_4400)\n",
    "\n",
    "Lv_5GHz_list = []\n",
    "Lv_first_list = []\n",
    "loudness = []\n",
    "for idx, gal in enumerate(LO3data[:]):\n",
    "    plateifu = gal['plateifu']\n",
    "    m = maps.Maps(plateifu)\n",
    "    LO3 = gal['LO3_redcorr']\n",
    "    f_22cm = first_flux[idx] * 1e-26  # mJy to erg/s/cm^2/Hz, 22cm ~ 1.363GHz\n",
    "    f_5GHz = 10**(np.log10(f_22cm) - 0.8*(np.log10(5e9)-np.log10(1.363e9)))\n",
    "    Lv_22cm = f_22cm /(u.cm**2) * 4*np.pi*(m.d**2).to(u.cm**2) # 22cm luminosity\n",
    "    Lv_5GHz = f_5GHz /(u.cm**2) * 4*np.pi*(m.d**2).to(u.cm**2)\n",
    "    #print(Lv_22cm, Lv_5GHz)\n",
    "    #logL_22cm = np.log10(L_22cm.value+1e-8)\n",
    "    Lv_5GHz_list.append(Lv_5GHz)\n",
    "    Lv_first_list.append(np.log10(Lv_22cm * 3e10/22))\n",
    "    loudness.append(Lv_5GHz / Lv_4400[idx])\n",
    "    if loudness[-1] > 10:\n",
    "    #    print(m.ra, m.dec, LO3, Lv_5GHz, Lv_5GHz*5e9, Lv_5GHz / Lv_4400[idx])\n",
    "        print(Lv_22cm, Lv_5GHz, np.log10(Lv_22cm * 3e10/22))\n",
    "    #if Lv_22cm > 1:\n",
    "    #    print(Lv_22cm, Lv_5GHz)\n",
    "#first_L = np.array(first_L)\n",
    "\n",
    "if True: #save loudness\n",
    "    loudness = np.array(loudness)\n",
    "    np.savetxt('data/loudness.txt', loudness)\n",
    "    \n",
    "if True: # save Lv_22cm\n",
    "    Lv_first = np.array(Lv_first_list)\n",
    "    np.savetxt('data/Lv_first.txt', Lv_first)"
   ]
  },
  {
   "cell_type": "markdown",
   "metadata": {
    "hidden": true
   },
   "source": [
    "## Morphology with jet"
   ]
  },
  {
   "cell_type": "code",
   "execution_count": 60,
   "metadata": {
    "ExecuteTime": {
     "end_time": "2019-06-21T14:55:22.496388Z",
     "start_time": "2019-06-21T14:53:05.181129Z"
    },
    "code_folding": [],
    "hidden": true
   },
   "outputs": [
    {
     "name": "stdout",
     "output_type": "stream",
     "text": [
      "1 7815-6104\n",
      "12 8341-12704\n",
      "22 8318-6102\n",
      "38 8718-12702\n",
      "40 8725-9102\n",
      "42 8715-3702\n",
      "45 8241-6102\n",
      "71 9183-3703\n",
      "73 8992-3702\n",
      "74 9485-12705\n",
      "75 9487-3702\n",
      "79 8311-6104\n",
      "88 9502-12703\n",
      "94 9048-1902\n",
      "116 8723-6104\n",
      "135 9091-3704\n",
      "143 8614-12703\n",
      "146 9032-12701\n",
      "148 8593-12705\n",
      "150 9090-3701\n",
      "Done! Plot into results/Hbmap-2019-06-16.pdf\n"
     ]
    }
   ],
   "source": [
    "# Plot the Ha, to check the classification of type-I galaxies\n",
    "\n",
    "import matplotlib.backends.backend_pdf as mpdf\n",
    "\n",
    "fm_dir = '/Volumes/Lacie2/fitmaps/fitmap/' #set to your local folder\n",
    "fm_binned_dir = '/Volumes/Lacie2/fitmaps/fitmap2/' #set to your local folder\n",
    "save = True\n",
    "plot = True\n",
    "show_detail = True\n",
    "agn_type = []\n",
    "\n",
    "if save:\n",
    "    plt.ioff() #turnoff the inline plot, just save them to file\n",
    "    pdf = mpdf.PdfPages('results/Hbmap-{}.pdf'.format(today))\n",
    "    i=0\n",
    "\n",
    "targets = Table.read('data/AGNs-2019-04-26.dat', format='ascii')\n",
    "tot_num = len(targets[:])\n",
    "for i in range(tot_num):\n",
    "    plateifu = targets['plateifu'][i]\n",
    "    m = maps.Maps(plateifu)\n",
    "    fm = FitMaps(plateifu, fitmaps_dir=fm_dir, fitmaps_binned_dir=fm_binned_dir)\n",
    "    Hb_narrow = fm.line('Hbeta')\n",
    "    Hb_broad = fm.line('_Hbeta')\n",
    "    a, b = Hb_narrow[0].shape\n",
    "    ratio = Hb_broad[0, a//2, b//2] / Hb_narrow[0, a//2, b//2]\n",
    "    pixels_snr = np.sum((Hb_broad[0] / Hb_broad[1]) > 5)\n",
    "    pixels_vdisp = np.sum(Hb_broad[3] > 1000)\n",
    "    \n",
    "    if show_detail:\n",
    "        #print(\"{}: {}, ratio:{}, snr:{}, pixels:{}\")\n",
    "        if (ratio > 0) & (pixels_snr > 5) & (pixels_vdisp > 5):\n",
    "            print(i, plateifu)\n",
    "            agn_type.append(1)\n",
    "            plot = True\n",
    "        else:\n",
    "            agn_type.append(2)\n",
    "            plot = False\n",
    "    \n",
    "    if plot:\n",
    "        fig, ax = plt.subplots(2, 3, figsize=(8, 6))\n",
    "        plt.suptitle(\"{}: ratio={:.2f}, snr={:.2f}, pixels={}\".format(\n",
    "                      plateifu, ratio, pixels_snr, pixels_vdisp))\n",
    "        m.image(ax=ax[0,0], showImage=False, mini=True)\n",
    "        m.bpt2d(ax=ax[0,1], showImage=False, show_psf=True, mini=True)\n",
    "        m.line('Ha-6564', plot=True, ax=ax[0,2], showImage=False, redcorr=False, mini=True)\n",
    "        # fitting map\n",
    "        im10 = ax[1,0].imshow(Hb_narrow[0], origin='lower')\n",
    "        ax[1,0].set_title('Hb_narrow', fontsize=10)\n",
    "        fig.colorbar(im10, ax=ax[1,0], fraction=0.046, pad=0.04)\n",
    "        im11 = ax[1,1].imshow(Hb_broad[0], origin='lower')\n",
    "        ax[1,1].set_title('Hb_broad', fontsize=10)\n",
    "        fig.colorbar(im11, ax=ax[1,1], fraction=0.046, pad=0.04)\n",
    "        im12 = ax[1,2].imshow(Hb_narrow[0] + Hb_broad[0], origin='lower')\n",
    "        ax[1,2].set_title('Hb_narrow + Hb_broad', fontsize=10)\n",
    "        fig.colorbar(im12, ax=ax[1,2], fraction=0.046, pad=0.04)\n",
    "\n",
    "        plt.subplots_adjust(left=0.05, right=0.95, top=0.8, bottom=0.2)\n",
    "        if save:\n",
    "            pdf.savefig(fig)\n",
    "        plt.close()\n",
    "        #utils.processBar(tot_num-1, i)\n",
    "if save:\n",
    "    pdf.close()\n",
    "    %matplotlib inline\n",
    "    print(\"Done! Plot into results/Hbmap-{}.pdf\".format(today))\n",
    "\n",
    "#agn_type = np.array(agn_type)"
   ]
  },
  {
   "cell_type": "code",
   "execution_count": 55,
   "metadata": {
    "ExecuteTime": {
     "end_time": "2019-06-21T14:47:34.640131Z",
     "start_time": "2019-06-21T14:46:24.602537Z"
    },
    "hidden": true
   },
   "outputs": [],
   "source": [
    "LO3data = Table.read('data/LO3-2019-04-29.dat', format=\"ascii\")\n",
    "Rdata = Table.read('data/R_fsb(10)-2019-05-03.dat', format='ascii')\n",
    "\n",
    "LO3 = LO3data['LO3_redcorr']\n",
    "LO3_err = LO3data['LO3_redcorr_err_up']\n",
    "\n",
    "R = Rdata['logR_fsb2_orig']\n",
    "R_err = Rdata['logR_fsb2_orig_err']\n",
    "is_limit = Rdata['is_limit'].data == 1\n",
    "R[is_limit] = Rdata['logR_fsb1'].data[is_limit]\n",
    "\n",
    "#mcmc_fitting = Table.read('data/mcmc.txt', format='ascii')\n",
    "#is_converge = (mcmc_fitting['is_converge'] >= 1)\n",
    "\n",
    "#LO3 = LO3[is_converge]\n",
    "#LO3_err = LO3_err[is_converge]\n",
    "#R = R[is_converge]\n",
    "#R_err = R_err[is_converge]\n",
    "\n",
    "# plot the ENLR shape\n",
    "NLR_round = []\n",
    "NLR_twoside = []\n",
    "NLR_twoside_plateifu = []\n",
    "NLR_oneside = []\n",
    "NLR_unresolved = []\n",
    "all_list = []\n",
    "all_morphology = []\n",
    "for i in range(len(LO3data['plateifu'])):\n",
    "    #if not is_converge[i]:\n",
    "    #    continue\n",
    "    shape = None\n",
    "    plateifu = LO3data['plateifu'][i]\n",
    "    m = maps.Maps(plateifu)\n",
    "    O3_i = LO3[i]\n",
    "    O3_err_i = LO3_err[i]\n",
    "    R_i = R[i]\n",
    "    try:\n",
    "        r1, r2 = m.eshape(useHaEW=True)\n",
    "    except:\n",
    "        print(\"Error when doing {}\".format(plateifu))\n",
    "        continue\n",
    "    #print(r1, r2)\n",
    "    if r2 >= 0.3:\n",
    "        if r1 > r2:\n",
    "            NLR_oneside.append([O3_i, R_i])\n",
    "            shape = 'conical'\n",
    "        else:\n",
    "            NLR_twoside.append([O3_i, R_i])\n",
    "            NLR_twoside_plateifu.append(plateifu)\n",
    "            shape = 'bi-conical'\n",
    "    elif r1 >= 0.3:\n",
    "        NLR_oneside.append([O3_i, R_i])\n",
    "        shape = 'conical'\n",
    "    else:\n",
    "        NLR_round.append([O3_i, R_i])\n",
    "        shape = 'round'\n",
    "    all_list.append([r1, r2])\n",
    "    all_morphology.append(shape)"
   ]
  },
  {
   "cell_type": "markdown",
   "metadata": {
    "hidden": true
   },
   "source": [
    "### Plot the results"
   ]
  },
  {
   "cell_type": "code",
   "execution_count": 61,
   "metadata": {
    "ExecuteTime": {
     "end_time": "2019-06-21T14:57:35.557518Z",
     "start_time": "2019-06-21T14:57:33.852017Z"
    },
    "hidden": true
   },
   "outputs": [
    {
     "data": {
      "image/png": "[encoded data removed]",
      "text/plain": [
       "<Figure size 576x432 with 3 Axes>"
      ]
     },
     "metadata": {
      "needs_background": "light"
     },
     "output_type": "display_data"
    }
   ],
   "source": [
    "# plot\n",
    "from matplotlib.ticker import NullFormatter\n",
    "nullfmt = NullFormatter()  \n",
    "\n",
    "set_matplotlib_formats('png')\n",
    "fig = plt.figure(figsize=(8,6))\n",
    "fs=14\n",
    "xbins = [39.5, 40, 40.5, 41, 41.5, 42, 43]\n",
    "ybins = [2., 2.75, 3. ,3.25, 3.5, 3.75, 4.5]\n",
    "cols = ['C0', 'C2', 'C3']\n",
    "agn_type = np.array(agn_type)\n",
    "\n",
    "if True:\n",
    "    # plot different shape\n",
    "    # definitions for the axes\n",
    "    left, width = 0.1, 0.65\n",
    "    bottom, height = 0.1, 0.65\n",
    "    bottom_h = left_h = left + width + 0.02\n",
    "\n",
    "    rect_scatter = [left, bottom, width, height]\n",
    "    rect_histx = [left, bottom_h, width, 0.2]\n",
    "    rect_histy = [left_h, bottom, 0.2, height]\n",
    "    # start with a rectangular Figure\n",
    "    ax = plt.axes(rect_scatter)\n",
    "    axHistx = plt.axes(rect_histx)\n",
    "    axHisty = plt.axes(rect_histy)\n",
    "    # no labels\n",
    "    axHistx.xaxis.set_major_formatter(nullfmt)\n",
    "    axHisty.yaxis.set_major_formatter(nullfmt)\n",
    "    \n",
    "    NLR_round = np.array(NLR_round)\n",
    "    NLR_twoside = np.array(NLR_twoside)\n",
    "    NLR_oneside = np.array(NLR_oneside)\n",
    "    NLR_unresolved = np.array(NLR_unresolved)\n",
    "    S_round = ax.plot(NLR_round[:,0], NLR_round[:,1], linestyle='None', marker='o', label='round', markeredgecolor='None', markerfacecolor=cols[0])\n",
    "    S_oneside = ax.plot(NLR_oneside[:,0], NLR_oneside[:,1], linestyle='None', marker='^', label='conical',  markeredgecolor='None', markerfacecolor=cols[1])\n",
    "    S_twoside = ax.plot(NLR_twoside[:,0], NLR_twoside[:,1], linestyle='None', marker='d', label='bi-conical',  markeredgecolor='None', markerfacecolor=cols[2])\n",
    "    #ax.plot(NLR_unresolved[:,0], NLR_unresolved[:,1], 'o', label='unresolved', alpha=0.1)\n",
    "    #plt.legend()\n",
    "    # plot hist\n",
    "    binwidth = 0.25\n",
    "\n",
    "    ax.set_xlim((39.5, 42.7))\n",
    "    ax.set_ylim((2.35, 4.2))\n",
    "    \n",
    "    #axHistx.step((bins1[1:] + bins1[:-1])/2, n1/ntotal)\n",
    "    #axHistx.step((bins2[1:] + bins2[:-1])/2 + 0.01, n2/ntotal)\n",
    "    #axHistx.step((bins3[1:] + bins3[:-1])/2 + 0.02, n3/ntotal)\n",
    "    axHistx.hist(NLR_round[:,0], bins=xbins, histtype='step', color=cols[0], alpha=1, label='round')\n",
    "    axHistx.hist(NLR_oneside[:,0], bins=xbins, histtype='step', color=cols[1], label='conical', alpha=1)\n",
    "    axHistx.hist(NLR_twoside[:,0], bins=xbins, histtype='step', color=cols[2], alpha=1, label='bi-conical')\n",
    "    axHisty.hist(NLR_round[:,1], bins=ybins, orientation='horizontal', histtype='step', color=cols[0], alpha=1)\n",
    "    axHisty.hist(NLR_oneside[:,1], bins=ybins, orientation='horizontal', histtype='step', color=cols[1])\n",
    "    axHisty.hist(NLR_twoside[:,1], bins=ybins, orientation='horizontal', histtype='step', color=cols[2], alpha=1)\n",
    "\n",
    "    axHistx.set_xlim(ax.get_xlim())\n",
    "    axHisty.set_ylim(ax.get_ylim())\n",
    "\n",
    "if 1:\n",
    "    #have_jet = first_L > 38\n",
    "    have_jet = loudness > 10\n",
    "    for i, ss in enumerate(have_jet):\n",
    "        if ss:#and is_converge[i]:\n",
    "            ax.plot(LO3[i], R[i], color='k', marker='s', label=None, linestyle='None', \n",
    "                    markersize=12, markerfacecolor='None', alpha=1)\n",
    "\n",
    "if 1:\n",
    "    type1_agn = agn_type == 1\n",
    "    for i, tp in enumerate(type1_agn):\n",
    "        if tp:\n",
    "             ax.plot(LO3[i], R[i], color='m', marker='o', label=None, linestyle='None', \n",
    "                    markersize=10, markerfacecolor='None', alpha=1)\n",
    "            \n",
    "            \n",
    "ax.set_xlabel(r\"log($L_{\\rm [O\\,III]}$[erg/s])}\", fontsize=fs)\n",
    "ax.set_ylabel(r\"log($R_{16}$ [pc])\", fontsize=fs)\n",
    "ax.legend()\n",
    "axHistx.set_ylabel('number', fontsize=fs)\n",
    "axHisty.set_xlabel('number', fontsize=fs)\n",
    "axHistx.legend()\n",
    "plt.show()\n",
    "#plt.legend([S_round, S_twoside, S_oneside, (S_round, Outflow)], [\"Attr A\", \"Attr A+B\"])   \n",
    "fig.savefig('./results/ENLR_morphology.pdf',  bbox_inches='tight')\n",
    "set_matplotlib_formats('png')"
   ]
  },
  {
   "cell_type": "code",
   "execution_count": 62,
   "metadata": {
    "ExecuteTime": {
     "end_time": "2019-06-25T08:38:20.139572Z",
     "start_time": "2019-06-25T08:38:19.622729Z"
    },
    "hidden": true
   },
   "outputs": [
    {
     "data": {
      "text/plain": [
       "0.2631578947368421"
      ]
     },
     "execution_count": 62,
     "metadata": {},
     "output_type": "execute_result"
    }
   ],
   "source": [
    "len(NLR_round) / (len(NLR_round) + len(NLR_oneside) + len(NLR_twoside))"
   ]
  },
  {
   "cell_type": "code",
   "execution_count": 68,
   "metadata": {
    "ExecuteTime": {
     "end_time": "2019-06-25T08:44:06.504578Z",
     "start_time": "2019-06-25T08:44:06.044161Z"
    },
    "hidden": true
   },
   "outputs": [],
   "source": [
    "from scipy import stats\n",
    "xbins_new = np.arange(39.5, 43, 0.2)"
   ]
  },
  {
   "cell_type": "code",
   "execution_count": 69,
   "metadata": {
    "ExecuteTime": {
     "end_time": "2019-06-25T08:45:32.121827Z",
     "start_time": "2019-06-25T08:45:31.757131Z"
    },
    "hidden": true,
    "scrolled": true
   },
   "outputs": [
    {
     "data": {
      "image/png": "[encoded data removed]",
      "text/plain": [
       "<Figure size 432x288 with 1 Axes>"
      ]
     },
     "metadata": {
      "needs_background": "light"
     },
     "output_type": "display_data"
    }
   ],
   "source": [
    "n_round, bins, patches = plt.hist(NLR_round[:,0], bins=xbins_new)"
   ]
  },
  {
   "cell_type": "code",
   "execution_count": 70,
   "metadata": {
    "ExecuteTime": {
     "end_time": "2019-06-25T08:45:47.384285Z",
     "start_time": "2019-06-25T08:45:46.984923Z"
    },
    "hidden": true
   },
   "outputs": [
    {
     "data": {
      "image/png": "[encoded data removed]",
      "text/plain": [
       "<Figure size 432x288 with 1 Axes>"
      ]
     },
     "metadata": {
      "needs_background": "light"
     },
     "output_type": "display_data"
    }
   ],
   "source": [
    "n_oneside, bins, patches = plt.hist(NLR_oneside[:,0], bins=xbins_new)"
   ]
  },
  {
   "cell_type": "code",
   "execution_count": 71,
   "metadata": {
    "ExecuteTime": {
     "end_time": "2019-06-25T08:46:01.580826Z",
     "start_time": "2019-06-25T08:46:01.214068Z"
    },
    "hidden": true
   },
   "outputs": [
    {
     "data": {
      "image/png": "[encoded data removed]",
      "text/plain": [
       "<Figure size 432x288 with 1 Axes>"
      ]
     },
     "metadata": {
      "needs_background": "light"
     },
     "output_type": "display_data"
    }
   ],
   "source": [
    "n_twoside, bins, patches = plt.hist(NLR_twoside[:,0], bins=xbins_new)"
   ]
  },
  {
   "cell_type": "code",
   "execution_count": 75,
   "metadata": {
    "ExecuteTime": {
     "end_time": "2019-06-25T08:49:22.793880Z",
     "start_time": "2019-06-25T08:49:22.742940Z"
    },
    "hidden": true
   },
   "outputs": [
    {
     "name": "stdout",
     "output_type": "stream",
     "text": [
      "[1. 1. 3. 2. 5. 1. 5. 7. 4. 3. 5. 0. 1. 0. 0. 2. 0.]\n",
      "[0. 1. 3. 3. 3. 3. 3. 4. 2. 2. 0. 1. 2. 0. 0. 1. 0.]\n"
     ]
    }
   ],
   "source": [
    "print(n_round)\n",
    "print(n_oneside)"
   ]
  },
  {
   "cell_type": "code",
   "execution_count": 74,
   "metadata": {
    "ExecuteTime": {
     "end_time": "2019-06-25T08:47:41.966324Z",
     "start_time": "2019-06-25T08:47:41.913327Z"
    },
    "hidden": true
   },
   "outputs": [
    {
     "name": "stdout",
     "output_type": "stream",
     "text": [
      "Ks_2sampResult(statistic=0.23529411764705888, pvalue=0.6725038222180086)\n",
      "Ks_2sampResult(statistic=0.4117647058823529, pvalue=0.08130199487731256)\n",
      "Ks_2sampResult(statistic=0.47058823529411764, pvalue=0.030503048575092007)\n"
     ]
    }
   ],
   "source": [
    "print(stats.ks_2samp(n_round, n_oneside))\n",
    "print(stats.ks_2samp(n_round, n_twoside))\n",
    "print(stats.ks_2samp(n_twoside, n_oneside))"
   ]
  },
  {
   "cell_type": "code",
   "execution_count": 18,
   "metadata": {
    "ExecuteTime": {
     "end_time": "2019-05-03T06:31:41.739601Z",
     "start_time": "2019-05-03T06:31:41.686813Z"
    },
    "hidden": true
   },
   "outputs": [
    {
     "data": {
      "text/plain": [
       "0.3092105263157895"
      ]
     },
     "execution_count": 18,
     "metadata": {},
     "output_type": "execute_result"
    }
   ],
   "source": [
    "len(NLR_round) / (len(NLR_round) + len(NLR_oneside) + len(NLR_twoside))"
   ]
  },
  {
   "cell_type": "code",
   "execution_count": 67,
   "metadata": {
    "ExecuteTime": {
     "end_time": "2019-05-05T14:42:36.314802Z",
     "start_time": "2019-05-05T14:42:36.151947Z"
    },
    "hidden": true
   },
   "outputs": [
    {
     "name": "stdout",
     "output_type": "stream",
     "text": [
      "Done! Write into data/morphology-2019-05-03.dat\n"
     ]
    }
   ],
   "source": [
    "targets = Table.read('data/AGNs-2019-04-26.dat', format='ascii')\n",
    "\n",
    "with open('data/morphology-{}.dat'.format(today), 'w') as f:\n",
    "    f.write(\"# AGNs_file: data/AGNs-2019-04-26.dat\\n\")\n",
    "    f.write(\"# morphology related data\\n\")\n",
    "    f.write(\"{} {} {} {}\\n\".format(\"plateifu\", \"shape\", \"agn_type\", \"radio_loudness\"))\n",
    "    \n",
    "    tot_num = len(targets[:])\n",
    "    for i in range(tot_num):\n",
    "        plateifu = targets['plateifu'][i]\n",
    "        f.write(\"{} {} {} {}\\n\".format(plateifu, all_morphology[i], agn_type[i], loudness[i]))\n",
    "\n",
    "    print('Done! Write into {}'.format(f.name))"
   ]
  },
  {
   "cell_type": "code",
   "execution_count": null,
   "metadata": {
    "hidden": true
   },
   "outputs": [],
   "source": []
  }
 ],
 "metadata": {
  "kernelspec": {
   "display_name": "Python 3",
   "language": "python",
   "name": "python3"
  },
  "language_info": {
   "codemirror_mode": {
    "name": "ipython",
    "version": 3
   },
   "file_extension": ".py",
   "mimetype": "text/x-python",
   "name": "python",
   "nbconvert_exporter": "python",
   "pygments_lexer": "ipython3",
   "version": "3.7.2"
  },
  "toc": {
   "base_numbering": 1,
   "nav_menu": {},
   "number_sections": true,
   "sideBar": true,
   "skip_h1_title": false,
   "title_cell": "Table of Contents",
   "title_sidebar": "Contents",
   "toc_cell": false,
   "toc_position": {
    "height": "calc(100% - 180px)",
    "left": "10px",
    "top": "150px",
    "width": "341.333px"
   },
   "toc_section_display": true,
   "toc_window_display": true
  }
 },
 "nbformat": 4,
 "nbformat_minor": 2
}
